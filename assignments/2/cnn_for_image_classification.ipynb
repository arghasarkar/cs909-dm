{
 "cells": [
  {
   "cell_type": "markdown",
   "metadata": {},
   "source": [
    "# CNN for Image Classification\n",
    "\n",
    "In this lab, you are given a dataset containing 6,000 pictures of cats and dogs (3,000 cats, 3,000 dogs) and asked to train a classifier built upon Convolutional Neural Networks (ConvNets) to classify images as \"dogs\" or \"cats\"."
   ]
  },
  {
   "cell_type": "code",
   "execution_count": 1,
   "metadata": {},
   "outputs": [
    {
     "name": "stderr",
     "output_type": "stream",
     "text": [
      "D:\\Applications\\Python3\\lib\\site-packages\\h5py\\__init__.py:36: FutureWarning: Conversion of the second argument of issubdtype from `float` to `np.floating` is deprecated. In future, it will be treated as `np.float64 == np.dtype(float).type`.\n",
      "  from ._conv import register_converters as _register_converters\n",
      "Using TensorFlow backend.\n"
     ]
    }
   ],
   "source": [
    "%matplotlib inline\n",
    "\n",
    "import os\n",
    "import numpy as np\n",
    "import matplotlib.pyplot as plt\n",
    "import cv2\n",
    "\n",
    "# from __future__ import print_function\n",
    "import keras\n",
    "from keras import metrics\n",
    "from keras.preprocessing.image import ImageDataGenerator\n",
    "from keras.models import Sequential\n",
    "from keras.layers import Dense, Dropout, Activation, Flatten, BatchNormalization\n",
    "from keras.layers import Conv2D, MaxPooling2D"
   ]
  },
  {
   "cell_type": "markdown",
   "metadata": {},
   "source": [
    "### Exercise 1 \n",
    "Split the dataset by selecting 4,800 pictures for training, 600 for validation, and 600 for testing."
   ]
  },
  {
   "cell_type": "code",
   "execution_count": 2,
   "metadata": {
    "scrolled": true
   },
   "outputs": [],
   "source": [
    "img_width = 50\n",
    "img_height = 50\n",
    "num_classes = 2\n",
    "DATA_DIR = './data/'\n",
    "image_filenames = [DATA_DIR+i for i in os.listdir(DATA_DIR)] # use this for full dataset\n",
    "\n",
    "# Setting the random seed\n",
    "np.random.seed(200)\n",
    "\n",
    "\n",
    "# Split the data in three sets, 80% for training, 10% for validation and 10% for testing\n",
    "# make sure that the image filenames have a fixed order before shuffling\n",
    "# Add your code here"
   ]
  },
  {
   "cell_type": "code",
   "execution_count": 3,
   "metadata": {},
   "outputs": [],
   "source": [
    "import pandas as pd\n",
    "from sklearn import datasets, linear_model\n",
    "from sklearn.model_selection import train_test_split"
   ]
  },
  {
   "cell_type": "markdown",
   "metadata": {},
   "source": [
    "The function ```get_class_from_filename``` takes the file path and returns ***0*** for cats and ***1*** for dogs.\n",
    "\n",
    "The function ```generate_class_arr``` takes the array of filenames and returns an array of class numbers using the function ```get_class_from_filename```."
   ]
  },
  {
   "cell_type": "code",
   "execution_count": 4,
   "metadata": {},
   "outputs": [],
   "source": [
    "\n",
    "def load_images(filenames):\n",
    "    \n",
    "    files = []\n",
    "    for i in range(len(filenames)):\n",
    "        files.append(cv2.imread(filenames[i]))\n",
    "        \n",
    "    return np.array(resize_files(files))\n",
    "\n",
    "\n",
    "def resize_files(files):\n",
    "    _files = []\n",
    "    for i in range(len(files)):\n",
    "        _resized = np.array(cv2.resize(files[i], (img_width, img_height),interpolation=cv2.INTER_AREA))\n",
    "        _normalized = np.true_divide(_resized, 255)\n",
    "        _files.append(_normalized)\n",
    "        \n",
    "    return _files\n",
    "\n",
    "\n",
    "def get_class_from_filename(filename):\n",
    "    \n",
    "    parts = filename.split(\".\")\n",
    "    size = len(parts)\n",
    "    \n",
    "    _class = parts[size - 3]\n",
    "    _class = _class[-3:]\n",
    "    \n",
    "    return np.array([0, 1] if _class == \"cat\" else [1,0])\n",
    "\n",
    "\n",
    "# print(get_class_from_filename(\"./test/dog.267.jpg\"))\n",
    "\n",
    "def generate_class_arr(filenames):\n",
    "    \n",
    "    classes = []\n",
    "    \n",
    "    for i in range(len(filenames)):\n",
    "        classes.append(get_class_from_filename(filenames[i]))\n",
    "    \n",
    "    return np.array(classes)\n",
    "\n",
    "# arr = ['./data/cat.2718.jpg', './data/dog.1753.jpg', './data/cat.1211.jpg', './data/dog.775.jpg', './data/cat.1577.jpg', './data/cat.952.jpg']\n",
    "# print(generate_class_arr(arr))\n",
    "        "
   ]
  },
  {
   "cell_type": "code",
   "execution_count": 5,
   "metadata": {},
   "outputs": [],
   "source": [
    "y = generate_class_arr(image_filenames)"
   ]
  },
  {
   "cell_type": "code",
   "execution_count": 6,
   "metadata": {},
   "outputs": [],
   "source": [
    "\n",
    "x_train_filenames, x_test_filenames, y_train, y_test = train_test_split(image_filenames, y, test_size=0.2)\n",
    "x_test_filenames, x_val_filenames, y_test, y_val = train_test_split(x_test_filenames, y_test, test_size=0.5)\n"
   ]
  },
  {
   "cell_type": "code",
   "execution_count": 7,
   "metadata": {},
   "outputs": [],
   "source": [
    "x_train = load_images(x_train_filenames)\n",
    "x_test = load_images(x_test_filenames)\n",
    "x_val = load_images(x_val_filenames)\n"
   ]
  },
  {
   "cell_type": "code",
   "execution_count": 8,
   "metadata": {
    "scrolled": true
   },
   "outputs": [
    {
     "name": "stdout",
     "output_type": "stream",
     "text": [
      "4800   4800\n",
      "600   600\n",
      "600   600\n"
     ]
    }
   ],
   "source": [
    "# print(x_train_filenames[:5])\n",
    "# print(y_train[:5])\n",
    "print(len(x_train_filenames), \" \", len(y_train))\n",
    "\n",
    "# print(x_test_filenames[:5])\n",
    "# print(y_test[:5])\n",
    "print(len(x_test_filenames), \" \", len(y_test))\n",
    "\n",
    "# print(x_val_filenames[:5])\n",
    "# print(y_val[:5])\n",
    "print(len(x_val_filenames), \" \", len(y_val))\n"
   ]
  },
  {
   "cell_type": "code",
   "execution_count": 9,
   "metadata": {
    "scrolled": true
   },
   "outputs": [
    {
     "name": "stdout",
     "output_type": "stream",
     "text": [
      "Label: [1 0]\n",
      "(50, 50, 3)\n"
     ]
    },
    {
     "data": {
      "image/png": "[encoded data removed]",
      "text/plain": [
       "<matplotlib.figure.Figure at 0x19039720128>"
      ]
     },
     "metadata": {},
     "output_type": "display_data"
    }
   ],
   "source": [
    "\n",
    "plt.imshow(x_train[0])\n",
    "print(\"Label: {}\".format(y_train[0]))\n",
    "print(x_train[0].shape)\n"
   ]
  },
  {
   "cell_type": "code",
   "execution_count": 10,
   "metadata": {},
   "outputs": [
    {
     "name": "stdout",
     "output_type": "stream",
     "text": [
      "Label: [1 0]\n"
     ]
    },
    {
     "data": {
      "image/png": "[encoded data removed]",
      "text/plain": [
       "<matplotlib.figure.Figure at 0x19039720e48>"
      ]
     },
     "metadata": {},
     "output_type": "display_data"
    }
   ],
   "source": [
    "\n",
    "plt.imshow(x_test[0])\n",
    "print(\"Label: {}\".format(y_test[0]))\n"
   ]
  },
  {
   "cell_type": "code",
   "execution_count": 11,
   "metadata": {
    "scrolled": true
   },
   "outputs": [
    {
     "name": "stdout",
     "output_type": "stream",
     "text": [
      "Label: [1 0]\n"
     ]
    },
    {
     "data": {
      "image/png": "[encoded data removed]",
      "text/plain": [
       "<matplotlib.figure.Figure at 0x19039775518>"
      ]
     },
     "metadata": {},
     "output_type": "display_data"
    }
   ],
   "source": [
    "\n",
    "plt.imshow(x_val[0])\n",
    "print(\"Label: {}\".format(y_val[0]))\n"
   ]
  },
  {
   "cell_type": "markdown",
   "metadata": {},
   "source": [
    "### Exercise 2\n",
    "Train a Convolutional Neural Network (ConvNet) on the training set. The general structure of the ConvNet will be a stack of alternated Conv2D (with relu activation) and MaxPooling2D layers. A Conv2D layer creates a convolution kernel that is convolved with the layer input to produce a tensor of outputs. A MaxPooling2D layer is used to downscale input in both the vertical and horizontal dimensions."
   ]
  },
  {
   "cell_type": "code",
   "execution_count": 12,
   "metadata": {},
   "outputs": [],
   "source": [
    "from keras.layers import Conv2D, MaxPooling2D, GlobalAveragePooling2D"
   ]
  },
  {
   "cell_type": "code",
   "execution_count": 41,
   "metadata": {},
   "outputs": [],
   "source": [
    "# Add your code here\n",
    "\n",
    "\n",
    "input_shape = x_train[1].shape\n",
    "\n",
    "model = Sequential()\n",
    "#add model layers\n",
    "\n",
    "model.add(Conv2D(64, 2,padding='same', input_shape=input_shape))\n",
    "model.add(Activation('relu'))\n",
    "model.add(MaxPooling2D(pool_size=(2,2)))\n",
    "\n",
    "model.add(Conv2D(128, 2, padding='same'))\n",
    "model.add(Activation('relu'))\n",
    "model.add(MaxPooling2D(pool_size=(2,2)))\n",
    "\n",
    "model.add(Flatten())\n",
    "\n",
    "model.add(Dense(256, activation='relu'))\n",
    "model.add(Dense(128, activation='relu'))\n",
    "\n",
    "model.add(Dense(2, activation='softmax'))\n",
    "          "
   ]
  },
  {
   "cell_type": "code",
   "execution_count": 42,
   "metadata": {},
   "outputs": [
    {
     "name": "stdout",
     "output_type": "stream",
     "text": [
      "_________________________________________________________________\n",
      "Layer (type)                 Output Shape              Param #   \n",
      "=================================================================\n",
      "conv2d_7 (Conv2D)            (None, 50, 50, 64)        832       \n",
      "_________________________________________________________________\n",
      "activation_7 (Activation)    (None, 50, 50, 64)        0         \n",
      "_________________________________________________________________\n",
      "max_pooling2d_7 (MaxPooling2 (None, 25, 25, 64)        0         \n",
      "_________________________________________________________________\n",
      "conv2d_8 (Conv2D)            (None, 25, 25, 128)       32896     \n",
      "_________________________________________________________________\n",
      "activation_8 (Activation)    (None, 25, 25, 128)       0         \n",
      "_________________________________________________________________\n",
      "max_pooling2d_8 (MaxPooling2 (None, 12, 12, 128)       0         \n",
      "_________________________________________________________________\n",
      "flatten_3 (Flatten)          (None, 18432)             0         \n",
      "_________________________________________________________________\n",
      "dense_7 (Dense)              (None, 256)               4718848   \n",
      "_________________________________________________________________\n",
      "dense_8 (Dense)              (None, 128)               32896     \n",
      "_________________________________________________________________\n",
      "dense_9 (Dense)              (None, 2)                 258       \n",
      "=================================================================\n",
      "Total params: 4,785,730\n",
      "Trainable params: 4,785,730\n",
      "Non-trainable params: 0\n",
      "_________________________________________________________________\n"
     ]
    }
   ],
   "source": [
    "model.summary()"
   ]
  },
  {
   "cell_type": "code",
   "execution_count": 43,
   "metadata": {},
   "outputs": [],
   "source": [
    "batch_size = 128"
   ]
  },
  {
   "cell_type": "code",
   "execution_count": 44,
   "metadata": {},
   "outputs": [],
   "source": [
    "epochs = 60"
   ]
  },
  {
   "cell_type": "code",
   "execution_count": 45,
   "metadata": {},
   "outputs": [],
   "source": [
    "optimizer = keras.optimizers.RMSprop(lr=0.00005)\n",
    "model.compile(optimizer=optimizer, loss='categorical_crossentropy', metrics=['accuracy'])\n"
   ]
  },
  {
   "cell_type": "code",
   "execution_count": 46,
   "metadata": {},
   "outputs": [
    {
     "name": "stdout",
     "output_type": "stream",
     "text": [
      "600\n"
     ]
    }
   ],
   "source": [
    "print(len(x_test))"
   ]
  },
  {
   "cell_type": "code",
   "execution_count": 47,
   "metadata": {},
   "outputs": [
    {
     "name": "stdout",
     "output_type": "stream",
     "text": [
      "50\n",
      "(50, 50, 3)\n",
      "<class 'numpy.ndarray'>\n",
      "4800\n",
      "<class 'numpy.ndarray'>\n",
      "<class 'numpy.ndarray'>\n",
      "(2,)\n"
     ]
    }
   ],
   "source": [
    "print(len(x_train[5]))\n",
    "print(x_train[5].shape)\n",
    "print(type(x_train))\n",
    "print(len(y_train))\n",
    "print(type(y_train))\n",
    "print(type(y_train[0]))\n",
    "print(y_train[0].shape)"
   ]
  },
  {
   "cell_type": "code",
   "execution_count": 48,
   "metadata": {},
   "outputs": [
    {
     "name": "stdout",
     "output_type": "stream",
     "text": [
      "sys.version_info(major=3, minor=6, micro=1, releaselevel='final', serial=0)\n"
     ]
    }
   ],
   "source": [
    "x_train_in = np.array(x_train[:2])\n",
    "y_train_in = np.array(y_train[:2])\n",
    "\n",
    "import sys\n",
    "print(sys.version_info)"
   ]
  },
  {
   "cell_type": "code",
   "execution_count": 49,
   "metadata": {},
   "outputs": [],
   "source": [
    "from keras.callbacks import ModelCheckpoint\n",
    "\n",
    "weights_filepath = \"weights.hdf5\"\n",
    "checkpoint = ModelCheckpoint(weights_filepath, monitor = 'val_acc', verbose = 1, save_best_only = True, mode='max')\n",
    "callbacks_list = [checkpoint]\n"
   ]
  },
  {
   "cell_type": "code",
   "execution_count": 50,
   "metadata": {},
   "outputs": [],
   "source": [
    "# import os.path\n",
    "# from keras.models import load_model\n",
    "\n",
    "# def load_model_weights(filepath):\n",
    "    \n",
    "#     if os.path.exists(filepath):\n",
    "#         model = load_model(filepath)\n",
    "#         return True, model\n",
    "\n",
    "# _model_exists, _model = load_model_weights\n",
    "\n",
    "# if _model_exists:\n",
    "#     model = _model\n",
    "    "
   ]
  },
  {
   "cell_type": "code",
   "execution_count": 51,
   "metadata": {},
   "outputs": [
    {
     "name": "stdout",
     "output_type": "stream",
     "text": [
      "Train on 4800 samples, validate on 600 samples\n",
      "Epoch 1/60\n",
      "4736/4800 [============================>.] - ETA: 0s - loss: 0.6918 - acc: 0.5378Epoch 00001: val_acc improved from -inf to 0.55167, saving model to weights.hdf5\n",
      "4800/4800 [==============================] - 2s 475us/step - loss: 0.6916 - acc: 0.5383 - val_loss: 0.6814 - val_acc: 0.5517\n",
      "Epoch 2/60\n",
      "4736/4800 [============================>.] - ETA: 0s - loss: 0.6757 - acc: 0.5794Epoch 00002: val_acc improved from 0.55167 to 0.61000, saving model to weights.hdf5\n",
      "4800/4800 [==============================] - 1s 293us/step - loss: 0.6754 - acc: 0.5804 - val_loss: 0.6674 - val_acc: 0.6100\n",
      "Epoch 3/60\n",
      "4736/4800 [============================>.] - ETA: 0s - loss: 0.6624 - acc: 0.6020Epoch 00003: val_acc did not improve\n",
      "4800/4800 [==============================] - 1s 261us/step - loss: 0.6630 - acc: 0.5998 - val_loss: 0.6776 - val_acc: 0.5350\n",
      "Epoch 4/60\n",
      "4736/4800 [============================>.] - ETA: 0s - loss: 0.6489 - acc: 0.6261Epoch 00004: val_acc did not improve\n",
      "4800/4800 [==============================] - 1s 261us/step - loss: 0.6482 - acc: 0.6265 - val_loss: 0.6488 - val_acc: 0.6050\n",
      "Epoch 5/60\n",
      "4736/4800 [============================>.] - ETA: 0s - loss: 0.6297 - acc: 0.6556Epoch 00005: val_acc did not improve\n",
      "4800/4800 [==============================] - 1s 262us/step - loss: 0.6295 - acc: 0.6554 - val_loss: 0.6947 - val_acc: 0.5483\n",
      "Epoch 6/60\n",
      "4736/4800 [============================>.] - ETA: 0s - loss: 0.6200 - acc: 0.6571Epoch 00006: val_acc improved from 0.61000 to 0.69167, saving model to weights.hdf5\n",
      "4800/4800 [==============================] - 1s 306us/step - loss: 0.6197 - acc: 0.6565 - val_loss: 0.6163 - val_acc: 0.6917\n",
      "Epoch 7/60\n",
      "4736/4800 [============================>.] - ETA: 0s - loss: 0.6011 - acc: 0.6824Epoch 00007: val_acc did not improve\n",
      "4800/4800 [==============================] - 1s 264us/step - loss: 0.6011 - acc: 0.6829 - val_loss: 0.6480 - val_acc: 0.6083\n",
      "Epoch 8/60\n",
      "4736/4800 [============================>.] - ETA: 0s - loss: 0.5973 - acc: 0.6926Epoch 00008: val_acc did not improve\n",
      "4800/4800 [==============================] - 1s 262us/step - loss: 0.5983 - acc: 0.6908 - val_loss: 0.6252 - val_acc: 0.6133\n",
      "Epoch 9/60\n",
      "4736/4800 [============================>.] - ETA: 0s - loss: 0.5853 - acc: 0.6924Epoch 00009: val_acc did not improve\n",
      "4800/4800 [==============================] - 1s 261us/step - loss: 0.5852 - acc: 0.6917 - val_loss: 0.5998 - val_acc: 0.6867\n",
      "Epoch 10/60\n",
      "4736/4800 [============================>.] - ETA: 0s - loss: 0.5807 - acc: 0.6972Epoch 00010: val_acc improved from 0.69167 to 0.70000, saving model to weights.hdf5\n",
      "4800/4800 [==============================] - 1s 273us/step - loss: 0.5793 - acc: 0.6994 - val_loss: 0.5942 - val_acc: 0.7000\n",
      "Epoch 11/60\n",
      "4736/4800 [============================>.] - ETA: 0s - loss: 0.5659 - acc: 0.7065Epoch 00011: val_acc did not improve\n",
      "4800/4800 [==============================] - 1s 261us/step - loss: 0.5655 - acc: 0.7077 - val_loss: 0.6076 - val_acc: 0.6617\n",
      "Epoch 12/60\n",
      "4736/4800 [============================>.] - ETA: 0s - loss: 0.5582 - acc: 0.7139Epoch 00012: val_acc did not improve\n",
      "4800/4800 [==============================] - 1s 264us/step - loss: 0.5595 - acc: 0.7125 - val_loss: 0.6207 - val_acc: 0.6517\n",
      "Epoch 13/60\n",
      "4736/4800 [============================>.] - ETA: 0s - loss: 0.5534 - acc: 0.7190Epoch 00013: val_acc did not improve\n",
      "4800/4800 [==============================] - 1s 270us/step - loss: 0.5526 - acc: 0.7190 - val_loss: 0.6011 - val_acc: 0.6800\n",
      "Epoch 14/60\n",
      "4736/4800 [============================>.] - ETA: 0s - loss: 0.5453 - acc: 0.7230Epoch 00014: val_acc did not improve\n",
      "4800/4800 [==============================] - 1s 269us/step - loss: 0.5458 - acc: 0.7217 - val_loss: 0.6806 - val_acc: 0.6167\n",
      "Epoch 15/60\n",
      "4736/4800 [============================>.] - ETA: 0s - loss: 0.5411 - acc: 0.7234Epoch 00015: val_acc did not improve\n",
      "4800/4800 [==============================] - 1s 261us/step - loss: 0.5399 - acc: 0.7248 - val_loss: 0.6456 - val_acc: 0.6250\n",
      "Epoch 16/60\n",
      "4736/4800 [============================>.] - ETA: 0s - loss: 0.5334 - acc: 0.7285Epoch 00016: val_acc did not improve\n",
      "4800/4800 [==============================] - 1s 264us/step - loss: 0.5334 - acc: 0.7285 - val_loss: 0.5721 - val_acc: 0.7000\n",
      "Epoch 17/60\n",
      "4736/4800 [============================>.] - ETA: 0s - loss: 0.5250 - acc: 0.7428Epoch 00017: val_acc did not improve\n",
      "4800/4800 [==============================] - 1s 263us/step - loss: 0.5245 - acc: 0.7431 - val_loss: 0.5986 - val_acc: 0.6783\n",
      "Epoch 18/60\n",
      "4736/4800 [============================>.] - ETA: 0s - loss: 0.5202 - acc: 0.7443Epoch 00018: val_acc did not improve\n",
      "4800/4800 [==============================] - 1s 265us/step - loss: 0.5199 - acc: 0.7446 - val_loss: 0.5663 - val_acc: 0.6983\n",
      "Epoch 19/60\n",
      "4736/4800 [============================>.] - ETA: 0s - loss: 0.5072 - acc: 0.7608Epoch 00019: val_acc did not improve\n",
      "4800/4800 [==============================] - 1s 271us/step - loss: 0.5078 - acc: 0.7600 - val_loss: 0.6099 - val_acc: 0.6600\n",
      "Epoch 20/60\n",
      "4736/4800 [============================>.] - ETA: 0s - loss: 0.5014 - acc: 0.7603Epoch 00020: val_acc did not improve\n",
      "4800/4800 [==============================] - 1s 264us/step - loss: 0.5002 - acc: 0.7617 - val_loss: 0.5965 - val_acc: 0.6883\n",
      "Epoch 21/60\n",
      "4736/4800 [============================>.] - ETA: 0s - loss: 0.5029 - acc: 0.7559Epoch 00021: val_acc did not improve\n",
      "4800/4800 [==============================] - 1s 262us/step - loss: 0.5037 - acc: 0.7552 - val_loss: 0.5682 - val_acc: 0.6850\n",
      "Epoch 22/60\n",
      "4736/4800 [============================>.] - ETA: 0s - loss: 0.4938 - acc: 0.7629Epoch 00022: val_acc improved from 0.70000 to 0.72333, saving model to weights.hdf5\n",
      "4800/4800 [==============================] - 1s 281us/step - loss: 0.4933 - acc: 0.7633 - val_loss: 0.5561 - val_acc: 0.7233\n",
      "Epoch 23/60\n",
      "4736/4800 [============================>.] - ETA: 0s - loss: 0.4853 - acc: 0.7696Epoch 00023: val_acc did not improve\n",
      "4800/4800 [==============================] - 1s 263us/step - loss: 0.4852 - acc: 0.7700 - val_loss: 0.5988 - val_acc: 0.6900\n",
      "Epoch 24/60\n",
      "4736/4800 [============================>.] - ETA: 0s - loss: 0.4817 - acc: 0.7734Epoch 00024: val_acc did not improve\n",
      "4800/4800 [==============================] - 1s 263us/step - loss: 0.4811 - acc: 0.7740 - val_loss: 0.5871 - val_acc: 0.7000\n",
      "Epoch 25/60\n",
      "4736/4800 [============================>.] - ETA: 0s - loss: 0.4763 - acc: 0.7726Epoch 00025: val_acc did not improve\n",
      "4800/4800 [==============================] - 1s 260us/step - loss: 0.4750 - acc: 0.7735 - val_loss: 0.5477 - val_acc: 0.7167\n",
      "Epoch 26/60\n",
      "4736/4800 [============================>.] - ETA: 0s - loss: 0.4717 - acc: 0.7770Epoch 00026: val_acc did not improve\n",
      "4800/4800 [==============================] - 1s 261us/step - loss: 0.4720 - acc: 0.7773 - val_loss: 0.6113 - val_acc: 0.6800\n",
      "Epoch 27/60\n",
      "4736/4800 [============================>.] - ETA: 0s - loss: 0.4631 - acc: 0.7834Epoch 00027: val_acc did not improve\n",
      "4800/4800 [==============================] - 1s 262us/step - loss: 0.4637 - acc: 0.7827 - val_loss: 0.5629 - val_acc: 0.7183\n",
      "Epoch 28/60\n",
      "4736/4800 [============================>.] - ETA: 0s - loss: 0.4545 - acc: 0.7897Epoch 00028: val_acc improved from 0.72333 to 0.73333, saving model to weights.hdf5\n",
      "4800/4800 [==============================] - 1s 278us/step - loss: 0.4535 - acc: 0.7900 - val_loss: 0.5420 - val_acc: 0.7333\n",
      "Epoch 29/60\n",
      "4736/4800 [============================>.] - ETA: 0s - loss: 0.4457 - acc: 0.7965Epoch 00029: val_acc did not improve\n",
      "4800/4800 [==============================] - 1s 263us/step - loss: 0.4450 - acc: 0.7967 - val_loss: 0.5679 - val_acc: 0.7167\n",
      "Epoch 30/60\n",
      "4736/4800 [============================>.] - ETA: 0s - loss: 0.4505 - acc: 0.7865Epoch 00030: val_acc did not improve\n",
      "4800/4800 [==============================] - 1s 265us/step - loss: 0.4501 - acc: 0.7867 - val_loss: 0.5399 - val_acc: 0.7283\n",
      "Epoch 31/60\n",
      "4736/4800 [============================>.] - ETA: 0s - loss: 0.4367 - acc: 0.8003Epoch 00031: val_acc did not improve\n",
      "4800/4800 [==============================] - 1s 261us/step - loss: 0.4364 - acc: 0.8002 - val_loss: 0.5568 - val_acc: 0.6900\n"
     ]
    },
    {
     "name": "stdout",
     "output_type": "stream",
     "text": [
      "Epoch 32/60\n",
      "4736/4800 [============================>.] - ETA: 0s - loss: 0.4245 - acc: 0.8074Epoch 00032: val_acc did not improve\n",
      "4800/4800 [==============================] - 1s 262us/step - loss: 0.4237 - acc: 0.8079 - val_loss: 0.5565 - val_acc: 0.7067\n",
      "Epoch 33/60\n",
      "4736/4800 [============================>.] - ETA: 0s - loss: 0.4273 - acc: 0.8108Epoch 00033: val_acc did not improve\n",
      "4800/4800 [==============================] - 1s 264us/step - loss: 0.4268 - acc: 0.8106 - val_loss: 0.5360 - val_acc: 0.7167\n",
      "Epoch 34/60\n",
      "4736/4800 [============================>.] - ETA: 0s - loss: 0.4229 - acc: 0.8076Epoch 00034: val_acc did not improve\n",
      "4800/4800 [==============================] - 1s 269us/step - loss: 0.4236 - acc: 0.8071 - val_loss: 0.5666 - val_acc: 0.7050\n",
      "Epoch 35/60\n",
      "4736/4800 [============================>.] - ETA: 0s - loss: 0.4076 - acc: 0.8138Epoch 00035: val_acc did not improve\n",
      "4800/4800 [==============================] - 1s 270us/step - loss: 0.4065 - acc: 0.8148 - val_loss: 0.5470 - val_acc: 0.7133\n",
      "Epoch 36/60\n",
      "4736/4800 [============================>.] - ETA: 0s - loss: 0.4000 - acc: 0.8214Epoch 00036: val_acc did not improve\n",
      "4800/4800 [==============================] - 1s 263us/step - loss: 0.4006 - acc: 0.8210 - val_loss: 0.6331 - val_acc: 0.6933\n",
      "Epoch 37/60\n",
      "4736/4800 [============================>.] - ETA: 0s - loss: 0.4059 - acc: 0.8163Epoch 00037: val_acc did not improve\n",
      "4800/4800 [==============================] - 1s 264us/step - loss: 0.4055 - acc: 0.8162 - val_loss: 0.5349 - val_acc: 0.7317\n",
      "Epoch 38/60\n",
      "4736/4800 [============================>.] - ETA: 0s - loss: 0.3896 - acc: 0.8271Epoch 00038: val_acc did not improve\n",
      "4800/4800 [==============================] - 1s 265us/step - loss: 0.3898 - acc: 0.8263 - val_loss: 0.5701 - val_acc: 0.7033\n",
      "Epoch 39/60\n",
      "4736/4800 [============================>.] - ETA: 0s - loss: 0.3860 - acc: 0.8307Epoch 00039: val_acc did not improve\n",
      "4800/4800 [==============================] - 1s 267us/step - loss: 0.3856 - acc: 0.8308 - val_loss: 0.5340 - val_acc: 0.7317\n",
      "Epoch 40/60\n",
      "4736/4800 [============================>.] - ETA: 0s - loss: 0.3778 - acc: 0.8402Epoch 00040: val_acc did not improve\n",
      "4800/4800 [==============================] - 1s 277us/step - loss: 0.3777 - acc: 0.8400 - val_loss: 0.5305 - val_acc: 0.7317\n",
      "Epoch 41/60\n",
      "4736/4800 [============================>.] - ETA: 0s - loss: 0.3780 - acc: 0.8338Epoch 00041: val_acc did not improve\n",
      "4800/4800 [==============================] - 1s 264us/step - loss: 0.3781 - acc: 0.8333 - val_loss: 0.5679 - val_acc: 0.7267\n",
      "Epoch 42/60\n",
      "4736/4800 [============================>.] - ETA: 0s - loss: 0.3665 - acc: 0.8421Epoch 00042: val_acc did not improve\n",
      "4800/4800 [==============================] - 1s 266us/step - loss: 0.3674 - acc: 0.8417 - val_loss: 0.5639 - val_acc: 0.7300\n",
      "Epoch 43/60\n",
      "4736/4800 [============================>.] - ETA: 0s - loss: 0.3620 - acc: 0.8467Epoch 00043: val_acc did not improve\n",
      "4800/4800 [==============================] - 1s 265us/step - loss: 0.3622 - acc: 0.8462 - val_loss: 0.5464 - val_acc: 0.7183\n",
      "Epoch 44/60\n",
      "4736/4800 [============================>.] - ETA: 0s - loss: 0.3579 - acc: 0.8516Epoch 00044: val_acc did not improve\n",
      "4800/4800 [==============================] - 1s 264us/step - loss: 0.3578 - acc: 0.8517 - val_loss: 0.5429 - val_acc: 0.7300\n",
      "Epoch 45/60\n",
      "4736/4800 [============================>.] - ETA: 0s - loss: 0.3513 - acc: 0.8518Epoch 00045: val_acc improved from 0.73333 to 0.73667, saving model to weights.hdf5\n",
      "4800/4800 [==============================] - 1s 277us/step - loss: 0.3514 - acc: 0.8517 - val_loss: 0.5210 - val_acc: 0.7367\n",
      "Epoch 46/60\n",
      "4736/4800 [============================>.] - ETA: 0s - loss: 0.3425 - acc: 0.8571Epoch 00046: val_acc improved from 0.73667 to 0.74000, saving model to weights.hdf5\n",
      "4800/4800 [==============================] - 1s 278us/step - loss: 0.3413 - acc: 0.8579 - val_loss: 0.5258 - val_acc: 0.7400\n",
      "Epoch 47/60\n",
      "4736/4800 [============================>.] - ETA: 0s - loss: 0.3311 - acc: 0.8659Epoch 00047: val_acc improved from 0.74000 to 0.75000, saving model to weights.hdf5\n",
      "4800/4800 [==============================] - 1s 289us/step - loss: 0.3311 - acc: 0.8660 - val_loss: 0.5286 - val_acc: 0.7500\n",
      "Epoch 48/60\n",
      "4736/4800 [============================>.] - ETA: 0s - loss: 0.3272 - acc: 0.8647Epoch 00048: val_acc did not improve\n",
      "4800/4800 [==============================] - 1s 265us/step - loss: 0.3280 - acc: 0.8642 - val_loss: 0.5672 - val_acc: 0.7167\n",
      "Epoch 49/60\n",
      "4736/4800 [============================>.] - ETA: 0s - loss: 0.3237 - acc: 0.8674Epoch 00049: val_acc did not improve\n",
      "4800/4800 [==============================] - 1s 261us/step - loss: 0.3250 - acc: 0.8667 - val_loss: 0.5468 - val_acc: 0.7267\n",
      "Epoch 50/60\n",
      "4736/4800 [============================>.] - ETA: 0s - loss: 0.3122 - acc: 0.8737Epoch 00050: val_acc did not improve\n",
      "4800/4800 [==============================] - 1s 265us/step - loss: 0.3133 - acc: 0.8731 - val_loss: 0.5521 - val_acc: 0.7267\n",
      "Epoch 51/60\n",
      "4736/4800 [============================>.] - ETA: 0s - loss: 0.3087 - acc: 0.8782Epoch 00051: val_acc did not improve\n",
      "4800/4800 [==============================] - 1s 263us/step - loss: 0.3078 - acc: 0.8790 - val_loss: 0.5564 - val_acc: 0.7367\n",
      "Epoch 52/60\n",
      "4736/4800 [============================>.] - ETA: 0s - loss: 0.3114 - acc: 0.8737Epoch 00052: val_acc did not improve\n",
      "4800/4800 [==============================] - 1s 265us/step - loss: 0.3112 - acc: 0.8738 - val_loss: 0.5316 - val_acc: 0.7400\n",
      "Epoch 53/60\n",
      "4736/4800 [============================>.] - ETA: 0s - loss: 0.2986 - acc: 0.8843Epoch 00053: val_acc improved from 0.75000 to 0.75667, saving model to weights.hdf5\n",
      "4800/4800 [==============================] - 1s 276us/step - loss: 0.2979 - acc: 0.8838 - val_loss: 0.5210 - val_acc: 0.7567\n",
      "Epoch 54/60\n",
      "4736/4800 [============================>.] - ETA: 0s - loss: 0.2908 - acc: 0.8828Epoch 00054: val_acc did not improve\n",
      "4800/4800 [==============================] - 1s 262us/step - loss: 0.2903 - acc: 0.8833 - val_loss: 0.5350 - val_acc: 0.7500\n",
      "Epoch 55/60\n",
      "4736/4800 [============================>.] - ETA: 0s - loss: 0.2851 - acc: 0.8872Epoch 00055: val_acc did not improve\n",
      "4800/4800 [==============================] - 1s 277us/step - loss: 0.2853 - acc: 0.8873 - val_loss: 0.5293 - val_acc: 0.7483\n",
      "Epoch 56/60\n",
      "4608/4800 [===========================>..] - ETA: 0s - loss: 0.2752 - acc: 0.8941Epoch 00056: val_acc did not improve\n",
      "4800/4800 [==============================] - 1s 278us/step - loss: 0.2741 - acc: 0.8954 - val_loss: 0.8114 - val_acc: 0.6617\n",
      "Epoch 57/60\n",
      "4736/4800 [============================>.] - ETA: 0s - loss: 0.2800 - acc: 0.8919Epoch 00057: val_acc did not improve\n",
      "4800/4800 [==============================] - 1s 268us/step - loss: 0.2796 - acc: 0.8919 - val_loss: 0.6025 - val_acc: 0.7367\n",
      "Epoch 58/60\n",
      "4736/4800 [============================>.] - ETA: 0s - loss: 0.2674 - acc: 0.8972Epoch 00058: val_acc did not improve\n",
      "4800/4800 [==============================] - 1s 266us/step - loss: 0.2681 - acc: 0.8969 - val_loss: 0.5356 - val_acc: 0.7467\n",
      "Epoch 59/60\n",
      "4736/4800 [============================>.] - ETA: 0s - loss: 0.2706 - acc: 0.8929Epoch 00059: val_acc did not improve\n",
      "4800/4800 [==============================] - 1s 271us/step - loss: 0.2708 - acc: 0.8921 - val_loss: 0.5361 - val_acc: 0.7450\n",
      "Epoch 60/60\n",
      "4736/4800 [============================>.] - ETA: 0s - loss: 0.2498 - acc: 0.9098Epoch 00060: val_acc did not improve\n",
      "4800/4800 [==============================] - 1s 264us/step - loss: 0.2495 - acc: 0.9102 - val_loss: 0.6245 - val_acc: 0.7050\n"
     ]
    }
   ],
   "source": [
    "\n",
    "history = model.fit(x_train, y_train, batch_size=batch_size, epochs=epochs,validation_data=(x_test, y_test), callbacks=callbacks_list, verbose=1)\n"
   ]
  },
  {
   "cell_type": "code",
   "execution_count": 52,
   "metadata": {},
   "outputs": [
    {
     "name": "stdout",
     "output_type": "stream",
     "text": [
      "600/600 [==============================] - 0s 200us/step\n",
      "Test loss: 0.6186820920308431\n",
      "Test accuracy: 0.7416666658719381\n"
     ]
    }
   ],
   "source": [
    "\n",
    "score = model.evaluate(x_val, y_val, verbose=1)\n",
    "print('Test loss:', score[0])\n",
    "print('Test accuracy:', score[1])\n"
   ]
  },
  {
   "cell_type": "code",
   "execution_count": 25,
   "metadata": {},
   "outputs": [],
   "source": [
    "\n",
    "model_predictions = model.predict(x_val)\n"
   ]
  },
  {
   "cell_type": "markdown",
   "metadata": {},
   "source": [
    "### Exercise 3\n",
    "\n",
    "Output the training/validation loss and accuracy curves. Also print the classification results (e.g., classification accuracy, confusion matrix, precision-recall curves and/or ROC curves) on the test set."
   ]
  },
  {
   "cell_type": "code",
   "execution_count": 28,
   "metadata": {},
   "outputs": [
    {
     "name": "stdout",
     "output_type": "stream",
     "text": [
      "Classification report for the simple CNN:\n",
      "             precision    recall  f1-score   support\n",
      "\n",
      "          0       0.85      0.67      0.75       303\n",
      "          1       0.72      0.88      0.79       297\n",
      "\n",
      "avg / total       0.79      0.77      0.77       600\n",
      "\n",
      "Confusion matrix:\n",
      "[[202 101]\n",
      " [ 35 262]]\n"
     ]
    }
   ],
   "source": [
    "from sklearn.metrics import classification_report, confusion_matrix, precision_recall_curve, roc_curve, auc\n",
    "from sklearn.preprocessing import label_binarize\n",
    "\n",
    "mod_preds = model_predictions\n",
    "\n",
    "# Add your code here\n",
    "print(\"Classification report for the simple CNN:\")\n",
    "print(classification_report(y_val.argmax(axis=1), preds.argmax(axis=1)))\n"
   ]
  },
  {
   "cell_type": "code",
   "execution_count": 65,
   "metadata": {},
   "outputs": [
    {
     "name": "stdout",
     "output_type": "stream",
     "text": [
      "Confusion matrix for the simple CNN:\n",
      "[[202 101]\n",
      " [ 35 262]]\n"
     ]
    }
   ],
   "source": [
    "\n",
    "print(\"Confusion matrix for the simple CNN:\")\n",
    "print(confusion_matrix(y_val.argmax(axis=1), preds.argmax(axis=1)))\n"
   ]
  },
  {
   "cell_type": "code",
   "execution_count": 68,
   "metadata": {},
   "outputs": [
    {
     "name": "stdout",
     "output_type": "stream",
     "text": [
      "             precision    recall  f1-score   support\n",
      "\n",
      "          0       0.68      0.92      0.78       303\n",
      "          1       0.88      0.56      0.68       297\n",
      "\n",
      "avg / total       0.78      0.74      0.73       600\n",
      "\n"
     ]
    }
   ],
   "source": [
    "\n",
    "preds = np.squeeze(model.predict(x_val))\n",
    "# preds = model_predictions\n",
    "threshold = 0.5\n",
    "print(classification_report(y_val.argmax(axis=1), preds.argmax(axis=1)))\n"
   ]
  },
  {
   "cell_type": "code",
   "execution_count": 86,
   "metadata": {},
   "outputs": [],
   "source": [
    "from sklearn.metrics import precision_recall_curve\n",
    "from sklearn.utils.fixes import signature\n",
    "from sklearn.metrics import average_precision_score\n",
    "\n",
    "def plot_precision_recall_curve(labels, predictions, classifier_name=None):\n",
    "    \n",
    "    title = \"Precision-Recall curve\"\n",
    "    if classifier_name is not None:\n",
    "        title = \"Precision-Recall curve for {} predictions\".format(classifier_name)\n",
    "        \n",
    "    precision, recall, thresholds = precision_recall_curve(labels, predictions)\n",
    "    \n",
    "    average_precision = average_precision_score(labels, predictions)\n",
    "\n",
    "    # In matplotlib < 1.5, plt.fill_between does not have a 'step' argument\n",
    "    step_kwargs = ({'step': 'post'}\n",
    "                   if 'step' in signature(plt.fill_between).parameters\n",
    "                   else {})\n",
    "    \n",
    "    fig = plt.figure()\n",
    "    fig.set_figwidth(10)\n",
    "    fig.suptitle('Precision-Recall curve for {0}: AP={1:0.2f}'.format(classifier_name, average_precision))\n",
    "    \n",
    "    plot = plt.subplot(1, 2, 2)\n",
    "    \n",
    "    plot.step(recall, precision, color='b', alpha=0.2, where='post')\n",
    "    \n",
    "    plot.fill_between(recall, precision, alpha=0.2, color='b', **step_kwargs)\n",
    "\n",
    "    plot.set_xlabel('Recall')\n",
    "    plot.set_ylabel('Precision')\n",
    "    plot.set_ylim([0.0, 1.05])\n",
    "    plot.set_xlim([0.0, 1.0])\n",
    "       \n",
    "    return plot\n",
    "\n",
    "\n",
    "def plot_train_val_acc_curve(_hist):\n",
    "    \n",
    "    plt.plot(_hist.history['acc'])\n",
    "    plt.plot(_hist.history['val_acc'])\n",
    "    plt.title('model accuracy')\n",
    "    plt.ylabel('accuracy')\n",
    "    plt.xlabel('epoch')\n",
    "    plt.legend(['train', 'test'], loc='upper left')\n",
    "    \n",
    "    return plt.show()\n",
    "\n",
    "\n",
    "def plot_train_val_loss_curve(_hist):\n",
    "    \n",
    "    plt.plot(history.history['loss'])\n",
    "    plt.plot(history.history['val_loss'])\n",
    "    plt.title('model loss')\n",
    "    plt.ylabel('loss')\n",
    "    plt.xlabel('epoch')\n",
    "    plt.legend(['train', 'test'], loc='upper left')\n",
    "    \n",
    "    return plt.show()\n",
    "\n",
    "\n",
    "def plot_roc_curve(_y, _y_hat):\n",
    "    \n",
    "    fpr, tpr, thresholds = roc_curve(y_val.argmax(axis=1).ravel(), first_arg(preds))\n",
    "    auc_simple = auc(fpr, tpr)\n",
    "    plt.plot(fpr, tpr, label='Keras (area = {:.3f})'.format(auc_simple))\n",
    "    plt.xlabel('False positive rate')\n",
    "    plt.ylabel('True positive rate')\n",
    "    plt.title('ROC curve')\n",
    "    plt.legend(loc='best')\n",
    "    \n",
    "    return plt.show()\n",
    "    \n",
    "\n",
    "def first_arg(arr):\n",
    "    \n",
    "    _arr = []\n",
    "    \n",
    "    for i in range(len(arr)):\n",
    "        _arr.append(arr[i][1])\n",
    "    \n",
    "    return _arr\n"
   ]
  },
  {
   "cell_type": "code",
   "execution_count": 87,
   "metadata": {},
   "outputs": [
    {
     "data": {
      "image/png": "[encoded data removed]",
      "text/plain": [
       "<matplotlib.figure.Figure at 0x19296aca5f8>"
      ]
     },
     "metadata": {},
     "output_type": "display_data"
    }
   ],
   "source": [
    "\n",
    "plot_train_val_acc_curve(history)\n"
   ]
  },
  {
   "cell_type": "code",
   "execution_count": 88,
   "metadata": {},
   "outputs": [
    {
     "data": {
      "image/png": "[encoded data removed]",
      "text/plain": [
       "<matplotlib.figure.Figure at 0x19297263b38>"
      ]
     },
     "metadata": {},
     "output_type": "display_data"
    }
   ],
   "source": [
    "\n",
    "plot_train_val_loss_curve(history)\n"
   ]
  },
  {
   "cell_type": "code",
   "execution_count": 89,
   "metadata": {},
   "outputs": [
    {
     "data": {
      "image/png": "[encoded data removed]",
      "text/plain": [
       "<matplotlib.figure.Figure at 0x19296c059b0>"
      ]
     },
     "metadata": {},
     "output_type": "display_data"
    }
   ],
   "source": [
    "\n",
    "\n",
    "\n",
    "plot_roc_curve(y_val, preds)\n"
   ]
  },
  {
   "cell_type": "code",
   "execution_count": 90,
   "metadata": {},
   "outputs": [
    {
     "name": "stdout",
     "output_type": "stream",
     "text": [
      "Axes(0.547727,0.125;0.352273x0.755)\n"
     ]
    },
    {
     "data": {
      "image/png": "[encoded data removed]",
      "text/plain": [
       "<matplotlib.figure.Figure at 0x19296df2080>"
      ]
     },
     "metadata": {},
     "output_type": "display_data"
    }
   ],
   "source": [
    "\n",
    "print(plot_precision_recall_curve(first_arg(y_val), first_arg(preds), \"Keras Simple CNN\"))\n"
   ]
  },
  {
   "cell_type": "markdown",
   "metadata": {},
   "source": [
    "### Exercise 4\n",
    "\n",
    "Explore different network architectures (e.g., stacking 4 Conv2D+MaxPooling2D layers) and various ways in tuning the model parameters to see if you can improve the model performance on the validation set."
   ]
  },
  {
   "cell_type": "code",
   "execution_count": 91,
   "metadata": {},
   "outputs": [],
   "source": [
    "# Add your code here\n",
    "\n",
    "input_shape = x_train[1].shape\n",
    "\n",
    "model_complex = Sequential()\n",
    "#add model layers\n",
    "\n",
    "model_complex.add(Conv2D(128, 2,padding='same', input_shape=input_shape))\n",
    "model_complex.add(BatchNormalization())\n",
    "model_complex.add(Activation('relu'))\n",
    "model_complex.add(MaxPooling2D(pool_size=(2,2)))\n",
    "model_complex.add(Dropout(0.2))\n",
    "\n",
    "model_complex.add(Conv2D(256, 2, padding='same'))\n",
    "model_complex.add(BatchNormalization())\n",
    "model_complex.add(Activation('relu'))\n",
    "model_complex.add(MaxPooling2D(pool_size=(2,2)))\n",
    "model_complex.add(Dropout(0.2))\n",
    "\n",
    "model_complex.add(Conv2D(512, 2, padding='same'))\n",
    "model_complex.add(BatchNormalization())\n",
    "model_complex.add(Activation('relu'))\n",
    "model_complex.add(MaxPooling2D(pool_size=(2,2)))\n",
    "model_complex.add(Dropout(0.2))\n",
    "\n",
    "model_complex.add(Conv2D(1024, 2, padding='same'))\n",
    "model_complex.add(BatchNormalization())\n",
    "model_complex.add(Activation('relu'))\n",
    "model_complex.add(MaxPooling2D(pool_size=(2,2)))\n",
    "model_complex.add(Dropout(0.2))\n",
    "\n",
    "model_complex.add(Flatten())\n",
    "\n",
    "model_complex.add(Dense(1024, activation='relu'))\n",
    "model_complex.add(BatchNormalization())\n",
    "model_complex.add(Dropout(0.2))\n",
    "\n",
    "# model_complex.add(Dense(512, activation='relu'))\n",
    "# model_complex.add(BatchNormalization())\n",
    "# model_complex.add(Dropout(0.2))\n",
    "\n",
    "# model_complex.add(Dense(512, activation='relu'))\n",
    "\n",
    "\n",
    "model_complex.add(Dense(2, activation='softmax'))\n"
   ]
  },
  {
   "cell_type": "code",
   "execution_count": 92,
   "metadata": {},
   "outputs": [],
   "source": [
    "\n",
    "optimizer = keras.optimizers.RMSprop(lr=0.00005)\n",
    "model_complex.compile(optimizer=optimizer, loss='categorical_crossentropy', metrics=['accuracy'])\n",
    "\n",
    "\n",
    "aug = ImageDataGenerator(rotation_range=20, zoom_range=0.15, width_shift_range=0.2, height_shift_range=0.2, shear_range=0.15, horizontal_flip=True, fill_mode=\"nearest\")\n",
    "\n",
    "weights_filepath = \"weights_better.hdf5\"\n",
    "checkpoint = ModelCheckpoint(weights_filepath, monitor = 'val_acc', verbose = 1, save_best_only = True, mode='max')\n",
    "callbacks_list = [checkpoint]\n"
   ]
  },
  {
   "cell_type": "code",
   "execution_count": 64,
   "metadata": {},
   "outputs": [
    {
     "name": "stdout",
     "output_type": "stream",
     "text": [
      "Epoch 1/100\n",
      "36/37 [============================>.] - ETA: 0s - loss: 0.8287 - acc: 0.6053Epoch 00001: val_acc did not improve\n",
      "37/37 [==============================] - 7s 198ms/step - loss: 0.8300 - acc: 0.6048 - val_loss: 0.7315 - val_acc: 0.5050\n",
      "Epoch 2/100\n",
      "36/37 [============================>.] - ETA: 0s - loss: 0.8072 - acc: 0.6076Epoch 00002: val_acc improved from 0.50500 to 0.54167, saving model to weights_better.hdf5\n",
      "37/37 [==============================] - 7s 200ms/step - loss: 0.8039 - acc: 0.6066 - val_loss: 0.6909 - val_acc: 0.5417\n",
      "Epoch 3/100\n",
      "36/37 [============================>.] - ETA: 0s - loss: 0.7751 - acc: 0.6252Epoch 00003: val_acc improved from 0.54167 to 0.55500, saving model to weights_better.hdf5\n",
      "37/37 [==============================] - 7s 199ms/step - loss: 0.7748 - acc: 0.6258 - val_loss: 0.6875 - val_acc: 0.5550\n",
      "Epoch 4/100\n",
      "36/37 [============================>.] - ETA: 0s - loss: 0.7730 - acc: 0.6135Epoch 00004: val_acc did not improve\n",
      "37/37 [==============================] - 7s 195ms/step - loss: 0.7728 - acc: 0.6130 - val_loss: 0.8494 - val_acc: 0.4950\n",
      "Epoch 5/100\n",
      "36/37 [============================>.] - ETA: 0s - loss: 0.7563 - acc: 0.6265Epoch 00005: val_acc did not improve\n",
      "37/37 [==============================] - 7s 194ms/step - loss: 0.7557 - acc: 0.6269 - val_loss: 0.7504 - val_acc: 0.4950\n",
      "Epoch 6/100\n",
      "36/37 [============================>.] - ETA: 0s - loss: 0.7467 - acc: 0.6287Epoch 00006: val_acc did not improve\n",
      "37/37 [==============================] - 7s 196ms/step - loss: 0.7493 - acc: 0.6277 - val_loss: 0.9730 - val_acc: 0.4950\n",
      "Epoch 7/100\n",
      "36/37 [============================>.] - ETA: 0s - loss: 0.7384 - acc: 0.6361Epoch 00007: val_acc improved from 0.55500 to 0.56833, saving model to weights_better.hdf5\n",
      "37/37 [==============================] - 7s 201ms/step - loss: 0.7385 - acc: 0.6366 - val_loss: 0.6789 - val_acc: 0.5683\n",
      "Epoch 8/100\n",
      "36/37 [============================>.] - ETA: 0s - loss: 0.7311 - acc: 0.6306Epoch 00008: val_acc improved from 0.56833 to 0.59167, saving model to weights_better.hdf5\n",
      "37/37 [==============================] - 8s 203ms/step - loss: 0.7289 - acc: 0.6332 - val_loss: 0.6652 - val_acc: 0.5917\n",
      "Epoch 9/100\n",
      "36/37 [============================>.] - ETA: 0s - loss: 0.7256 - acc: 0.6326Epoch 00009: val_acc did not improve\n",
      "37/37 [==============================] - 7s 194ms/step - loss: 0.7237 - acc: 0.6329 - val_loss: 0.6977 - val_acc: 0.5317\n",
      "Epoch 10/100\n",
      "36/37 [============================>.] - ETA: 0s - loss: 0.7339 - acc: 0.6328Epoch 00010: val_acc did not improve\n",
      "37/37 [==============================] - 7s 195ms/step - loss: 0.7321 - acc: 0.6341 - val_loss: 0.7000 - val_acc: 0.5550\n",
      "Epoch 11/100\n",
      "36/37 [============================>.] - ETA: 0s - loss: 0.6873 - acc: 0.6565Epoch 00011: val_acc did not improve\n",
      "37/37 [==============================] - 7s 194ms/step - loss: 0.6880 - acc: 0.6565 - val_loss: 0.6801 - val_acc: 0.5667\n",
      "Epoch 12/100\n",
      "36/37 [============================>.] - ETA: 0s - loss: 0.7053 - acc: 0.6484Epoch 00012: val_acc improved from 0.59167 to 0.63833, saving model to weights_better.hdf5\n",
      "37/37 [==============================] - 7s 202ms/step - loss: 0.7066 - acc: 0.6476 - val_loss: 0.6285 - val_acc: 0.6383\n",
      "Epoch 13/100\n",
      "36/37 [============================>.] - ETA: 0s - loss: 0.6947 - acc: 0.6491Epoch 00013: val_acc improved from 0.63833 to 0.68333, saving model to weights_better.hdf5\n",
      "37/37 [==============================] - 7s 198ms/step - loss: 0.6945 - acc: 0.6495 - val_loss: 0.6040 - val_acc: 0.6833\n",
      "Epoch 14/100\n",
      "36/37 [============================>.] - ETA: 0s - loss: 0.6849 - acc: 0.6454Epoch 00014: val_acc did not improve\n",
      "37/37 [==============================] - 7s 197ms/step - loss: 0.6846 - acc: 0.6451 - val_loss: 0.6033 - val_acc: 0.6800\n",
      "Epoch 15/100\n",
      "36/37 [============================>.] - ETA: 0s - loss: 0.6631 - acc: 0.6569Epoch 00015: val_acc did not improve\n",
      "37/37 [==============================] - 7s 194ms/step - loss: 0.6639 - acc: 0.6561 - val_loss: 0.6153 - val_acc: 0.6683\n",
      "Epoch 16/100\n",
      "36/37 [============================>.] - ETA: 0s - loss: 0.6787 - acc: 0.6480Epoch 00016: val_acc did not improve\n",
      "37/37 [==============================] - 7s 194ms/step - loss: 0.6812 - acc: 0.6474 - val_loss: 0.6197 - val_acc: 0.6450\n",
      "Epoch 17/100\n",
      "36/37 [============================>.] - ETA: 0s - loss: 0.6605 - acc: 0.6599Epoch 00017: val_acc did not improve\n",
      "37/37 [==============================] - 7s 193ms/step - loss: 0.6584 - acc: 0.6613 - val_loss: 0.5938 - val_acc: 0.6717\n",
      "Epoch 18/100\n",
      "36/37 [============================>.] - ETA: 0s - loss: 0.6509 - acc: 0.6680Epoch 00018: val_acc did not improve\n",
      "37/37 [==============================] - 7s 195ms/step - loss: 0.6516 - acc: 0.6697 - val_loss: 0.6054 - val_acc: 0.6617\n",
      "Epoch 19/100\n",
      "36/37 [============================>.] - ETA: 0s - loss: 0.6581 - acc: 0.6647Epoch 00019: val_acc did not improve\n",
      "37/37 [==============================] - 7s 197ms/step - loss: 0.6575 - acc: 0.6651 - val_loss: 0.6416 - val_acc: 0.6433\n",
      "Epoch 20/100\n",
      "36/37 [============================>.] - ETA: 0s - loss: 0.6542 - acc: 0.6708Epoch 00020: val_acc improved from 0.68333 to 0.68500, saving model to weights_better.hdf5\n",
      "37/37 [==============================] - 7s 199ms/step - loss: 0.6553 - acc: 0.6717 - val_loss: 0.5864 - val_acc: 0.6850\n",
      "Epoch 21/100\n",
      "36/37 [============================>.] - ETA: 0s - loss: 0.6353 - acc: 0.6758Epoch 00021: val_acc improved from 0.68500 to 0.69833, saving model to weights_better.hdf5\n",
      "37/37 [==============================] - 7s 201ms/step - loss: 0.6368 - acc: 0.6746 - val_loss: 0.5767 - val_acc: 0.6983\n",
      "Epoch 22/100\n",
      "36/37 [============================>.] - ETA: 0s - loss: 0.6340 - acc: 0.6814Epoch 00022: val_acc improved from 0.69833 to 0.72500, saving model to weights_better.hdf5\n",
      "37/37 [==============================] - 7s 197ms/step - loss: 0.6328 - acc: 0.6815 - val_loss: 0.5451 - val_acc: 0.7250\n",
      "Epoch 23/100\n",
      "36/37 [============================>.] - ETA: 0s - loss: 0.6246 - acc: 0.6890Epoch 00023: val_acc improved from 0.72500 to 0.72833, saving model to weights_better.hdf5\n",
      "37/37 [==============================] - 7s 199ms/step - loss: 0.6261 - acc: 0.6892 - val_loss: 0.5406 - val_acc: 0.7283\n",
      "Epoch 24/100\n",
      "36/37 [============================>.] - ETA: 0s - loss: 0.6244 - acc: 0.6719Epoch 00024: val_acc did not improve\n",
      "37/37 [==============================] - 7s 196ms/step - loss: 0.6246 - acc: 0.6717 - val_loss: 0.5404 - val_acc: 0.7267\n",
      "Epoch 25/100\n",
      "36/37 [============================>.] - ETA: 0s - loss: 0.6360 - acc: 0.6780Epoch 00025: val_acc improved from 0.72833 to 0.74500, saving model to weights_better.hdf5\n",
      "37/37 [==============================] - 7s 200ms/step - loss: 0.6346 - acc: 0.6784 - val_loss: 0.5282 - val_acc: 0.7450\n",
      "Epoch 26/100\n",
      "36/37 [============================>.] - ETA: 0s - loss: 0.6208 - acc: 0.6860Epoch 00026: val_acc did not improve\n",
      "37/37 [==============================] - 7s 193ms/step - loss: 0.6199 - acc: 0.6869 - val_loss: 0.5329 - val_acc: 0.7217\n",
      "Epoch 27/100\n",
      "36/37 [============================>.] - ETA: 0s - loss: 0.6367 - acc: 0.6736Epoch 00027: val_acc did not improve\n",
      "37/37 [==============================] - 7s 193ms/step - loss: 0.6338 - acc: 0.6761 - val_loss: 0.5429 - val_acc: 0.7167\n",
      "Epoch 28/100\n",
      "36/37 [============================>.] - ETA: 0s - loss: 0.6175 - acc: 0.6858Epoch 00028: val_acc did not improve\n",
      "37/37 [==============================] - 7s 193ms/step - loss: 0.6142 - acc: 0.6882 - val_loss: 0.5581 - val_acc: 0.7067\n",
      "Epoch 29/100\n",
      "36/37 [============================>.] - ETA: 0s - loss: 0.6203 - acc: 0.6940Epoch 00029: val_acc did not improve\n",
      "37/37 [==============================] - 7s 193ms/step - loss: 0.6258 - acc: 0.6919 - val_loss: 0.5622 - val_acc: 0.7300\n",
      "Epoch 30/100\n",
      "36/37 [============================>.] - ETA: 0s - loss: 0.6047 - acc: 0.6910Epoch 00030: val_acc did not improve\n",
      "37/37 [==============================] - 7s 191ms/step - loss: 0.6031 - acc: 0.6924 - val_loss: 0.5511 - val_acc: 0.7183\n",
      "Epoch 31/100\n",
      "36/37 [============================>.] - ETA: 0s - loss: 0.6081 - acc: 0.6910Epoch 00031: val_acc did not improve\n",
      "37/37 [==============================] - 7s 195ms/step - loss: 0.6063 - acc: 0.6930 - val_loss: 0.5254 - val_acc: 0.7400\n"
     ]
    },
    {
     "name": "stdout",
     "output_type": "stream",
     "text": [
      "Epoch 32/100\n",
      "36/37 [============================>.] - ETA: 0s - loss: 0.6059 - acc: 0.6916Epoch 00032: val_acc did not improve\n",
      "37/37 [==============================] - 7s 193ms/step - loss: 0.6080 - acc: 0.6909 - val_loss: 0.5444 - val_acc: 0.7317\n",
      "Epoch 33/100\n",
      "36/37 [============================>.] - ETA: 0s - loss: 0.5968 - acc: 0.7072Epoch 00033: val_acc did not improve\n",
      "37/37 [==============================] - 7s 193ms/step - loss: 0.5971 - acc: 0.7073 - val_loss: 0.5251 - val_acc: 0.7283\n",
      "Epoch 34/100\n",
      "36/37 [============================>.] - ETA: 0s - loss: 0.5988 - acc: 0.6938Epoch 00034: val_acc improved from 0.74500 to 0.74500, saving model to weights_better.hdf5\n",
      "37/37 [==============================] - 7s 198ms/step - loss: 0.5979 - acc: 0.6940 - val_loss: 0.5168 - val_acc: 0.7450\n",
      "Epoch 35/100\n",
      "36/37 [============================>.] - ETA: 0s - loss: 0.5940 - acc: 0.6979Epoch 00035: val_acc did not improve\n",
      "37/37 [==============================] - 7s 193ms/step - loss: 0.5942 - acc: 0.6985 - val_loss: 0.5244 - val_acc: 0.7350\n",
      "Epoch 36/100\n",
      "36/37 [============================>.] - ETA: 0s - loss: 0.5998 - acc: 0.7010Epoch 00036: val_acc did not improve\n",
      "37/37 [==============================] - 7s 193ms/step - loss: 0.5990 - acc: 0.7023 - val_loss: 0.5322 - val_acc: 0.7317\n",
      "Epoch 37/100\n",
      "36/37 [============================>.] - ETA: 0s - loss: 0.5903 - acc: 0.7033Epoch 00037: val_acc improved from 0.74500 to 0.74500, saving model to weights_better.hdf5\n",
      "37/37 [==============================] - 7s 199ms/step - loss: 0.5942 - acc: 0.7010 - val_loss: 0.5210 - val_acc: 0.7450\n",
      "Epoch 38/100\n",
      "36/37 [============================>.] - ETA: 0s - loss: 0.5890 - acc: 0.7049Epoch 00038: val_acc did not improve\n",
      "37/37 [==============================] - 7s 193ms/step - loss: 0.5874 - acc: 0.7040 - val_loss: 0.5278 - val_acc: 0.7150\n",
      "Epoch 39/100\n",
      "36/37 [============================>.] - ETA: 0s - loss: 0.5751 - acc: 0.7131Epoch 00039: val_acc did not improve\n",
      "37/37 [==============================] - 7s 193ms/step - loss: 0.5757 - acc: 0.7139 - val_loss: 0.5254 - val_acc: 0.7233\n",
      "Epoch 40/100\n",
      "36/37 [============================>.] - ETA: 0s - loss: 0.5875 - acc: 0.7040Epoch 00040: val_acc did not improve\n",
      "37/37 [==============================] - 7s 195ms/step - loss: 0.5877 - acc: 0.7052 - val_loss: 0.5326 - val_acc: 0.7333\n",
      "Epoch 41/100\n",
      "36/37 [============================>.] - ETA: 0s - loss: 0.5734 - acc: 0.7081Epoch 00041: val_acc did not improve\n",
      "37/37 [==============================] - 7s 193ms/step - loss: 0.5766 - acc: 0.7059 - val_loss: 0.5542 - val_acc: 0.7317\n",
      "Epoch 42/100\n",
      "36/37 [============================>.] - ETA: 0s - loss: 0.5853 - acc: 0.7107Epoch 00042: val_acc did not improve\n",
      "37/37 [==============================] - 7s 193ms/step - loss: 0.5849 - acc: 0.7105 - val_loss: 0.5275 - val_acc: 0.7150\n",
      "Epoch 43/100\n",
      "36/37 [============================>.] - ETA: 0s - loss: 0.5701 - acc: 0.7179Epoch 00043: val_acc did not improve\n",
      "37/37 [==============================] - 7s 193ms/step - loss: 0.5696 - acc: 0.7175 - val_loss: 0.5376 - val_acc: 0.7267\n",
      "Epoch 44/100\n",
      "36/37 [============================>.] - ETA: 0s - loss: 0.5723 - acc: 0.7168Epoch 00044: val_acc did not improve\n",
      "37/37 [==============================] - 7s 194ms/step - loss: 0.5713 - acc: 0.7173 - val_loss: 0.5152 - val_acc: 0.7417\n",
      "Epoch 45/100\n",
      "36/37 [============================>.] - ETA: 0s - loss: 0.5637 - acc: 0.7179Epoch 00045: val_acc did not improve\n",
      "37/37 [==============================] - 7s 195ms/step - loss: 0.5616 - acc: 0.7194 - val_loss: 0.5279 - val_acc: 0.7350\n",
      "Epoch 46/100\n",
      "36/37 [============================>.] - ETA: 0s - loss: 0.5699 - acc: 0.7174Epoch 00046: val_acc improved from 0.74500 to 0.75000, saving model to weights_better.hdf5\n",
      "37/37 [==============================] - 7s 196ms/step - loss: 0.5697 - acc: 0.7200 - val_loss: 0.5103 - val_acc: 0.7500\n",
      "Epoch 47/100\n",
      "36/37 [============================>.] - ETA: 0s - loss: 0.5666 - acc: 0.7242Epoch 00047: val_acc improved from 0.75000 to 0.75000, saving model to weights_better.hdf5\n",
      "37/37 [==============================] - 7s 199ms/step - loss: 0.5658 - acc: 0.7245 - val_loss: 0.5154 - val_acc: 0.7500\n",
      "Epoch 48/100\n",
      "36/37 [============================>.] - ETA: 0s - loss: 0.5600 - acc: 0.7296Epoch 00048: val_acc did not improve\n",
      "37/37 [==============================] - 7s 195ms/step - loss: 0.5589 - acc: 0.7297 - val_loss: 0.5107 - val_acc: 0.7450\n",
      "Epoch 49/100\n",
      "36/37 [============================>.] - ETA: 0s - loss: 0.5670 - acc: 0.7196Epoch 00049: val_acc improved from 0.75000 to 0.75500, saving model to weights_better.hdf5\n",
      "37/37 [==============================] - 7s 197ms/step - loss: 0.5681 - acc: 0.7192 - val_loss: 0.5041 - val_acc: 0.7550\n",
      "Epoch 50/100\n",
      "36/37 [============================>.] - ETA: 0s - loss: 0.5635 - acc: 0.7233Epoch 00050: val_acc did not improve\n",
      "37/37 [==============================] - 7s 195ms/step - loss: 0.5609 - acc: 0.7247 - val_loss: 0.5133 - val_acc: 0.7483\n",
      "Epoch 51/100\n",
      "36/37 [============================>.] - ETA: 0s - loss: 0.5487 - acc: 0.7348Epoch 00051: val_acc did not improve\n",
      "37/37 [==============================] - 7s 191ms/step - loss: 0.5469 - acc: 0.7360 - val_loss: 0.5897 - val_acc: 0.6983\n",
      "Epoch 52/100\n",
      "36/37 [============================>.] - ETA: 0s - loss: 0.5440 - acc: 0.7322Epoch 00052: val_acc did not improve\n",
      "37/37 [==============================] - 7s 193ms/step - loss: 0.5475 - acc: 0.7299 - val_loss: 0.5641 - val_acc: 0.7200\n",
      "Epoch 53/100\n",
      "36/37 [============================>.] - ETA: 0s - loss: 0.5588 - acc: 0.7255Epoch 00053: val_acc improved from 0.75500 to 0.75500, saving model to weights_better.hdf5\n",
      "37/37 [==============================] - 7s 201ms/step - loss: 0.5606 - acc: 0.7255 - val_loss: 0.5033 - val_acc: 0.7550\n",
      "Epoch 54/100\n",
      "36/37 [============================>.] - ETA: 0s - loss: 0.5543 - acc: 0.7322Epoch 00054: val_acc did not improve\n",
      "37/37 [==============================] - 7s 191ms/step - loss: 0.5550 - acc: 0.7312 - val_loss: 0.5084 - val_acc: 0.7517\n",
      "Epoch 55/100\n",
      "36/37 [============================>.] - ETA: 0s - loss: 0.5536 - acc: 0.7283Epoch 00055: val_acc improved from 0.75500 to 0.75833, saving model to weights_better.hdf5\n",
      "37/37 [==============================] - 7s 199ms/step - loss: 0.5537 - acc: 0.7288 - val_loss: 0.4957 - val_acc: 0.7583\n",
      "Epoch 56/100\n",
      "36/37 [============================>.] - ETA: 0s - loss: 0.5343 - acc: 0.7411Epoch 00056: val_acc did not improve\n",
      "37/37 [==============================] - 7s 195ms/step - loss: 0.5361 - acc: 0.7399 - val_loss: 0.5181 - val_acc: 0.7517\n",
      "Epoch 57/100\n",
      "36/37 [============================>.] - ETA: 0s - loss: 0.5380 - acc: 0.7374Epoch 00057: val_acc did not improve\n",
      "37/37 [==============================] - 7s 193ms/step - loss: 0.5390 - acc: 0.7371 - val_loss: 0.5043 - val_acc: 0.7567\n",
      "Epoch 58/100\n",
      "36/37 [============================>.] - ETA: 0s - loss: 0.5542 - acc: 0.7177Epoch 00058: val_acc did not improve\n",
      "37/37 [==============================] - 7s 193ms/step - loss: 0.5537 - acc: 0.7175 - val_loss: 0.5526 - val_acc: 0.7300\n",
      "Epoch 59/100\n",
      "36/37 [============================>.] - ETA: 0s - loss: 0.5386 - acc: 0.7335Epoch 00059: val_acc did not improve\n",
      "37/37 [==============================] - 7s 193ms/step - loss: 0.5430 - acc: 0.7312 - val_loss: 0.5084 - val_acc: 0.7450\n",
      "Epoch 60/100\n",
      "36/37 [============================>.] - ETA: 0s - loss: 0.5372 - acc: 0.7378Epoch 00060: val_acc improved from 0.75833 to 0.76333, saving model to weights_better.hdf5\n",
      "37/37 [==============================] - 7s 199ms/step - loss: 0.5389 - acc: 0.7369 - val_loss: 0.5724 - val_acc: 0.7633\n",
      "Epoch 61/100\n",
      "36/37 [============================>.] - ETA: 0s - loss: 0.5464 - acc: 0.7324Epoch 00061: val_acc did not improve\n",
      "37/37 [==============================] - 7s 193ms/step - loss: 0.5463 - acc: 0.7327 - val_loss: 0.5285 - val_acc: 0.7550\n",
      "Epoch 62/100\n",
      "36/37 [============================>.] - ETA: 0s - loss: 0.5498 - acc: 0.7329Epoch 00062: val_acc did not improve\n",
      "37/37 [==============================] - 7s 194ms/step - loss: 0.5487 - acc: 0.7331 - val_loss: 0.5436 - val_acc: 0.7517\n",
      "Epoch 63/100\n"
     ]
    },
    {
     "name": "stdout",
     "output_type": "stream",
     "text": [
      "36/37 [============================>.] - ETA: 0s - loss: 0.5393 - acc: 0.7359Epoch 00063: val_acc did not improve\n",
      "37/37 [==============================] - 7s 193ms/step - loss: 0.5379 - acc: 0.7369 - val_loss: 0.5302 - val_acc: 0.7467\n",
      "Epoch 64/100\n",
      "36/37 [============================>.] - ETA: 0s - loss: 0.5262 - acc: 0.7441Epoch 00064: val_acc improved from 0.76333 to 0.77000, saving model to weights_better.hdf5\n",
      "37/37 [==============================] - 7s 199ms/step - loss: 0.5291 - acc: 0.7422 - val_loss: 0.5061 - val_acc: 0.7700\n",
      "Epoch 65/100\n",
      "36/37 [============================>.] - ETA: 0s - loss: 0.5401 - acc: 0.7318Epoch 00065: val_acc improved from 0.77000 to 0.77167, saving model to weights_better.hdf5\n",
      "37/37 [==============================] - 8s 205ms/step - loss: 0.5411 - acc: 0.7312 - val_loss: 0.5163 - val_acc: 0.7717\n",
      "Epoch 66/100\n",
      "36/37 [============================>.] - ETA: 0s - loss: 0.5277 - acc: 0.7413Epoch 00066: val_acc did not improve\n",
      "37/37 [==============================] - 7s 196ms/step - loss: 0.5260 - acc: 0.7422 - val_loss: 0.5254 - val_acc: 0.7450\n",
      "Epoch 67/100\n",
      "36/37 [============================>.] - ETA: 0s - loss: 0.5462 - acc: 0.7283Epoch 00067: val_acc did not improve\n",
      "37/37 [==============================] - 7s 193ms/step - loss: 0.5459 - acc: 0.7282 - val_loss: 0.4816 - val_acc: 0.7550\n",
      "Epoch 68/100\n",
      "36/37 [============================>.] - ETA: 0s - loss: 0.5255 - acc: 0.7428Epoch 00068: val_acc did not improve\n",
      "37/37 [==============================] - 7s 191ms/step - loss: 0.5253 - acc: 0.7422 - val_loss: 0.4996 - val_acc: 0.7683\n",
      "Epoch 69/100\n",
      "36/37 [============================>.] - ETA: 0s - loss: 0.5361 - acc: 0.7374Epoch 00069: val_acc did not improve\n",
      "37/37 [==============================] - 7s 195ms/step - loss: 0.5359 - acc: 0.7386 - val_loss: 0.5167 - val_acc: 0.7467\n",
      "Epoch 70/100\n",
      "36/37 [============================>.] - ETA: 0s - loss: 0.5270 - acc: 0.7415Epoch 00070: val_acc did not improve\n",
      "37/37 [==============================] - 7s 191ms/step - loss: 0.5290 - acc: 0.7405 - val_loss: 0.4835 - val_acc: 0.7583\n",
      "Epoch 71/100\n",
      "36/37 [============================>.] - ETA: 0s - loss: 0.5318 - acc: 0.7400Epoch 00071: val_acc did not improve\n",
      "37/37 [==============================] - 7s 195ms/step - loss: 0.5333 - acc: 0.7397 - val_loss: 0.5009 - val_acc: 0.7583\n",
      "Epoch 72/100\n",
      "36/37 [============================>.] - ETA: 0s - loss: 0.5337 - acc: 0.7376Epoch 00072: val_acc did not improve\n",
      "37/37 [==============================] - 7s 190ms/step - loss: 0.5340 - acc: 0.7379 - val_loss: 0.4696 - val_acc: 0.7683\n",
      "Epoch 73/100\n",
      "36/37 [============================>.] - ETA: 0s - loss: 0.5249 - acc: 0.7452Epoch 00073: val_acc improved from 0.77167 to 0.78500, saving model to weights_better.hdf5\n",
      "37/37 [==============================] - 8s 207ms/step - loss: 0.5244 - acc: 0.7454 - val_loss: 0.4731 - val_acc: 0.7850\n",
      "Epoch 74/100\n",
      "36/37 [============================>.] - ETA: 0s - loss: 0.5157 - acc: 0.7496Epoch 00074: val_acc did not improve\n",
      "37/37 [==============================] - 7s 194ms/step - loss: 0.5142 - acc: 0.7511 - val_loss: 0.4777 - val_acc: 0.7683\n",
      "Epoch 75/100\n",
      "36/37 [============================>.] - ETA: 0s - loss: 0.5212 - acc: 0.7454Epoch 00075: val_acc did not improve\n",
      "37/37 [==============================] - 7s 193ms/step - loss: 0.5240 - acc: 0.7441 - val_loss: 0.4826 - val_acc: 0.7817\n",
      "Epoch 76/100\n",
      "36/37 [============================>.] - ETA: 0s - loss: 0.5096 - acc: 0.7487Epoch 00076: val_acc did not improve\n",
      "37/37 [==============================] - 7s 193ms/step - loss: 0.5131 - acc: 0.7473 - val_loss: 0.5207 - val_acc: 0.7583\n",
      "Epoch 77/100\n",
      "36/37 [============================>.] - ETA: 0s - loss: 0.5283 - acc: 0.7405Epoch 00077: val_acc did not improve\n",
      "37/37 [==============================] - 7s 193ms/step - loss: 0.5285 - acc: 0.7391 - val_loss: 0.4732 - val_acc: 0.7700\n",
      "Epoch 78/100\n",
      "36/37 [============================>.] - ETA: 0s - loss: 0.5020 - acc: 0.7559Epoch 00078: val_acc did not improve\n",
      "37/37 [==============================] - 7s 193ms/step - loss: 0.5019 - acc: 0.7565 - val_loss: 0.4841 - val_acc: 0.7733\n",
      "Epoch 79/100\n",
      "36/37 [============================>.] - ETA: 0s - loss: 0.5022 - acc: 0.7530Epoch 00079: val_acc did not improve\n",
      "37/37 [==============================] - 7s 193ms/step - loss: 0.5006 - acc: 0.7544 - val_loss: 0.5117 - val_acc: 0.7717\n",
      "Epoch 80/100\n",
      "36/37 [============================>.] - ETA: 0s - loss: 0.4995 - acc: 0.7565Epoch 00080: val_acc did not improve\n",
      "37/37 [==============================] - 7s 193ms/step - loss: 0.5006 - acc: 0.7557 - val_loss: 0.5068 - val_acc: 0.7650\n",
      "Epoch 81/100\n",
      "36/37 [============================>.] - ETA: 0s - loss: 0.5014 - acc: 0.7604Epoch 00081: val_acc did not improve\n",
      "37/37 [==============================] - 7s 193ms/step - loss: 0.5016 - acc: 0.7601 - val_loss: 0.6061 - val_acc: 0.7250\n",
      "Epoch 82/100\n",
      "36/37 [============================>.] - ETA: 0s - loss: 0.5098 - acc: 0.7511Epoch 00082: val_acc did not improve\n",
      "37/37 [==============================] - 7s 193ms/step - loss: 0.5106 - acc: 0.7513 - val_loss: 0.4900 - val_acc: 0.7717\n",
      "Epoch 83/100\n",
      "36/37 [============================>.] - ETA: 0s - loss: 0.5026 - acc: 0.7600Epoch 00083: val_acc did not improve\n",
      "37/37 [==============================] - 7s 195ms/step - loss: 0.5019 - acc: 0.7595 - val_loss: 0.5770 - val_acc: 0.7283\n",
      "Epoch 84/100\n",
      "36/37 [============================>.] - ETA: 0s - loss: 0.4965 - acc: 0.7645Epoch 00084: val_acc did not improve\n",
      "37/37 [==============================] - 7s 191ms/step - loss: 0.4987 - acc: 0.7637 - val_loss: 0.5419 - val_acc: 0.7433\n",
      "Epoch 85/100\n",
      "36/37 [============================>.] - ETA: 0s - loss: 0.5011 - acc: 0.7587Epoch 00085: val_acc did not improve\n",
      "37/37 [==============================] - 7s 193ms/step - loss: 0.5013 - acc: 0.7574 - val_loss: 0.5100 - val_acc: 0.7583\n",
      "Epoch 86/100\n",
      "36/37 [============================>.] - ETA: 0s - loss: 0.5053 - acc: 0.7628Epoch 00086: val_acc did not improve\n",
      "37/37 [==============================] - 7s 193ms/step - loss: 0.5026 - acc: 0.7637 - val_loss: 0.4690 - val_acc: 0.7800\n",
      "Epoch 87/100\n",
      "36/37 [============================>.] - ETA: 0s - loss: 0.5104 - acc: 0.7567Epoch 00087: val_acc did not improve\n",
      "37/37 [==============================] - 7s 193ms/step - loss: 0.5086 - acc: 0.7580 - val_loss: 0.5057 - val_acc: 0.7667\n",
      "Epoch 88/100\n",
      "36/37 [============================>.] - ETA: 0s - loss: 0.5024 - acc: 0.7617Epoch 00088: val_acc improved from 0.78500 to 0.78500, saving model to weights_better.hdf5\n",
      "37/37 [==============================] - 7s 202ms/step - loss: 0.5042 - acc: 0.7606 - val_loss: 0.4742 - val_acc: 0.7850\n",
      "Epoch 89/100\n",
      "36/37 [============================>.] - ETA: 0s - loss: 0.5087 - acc: 0.7606Epoch 00089: val_acc improved from 0.78500 to 0.79833, saving model to weights_better.hdf5\n",
      "37/37 [==============================] - 7s 197ms/step - loss: 0.5094 - acc: 0.7608 - val_loss: 0.4447 - val_acc: 0.7983\n",
      "Epoch 90/100\n",
      "36/37 [============================>.] - ETA: 0s - loss: 0.4945 - acc: 0.7600Epoch 00090: val_acc did not improve\n",
      "37/37 [==============================] - 7s 193ms/step - loss: 0.4953 - acc: 0.7592 - val_loss: 0.4599 - val_acc: 0.7817\n",
      "Epoch 91/100\n",
      "36/37 [============================>.] - ETA: 0s - loss: 0.4958 - acc: 0.7619Epoch 00091: val_acc did not improve\n",
      "37/37 [==============================] - 7s 193ms/step - loss: 0.4935 - acc: 0.7629 - val_loss: 0.5025 - val_acc: 0.7750\n",
      "Epoch 92/100\n",
      "36/37 [============================>.] - ETA: 0s - loss: 0.4912 - acc: 0.7574Epoch 00092: val_acc did not improve\n",
      "37/37 [==============================] - 7s 195ms/step - loss: 0.4916 - acc: 0.7563 - val_loss: 0.4821 - val_acc: 0.7833\n",
      "Epoch 93/100\n",
      "36/37 [============================>.] - ETA: 0s - loss: 0.4868 - acc: 0.7656Epoch 00093: val_acc did not improve\n",
      "37/37 [==============================] - 7s 193ms/step - loss: 0.4876 - acc: 0.7642 - val_loss: 0.5122 - val_acc: 0.7600\n",
      "Epoch 94/100\n",
      "36/37 [============================>.] - ETA: 0s - loss: 0.4855 - acc: 0.7704Epoch 00094: val_acc did not improve\n",
      "37/37 [==============================] - 7s 193ms/step - loss: 0.4858 - acc: 0.7709 - val_loss: 0.4757 - val_acc: 0.7883\n"
     ]
    },
    {
     "name": "stdout",
     "output_type": "stream",
     "text": [
      "Epoch 95/100\n",
      "36/37 [============================>.] - ETA: 0s - loss: 0.4925 - acc: 0.7635Epoch 00095: val_acc did not improve\n",
      "37/37 [==============================] - 7s 191ms/step - loss: 0.4921 - acc: 0.7639 - val_loss: 0.5256 - val_acc: 0.7783\n",
      "Epoch 96/100\n",
      "36/37 [============================>.] - ETA: 0s - loss: 0.4649 - acc: 0.7836Epoch 00096: val_acc did not improve\n",
      "37/37 [==============================] - 7s 193ms/step - loss: 0.4651 - acc: 0.7836 - val_loss: 0.4969 - val_acc: 0.7700\n",
      "Epoch 97/100\n",
      "36/37 [============================>.] - ETA: 0s - loss: 0.4804 - acc: 0.7726Epoch 00097: val_acc did not improve\n",
      "37/37 [==============================] - 7s 193ms/step - loss: 0.4818 - acc: 0.7715 - val_loss: 0.5001 - val_acc: 0.7717\n",
      "Epoch 98/100\n",
      "36/37 [============================>.] - ETA: 0s - loss: 0.4782 - acc: 0.7734Epoch 00098: val_acc did not improve\n",
      "37/37 [==============================] - 7s 195ms/step - loss: 0.4765 - acc: 0.7749 - val_loss: 0.5213 - val_acc: 0.7567\n",
      "Epoch 99/100\n",
      "36/37 [============================>.] - ETA: 0s - loss: 0.4986 - acc: 0.7650Epoch 00099: val_acc did not improve\n",
      "37/37 [==============================] - 7s 193ms/step - loss: 0.4961 - acc: 0.7665 - val_loss: 0.4728 - val_acc: 0.7750\n",
      "Epoch 100/100\n",
      "36/37 [============================>.] - ETA: 0s - loss: 0.4798 - acc: 0.7609Epoch 00100: val_acc did not improve\n",
      "37/37 [==============================] - 7s 193ms/step - loss: 0.4789 - acc: 0.7618 - val_loss: 0.5196 - val_acc: 0.7633\n"
     ]
    }
   ],
   "source": [
    "\n",
    "# history_complex = model_complex.fit(x_train, y_train, batch_size=batch_size, epochs=epochs,validation_data=(x_test, y_test), verbose=1)\n",
    "\n",
    "epoch_complex = 100\n",
    "\n",
    "history_complex = model_complex.fit_generator(aug.flow(x_train, y_train, batch_size=batch_size), validation_data=(x_test, y_test), callbacks=callbacks_list, steps_per_epoch=len(x_train) // batch_size, epochs=epoch_complex)\n"
   ]
  },
  {
   "cell_type": "markdown",
   "metadata": {},
   "source": [
    "### Exercise 5\n",
    "\n",
    "Apply the trained model on the testing set and output the classification results."
   ]
  },
  {
   "cell_type": "markdown",
   "metadata": {},
   "source": [
    "### Exercise 6 \n",
    "\n",
    "Plot the saliency map of original image to see which part is important for making classification decisions. You can refer to the following blog article on how to generate visualisation results of the filters in the ConvNets.\n",
    "https://blog.keras.io/how-convolutional-neural-networks-see-the-world.html"
   ]
  },
  {
   "cell_type": "code",
   "execution_count": null,
   "metadata": {},
   "outputs": [],
   "source": [
    "# Add your code here"
   ]
  }
 ],
 "metadata": {
  "kernelspec": {
   "display_name": "Python 3",
   "language": "python",
   "name": "python3"
  },
  "language_info": {
   "codemirror_mode": {
    "name": "ipython",
    "version": 3
   },
   "file_extension": ".py",
   "mimetype": "text/x-python",
   "name": "python",
   "nbconvert_exporter": "python",
   "pygments_lexer": "ipython3",
   "version": "3.6.1"
  }
 },
 "nbformat": 4,
 "nbformat_minor": 1
}

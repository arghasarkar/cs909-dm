{
 "cells": [
  {
   "cell_type": "markdown",
   "metadata": {},
   "source": [
    "# CNN for Image Classification\n",
    "\n",
    "In this lab, you are given a dataset containing 6,000 pictures of cats and dogs (3,000 cats, 3,000 dogs) and asked to train a classifier built upon Convolutional Neural Networks (ConvNets) to classify images as \"dogs\" or \"cats\"."
   ]
  },
  {
   "cell_type": "code",
   "execution_count": 134,
   "metadata": {},
   "outputs": [],
   "source": [
    "%matplotlib inline\n",
    "\n",
    "import os\n",
    "import numpy as np\n",
    "import matplotlib.pyplot as plt\n",
    "import cv2\n",
    "\n",
    "# from __future__ import print_function\n",
    "import keras\n",
    "from keras import metrics\n",
    "from keras.preprocessing.image import ImageDataGenerator\n",
    "from keras.models import Sequential\n",
    "from keras.layers import Dense, Dropout, Activation, Flatten, BatchNormalization, Input\n",
    "from keras.layers import Conv2D, MaxPooling2D, GlobalAveragePooling2D, AveragePooling2D, Concatenate\n",
    "from keras.callbacks import LearningRateScheduler\n",
    "from tensorflow.python.keras.callbacks import TensorBoard"
   ]
  },
  {
   "cell_type": "markdown",
   "metadata": {},
   "source": [
    "### Exercise 1 \n",
    "\n",
    "Split the dataset by selecting 4,800 pictures for training, 600 for validation, and 600 for testing. Over here, the **random seed** for numpy has been set to **200** to ensure the shuffling and the splitting for train, test and val are deterministic. "
   ]
  },
  {
   "cell_type": "code",
   "execution_count": 114,
   "metadata": {
    "scrolled": true
   },
   "outputs": [],
   "source": [
    "img_width = 100\n",
    "img_height = 100\n",
    "num_classes = 2\n",
    "DATA_DIR = './data/'\n",
    "image_filenames = [DATA_DIR+i for i in os.listdir(DATA_DIR)] # use this for full dataset\n",
    "\n",
    "# Setting the random seed\n",
    "np.random.seed(200)\n",
    "\n",
    "# Split the data in three sets, 80% for training, 10% for validation and 10% for testing\n",
    "# make sure that the image filenames have a fixed order before shuffling\n",
    "# Add your code here"
   ]
  },
  {
   "cell_type": "code",
   "execution_count": 115,
   "metadata": {},
   "outputs": [],
   "source": [
    "import pandas as pd\n",
    "from sklearn import datasets, linear_model\n",
    "from sklearn.model_selection import train_test_split"
   ]
  },
  {
   "cell_type": "markdown",
   "metadata": {},
   "source": [
    "The function ```get_class_from_filename``` takes the file path and returns ***0*** for cats and ***1*** for dogs.\n",
    "\n",
    "The function ```generate_class_arr``` takes the array of filenames and returns an array of class numbers using the function ```get_class_from_filename```.\n",
    "\n",
    "The function ```resize_files``` is used to resize all the image files to **50 x 50**. Over here, the pixel values are **nomalized by dividing by 255** which is the highest value of each pixel colour. Normalization of the pixel values means the new pixel values are between 0 & 1. This enables better training and reduces the dimensionality of the input. Not only this **reduces overfitting** but also allows for faster training process. Less training time is required as the sizes of the convolutional layer is smaller which means fewer operations as there are fewer pixels. Furthermore, as less memory is required for loading up the images, whilst training on the **GPU**, a higher **batch_size** can be used so the overall time taken for training is faster. \n",
    "\n",
    "The function ```load_images``` takes the array of filenames as input and then uses **cv2.imread** from OpenCV to read the data of the files and return a numpy array containing all the images's data. "
   ]
  },
  {
   "cell_type": "code",
   "execution_count": 116,
   "metadata": {},
   "outputs": [],
   "source": [
    "\n",
    "def load_images(filenames):\n",
    "    \n",
    "    files = []\n",
    "    for i in range(len(filenames)):\n",
    "        files.append(cv2.imread(filenames[i]))\n",
    "        \n",
    "    return np.array(resize_files(files))\n",
    "\n",
    "\n",
    "def resize_files(files):\n",
    "    _files = []\n",
    "    for i in range(len(files)):\n",
    "        _resized = np.array(cv2.resize(files[i], (img_width, img_height),interpolation=cv2.INTER_AREA))\n",
    "        _normalized = np.true_divide(_resized, 255)\n",
    "        _files.append(_normalized)\n",
    "        \n",
    "    return _files\n",
    "\n",
    "\n",
    "def get_class_from_filename(filename):\n",
    "    \n",
    "    parts = filename.split(\".\")\n",
    "    size = len(parts)\n",
    "    \n",
    "    _class = parts[size - 3]\n",
    "    _class = _class[-3:]\n",
    "    \n",
    "    return np.array([0, 1] if _class == \"cat\" else [1,0])\n",
    "\n",
    "\n",
    "def generate_class_arr(filenames):\n",
    "    \n",
    "    classes = []\n",
    "    \n",
    "    for i in range(len(filenames)):\n",
    "        classes.append(get_class_from_filename(filenames[i]))\n",
    "    \n",
    "    return np.array(classes)\n",
    "        "
   ]
  },
  {
   "cell_type": "markdown",
   "metadata": {},
   "source": [
    "The target array is generated and is called **y**. It contains the class names which are label encoded ***0*** for cats and ***1*** for dogs."
   ]
  },
  {
   "cell_type": "code",
   "execution_count": 117,
   "metadata": {},
   "outputs": [],
   "source": [
    "y = generate_class_arr(image_filenames)"
   ]
  },
  {
   "cell_type": "markdown",
   "metadata": {},
   "source": [
    "**80%** of the whole dataset which is **4800** images is used for the training set. The rest is used for testing and validation. After the first split has taken place breaking the file names into two sets of 4800 and 1200, the set of 1200 is split into **50%** chunk. So **600** images are used for each of the testing and validation sets. "
   ]
  },
  {
   "cell_type": "code",
   "execution_count": 118,
   "metadata": {},
   "outputs": [],
   "source": [
    "\n",
    "x_train_filenames, x_test_filenames, y_train, y_test = train_test_split(image_filenames, y, test_size=0.2)\n",
    "x_test_filenames, x_val_filenames, y_test, y_val = train_test_split(x_test_filenames, y_test, test_size=0.5)\n"
   ]
  },
  {
   "cell_type": "markdown",
   "metadata": {},
   "source": [
    "After the file names and their respective targets have been split into train, test and validation sets, the ```load_images``` function is used to load up the images with the given file name arrays. "
   ]
  },
  {
   "cell_type": "code",
   "execution_count": 119,
   "metadata": {},
   "outputs": [],
   "source": [
    "\n",
    "x_train = load_images(x_train_filenames)\n",
    "x_test = load_images(x_test_filenames)\n",
    "x_val = load_images(x_val_filenames)\n"
   ]
  },
  {
   "cell_type": "markdown",
   "metadata": {},
   "source": [
    "Just some sanity check to ensure the files and their targets have been loaded up correctly. "
   ]
  },
  {
   "cell_type": "code",
   "execution_count": 120,
   "metadata": {
    "scrolled": true
   },
   "outputs": [
    {
     "name": "stdout",
     "output_type": "stream",
     "text": [
      "4800   4800\n",
      "600   600\n",
      "600   600\n"
     ]
    }
   ],
   "source": [
    "# print(x_train_filenames[:5])\n",
    "# print(y_train[:5])\n",
    "print(len(x_train_filenames), \" \", len(y_train))\n",
    "\n",
    "# print(x_test_filenames[:5])\n",
    "# print(y_test[:5])\n",
    "print(len(x_test_filenames), \" \", len(y_test))\n",
    "\n",
    "# print(x_val_filenames[:5])\n",
    "# print(y_val[:5])\n",
    "print(len(x_val_filenames), \" \", len(y_val))\n"
   ]
  },
  {
   "cell_type": "markdown",
   "metadata": {},
   "source": [
    "Showing the first image of the train, test and the validation sets for sanity check purpose. "
   ]
  },
  {
   "cell_type": "code",
   "execution_count": 121,
   "metadata": {
    "scrolled": true
   },
   "outputs": [
    {
     "name": "stdout",
     "output_type": "stream",
     "text": [
      "Label: [1 0]\n",
      "(100, 100, 3)\n"
     ]
    },
    {
     "data": {
      "image/png": "[encoded data removed]",
      "text/plain": [
       "<matplotlib.figure.Figure at 0x282ae897438>"
      ]
     },
     "metadata": {},
     "output_type": "display_data"
    }
   ],
   "source": [
    "\n",
    "plt.imshow(x_train[0])\n",
    "print(\"Label: {}\".format(y_train[0]))\n",
    "print(x_train[0].shape)\n"
   ]
  },
  {
   "cell_type": "code",
   "execution_count": 122,
   "metadata": {},
   "outputs": [
    {
     "name": "stdout",
     "output_type": "stream",
     "text": [
      "Label: [1 0]\n"
     ]
    },
    {
     "data": {
      "image/png": "[encoded data removed]",
      "text/plain": [
       "<matplotlib.figure.Figure at 0x282ae8a1e48>"
      ]
     },
     "metadata": {},
     "output_type": "display_data"
    }
   ],
   "source": [
    "\n",
    "plt.imshow(x_test[0])\n",
    "print(\"Label: {}\".format(y_test[0]))\n"
   ]
  },
  {
   "cell_type": "code",
   "execution_count": 123,
   "metadata": {
    "scrolled": true
   },
   "outputs": [
    {
     "name": "stdout",
     "output_type": "stream",
     "text": [
      "Label: [1 0]\n"
     ]
    },
    {
     "data": {
      "image/png": "[encoded data removed]",
      "text/plain": [
       "<matplotlib.figure.Figure at 0x2803a49bcc0>"
      ]
     },
     "metadata": {},
     "output_type": "display_data"
    }
   ],
   "source": [
    "\n",
    "plt.imshow(x_val[0])\n",
    "print(\"Label: {}\".format(y_val[0]))\n"
   ]
  },
  {
   "cell_type": "markdown",
   "metadata": {},
   "source": [
    "### Exercise 2\n",
    "Train a Convolutional Neural Network (ConvNet) on the training set. The general structure of the ConvNet will be a stack of alternated Conv2D (with relu activation) and MaxPooling2D layers. A Conv2D layer creates a convolution kernel that is convolved with the layer input to produce a tensor of outputs. A MaxPooling2D layer is used to downscale input in both the vertical and horizontal dimensions."
   ]
  },
  {
   "cell_type": "code",
   "execution_count": 14,
   "metadata": {},
   "outputs": [],
   "source": [
    "from keras.layers import Conv2D, MaxPooling2D, GlobalAveragePooling2D"
   ]
  },
  {
   "cell_type": "markdown",
   "metadata": {},
   "source": [
    "\n",
    "### Simple Architecture\n",
    "\n",
    "For the simple architecture of the CNN, I have chosen 2 Convolutional (Conv) layers with 64 and 128 filters followed by ReLU and max-pooling with stridges of (2,2) followed by 2 Fully-Connected (FC) layers with ReLU and 1 FC layer with softmax giving the probabilities of each class. As opposed to the common architecture of having just 1 neuron on the last layer giving a true / false indication of the class used in many binary classifiers, I have chosen to have 2 neurons with softmax as the activation function. I have also used **softmax** as the activation function instead of **sigmoid** as the probabilities in this way adds up to 1. As Softmax is a more generalised version of Sigmoid, this is perfectly fine. \n",
    "\n",
    "The number of filters in each of the convolutional layer creates coloured matrices which activate when certain coloured pixels are used according to the weights of the filters. The initial layers contain just simple shapes like lines followed by more complex shapes like circles, squares etc. Only the much later / final layers will contain any identifiable, complex shapes like the faces of the cats or dogs. The MaxPooling layers takes the maximum value of the pixels in the (2, 2) grid. This takes only the most significant information in those 2, 2 squares. The advantage of this is diamentionality reduction and helps to reduce space specific features and also helps to reduce over fitting. \n",
    "\n",
    "The use of Conv layers at the start instead of FC layers at the start (unlike the MNIST task from the previous assignment) allows for spatial information to be stored. For example, pixels are adjacent at (3, 5) and (4, 5) locations but when flattened, they will be further away. However, in Conv layers, they stay next to each other and allow for complex patterns to be recognised. \n",
    "\n",
    "After the Conv layers, the activations are flattened from matrix to a vector and fed into 2 FC layers. This acts as any other traditional neural network. This part is used for the actual classification tasks with the input being the Conv layer activations. The final FC layer outputs **logits** which gives a score of the input being of each class. The softmax activation is used to convert them into a probability of each being the given class.\n"
   ]
  },
  {
   "cell_type": "code",
   "execution_count": 15,
   "metadata": {},
   "outputs": [
    {
     "name": "stderr",
     "output_type": "stream",
     "text": [
      "WARNING: Logging before flag parsing goes to stderr.\n",
      "W0924 23:09:45.705692  6456 deprecation_wrapper.py:119] From D:\\Applications\\Python3\\lib\\site-packages\\keras\\backend\\tensorflow_backend.py:74: The name tf.get_default_graph is deprecated. Please use tf.compat.v1.get_default_graph instead.\n",
      "\n",
      "W0924 23:09:46.398023  6456 deprecation_wrapper.py:119] From D:\\Applications\\Python3\\lib\\site-packages\\keras\\backend\\tensorflow_backend.py:517: The name tf.placeholder is deprecated. Please use tf.compat.v1.placeholder instead.\n",
      "\n",
      "W0924 23:09:46.475078  6456 deprecation_wrapper.py:119] From D:\\Applications\\Python3\\lib\\site-packages\\keras\\backend\\tensorflow_backend.py:4138: The name tf.random_uniform is deprecated. Please use tf.random.uniform instead.\n",
      "\n",
      "W0924 23:09:46.646450  6456 deprecation_wrapper.py:119] From D:\\Applications\\Python3\\lib\\site-packages\\keras\\backend\\tensorflow_backend.py:3976: The name tf.nn.max_pool is deprecated. Please use tf.nn.max_pool2d instead.\n",
      "\n"
     ]
    }
   ],
   "source": [
    "# Add your code here\n",
    "\n",
    "\n",
    "input_shape = x_train[1].shape\n",
    "\n",
    "model = Sequential()\n",
    "#add model layers\n",
    "\n",
    "model.add(Conv2D(64, 2,padding='same', input_shape=input_shape))\n",
    "model.add(Activation('relu'))\n",
    "model.add(MaxPooling2D(pool_size=(2,2)))\n",
    "\n",
    "model.add(Conv2D(128, 2, padding='same'))\n",
    "model.add(Activation('relu'))\n",
    "model.add(MaxPooling2D(pool_size=(2,2)))\n",
    "\n",
    "model.add(Flatten())\n",
    "\n",
    "model.add(Dense(256, activation='relu'))\n",
    "model.add(Dense(128, activation='relu'))\n",
    "\n",
    "model.add(Dense(2, activation='softmax'))\n",
    "          "
   ]
  },
  {
   "cell_type": "code",
   "execution_count": 16,
   "metadata": {},
   "outputs": [
    {
     "name": "stdout",
     "output_type": "stream",
     "text": [
      "_________________________________________________________________\n",
      "Layer (type)                 Output Shape              Param #   \n",
      "=================================================================\n",
      "conv2d_1 (Conv2D)            (None, 50, 50, 64)        832       \n",
      "_________________________________________________________________\n",
      "activation_1 (Activation)    (None, 50, 50, 64)        0         \n",
      "_________________________________________________________________\n",
      "max_pooling2d_1 (MaxPooling2 (None, 25, 25, 64)        0         \n",
      "_________________________________________________________________\n",
      "conv2d_2 (Conv2D)            (None, 25, 25, 128)       32896     \n",
      "_________________________________________________________________\n",
      "activation_2 (Activation)    (None, 25, 25, 128)       0         \n",
      "_________________________________________________________________\n",
      "max_pooling2d_2 (MaxPooling2 (None, 12, 12, 128)       0         \n",
      "_________________________________________________________________\n",
      "flatten_1 (Flatten)          (None, 18432)             0         \n",
      "_________________________________________________________________\n",
      "dense_1 (Dense)              (None, 256)               4718848   \n",
      "_________________________________________________________________\n",
      "dense_2 (Dense)              (None, 128)               32896     \n",
      "_________________________________________________________________\n",
      "dense_3 (Dense)              (None, 2)                 258       \n",
      "=================================================================\n",
      "Total params: 4,785,730\n",
      "Trainable params: 4,785,730\n",
      "Non-trainable params: 0\n",
      "_________________________________________________________________\n"
     ]
    }
   ],
   "source": [
    "model.summary()"
   ]
  },
  {
   "cell_type": "code",
   "execution_count": 17,
   "metadata": {},
   "outputs": [],
   "source": [
    "batch_size = 128"
   ]
  },
  {
   "cell_type": "code",
   "execution_count": 18,
   "metadata": {},
   "outputs": [],
   "source": [
    "epochs = 60"
   ]
  },
  {
   "cell_type": "markdown",
   "metadata": {},
   "source": [
    "I have used **RMSProp** as the optimizer as it allows for an adaptive learning rate with the initial value of the learning rate set to a very small amount of just **0.00005**. The loss function I have used is **categorical_crossentropy** instead of **binary_crossentropy** as there are two neurons on the last layer instead of just ones and I'm using probability of each class being the image. "
   ]
  },
  {
   "cell_type": "code",
   "execution_count": 20,
   "metadata": {},
   "outputs": [],
   "source": [
    "optimizer = keras.optimizers.RMSprop(lr=0.00005)\n",
    "model.compile(optimizer=optimizer, loss='categorical_crossentropy', metrics=['accuracy'])\n"
   ]
  },
  {
   "cell_type": "markdown",
   "metadata": {},
   "source": [
    "By using the call backs, I am able to save the best weights (based on the best validation accuracy) in a file called weights.hdf5."
   ]
  },
  {
   "cell_type": "code",
   "execution_count": 21,
   "metadata": {},
   "outputs": [],
   "source": [
    "from keras.callbacks import ModelCheckpoint\n",
    "\n",
    "weights_filepath = \"weights.hdf5\"\n",
    "checkpoint = ModelCheckpoint(weights_filepath, monitor = 'val_acc', verbose = 1, save_best_only = True, mode='max')\n",
    "callbacks_list = [checkpoint]\n"
   ]
  },
  {
   "cell_type": "code",
   "execution_count": 22,
   "metadata": {},
   "outputs": [
    {
     "name": "stderr",
     "output_type": "stream",
     "text": [
      "W0924 23:10:13.135288  6456 deprecation.py:323] From D:\\Applications\\Python3\\lib\\site-packages\\tensorflow\\python\\ops\\math_grad.py:1250: add_dispatch_support.<locals>.wrapper (from tensorflow.python.ops.array_ops) is deprecated and will be removed in a future version.\n",
      "Instructions for updating:\n",
      "Use tf.where in 2.0, which has the same broadcast rule as np.where\n",
      "W0924 23:10:13.208276  6456 deprecation_wrapper.py:119] From D:\\Applications\\Python3\\lib\\site-packages\\keras\\backend\\tensorflow_backend.py:986: The name tf.assign_add is deprecated. Please use tf.compat.v1.assign_add instead.\n",
      "\n"
     ]
    },
    {
     "name": "stdout",
     "output_type": "stream",
     "text": [
      "Train on 4800 samples, validate on 600 samples\n",
      "Epoch 1/60\n",
      "4800/4800 [==============================] - 14s 3ms/step - loss: 0.6901 - acc: 0.5317 - val_loss: 0.6725 - val_acc: 0.6067\n",
      "\n",
      "Epoch 00001: val_acc improved from -inf to 0.60667, saving model to weights.hdf5\n",
      "Epoch 2/60\n",
      "4800/4800 [==============================] - 1s 286us/step - loss: 0.6666 - acc: 0.6025 - val_loss: 0.6558 - val_acc: 0.5983\n",
      "\n",
      "Epoch 00002: val_acc did not improve from 0.60667\n",
      "Epoch 3/60\n",
      "4800/4800 [==============================] - 1s 285us/step - loss: 0.6446 - acc: 0.6392 - val_loss: 0.6227 - val_acc: 0.6817\n",
      "\n",
      "Epoch 00003: val_acc improved from 0.60667 to 0.68167, saving model to weights.hdf5\n",
      "Epoch 4/60\n",
      "4800/4800 [==============================] - 1s 283us/step - loss: 0.6238 - acc: 0.6579 - val_loss: 0.6105 - val_acc: 0.6717\n",
      "\n",
      "Epoch 00004: val_acc did not improve from 0.68167\n",
      "Epoch 5/60\n",
      "4800/4800 [==============================] - 1s 284us/step - loss: 0.6121 - acc: 0.6690 - val_loss: 0.6324 - val_acc: 0.6067\n",
      "\n",
      "Epoch 00005: val_acc did not improve from 0.68167\n",
      "Epoch 6/60\n",
      "4800/4800 [==============================] - 1s 285us/step - loss: 0.6016 - acc: 0.6823 - val_loss: 0.6075 - val_acc: 0.6717\n",
      "\n",
      "Epoch 00006: val_acc did not improve from 0.68167\n",
      "Epoch 7/60\n",
      "4800/4800 [==============================] - 1s 289us/step - loss: 0.5860 - acc: 0.6950 - val_loss: 0.5859 - val_acc: 0.6933\n",
      "\n",
      "Epoch 00007: val_acc improved from 0.68167 to 0.69333, saving model to weights.hdf5\n",
      "Epoch 8/60\n",
      "4800/4800 [==============================] - 1s 285us/step - loss: 0.5767 - acc: 0.7146 - val_loss: 0.5857 - val_acc: 0.6967\n",
      "\n",
      "Epoch 00008: val_acc improved from 0.69333 to 0.69667, saving model to weights.hdf5\n",
      "Epoch 9/60\n",
      "4800/4800 [==============================] - 1s 289us/step - loss: 0.5676 - acc: 0.7094 - val_loss: 0.6345 - val_acc: 0.6250\n",
      "\n",
      "Epoch 00009: val_acc did not improve from 0.69667\n",
      "Epoch 10/60\n",
      "4800/4800 [==============================] - 1s 283us/step - loss: 0.5624 - acc: 0.7117 - val_loss: 0.5678 - val_acc: 0.7100\n",
      "\n",
      "Epoch 00010: val_acc improved from 0.69667 to 0.71000, saving model to weights.hdf5\n",
      "Epoch 11/60\n",
      "4800/4800 [==============================] - 1s 284us/step - loss: 0.5548 - acc: 0.7208 - val_loss: 0.5666 - val_acc: 0.7167\n",
      "\n",
      "Epoch 00011: val_acc improved from 0.71000 to 0.71667, saving model to weights.hdf5\n",
      "Epoch 12/60\n",
      "4800/4800 [==============================] - 1s 285us/step - loss: 0.5443 - acc: 0.7323 - val_loss: 0.5911 - val_acc: 0.6800\n",
      "\n",
      "Epoch 00012: val_acc did not improve from 0.71667\n",
      "Epoch 13/60\n",
      "4800/4800 [==============================] - 1s 285us/step - loss: 0.5388 - acc: 0.7333 - val_loss: 0.5771 - val_acc: 0.6950\n",
      "\n",
      "Epoch 00013: val_acc did not improve from 0.71667\n",
      "Epoch 14/60\n",
      "4800/4800 [==============================] - 1s 285us/step - loss: 0.5369 - acc: 0.7298 - val_loss: 0.5527 - val_acc: 0.7050\n",
      "\n",
      "Epoch 00014: val_acc did not improve from 0.71667\n",
      "Epoch 15/60\n",
      "4800/4800 [==============================] - 1s 283us/step - loss: 0.5260 - acc: 0.7367 - val_loss: 0.6102 - val_acc: 0.6633\n",
      "\n",
      "Epoch 00015: val_acc did not improve from 0.71667\n",
      "Epoch 16/60\n",
      "4800/4800 [==============================] - 1s 286us/step - loss: 0.5111 - acc: 0.7521 - val_loss: 0.5540 - val_acc: 0.7200\n",
      "\n",
      "Epoch 00016: val_acc improved from 0.71667 to 0.72000, saving model to weights.hdf5\n",
      "Epoch 17/60\n",
      "4800/4800 [==============================] - 1s 287us/step - loss: 0.5106 - acc: 0.7458 - val_loss: 0.5597 - val_acc: 0.7200\n",
      "\n",
      "Epoch 00017: val_acc did not improve from 0.72000\n",
      "Epoch 18/60\n",
      "4800/4800 [==============================] - 1s 286us/step - loss: 0.5010 - acc: 0.7590 - val_loss: 0.5784 - val_acc: 0.6917\n",
      "\n",
      "Epoch 00018: val_acc did not improve from 0.72000\n",
      "Epoch 19/60\n",
      "4800/4800 [==============================] - 1s 283us/step - loss: 0.4965 - acc: 0.7615 - val_loss: 0.5462 - val_acc: 0.7183\n",
      "\n",
      "Epoch 00019: val_acc did not improve from 0.72000\n",
      "Epoch 20/60\n",
      "4800/4800 [==============================] - 1s 286us/step - loss: 0.4890 - acc: 0.7617 - val_loss: 0.5466 - val_acc: 0.7367\n",
      "\n",
      "Epoch 00020: val_acc improved from 0.72000 to 0.73667, saving model to weights.hdf5\n",
      "Epoch 21/60\n",
      "4800/4800 [==============================] - 1s 285us/step - loss: 0.4891 - acc: 0.7621 - val_loss: 0.5323 - val_acc: 0.7317\n",
      "\n",
      "Epoch 00021: val_acc did not improve from 0.73667\n",
      "Epoch 22/60\n",
      "4800/4800 [==============================] - 1s 291us/step - loss: 0.4743 - acc: 0.7731 - val_loss: 0.5484 - val_acc: 0.7233\n",
      "\n",
      "Epoch 00022: val_acc did not improve from 0.73667\n",
      "Epoch 23/60\n",
      "4800/4800 [==============================] - 1s 282us/step - loss: 0.4723 - acc: 0.7729 - val_loss: 0.5366 - val_acc: 0.7333\n",
      "\n",
      "Epoch 00023: val_acc did not improve from 0.73667\n",
      "Epoch 24/60\n",
      "4800/4800 [==============================] - 1s 286us/step - loss: 0.4677 - acc: 0.7788 - val_loss: 0.5319 - val_acc: 0.7450\n",
      "\n",
      "Epoch 00024: val_acc improved from 0.73667 to 0.74500, saving model to weights.hdf5\n",
      "Epoch 25/60\n",
      "4800/4800 [==============================] - 1s 285us/step - loss: 0.4566 - acc: 0.7808 - val_loss: 0.5334 - val_acc: 0.7333\n",
      "\n",
      "Epoch 00025: val_acc did not improve from 0.74500\n",
      "Epoch 26/60\n",
      "4800/4800 [==============================] - 1s 282us/step - loss: 0.4588 - acc: 0.7867 - val_loss: 0.5416 - val_acc: 0.7383\n",
      "\n",
      "Epoch 00026: val_acc did not improve from 0.74500\n",
      "Epoch 27/60\n",
      "4800/4800 [==============================] - 1s 291us/step - loss: 0.4487 - acc: 0.7938 - val_loss: 0.5220 - val_acc: 0.7250\n",
      "\n",
      "Epoch 00027: val_acc did not improve from 0.74500\n",
      "Epoch 28/60\n",
      "4800/4800 [==============================] - 1s 283us/step - loss: 0.4421 - acc: 0.7971 - val_loss: 0.5943 - val_acc: 0.6933\n",
      "\n",
      "Epoch 00028: val_acc did not improve from 0.74500\n",
      "Epoch 29/60\n",
      "4800/4800 [==============================] - 1s 282us/step - loss: 0.4319 - acc: 0.8010 - val_loss: 0.5479 - val_acc: 0.7150\n",
      "\n",
      "Epoch 00029: val_acc did not improve from 0.74500\n",
      "Epoch 30/60\n",
      "4800/4800 [==============================] - 1s 285us/step - loss: 0.4321 - acc: 0.8002 - val_loss: 0.5542 - val_acc: 0.7333\n",
      "\n",
      "Epoch 00030: val_acc did not improve from 0.74500\n",
      "Epoch 31/60\n",
      "4800/4800 [==============================] - 1s 283us/step - loss: 0.4222 - acc: 0.8073 - val_loss: 0.5195 - val_acc: 0.7450\n",
      "\n",
      "Epoch 00031: val_acc did not improve from 0.74500\n",
      "Epoch 32/60\n",
      "4800/4800 [==============================] - 1s 287us/step - loss: 0.4192 - acc: 0.8110 - val_loss: 0.5222 - val_acc: 0.7400\n",
      "\n",
      "Epoch 00032: val_acc did not improve from 0.74500\n",
      "Epoch 33/60\n",
      "4800/4800 [==============================] - 1s 282us/step - loss: 0.4070 - acc: 0.8231 - val_loss: 0.6078 - val_acc: 0.6850\n",
      "\n",
      "Epoch 00033: val_acc did not improve from 0.74500\n",
      "Epoch 34/60\n",
      "4800/4800 [==============================] - 1s 284us/step - loss: 0.4090 - acc: 0.8192 - val_loss: 0.5171 - val_acc: 0.7483\n",
      "\n",
      "Epoch 00034: val_acc improved from 0.74500 to 0.74833, saving model to weights.hdf5\n",
      "Epoch 35/60\n",
      "4800/4800 [==============================] - 1s 284us/step - loss: 0.4012 - acc: 0.8196 - val_loss: 0.5237 - val_acc: 0.7367\n",
      "\n",
      "Epoch 00035: val_acc did not improve from 0.74833\n",
      "Epoch 36/60\n",
      "4800/4800 [==============================] - 1s 287us/step - loss: 0.3924 - acc: 0.8283 - val_loss: 0.5461 - val_acc: 0.7500\n",
      "\n",
      "Epoch 00036: val_acc improved from 0.74833 to 0.75000, saving model to weights.hdf5\n",
      "Epoch 37/60\n",
      "4800/4800 [==============================] - 1s 289us/step - loss: 0.3858 - acc: 0.8325 - val_loss: 0.5107 - val_acc: 0.7400\n",
      "\n",
      "Epoch 00037: val_acc did not improve from 0.75000\n",
      "Epoch 38/60\n",
      "4800/4800 [==============================] - 1s 286us/step - loss: 0.3764 - acc: 0.8385 - val_loss: 0.6704 - val_acc: 0.6833\n",
      "\n",
      "Epoch 00038: val_acc did not improve from 0.75000\n",
      "Epoch 39/60\n",
      "4800/4800 [==============================] - 1s 287us/step - loss: 0.3761 - acc: 0.8337 - val_loss: 0.5084 - val_acc: 0.7517\n",
      "\n",
      "Epoch 00039: val_acc improved from 0.75000 to 0.75167, saving model to weights.hdf5\n",
      "Epoch 40/60\n",
      "4800/4800 [==============================] - 1s 284us/step - loss: 0.3728 - acc: 0.8340 - val_loss: 0.5080 - val_acc: 0.7483\n",
      "\n",
      "Epoch 00040: val_acc did not improve from 0.75167\n",
      "Epoch 41/60\n",
      "4800/4800 [==============================] - 1s 287us/step - loss: 0.3630 - acc: 0.8450 - val_loss: 0.5309 - val_acc: 0.7567\n",
      "\n",
      "Epoch 00041: val_acc improved from 0.75167 to 0.75667, saving model to weights.hdf5\n",
      "Epoch 42/60\n"
     ]
    },
    {
     "name": "stdout",
     "output_type": "stream",
     "text": [
      "4800/4800 [==============================] - 1s 283us/step - loss: 0.3589 - acc: 0.8438 - val_loss: 0.5295 - val_acc: 0.7533\n",
      "\n",
      "Epoch 00042: val_acc did not improve from 0.75667\n",
      "Epoch 43/60\n",
      "4800/4800 [==============================] - 1s 281us/step - loss: 0.3542 - acc: 0.8500 - val_loss: 0.6899 - val_acc: 0.6650\n",
      "\n",
      "Epoch 00043: val_acc did not improve from 0.75667\n",
      "Epoch 44/60\n",
      "4800/4800 [==============================] - 1s 280us/step - loss: 0.3445 - acc: 0.8600 - val_loss: 0.5680 - val_acc: 0.7267\n",
      "\n",
      "Epoch 00044: val_acc did not improve from 0.75667\n",
      "Epoch 45/60\n",
      "4800/4800 [==============================] - 1s 281us/step - loss: 0.3367 - acc: 0.8623 - val_loss: 0.5322 - val_acc: 0.7433\n",
      "\n",
      "Epoch 00045: val_acc did not improve from 0.75667\n",
      "Epoch 46/60\n",
      "4800/4800 [==============================] - 1s 280us/step - loss: 0.3346 - acc: 0.8596 - val_loss: 0.5288 - val_acc: 0.7500\n",
      "\n",
      "Epoch 00046: val_acc did not improve from 0.75667\n",
      "Epoch 47/60\n",
      "4800/4800 [==============================] - 1s 284us/step - loss: 0.3329 - acc: 0.8600 - val_loss: 0.5075 - val_acc: 0.7533\n",
      "\n",
      "Epoch 00047: val_acc did not improve from 0.75667\n",
      "Epoch 48/60\n",
      "4800/4800 [==============================] - 1s 282us/step - loss: 0.3278 - acc: 0.8660 - val_loss: 0.5305 - val_acc: 0.7583\n",
      "\n",
      "Epoch 00048: val_acc improved from 0.75667 to 0.75833, saving model to weights.hdf5\n",
      "Epoch 49/60\n",
      "4800/4800 [==============================] - 1s 282us/step - loss: 0.3153 - acc: 0.8729 - val_loss: 0.5383 - val_acc: 0.7517\n",
      "\n",
      "Epoch 00049: val_acc did not improve from 0.75833\n",
      "Epoch 50/60\n",
      "4800/4800 [==============================] - 1s 281us/step - loss: 0.3078 - acc: 0.8771 - val_loss: 0.5071 - val_acc: 0.7533\n",
      "\n",
      "Epoch 00050: val_acc did not improve from 0.75833\n",
      "Epoch 51/60\n",
      "4800/4800 [==============================] - 1s 282us/step - loss: 0.3049 - acc: 0.8767 - val_loss: 0.5571 - val_acc: 0.7483\n",
      "\n",
      "Epoch 00051: val_acc did not improve from 0.75833\n",
      "Epoch 52/60\n",
      "4800/4800 [==============================] - 1s 282us/step - loss: 0.2986 - acc: 0.8833 - val_loss: 0.5216 - val_acc: 0.7600\n",
      "\n",
      "Epoch 00052: val_acc improved from 0.75833 to 0.76000, saving model to weights.hdf5\n",
      "Epoch 53/60\n",
      "4800/4800 [==============================] - 1s 282us/step - loss: 0.2918 - acc: 0.8840 - val_loss: 0.5177 - val_acc: 0.7600\n",
      "\n",
      "Epoch 00053: val_acc improved from 0.76000 to 0.76000, saving model to weights.hdf5\n",
      "Epoch 54/60\n",
      "4800/4800 [==============================] - 1s 281us/step - loss: 0.2892 - acc: 0.8856 - val_loss: 0.5378 - val_acc: 0.7617\n",
      "\n",
      "Epoch 00054: val_acc improved from 0.76000 to 0.76167, saving model to weights.hdf5\n",
      "Epoch 55/60\n",
      "4800/4800 [==============================] - 1s 281us/step - loss: 0.2816 - acc: 0.8873 - val_loss: 0.5297 - val_acc: 0.7583\n",
      "\n",
      "Epoch 00055: val_acc did not improve from 0.76167\n",
      "Epoch 56/60\n",
      "4800/4800 [==============================] - 1s 282us/step - loss: 0.2776 - acc: 0.8958 - val_loss: 0.5612 - val_acc: 0.7467\n",
      "\n",
      "Epoch 00056: val_acc did not improve from 0.76167\n",
      "Epoch 57/60\n",
      "4800/4800 [==============================] - 1s 284us/step - loss: 0.2674 - acc: 0.8981 - val_loss: 0.5186 - val_acc: 0.7667\n",
      "\n",
      "Epoch 00057: val_acc improved from 0.76167 to 0.76667, saving model to weights.hdf5\n",
      "Epoch 58/60\n",
      "4800/4800 [==============================] - 1s 282us/step - loss: 0.2665 - acc: 0.9010 - val_loss: 0.5216 - val_acc: 0.7683\n",
      "\n",
      "Epoch 00058: val_acc improved from 0.76667 to 0.76833, saving model to weights.hdf5\n",
      "Epoch 59/60\n",
      "4800/4800 [==============================] - 1s 281us/step - loss: 0.2605 - acc: 0.8994 - val_loss: 0.5446 - val_acc: 0.7550\n",
      "\n",
      "Epoch 00059: val_acc did not improve from 0.76833\n",
      "Epoch 60/60\n",
      "4800/4800 [==============================] - 1s 283us/step - loss: 0.2465 - acc: 0.9085 - val_loss: 0.5490 - val_acc: 0.7483\n",
      "\n",
      "Epoch 00060: val_acc did not improve from 0.76833\n"
     ]
    }
   ],
   "source": [
    "\n",
    "history = model.fit(x_train, y_train, batch_size=batch_size, epochs=epochs,validation_data=(x_val, y_val), callbacks=callbacks_list, verbose=1)\n"
   ]
  },
  {
   "cell_type": "code",
   "execution_count": 23,
   "metadata": {},
   "outputs": [
    {
     "name": "stdout",
     "output_type": "stream",
     "text": [
      "600/600 [==============================] - 0s 235us/step\n",
      "Test loss: 0.5836296113332112\n",
      "Test accuracy: 0.7366666674613953\n"
     ]
    }
   ],
   "source": [
    "\n",
    "score = model.evaluate(x_test, y_test, verbose=1)\n",
    "print('Test loss:', score[0])\n",
    "print('Test accuracy:', score[1])\n"
   ]
  },
  {
   "cell_type": "markdown",
   "metadata": {},
   "source": [
    "### Results\n",
    "\n",
    "During the training process, the best validation accuracy was **0.75** with the best validation loss of **0.5304** but whilst evaluation on the test test, it dropped to **0.683** for the test accuracy and the **0.71** for the test loss. As the training loss was significantly lower at **0.25** and training accuracy at **0.91**, this shows signs of overfitting on the data. As the number of training images is very small, it's very likely that it's overfitting. \n"
   ]
  },
  {
   "cell_type": "code",
   "execution_count": 24,
   "metadata": {},
   "outputs": [],
   "source": [
    "\n",
    "model_predictions = model.predict(x_val)\n"
   ]
  },
  {
   "cell_type": "markdown",
   "metadata": {},
   "source": [
    "### Exercise 3\n",
    "\n",
    "Output the training/validation loss and accuracy curves. Also print the classification results (e.g., classification accuracy, confusion matrix, precision-recall curves and/or ROC curves) on the test set.\n",
    "\n",
    "\n",
    "#### Classification report\n",
    "\n",
    "There is some overfitting here."
   ]
  },
  {
   "cell_type": "code",
   "execution_count": 25,
   "metadata": {},
   "outputs": [
    {
     "name": "stdout",
     "output_type": "stream",
     "text": [
      "Classification report for the simple CNN:\n",
      "             precision    recall  f1-score   support\n",
      "\n",
      "          0       0.81      0.65      0.72       303\n",
      "          1       0.71      0.85      0.77       297\n",
      "\n",
      "avg / total       0.76      0.75      0.75       600\n",
      "\n"
     ]
    }
   ],
   "source": [
    "from sklearn.metrics import classification_report, confusion_matrix, precision_recall_curve, roc_curve, auc\n",
    "from sklearn.preprocessing import label_binarize\n",
    "\n",
    "# Add your code here\n",
    "print(\"Classification report for the simple CNN:\")\n",
    "print(classification_report(y_val.argmax(axis=1), model_predictions.argmax(axis=1)))\n"
   ]
  },
  {
   "cell_type": "markdown",
   "metadata": {},
   "source": [
    "#### Confusion matrix"
   ]
  },
  {
   "cell_type": "code",
   "execution_count": 26,
   "metadata": {},
   "outputs": [
    {
     "name": "stdout",
     "output_type": "stream",
     "text": [
      "Confusion matrix for the simple CNN:\n",
      "[[198 105]\n",
      " [ 46 251]]\n"
     ]
    }
   ],
   "source": [
    "\n",
    "print(\"Confusion matrix for the simple CNN:\")\n",
    "print(confusion_matrix(y_val.argmax(axis=1),  model_predictions.argmax(axis=1)))\n"
   ]
  },
  {
   "cell_type": "code",
   "execution_count": 27,
   "metadata": {},
   "outputs": [],
   "source": [
    "from sklearn.metrics import precision_recall_curve\n",
    "from sklearn.utils.fixes import signature\n",
    "from sklearn.metrics import average_precision_score\n",
    "\n",
    "def plot_precision_recall_curve(labels, predictions, classifier_name=None):\n",
    "    \n",
    "    title = \"Precision-Recall curve\"\n",
    "    if classifier_name is not None:\n",
    "        title = \"Precision-Recall curve for {} predictions\".format(classifier_name)\n",
    "        \n",
    "    precision, recall, thresholds = precision_recall_curve(labels, predictions)\n",
    "    \n",
    "    average_precision = average_precision_score(labels, predictions)\n",
    "\n",
    "    # In matplotlib < 1.5, plt.fill_between does not have a 'step' argument\n",
    "    step_kwargs = ({'step': 'post'}\n",
    "                   if 'step' in signature(plt.fill_between).parameters\n",
    "                   else {})\n",
    "    \n",
    "    fig = plt.figure()\n",
    "    fig.set_figwidth(10)\n",
    "    fig.suptitle('Precision-Recall curve for {0}: AP={1:0.2f}'.format(classifier_name, average_precision))\n",
    "    \n",
    "    plot = plt.subplot(1, 2, 2)\n",
    "    \n",
    "    plot.step(recall, precision, color='b', alpha=0.2, where='post')\n",
    "    \n",
    "    plot.fill_between(recall, precision, alpha=0.2, color='b', **step_kwargs)\n",
    "\n",
    "    plot.set_xlabel('Recall')\n",
    "    plot.set_ylabel('Precision')\n",
    "    plot.set_ylim([0.0, 1.05])\n",
    "    plot.set_xlim([0.0, 1.0])\n",
    "       \n",
    "    return plot\n",
    "\n",
    "\n",
    "def plot_train_val_acc_curve(_hist):\n",
    "    \n",
    "    plt.plot(_hist.history['acc'])\n",
    "    plt.plot(_hist.history['val_acc'])\n",
    "    plt.title('model accuracy')\n",
    "    plt.ylabel('accuracy')\n",
    "    plt.xlabel('epoch')\n",
    "    plt.legend(['train', 'test'], loc='upper left')\n",
    "    \n",
    "    return plt.show()\n",
    "\n",
    "\n",
    "def plot_train_val_loss_curve(_hist):\n",
    "    \n",
    "    plt.plot(history.history['loss'])\n",
    "    plt.plot(history.history['val_loss'])\n",
    "    plt.title('model loss')\n",
    "    plt.ylabel('loss')\n",
    "    plt.xlabel('epoch')\n",
    "    plt.legend(['train', 'test'], loc='upper left')\n",
    "    \n",
    "    return plt.show()\n",
    "\n",
    "\n",
    "def plot_roc_curve(_y, _y_hat):\n",
    "    \n",
    "    fpr, tpr, thresholds = roc_curve(_y.argmax(axis=1).ravel(), first_arg(_y_hat))\n",
    "    auc_simple = auc(fpr, tpr)\n",
    "    plt.plot(fpr, tpr, label='Keras (area = {:.3f})'.format(auc_simple))\n",
    "    plt.xlabel('False positive rate')\n",
    "    plt.ylabel('True positive rate')\n",
    "    plt.title('ROC curve')\n",
    "    plt.legend(loc='best')\n",
    "    \n",
    "    return plt.show()\n",
    "    \n",
    "\n",
    "def first_arg(arr):\n",
    "    \n",
    "    _arr = []\n",
    "    \n",
    "    for i in range(len(arr)):\n",
    "        _arr.append(arr[i][1])\n",
    "    \n",
    "    return _arr\n"
   ]
  },
  {
   "cell_type": "markdown",
   "metadata": {},
   "source": [
    "#### Model accuracy\n",
    "\n",
    "The graph shows the train accuracy constantly improving but test accuracy improves rapidly at the start and then increases slowly over time with quite big jumps. This probably shows that the accuracy could be improved by further training as the average is still clearly evidently going up. However, the big jumps on the testing accuracy shows that the learning rate used might be too big. It would be benefetial here to reduce the learning rate further to stop jumping too much during the gradient descent process and train it for a higher number of epochs. "
   ]
  },
  {
   "cell_type": "code",
   "execution_count": 28,
   "metadata": {},
   "outputs": [
    {
     "data": {
      "image/png": "[encoded data removed]",
      "text/plain": [
       "<matplotlib.figure.Figure at 0x2807381a8d0>"
      ]
     },
     "metadata": {},
     "output_type": "display_data"
    }
   ],
   "source": [
    "\n",
    "plot_train_val_acc_curve(history)\n"
   ]
  },
  {
   "cell_type": "markdown",
   "metadata": {},
   "source": [
    "#### Model loss\n",
    "\n",
    "The training loss decreases linearly but the test loss decreases but has significant spikes which are at the same time as the accuracy dropping. This might be because the LR used is too high. So a fix for this would be to reduce the LR and train for a higher number of epochs. "
   ]
  },
  {
   "cell_type": "code",
   "execution_count": 29,
   "metadata": {},
   "outputs": [
    {
     "data": {
      "image/png": "[encoded data removed]",
      "text/plain": [
       "<matplotlib.figure.Figure at 0x28073823908>"
      ]
     },
     "metadata": {},
     "output_type": "display_data"
    }
   ],
   "source": [
    "\n",
    "plot_train_val_loss_curve(history)\n"
   ]
  },
  {
   "cell_type": "markdown",
   "metadata": {},
   "source": [
    "#### ROC and AUC\n",
    "\n",
    "The ROC shows the trade off between TPR and FPR in a predictive model using probability thresholds. Over here, the Area Under Curve of 1 shows the best possible scenarios. AUC of 0.5 shows random guessing. Over here, it's 0.844 which quite good for such a simple model."
   ]
  },
  {
   "cell_type": "code",
   "execution_count": 30,
   "metadata": {},
   "outputs": [
    {
     "data": {
      "image/png": "[encoded data removed]",
      "text/plain": [
       "<matplotlib.figure.Figure at 0x280c755ce48>"
      ]
     },
     "metadata": {},
     "output_type": "display_data"
    }
   ],
   "source": [
    "\n",
    "plot_roc_curve(y_val,  model_predictions)\n"
   ]
  },
  {
   "cell_type": "markdown",
   "metadata": {},
   "source": [
    "#### Precision Recall Curve\n",
    "\n",
    "The Precision-Recall curve shows the relationship between the True Positive Rate and the actual positive values. Over here, the average precision (AP) has a value of 0.84 which is quite good."
   ]
  },
  {
   "cell_type": "code",
   "execution_count": 31,
   "metadata": {},
   "outputs": [
    {
     "name": "stdout",
     "output_type": "stream",
     "text": [
      "Axes(0.547727,0.125;0.352273x0.755)\n"
     ]
    },
    {
     "data": {
      "image/png": "[encoded data removed]",
      "text/plain": [
       "<matplotlib.figure.Figure at 0x280c75f5908>"
      ]
     },
     "metadata": {},
     "output_type": "display_data"
    }
   ],
   "source": [
    "\n",
    "print(plot_precision_recall_curve(first_arg(y_val), first_arg(model_predictions), \"Keras Simple CNN\"))\n"
   ]
  },
  {
   "cell_type": "markdown",
   "metadata": {},
   "source": [
    "### Exercise 4\n",
    "\n",
    "Explore different network architectures (e.g., stacking 4 Conv2D+MaxPooling2D layers) and various ways in tuning the model parameters to see if you can improve the model performance on the validation set.\n",
    "\n",
    "#### Architecture of complex model\n",
    "\n",
    "Over here, I have stacked 4 Conv Filters with (Conv + BatchNorm + ReLU + MaxPooling + Dropout) with filters doubling at each layer starting from 128, 256, 512 anad 1024. The padding used is **same** which means where the **kernel** goes too far out, instead of skipping those pixels as is the case with **valid**, 0's or empty pixel values are added means the pixels which are indeed coloured or has information will be used when the padding is set to same. \n",
    "\n",
    "BatchNormalization allows for faster learning of each layer, independent of other layers by normalizing the input to the next layer. \n",
    "\n",
    "Dropout turns off neurons with the probability of 0.2. This is a normalization technique like BatchNorm and takes inspiration from the reproductive system of animals. \n",
    "\n",
    "After Flattening out the output from the Conv layers, I have used one FC layer with 1024 neurons with the final FC layer having just two neurons. The reasons for this are given in the simple CNN's explation. "
   ]
  },
  {
   "cell_type": "code",
   "execution_count": 147,
   "metadata": {},
   "outputs": [],
   "source": [
    "\n",
    "FE_ACTIVATION = 'relu'\n",
    "\n",
    "def feature_extractor(_input):\n",
    "      \n",
    "    conv1 = Conv2D(96, 11, padding='same')(_input)\n",
    "    bn1 = BatchNormalization()(conv1)\n",
    "    act1 = Activation(FE_ACTIVATION)(bn1)\n",
    "    mp1 = MaxPooling2D(pool_size=(3,3))(act1)\n",
    "    # Will be used for fusion layer\n",
    "    conv1a = Conv2D(256, 4, strides=15, padding='same', name=\"Fusion_Conv1A\")(mp1)\n",
    "    \n",
    "    conv2 = Conv2D(256, 5, padding='same')(mp1)\n",
    "    bn2 = BatchNormalization()(conv2)\n",
    "    act2 = Activation(FE_ACTIVATION)(bn2)\n",
    "    mp2 = MaxPooling2D(pool_size=(3,3))(act2)\n",
    "    \n",
    "    conv3 = Conv2D(384, 3, padding='same')(mp2)\n",
    "    bn3 = BatchNormalization()(conv3)\n",
    "    act3 = Activation(FE_ACTIVATION)(bn3)\n",
    "    # Will be used for fusion layer\n",
    "    conv3a = Conv2D(256, 2, strides=4, padding='valid', name=\"Fusion_Conv3A\")(act3)\n",
    "    \n",
    "    conv4 = Conv2D(384, 3, padding='same')(act3)\n",
    "    bn4 = BatchNormalization()(conv4)\n",
    "    act4 = Activation(FE_ACTIVATION)(bn4)\n",
    "    \n",
    "    conv5 = Conv2D(256, 3, padding='same')(act4)\n",
    "    bn5 = BatchNormalization()(conv5)\n",
    "    act5 = Activation(FE_ACTIVATION)(bn5)\n",
    "    \n",
    "    ap1 = AveragePooling2D(pool_size=(3, 3))(act5)\n",
    "    \n",
    "    # Conv layer fusion\n",
    "    concat = Concatenate(axis=-1)([conv1a, conv3a, ap1])\n",
    "    conv_all = Conv2D(192, 1, padding='same', name=\"Conv_ALL\")(concat)\n",
    "    \n",
    "    flat1 = Flatten(name=\"features_out\")(conv_all)\n",
    "    \n",
    "    return flat1\n",
    "\n",
    "\n",
    "def shared_fc_layer(_input):\n",
    "    \n",
    "    fc1 = Dense(3072, name='shared_fc_layer')(_input)\n",
    "    fc1_act1 = Activation(FE_ACTIVATION)(fc1)\n",
    "    \n",
    "    return fc1_act1\n",
    "\n",
    "\n",
    "# Only have is_male or not\n",
    "NUMBER_OF_CLASSES = 2\n",
    "def gender_classifier(_input):\n",
    "            \n",
    "    fc1 = Dense(512, name=\"cat_dog_classifier\")(_input)\n",
    "    fc1_act1 = Activation(FE_ACTIVATION)(fc1)\n",
    "        \n",
    "    fc_out = Dense(NUMBER_OF_CLASSES, activation='softmax', name=\"cat_dog_out\")(fc1_act1)\n",
    "    \n",
    "    return fc_out\n",
    "\n",
    "\n",
    "def build(_x_train):\n",
    "    \n",
    "    input_shape = _x_train[0].shape\n",
    "    inputs = Input(shape = input_shape, name='data_in')\n",
    "    \n",
    "    features_out = feature_extractor(inputs)\n",
    "    \n",
    "    shared_fc = shared_fc_layer(features_out)\n",
    "\n",
    "    final_out = gender_classifier(shared_fc)\n",
    "    \n",
    "    return keras.models.Model(inputs=inputs, outputs=[final_out])"
   ]
  },
  {
   "cell_type": "code",
   "execution_count": 148,
   "metadata": {},
   "outputs": [],
   "source": [
    "model_complex = build(x_train)"
   ]
  },
  {
   "cell_type": "code",
   "execution_count": 149,
   "metadata": {},
   "outputs": [
    {
     "name": "stdout",
     "output_type": "stream",
     "text": [
      "__________________________________________________________________________________________________\n",
      "Layer (type)                    Output Shape         Param #     Connected to                     \n",
      "==================================================================================================\n",
      "data_in (InputLayer)            (None, 100, 100, 3)  0                                            \n",
      "__________________________________________________________________________________________________\n",
      "conv2d_67 (Conv2D)              (None, 100, 100, 96) 34944       data_in[0][0]                    \n",
      "__________________________________________________________________________________________________\n",
      "batch_normalization_66 (BatchNo (None, 100, 100, 96) 384         conv2d_67[0][0]                  \n",
      "__________________________________________________________________________________________________\n",
      "activation_71 (Activation)      (None, 100, 100, 96) 0           batch_normalization_66[0][0]     \n",
      "__________________________________________________________________________________________________\n",
      "max_pooling2d_31 (MaxPooling2D) (None, 33, 33, 96)   0           activation_71[0][0]              \n",
      "__________________________________________________________________________________________________\n",
      "conv2d_68 (Conv2D)              (None, 33, 33, 256)  614656      max_pooling2d_31[0][0]           \n",
      "__________________________________________________________________________________________________\n",
      "batch_normalization_67 (BatchNo (None, 33, 33, 256)  1024        conv2d_68[0][0]                  \n",
      "__________________________________________________________________________________________________\n",
      "activation_72 (Activation)      (None, 33, 33, 256)  0           batch_normalization_67[0][0]     \n",
      "__________________________________________________________________________________________________\n",
      "max_pooling2d_32 (MaxPooling2D) (None, 11, 11, 256)  0           activation_72[0][0]              \n",
      "__________________________________________________________________________________________________\n",
      "conv2d_69 (Conv2D)              (None, 11, 11, 384)  885120      max_pooling2d_32[0][0]           \n",
      "__________________________________________________________________________________________________\n",
      "batch_normalization_68 (BatchNo (None, 11, 11, 384)  1536        conv2d_69[0][0]                  \n",
      "__________________________________________________________________________________________________\n",
      "activation_73 (Activation)      (None, 11, 11, 384)  0           batch_normalization_68[0][0]     \n",
      "__________________________________________________________________________________________________\n",
      "conv2d_70 (Conv2D)              (None, 11, 11, 384)  1327488     activation_73[0][0]              \n",
      "__________________________________________________________________________________________________\n",
      "batch_normalization_69 (BatchNo (None, 11, 11, 384)  1536        conv2d_70[0][0]                  \n",
      "__________________________________________________________________________________________________\n",
      "activation_74 (Activation)      (None, 11, 11, 384)  0           batch_normalization_69[0][0]     \n",
      "__________________________________________________________________________________________________\n",
      "conv2d_71 (Conv2D)              (None, 11, 11, 256)  884992      activation_74[0][0]              \n",
      "__________________________________________________________________________________________________\n",
      "batch_normalization_70 (BatchNo (None, 11, 11, 256)  1024        conv2d_71[0][0]                  \n",
      "__________________________________________________________________________________________________\n",
      "activation_75 (Activation)      (None, 11, 11, 256)  0           batch_normalization_70[0][0]     \n",
      "__________________________________________________________________________________________________\n",
      "Fusion_Conv1A (Conv2D)          (None, 3, 3, 256)    393472      max_pooling2d_31[0][0]           \n",
      "__________________________________________________________________________________________________\n",
      "Fusion_Conv3A (Conv2D)          (None, 3, 3, 256)    393472      activation_73[0][0]              \n",
      "__________________________________________________________________________________________________\n",
      "average_pooling2d_12 (AveragePo (None, 3, 3, 256)    0           activation_75[0][0]              \n",
      "__________________________________________________________________________________________________\n",
      "concatenate_11 (Concatenate)    (None, 3, 3, 768)    0           Fusion_Conv1A[0][0]              \n",
      "                                                                 Fusion_Conv3A[0][0]              \n",
      "                                                                 average_pooling2d_12[0][0]       \n",
      "__________________________________________________________________________________________________\n",
      "Conv_ALL (Conv2D)               (None, 3, 3, 192)    147648      concatenate_11[0][0]             \n",
      "__________________________________________________________________________________________________\n",
      "features_out (Flatten)          (None, 1728)         0           Conv_ALL[0][0]                   \n",
      "__________________________________________________________________________________________________\n",
      "shared_fc_layer (Dense)         (None, 3072)         5311488     features_out[0][0]               \n",
      "__________________________________________________________________________________________________\n",
      "activation_76 (Activation)      (None, 3072)         0           shared_fc_layer[0][0]            \n",
      "__________________________________________________________________________________________________\n",
      "cat_dog_classifier (Dense)      (None, 512)          1573376     activation_76[0][0]              \n",
      "__________________________________________________________________________________________________\n",
      "activation_77 (Activation)      (None, 512)          0           cat_dog_classifier[0][0]         \n",
      "__________________________________________________________________________________________________\n",
      "cat_dog_out (Dense)             (None, 2)            1026        activation_77[0][0]              \n",
      "==================================================================================================\n",
      "Total params: 11,573,186\n",
      "Trainable params: 11,570,434\n",
      "Non-trainable params: 2,752\n",
      "__________________________________________________________________________________________________\n"
     ]
    }
   ],
   "source": [
    "\n",
    "model_complex.summary()\n"
   ]
  },
  {
   "cell_type": "markdown",
   "metadata": {},
   "source": [
    "#### Data augmentation\n",
    "\n",
    "Image augmentation flips, rotates and translate the images before they are fed into the classifier for the training purpose. This allows for a much higher dataset of training images to be used without actually having that many number of training images. This greatly reduces overfitting to image classifiers. "
   ]
  },
  {
   "cell_type": "markdown",
   "metadata": {},
   "source": [
    "### Learning rate decay"
   ]
  },
  {
   "cell_type": "code",
   "execution_count": 150,
   "metadata": {},
   "outputs": [],
   "source": [
    "def lr_decay(epoch):\n",
    "    lrate = 0.000005\n",
    "    lrate = lrate / (epoch + 1) \n",
    "        \n",
    "    return lrate\n",
    "    \n",
    "lr = LearningRateScheduler(lr_decay)"
   ]
  },
  {
   "cell_type": "code",
   "execution_count": 151,
   "metadata": {},
   "outputs": [],
   "source": [
    "\n",
    "optimizer = keras.optimizers.RMSprop(lr=0.00005)\n",
    "model_complex.compile(optimizer=optimizer, loss='categorical_crossentropy', metrics=['accuracy'])\n",
    "\n",
    "\n",
    "aug = ImageDataGenerator(rotation_range=20, zoom_range=0.15, width_shift_range=0.2, height_shift_range=0.2, shear_range=0.15, horizontal_flip=True, fill_mode=\"nearest\")\n",
    "aug.fit(x_train)\n",
    "\n",
    "weights_filepath = \"weights_better.hdf5\"\n",
    "checkpoint = ModelCheckpoint(weights_filepath, monitor = 'val_acc', verbose = 1, save_best_only = True, mode='max')\n",
    "callbacks_list = [lr, checkpoint]\n"
   ]
  },
  {
   "cell_type": "code",
   "execution_count": 155,
   "metadata": {
    "scrolled": false
   },
   "outputs": [
    {
     "name": "stdout",
     "output_type": "stream",
     "text": [
      "Epoch 1/10\n",
      "37/37 [==============================] - 16s 429ms/step - loss: 0.5738 - acc: 0.6970 - val_loss: 0.5267 - val_acc: 0.7300\n",
      "\n",
      "Epoch 00001: val_acc did not improve from 0.74667\n",
      "Epoch 2/10\n",
      "37/37 [==============================] - 15s 406ms/step - loss: 0.5677 - acc: 0.7015 - val_loss: 0.5449 - val_acc: 0.7050\n",
      "\n",
      "Epoch 00002: val_acc did not improve from 0.74667\n",
      "Epoch 3/10\n",
      "37/37 [==============================] - 15s 405ms/step - loss: 0.5643 - acc: 0.7078 - val_loss: 0.5288 - val_acc: 0.7367\n",
      "\n",
      "Epoch 00003: val_acc did not improve from 0.74667\n",
      "Epoch 4/10\n",
      "37/37 [==============================] - 15s 401ms/step - loss: 0.5625 - acc: 0.7023 - val_loss: 0.5190 - val_acc: 0.7550\n",
      "\n",
      "Epoch 00004: val_acc improved from 0.74667 to 0.75500, saving model to weights_better.hdf5\n",
      "Epoch 5/10\n",
      "37/37 [==============================] - 15s 404ms/step - loss: 0.5668 - acc: 0.6994 - val_loss: 0.5237 - val_acc: 0.7433\n",
      "\n",
      "Epoch 00005: val_acc did not improve from 0.75500\n",
      "Epoch 6/10\n",
      "37/37 [==============================] - 15s 402ms/step - loss: 0.5661 - acc: 0.7086 - val_loss: 0.5140 - val_acc: 0.7583\n",
      "\n",
      "Epoch 00006: val_acc improved from 0.75500 to 0.75833, saving model to weights_better.hdf5\n",
      "Epoch 7/10\n",
      "37/37 [==============================] - 15s 404ms/step - loss: 0.5591 - acc: 0.7069 - val_loss: 0.5199 - val_acc: 0.7450\n",
      "\n",
      "Epoch 00007: val_acc did not improve from 0.75833\n",
      "Epoch 8/10\n",
      "37/37 [==============================] - 15s 407ms/step - loss: 0.5534 - acc: 0.7124 - val_loss: 0.5198 - val_acc: 0.7450\n",
      "\n",
      "Epoch 00008: val_acc did not improve from 0.75833\n",
      "Epoch 9/10\n",
      "37/37 [==============================] - 15s 408ms/step - loss: 0.5615 - acc: 0.7093 - val_loss: 0.5135 - val_acc: 0.7517\n",
      "\n",
      "Epoch 00009: val_acc did not improve from 0.75833\n",
      "Epoch 10/10\n",
      "37/37 [==============================] - 15s 410ms/step - loss: 0.5554 - acc: 0.7190 - val_loss: 0.5143 - val_acc: 0.7450\n",
      "\n",
      "Epoch 00010: val_acc did not improve from 0.75833\n"
     ]
    }
   ],
   "source": [
    "\n",
    "# history_complex = model_complex.fit(x_train, y_train, batch_size=batch_size, epochs=epochs,validation_data=(x_test, y_test), verbose=1)\n",
    "\n",
    "epoch_complex = 10\n",
    "\n",
    "history_complex = model_complex.fit_generator(aug.flow(x_train, y_train, batch_size=batch_size), validation_data=(x_val, y_val), callbacks=callbacks_list, steps_per_epoch=len(x_train) // batch_size, epochs=epoch_complex)\n"
   ]
  },
  {
   "cell_type": "markdown",
   "metadata": {},
   "source": [
    "#### Results\n",
    "\n",
    "Highest validation accuracy is 0.82 and the highest testing accuracy is 0.82 which is a great improvement from the previous CNN. Although, this has also been trained for significantly longer. The best result was at epoch 77 and the results have not improved since then. It could be that the training epoch could be set to a lower number. "
   ]
  },
  {
   "cell_type": "code",
   "execution_count": 156,
   "metadata": {},
   "outputs": [
    {
     "name": "stdout",
     "output_type": "stream",
     "text": [
      "600/600 [==============================] - 1s 2ms/step\n",
      "Test loss: 0.5480458132425944\n",
      "Test accuracy: 0.7350000007947286\n"
     ]
    }
   ],
   "source": [
    "\n",
    "score_complex = model_complex.evaluate(x_test, y_test, verbose=1)\n",
    "print('Test loss:', score_complex[0])\n",
    "print('Test accuracy:', score_complex[1])\n"
   ]
  },
  {
   "cell_type": "code",
   "execution_count": 157,
   "metadata": {},
   "outputs": [],
   "source": [
    "\n",
    "model_complex_predictions = model_complex.predict(x_test)\n"
   ]
  },
  {
   "cell_type": "markdown",
   "metadata": {},
   "source": [
    "### Exercise 5\n",
    "\n",
    "Apply the trained model on the testing set and output the classification results."
   ]
  },
  {
   "cell_type": "markdown",
   "metadata": {},
   "source": [
    "#### Classification report\n",
    "\n",
    "Precision, Recall and f1 score is significantly higher than the previous model. This shows that the prediction is much better and the overfitting is significantly less compared to the previous model. "
   ]
  },
  {
   "cell_type": "code",
   "execution_count": 158,
   "metadata": {},
   "outputs": [
    {
     "name": "stdout",
     "output_type": "stream",
     "text": [
      "Classification report for the complex CNN:\n",
      "             precision    recall  f1-score   support\n",
      "\n",
      "          0       0.49      0.49      0.49       303\n",
      "          1       0.48      0.47      0.47       297\n",
      "\n",
      "avg / total       0.48      0.48      0.48       600\n",
      "\n"
     ]
    }
   ],
   "source": [
    "\n",
    "print(\"Classification report for the complex CNN:\")\n",
    "print(classification_report(y_val.argmax(axis=1), model_complex_predictions.argmax(axis=1)))\n"
   ]
  },
  {
   "cell_type": "markdown",
   "metadata": {},
   "source": [
    "#### Confusion Matrix\n",
    "\n",
    "TN, FP\n",
    "\n",
    "FN, TP\n"
   ]
  },
  {
   "cell_type": "code",
   "execution_count": 159,
   "metadata": {},
   "outputs": [
    {
     "name": "stdout",
     "output_type": "stream",
     "text": [
      "Confusion matrix for the complex CNN:\n",
      "[[149 154]\n",
      " [157 140]]\n"
     ]
    }
   ],
   "source": [
    "\n",
    "print(\"Confusion matrix for the complex CNN:\")\n",
    "print(confusion_matrix(y_val.argmax(axis=1), model_complex_predictions.argmax(axis=1)))\n"
   ]
  },
  {
   "cell_type": "markdown",
   "metadata": {},
   "source": [
    "over here, the accuracy is increasing over time but slowly and with a lot of spikes. "
   ]
  },
  {
   "cell_type": "code",
   "execution_count": 160,
   "metadata": {},
   "outputs": [
    {
     "data": {
      "image/png": "[encoded data removed]",
      "text/plain": [
       "<matplotlib.figure.Figure at 0x2842abd0438>"
      ]
     },
     "metadata": {},
     "output_type": "display_data"
    }
   ],
   "source": [
    "\n",
    "plot_train_val_acc_curve(history_complex)\n"
   ]
  },
  {
   "cell_type": "markdown",
   "metadata": {},
   "source": [
    "Over here, the loss is dropping over time for the test set but flattens out after around epoch 40. This means the training could have been stopped here as the val loss is not going out. "
   ]
  },
  {
   "cell_type": "code",
   "execution_count": 161,
   "metadata": {},
   "outputs": [
    {
     "data": {
      "image/png": "[encoded data removed]",
      "text/plain": [
       "<matplotlib.figure.Figure at 0x2842ac6ce48>"
      ]
     },
     "metadata": {},
     "output_type": "display_data"
    }
   ],
   "source": [
    "\n",
    "plot_train_val_loss_curve(history_complex)\n"
   ]
  },
  {
   "cell_type": "code",
   "execution_count": 162,
   "metadata": {},
   "outputs": [
    {
     "name": "stdout",
     "output_type": "stream",
     "text": [
      "Axes(0.547727,0.125;0.352273x0.755)\n"
     ]
    },
    {
     "data": {
      "image/png": "[encoded data removed]",
      "text/plain": [
       "<matplotlib.figure.Figure at 0x2842ad20358>"
      ]
     },
     "metadata": {},
     "output_type": "display_data"
    }
   ],
   "source": [
    "\n",
    "print(plot_precision_recall_curve(first_arg(y_val), first_arg(model_complex_predictions), \"Keras Complex CNN\"))\n"
   ]
  },
  {
   "cell_type": "markdown",
   "metadata": {},
   "source": [
    "### Exercise 6 \n",
    "\n",
    "Plot the saliency map of original image to see which part is important for making classification decisions. You can refer to the following blog article on how to generate visualisation results of the filters in the ConvNets.\n",
    "https://blog.keras.io/how-convolutional-neural-networks-see-the-world.html"
   ]
  },
  {
   "cell_type": "code",
   "execution_count": 163,
   "metadata": {},
   "outputs": [],
   "source": [
    "from __future__ import print_function\n",
    "\n",
    "import time\n",
    "import numpy as np\n",
    "from PIL import Image as pil_image\n",
    "from keras.preprocessing.image import save_img\n",
    "from keras import layers\n",
    "from keras.applications import vgg16\n",
    "from keras import backend as K\n",
    "\n",
    "\n",
    "def normalize(x):\n",
    "    \"\"\"utility function to normalize a tensor.\n",
    "\n",
    "    # Arguments\n",
    "        x: An input tensor.\n",
    "\n",
    "    # Returns\n",
    "        The normalized input tensor.\n",
    "    \"\"\"\n",
    "    return x / (K.sqrt(K.mean(K.square(x))) + K.epsilon())\n",
    "\n",
    "\n",
    "def deprocess_image(x):\n",
    "    \"\"\"utility function to convert a float array into a valid uint8 image.\n",
    "\n",
    "    # Arguments\n",
    "        x: A numpy-array representing the generated image.\n",
    "\n",
    "    # Returns\n",
    "        A processed numpy-array, which could be used in e.g. imshow.\n",
    "    \"\"\"\n",
    "    # normalize tensor: center on 0., ensure std is 0.25\n",
    "    x -= x.mean()\n",
    "    x /= (x.std() + K.epsilon())\n",
    "    x *= 0.25\n",
    "\n",
    "    # clip to [0, 1]\n",
    "    x += 0.5\n",
    "    x = np.clip(x, 0, 1)\n",
    "\n",
    "    # convert to RGB array\n",
    "    x *= 255\n",
    "    if K.image_data_format() == 'channels_first':\n",
    "        x = x.transpose((1, 2, 0))\n",
    "    x = np.clip(x, 0, 255).astype('uint8')\n",
    "    return x\n",
    "\n",
    "\n",
    "def process_image(x, former):\n",
    "    \"\"\"utility function to convert a valid uint8 image back into a float array.\n",
    "       Reverses `deprocess_image`.\n",
    "\n",
    "    # Arguments\n",
    "        x: A numpy-array, which could be used in e.g. imshow.\n",
    "        former: The former numpy-array.\n",
    "                Need to determine the former mean and variance.\n",
    "\n",
    "    # Returns\n",
    "        A processed numpy-array representing the generated image.\n",
    "    \"\"\"\n",
    "    if K.image_data_format() == 'channels_first':\n",
    "        x = x.transpose((2, 0, 1))\n",
    "    return (x / 255 - 0.5) * 4 * former.std() + former.mean()\n",
    "\n",
    "\n",
    "def visualize_layer(model,\n",
    "                    layer_name,\n",
    "                    step=1.,\n",
    "                    epochs=15,\n",
    "                    upscaling_steps=9,\n",
    "                    upscaling_factor=1.2,\n",
    "                    output_dim=(412, 412),\n",
    "                    filter_range=(0, None)):\n",
    "    \"\"\"Visualizes the most relevant filters of one conv-layer in a certain model.\n",
    "\n",
    "    # Arguments\n",
    "        model: The model containing layer_name.\n",
    "        layer_name: The name of the layer to be visualized.\n",
    "                    Has to be a part of model.\n",
    "        step: step size for gradient ascent.\n",
    "        epochs: Number of iterations for gradient ascent.\n",
    "        upscaling_steps: Number of upscaling steps.\n",
    "                         Starting image is in this case (80, 80).\n",
    "        upscaling_factor: Factor to which to slowly upgrade\n",
    "                          the image towards output_dim.\n",
    "        output_dim: [img_width, img_height] The output image dimensions.\n",
    "        filter_range: Tupel[lower, upper]\n",
    "                      Determines the to be computed filter numbers.\n",
    "                      If the second value is `None`,\n",
    "                      the last filter will be inferred as the upper boundary.\n",
    "    \"\"\"\n",
    "\n",
    "    def _generate_filter_image(input_img,\n",
    "                               layer_output,\n",
    "                               filter_index):\n",
    "        \"\"\"Generates image for one particular filter.\n",
    "\n",
    "        # Arguments\n",
    "            input_img: The input-image Tensor.\n",
    "            layer_output: The output-image Tensor.\n",
    "            filter_index: The to be processed filter number.\n",
    "                          Assumed to be valid.\n",
    "\n",
    "        #Returns\n",
    "            Either None if no image could be generated.\n",
    "            or a tuple of the image (array) itself and the last loss.\n",
    "        \"\"\"\n",
    "        s_time = time.time()\n",
    "\n",
    "        # we build a loss function that maximizes the activation\n",
    "        # of the nth filter of the layer considered\n",
    "        if K.image_data_format() == 'channels_first':\n",
    "            loss = K.mean(layer_output[:, filter_index, :, :])\n",
    "        else:\n",
    "            loss = K.mean(layer_output[:, :, :, filter_index])\n",
    "\n",
    "        # we compute the gradient of the input picture wrt this loss\n",
    "        grads = K.gradients(loss, input_img)[0]\n",
    "\n",
    "        # normalization trick: we normalize the gradient\n",
    "        grads = normalize(grads)\n",
    "\n",
    "        # this function returns the loss and grads given the input picture\n",
    "        iterate = K.function([input_img], [loss, grads])\n",
    "\n",
    "        # we start from a gray image with some random noise\n",
    "        intermediate_dim = tuple(\n",
    "            int(x / (upscaling_factor ** upscaling_steps)) for x in output_dim)\n",
    "        if K.image_data_format() == 'channels_first':\n",
    "            input_img_data = np.random.random(\n",
    "                (1, 3, intermediate_dim[0], intermediate_dim[1]))\n",
    "        else:\n",
    "            input_img_data = np.random.random(\n",
    "                (1, intermediate_dim[0], intermediate_dim[1], 3))\n",
    "        input_img_data = (input_img_data - 0.5) * 20 + 128\n",
    "\n",
    "        # Slowly upscaling towards the original size prevents\n",
    "        # a dominating high-frequency of the to visualized structure\n",
    "        # as it would occur if we directly compute the 412d-image.\n",
    "        # Behaves as a better starting point for each following dimension\n",
    "        # and therefore avoids poor local minima\n",
    "        for up in reversed(range(upscaling_steps)):\n",
    "            # we run gradient ascent for e.g. 20 steps\n",
    "            for _ in range(epochs):\n",
    "                loss_value, grads_value = iterate([input_img_data])\n",
    "                input_img_data += grads_value * step\n",
    "\n",
    "                # some filters get stuck to 0, we can skip them\n",
    "                if loss_value <= K.epsilon():\n",
    "                    return None\n",
    "\n",
    "            # Calculate upscaled dimension\n",
    "            intermediate_dim = tuple(\n",
    "                int(x / (upscaling_factor ** up)) for x in output_dim)\n",
    "            # Upscale\n",
    "            img = deprocess_image(input_img_data[0])\n",
    "            img = np.array(pil_image.fromarray(img).resize(intermediate_dim,\n",
    "                                                           pil_image.BICUBIC))\n",
    "            input_img_data = np.expand_dims(\n",
    "                process_image(img, input_img_data[0]), 0)\n",
    "\n",
    "        # decode the resulting input image\n",
    "        img = deprocess_image(input_img_data[0])\n",
    "        e_time = time.time()\n",
    "        print('Costs of filter {:3}: {:5.0f} ( {:4.2f}s )'.format(filter_index,\n",
    "                                                                  loss_value,\n",
    "                                                                  e_time - s_time))\n",
    "        return img, loss_value\n",
    "\n",
    "    def _draw_filters(filters, n=None):\n",
    "        \"\"\"Draw the best filters in a nxn grid.\n",
    "\n",
    "        # Arguments\n",
    "            filters: A List of generated images and their corresponding losses\n",
    "                     for each processed filter.\n",
    "            n: dimension of the grid.\n",
    "               If none, the largest possible square will be used\n",
    "        \"\"\"\n",
    "        if n is None:\n",
    "            n = int(np.floor(np.sqrt(len(filters))))\n",
    "\n",
    "        # the filters that have the highest loss are assumed to be better-looking.\n",
    "        # we will only keep the top n*n filters.\n",
    "        filters.sort(key=lambda x: x[1], reverse=True)\n",
    "        filters = filters[:n * n]\n",
    "\n",
    "        # build a black picture with enough space for\n",
    "        # e.g. our 8 x 8 filters of size 412 x 412, with a 5px margin in between\n",
    "        MARGIN = 5\n",
    "        width = n * output_dim[0] + (n - 1) * MARGIN\n",
    "        height = n * output_dim[1] + (n - 1) * MARGIN\n",
    "        stitched_filters = np.zeros((width, height, 3), dtype='uint8')\n",
    "\n",
    "        # fill the picture with our saved filters\n",
    "        for i in range(n):\n",
    "            for j in range(n):\n",
    "                img, _ = filters[i * n + j]\n",
    "                width_margin = (output_dim[0] + MARGIN) * i\n",
    "                height_margin = (output_dim[1] + MARGIN) * j\n",
    "                stitched_filters[\n",
    "                    width_margin: width_margin + output_dim[0],\n",
    "                    height_margin: height_margin + output_dim[1], :] = img\n",
    "\n",
    "        # save the result to disk\n",
    "        save_img('vgg_{0:}_{1:}x{1:}.png'.format(layer_name, n), stitched_filters)\n",
    "\n",
    "    # this is the placeholder for the input images\n",
    "    assert len(model.inputs) == 1\n",
    "    input_img = model.inputs[0]\n",
    "\n",
    "    # get the symbolic outputs of each \"key\" layer (we gave them unique names).\n",
    "    layer_dict = dict([(layer.name, layer) for layer in model.layers[1:]])\n",
    "\n",
    "    output_layer = layer_dict[layer_name]\n",
    "    assert isinstance(output_layer, layers.Conv2D)\n",
    "\n",
    "    # Compute to be processed filter range\n",
    "    filter_lower = filter_range[0]\n",
    "    filter_upper = (filter_range[1]\n",
    "                    if filter_range[1] is not None\n",
    "                    else len(output_layer.get_weights()[1]))\n",
    "    assert(filter_lower >= 0\n",
    "           and filter_upper <= len(output_layer.get_weights()[1])\n",
    "           and filter_upper > filter_lower)\n",
    "    print('Compute filters {:} to {:}'.format(filter_lower, filter_upper))\n",
    "    \n",
    "    print(\"-------------FILTERS HAVE BEEN COMPUTED-------\")\n",
    "\n",
    "    # iterate through each filter and generate its corresponding image\n",
    "    processed_filters = []\n",
    "    for f in range(filter_lower, filter_upper):\n",
    "        img_loss = _generate_filter_image(input_img, output_layer.output, f)\n",
    "\n",
    "        if img_loss is not None:\n",
    "            processed_filters.append(img_loss)\n",
    "\n",
    "    print('{} filter processed.'.format(len(processed_filters)))\n",
    "    # Finally draw and store the best filters to disk\n",
    "    print(\"Draw some of the filters---------------------\")\n",
    "    _draw_filters(processed_filters)\n",
    "\n"
   ]
  },
  {
   "cell_type": "code",
   "execution_count": 164,
   "metadata": {
    "scrolled": false
   },
   "outputs": [
    {
     "name": "stdout",
     "output_type": "stream",
     "text": [
      "__________________________________________________________________________________________________\n",
      "Layer (type)                    Output Shape         Param #     Connected to                     \n",
      "==================================================================================================\n",
      "data_in (InputLayer)            (None, 100, 100, 3)  0                                            \n",
      "__________________________________________________________________________________________________\n",
      "conv2d_67 (Conv2D)              (None, 100, 100, 96) 34944       data_in[0][0]                    \n",
      "__________________________________________________________________________________________________\n",
      "batch_normalization_66 (BatchNo (None, 100, 100, 96) 384         conv2d_67[0][0]                  \n",
      "__________________________________________________________________________________________________\n",
      "activation_71 (Activation)      (None, 100, 100, 96) 0           batch_normalization_66[0][0]     \n",
      "__________________________________________________________________________________________________\n",
      "max_pooling2d_31 (MaxPooling2D) (None, 33, 33, 96)   0           activation_71[0][0]              \n",
      "__________________________________________________________________________________________________\n",
      "conv2d_68 (Conv2D)              (None, 33, 33, 256)  614656      max_pooling2d_31[0][0]           \n",
      "__________________________________________________________________________________________________\n",
      "batch_normalization_67 (BatchNo (None, 33, 33, 256)  1024        conv2d_68[0][0]                  \n",
      "__________________________________________________________________________________________________\n",
      "activation_72 (Activation)      (None, 33, 33, 256)  0           batch_normalization_67[0][0]     \n",
      "__________________________________________________________________________________________________\n",
      "max_pooling2d_32 (MaxPooling2D) (None, 11, 11, 256)  0           activation_72[0][0]              \n",
      "__________________________________________________________________________________________________\n",
      "conv2d_69 (Conv2D)              (None, 11, 11, 384)  885120      max_pooling2d_32[0][0]           \n",
      "__________________________________________________________________________________________________\n",
      "batch_normalization_68 (BatchNo (None, 11, 11, 384)  1536        conv2d_69[0][0]                  \n",
      "__________________________________________________________________________________________________\n",
      "activation_73 (Activation)      (None, 11, 11, 384)  0           batch_normalization_68[0][0]     \n",
      "__________________________________________________________________________________________________\n",
      "conv2d_70 (Conv2D)              (None, 11, 11, 384)  1327488     activation_73[0][0]              \n",
      "__________________________________________________________________________________________________\n",
      "batch_normalization_69 (BatchNo (None, 11, 11, 384)  1536        conv2d_70[0][0]                  \n",
      "__________________________________________________________________________________________________\n",
      "activation_74 (Activation)      (None, 11, 11, 384)  0           batch_normalization_69[0][0]     \n",
      "__________________________________________________________________________________________________\n",
      "conv2d_71 (Conv2D)              (None, 11, 11, 256)  884992      activation_74[0][0]              \n",
      "__________________________________________________________________________________________________\n",
      "batch_normalization_70 (BatchNo (None, 11, 11, 256)  1024        conv2d_71[0][0]                  \n",
      "__________________________________________________________________________________________________\n",
      "activation_75 (Activation)      (None, 11, 11, 256)  0           batch_normalization_70[0][0]     \n",
      "__________________________________________________________________________________________________\n",
      "Fusion_Conv1A (Conv2D)          (None, 3, 3, 256)    393472      max_pooling2d_31[0][0]           \n",
      "__________________________________________________________________________________________________\n",
      "Fusion_Conv3A (Conv2D)          (None, 3, 3, 256)    393472      activation_73[0][0]              \n",
      "__________________________________________________________________________________________________\n",
      "average_pooling2d_12 (AveragePo (None, 3, 3, 256)    0           activation_75[0][0]              \n",
      "__________________________________________________________________________________________________\n",
      "concatenate_11 (Concatenate)    (None, 3, 3, 768)    0           Fusion_Conv1A[0][0]              \n",
      "                                                                 Fusion_Conv3A[0][0]              \n",
      "                                                                 average_pooling2d_12[0][0]       \n",
      "__________________________________________________________________________________________________\n",
      "Conv_ALL (Conv2D)               (None, 3, 3, 192)    147648      concatenate_11[0][0]             \n",
      "__________________________________________________________________________________________________\n",
      "features_out (Flatten)          (None, 1728)         0           Conv_ALL[0][0]                   \n",
      "__________________________________________________________________________________________________\n",
      "shared_fc_layer (Dense)         (None, 3072)         5311488     features_out[0][0]               \n",
      "__________________________________________________________________________________________________\n",
      "activation_76 (Activation)      (None, 3072)         0           shared_fc_layer[0][0]            \n",
      "__________________________________________________________________________________________________\n",
      "cat_dog_classifier (Dense)      (None, 512)          1573376     activation_76[0][0]              \n",
      "__________________________________________________________________________________________________\n",
      "activation_77 (Activation)      (None, 512)          0           cat_dog_classifier[0][0]         \n",
      "__________________________________________________________________________________________________\n",
      "cat_dog_out (Dense)             (None, 2)            1026        activation_77[0][0]              \n",
      "==================================================================================================\n",
      "Total params: 11,573,186\n",
      "Trainable params: 11,570,434\n",
      "Non-trainable params: 2,752\n",
      "__________________________________________________________________________________________________\n"
     ]
    }
   ],
   "source": [
    "LAYER_NAME = 'conv2d_6'\n",
    "model_complex.summary()\n",
    "\n"
   ]
  },
  {
   "cell_type": "code",
   "execution_count": 165,
   "metadata": {},
   "outputs": [
    {
     "name": "stdout",
     "output_type": "stream",
     "text": [
      "Compute filters 0 to 96\n",
      "-------------FILTERS HAVE BEEN COMPUTED-------\n",
      "Costs of filter   0:     6 ( 6.44s )\n",
      "Costs of filter   1:     5 ( 5.19s )\n",
      "Costs of filter   3:     8 ( 5.20s )\n",
      "Costs of filter   4:     3 ( 5.09s )\n",
      "Costs of filter   5:     8 ( 5.08s )\n",
      "Costs of filter   7:     8 ( 5.12s )\n",
      "Costs of filter   8:     6 ( 5.17s )\n",
      "Costs of filter  10:     5 ( 5.39s )\n",
      "Costs of filter  14:     5 ( 4.93s )\n",
      "Costs of filter  15:     7 ( 4.89s )\n",
      "Costs of filter  17:     6 ( 4.88s )\n",
      "Costs of filter  19:     4 ( 4.98s )\n",
      "Costs of filter  20:     4 ( 4.90s )\n",
      "Costs of filter  21:     7 ( 4.93s )\n",
      "Costs of filter  22:     6 ( 4.94s )\n",
      "Costs of filter  23:     2 ( 4.92s )\n",
      "Costs of filter  25:     5 ( 4.90s )\n",
      "Costs of filter  26:     6 ( 4.96s )\n",
      "Costs of filter  27:     5 ( 4.92s )\n",
      "Costs of filter  32:     3 ( 4.86s )\n",
      "Costs of filter  33:     4 ( 5.03s )\n",
      "Costs of filter  35:     5 ( 4.97s )\n",
      "Costs of filter  37:     4 ( 4.95s )\n",
      "Costs of filter  41:     8 ( 4.98s )\n",
      "Costs of filter  43:     9 ( 5.01s )\n",
      "Costs of filter  51:     5 ( 5.05s )\n",
      "Costs of filter  53:     2 ( 5.11s )\n",
      "Costs of filter  56:     3 ( 5.06s )\n",
      "Costs of filter  58:     6 ( 5.00s )\n",
      "Costs of filter  60:    12 ( 4.96s )\n",
      "Costs of filter  67:     3 ( 5.11s )\n",
      "Costs of filter  68:     7 ( 5.22s )\n",
      "Costs of filter  69:     4 ( 5.13s )\n",
      "Costs of filter  72:     5 ( 5.09s )\n",
      "Costs of filter  75:     6 ( 5.49s )\n",
      "Costs of filter  77:    10 ( 5.64s )\n",
      "Costs of filter  78:     5 ( 5.35s )\n",
      "Costs of filter  80:     3 ( 5.04s )\n",
      "Costs of filter  82:     9 ( 5.03s )\n",
      "Costs of filter  83:     5 ( 5.13s )\n",
      "Costs of filter  89:     4 ( 5.20s )\n",
      "Costs of filter  90:     6 ( 5.03s )\n",
      "Costs of filter  92:     4 ( 5.14s )\n",
      "Costs of filter  94:     3 ( 5.15s )\n",
      "44 filter processed.\n",
      "Draw some of the filters---------------------\n"
     ]
    }
   ],
   "source": [
    "# example function call\n",
    "LAYER_NAME = \"conv2d_67\"\n",
    "visualize_layer(model_complex, LAYER_NAME)"
   ]
  },
  {
   "cell_type": "code",
   "execution_count": 166,
   "metadata": {},
   "outputs": [
    {
     "name": "stdout",
     "output_type": "stream",
     "text": [
      "Compute filters 0 to 256\n",
      "-------------FILTERS HAVE BEEN COMPUTED-------\n",
      "Costs of filter   0:   172 ( 6.91s )\n",
      "Costs of filter   2:   156 ( 6.03s )\n",
      "Costs of filter   4:   139 ( 5.93s )\n",
      "Costs of filter   5:   173 ( 6.26s )\n",
      "Costs of filter   8:   113 ( 6.30s )\n",
      "Costs of filter  10:   187 ( 6.19s )\n",
      "Costs of filter  11:   181 ( 7.91s )\n",
      "Costs of filter  26:   212 ( 6.05s )\n",
      "Costs of filter  28:   175 ( 6.01s )\n",
      "Costs of filter  29:   111 ( 6.04s )\n",
      "Costs of filter  34:   136 ( 6.16s )\n",
      "Costs of filter  36:   108 ( 6.01s )\n",
      "Costs of filter  38:   108 ( 5.99s )\n",
      "Costs of filter  41:   153 ( 6.19s )\n",
      "Costs of filter  42:   110 ( 6.00s )\n",
      "Costs of filter  44:   208 ( 6.05s )\n",
      "Costs of filter  45:   183 ( 6.12s )\n",
      "Costs of filter  47:   142 ( 6.11s )\n",
      "Costs of filter  48:    76 ( 6.09s )\n",
      "Costs of filter  49:   241 ( 6.35s )\n",
      "Costs of filter  54:   182 ( 6.36s )\n",
      "Costs of filter  56:   153 ( 6.26s )\n",
      "Costs of filter  63:   181 ( 6.33s )\n",
      "Costs of filter  71:   197 ( 7.02s )\n",
      "Costs of filter  72:   152 ( 6.46s )\n",
      "Costs of filter  74:   282 ( 6.35s )\n",
      "Costs of filter  77:   156 ( 6.10s )\n",
      "Costs of filter  79:   146 ( 6.29s )\n",
      "Costs of filter  82:   206 ( 6.18s )\n",
      "Costs of filter  83:   155 ( 6.52s )\n",
      "Costs of filter  87:   164 ( 6.60s )\n",
      "Costs of filter  88:   208 ( 7.42s )\n",
      "Costs of filter  89:   164 ( 7.05s )\n",
      "Costs of filter  95:   137 ( 6.73s )\n",
      "Costs of filter  97:   211 ( 6.68s )\n",
      "Costs of filter  99:   160 ( 6.62s )\n",
      "Costs of filter 101:   130 ( 6.09s )\n",
      "Costs of filter 104:   162 ( 6.28s )\n",
      "Costs of filter 105:   187 ( 6.31s )\n",
      "Costs of filter 106:   140 ( 6.53s )\n",
      "Costs of filter 110:   218 ( 7.38s )\n",
      "Costs of filter 111:    89 ( 7.68s )\n",
      "Costs of filter 112:   150 ( 6.48s )\n",
      "Costs of filter 113:   228 ( 6.73s )\n",
      "Costs of filter 114:   163 ( 6.93s )\n",
      "Costs of filter 116:   133 ( 6.94s )\n",
      "Costs of filter 117:   197 ( 6.74s )\n",
      "Costs of filter 118:   238 ( 6.66s )\n",
      "Costs of filter 119:   103 ( 6.90s )\n",
      "Costs of filter 120:   110 ( 6.17s )\n",
      "Costs of filter 124:   225 ( 6.64s )\n",
      "Costs of filter 126:   131 ( 6.30s )\n",
      "Costs of filter 128:   118 ( 6.45s )\n",
      "Costs of filter 129:   160 ( 6.15s )\n",
      "Costs of filter 135:   203 ( 6.23s )\n",
      "Costs of filter 136:   161 ( 6.19s )\n",
      "Costs of filter 138:   206 ( 6.16s )\n",
      "Costs of filter 140:   124 ( 7.66s )\n",
      "Costs of filter 143:   173 ( 6.23s )\n",
      "Costs of filter 144:   197 ( 6.25s )\n",
      "Costs of filter 145:   254 ( 6.32s )\n",
      "Costs of filter 149:   116 ( 6.37s )\n",
      "Costs of filter 150:   100 ( 6.16s )\n",
      "Costs of filter 154:   135 ( 6.21s )\n",
      "Costs of filter 155:   198 ( 6.31s )\n",
      "Costs of filter 157:   113 ( 6.24s )\n",
      "Costs of filter 162:   170 ( 6.53s )\n",
      "Costs of filter 164:   227 ( 6.28s )\n",
      "Costs of filter 166:   146 ( 6.29s )\n",
      "Costs of filter 169:   128 ( 6.39s )\n",
      "Costs of filter 170:   127 ( 6.58s )\n",
      "Costs of filter 171:   160 ( 6.63s )\n",
      "Costs of filter 173:   173 ( 6.38s )\n",
      "Costs of filter 174:   177 ( 6.28s )\n",
      "Costs of filter 175:   183 ( 6.42s )\n",
      "Costs of filter 177:   178 ( 6.39s )\n",
      "Costs of filter 178:   161 ( 6.34s )\n",
      "Costs of filter 181:   104 ( 6.40s )\n",
      "Costs of filter 182:   294 ( 6.35s )\n",
      "Costs of filter 184:   107 ( 6.40s )\n",
      "Costs of filter 185:   115 ( 6.96s )\n",
      "Costs of filter 186:   122 ( 6.69s )\n",
      "Costs of filter 192:   138 ( 6.55s )\n",
      "Costs of filter 193:   191 ( 6.68s )\n",
      "Costs of filter 194:   120 ( 6.60s )\n",
      "Costs of filter 195:   100 ( 6.51s )\n",
      "Costs of filter 197:   116 ( 6.49s )\n",
      "Costs of filter 201:   265 ( 6.56s )\n",
      "Costs of filter 202:   178 ( 6.69s )\n",
      "Costs of filter 204:   201 ( 6.61s )\n",
      "Costs of filter 206:   255 ( 6.58s )\n",
      "Costs of filter 211:   209 ( 6.56s )\n",
      "Costs of filter 213:   105 ( 6.71s )\n",
      "Costs of filter 217:   166 ( 6.68s )\n",
      "Costs of filter 219:   153 ( 7.19s )\n",
      "Costs of filter 225:   190 ( 6.86s )\n",
      "Costs of filter 228:   168 ( 6.82s )\n",
      "Costs of filter 231:   298 ( 6.98s )\n",
      "Costs of filter 234:   110 ( 6.53s )\n",
      "Costs of filter 239:    94 ( 6.98s )\n",
      "Costs of filter 243:   242 ( 7.06s )\n",
      "Costs of filter 245:   107 ( 6.81s )\n",
      "Costs of filter 248:   103 ( 6.64s )\n",
      "Costs of filter 250:   235 ( 6.64s )\n",
      "Costs of filter 252:   218 ( 6.74s )\n",
      "105 filter processed.\n",
      "Draw some of the filters---------------------\n"
     ]
    }
   ],
   "source": [
    "visualize_layer(model_complex, \"conv2d_68\")"
   ]
  },
  {
   "cell_type": "code",
   "execution_count": 167,
   "metadata": {},
   "outputs": [
    {
     "name": "stdout",
     "output_type": "stream",
     "text": [
      "Compute filters 0 to 384\n",
      "-------------FILTERS HAVE BEEN COMPUTED-------\n",
      "Costs of filter   0:   460 ( 7.45s )\n",
      "Costs of filter   7:   529 ( 7.34s )\n",
      "Costs of filter  15:   628 ( 7.97s )\n",
      "Costs of filter  21:   520 ( 7.22s )\n",
      "Costs of filter  23:   556 ( 7.29s )\n",
      "Costs of filter  27:   667 ( 7.27s )\n",
      "Costs of filter  28:   634 ( 7.18s )\n",
      "Costs of filter  35:   586 ( 7.34s )\n",
      "Costs of filter  37:   636 ( 7.29s )\n",
      "Costs of filter  39:   493 ( 7.90s )\n",
      "Costs of filter  42:   506 ( 7.59s )\n",
      "Costs of filter  44:   428 ( 7.40s )\n",
      "Costs of filter  45:   768 ( 7.54s )\n",
      "Costs of filter  49:   578 ( 7.46s )\n",
      "Costs of filter  53:   615 ( 7.65s )\n",
      "Costs of filter  64:   728 ( 7.45s )\n",
      "Costs of filter  65:   511 ( 7.51s )\n",
      "Costs of filter  66:   598 ( 7.53s )\n",
      "Costs of filter  70:   546 ( 7.47s )\n",
      "Costs of filter  74:   385 ( 7.43s )\n",
      "Costs of filter  80:   413 ( 7.58s )\n",
      "Costs of filter  84:   321 ( 7.63s )\n",
      "Costs of filter  87:   450 ( 7.76s )\n",
      "Costs of filter  88:   399 ( 7.68s )\n",
      "Costs of filter  91:   448 ( 7.74s )\n",
      "Costs of filter  99:   593 ( 35.51s )\n",
      "Costs of filter 102:   425 ( 8.14s )\n",
      "Costs of filter 108:   479 ( 8.40s )\n",
      "Costs of filter 109:   347 ( 8.05s )\n",
      "Costs of filter 111:   535 ( 8.24s )\n",
      "Costs of filter 112:   428 ( 8.00s )\n",
      "Costs of filter 114:   478 ( 8.06s )\n",
      "Costs of filter 115:   770 ( 8.21s )\n",
      "Costs of filter 124:   305 ( 7.85s )\n",
      "Costs of filter 129:   413 ( 8.03s )\n",
      "Costs of filter 132:   471 ( 7.92s )\n",
      "Costs of filter 138:   420 ( 7.87s )\n",
      "Costs of filter 139:   416 ( 8.00s )\n",
      "Costs of filter 140:   466 ( 8.03s )\n",
      "Costs of filter 141:   455 ( 8.12s )\n",
      "Costs of filter 143:   527 ( 8.13s )\n",
      "Costs of filter 144:   417 ( 8.06s )\n",
      "Costs of filter 147:   363 ( 8.09s )\n",
      "Costs of filter 148:   331 ( 8.01s )\n",
      "Costs of filter 149:   662 ( 8.16s )\n",
      "Costs of filter 151:   442 ( 8.20s )\n",
      "Costs of filter 152:   825 ( 8.12s )\n",
      "Costs of filter 155:   361 ( 8.22s )\n",
      "Costs of filter 160:   339 ( 8.28s )\n",
      "Costs of filter 166:   402 ( 8.20s )\n",
      "Costs of filter 169:   317 ( 8.37s )\n",
      "Costs of filter 171:   519 ( 8.20s )\n",
      "Costs of filter 172:   485 ( 8.28s )\n",
      "Costs of filter 178:   332 ( 8.28s )\n",
      "Costs of filter 179:   382 ( 8.47s )\n",
      "Costs of filter 180:   675 ( 8.36s )\n",
      "Costs of filter 181:   509 ( 8.55s )\n",
      "Costs of filter 182:   596 ( 8.36s )\n",
      "Costs of filter 184:   390 ( 8.31s )\n",
      "Costs of filter 186:   612 ( 8.45s )\n",
      "Costs of filter 187:   824 ( 8.54s )\n",
      "Costs of filter 188:   559 ( 8.26s )\n",
      "Costs of filter 196:   447 ( 8.42s )\n",
      "Costs of filter 198:   504 ( 8.51s )\n",
      "Costs of filter 199:   403 ( 8.70s )\n",
      "Costs of filter 201:   277 ( 8.60s )\n",
      "Costs of filter 202:   479 ( 8.59s )\n",
      "Costs of filter 203:   338 ( 8.53s )\n",
      "Costs of filter 205:   730 ( 8.55s )\n",
      "Costs of filter 206:   792 ( 8.54s )\n",
      "Costs of filter 208:   371 ( 8.62s )\n",
      "Costs of filter 209:   477 ( 8.68s )\n",
      "Costs of filter 210:   752 ( 8.60s )\n",
      "Costs of filter 216:   375 ( 8.67s )\n",
      "Costs of filter 222:   562 ( 8.66s )\n",
      "Costs of filter 224:   561 ( 8.56s )\n",
      "Costs of filter 225:   531 ( 8.72s )\n",
      "Costs of filter 228:   541 ( 8.65s )\n",
      "Costs of filter 230:   333 ( 8.71s )\n",
      "Costs of filter 234:   387 ( 8.75s )\n",
      "Costs of filter 240:   381 ( 8.82s )\n",
      "Costs of filter 241:   457 ( 9.05s )\n",
      "Costs of filter 242:   439 ( 8.86s )\n",
      "Costs of filter 245:   404 ( 8.90s )\n",
      "Costs of filter 251:   417 ( 8.91s )\n",
      "Costs of filter 252:   529 ( 8.99s )\n",
      "Costs of filter 258:   395 ( 8.93s )\n",
      "Costs of filter 261:   387 ( 9.10s )\n",
      "Costs of filter 262:   338 ( 9.03s )\n",
      "Costs of filter 264:   430 ( 8.97s )\n",
      "Costs of filter 266:   616 ( 8.99s )\n",
      "Costs of filter 267:   441 ( 9.18s )\n",
      "Costs of filter 268:   438 ( 9.13s )\n",
      "Costs of filter 269:   514 ( 9.27s )\n",
      "Costs of filter 270:   313 ( 9.11s )\n",
      "Costs of filter 273:   557 ( 9.15s )\n",
      "Costs of filter 276:   466 ( 9.14s )\n",
      "Costs of filter 277:   626 ( 9.15s )\n",
      "Costs of filter 279:   362 ( 9.49s )\n",
      "Costs of filter 280:   578 ( 9.15s )\n",
      "Costs of filter 284:   527 ( 9.10s )\n",
      "Costs of filter 287:   383 ( 9.27s )\n",
      "Costs of filter 288:   473 ( 9.35s )\n",
      "Costs of filter 291:   470 ( 9.38s )\n",
      "Costs of filter 292:   480 ( 9.37s )\n",
      "Costs of filter 293:   624 ( 9.54s )\n",
      "Costs of filter 296:   680 ( 9.36s )\n",
      "Costs of filter 297:   433 ( 9.36s )\n",
      "Costs of filter 298:   467 ( 9.53s )\n",
      "Costs of filter 302:   311 ( 9.42s )\n",
      "Costs of filter 307:   372 ( 9.40s )\n",
      "Costs of filter 313:   457 ( 9.53s )\n",
      "Costs of filter 319:   667 ( 13.66s )\n",
      "Costs of filter 320:   502 ( 9.60s )\n",
      "Costs of filter 324:   518 ( 9.72s )\n",
      "Costs of filter 327:   393 ( 9.65s )\n",
      "Costs of filter 328:   499 ( 9.55s )\n",
      "Costs of filter 332:   334 ( 9.84s )\n",
      "Costs of filter 335:   447 ( 9.72s )\n",
      "Costs of filter 337:   376 ( 9.68s )\n",
      "Costs of filter 342:   364 ( 9.80s )\n",
      "Costs of filter 351:   362 ( 9.85s )\n",
      "Costs of filter 355:   556 ( 10.08s )\n",
      "Costs of filter 358:   316 ( 9.98s )\n",
      "Costs of filter 359:   494 ( 10.05s )\n",
      "Costs of filter 366:   450 ( 9.96s )\n",
      "Costs of filter 370:   407 ( 9.97s )\n",
      "Costs of filter 372:   749 ( 10.14s )\n",
      "Costs of filter 373:   597 ( 10.28s )\n",
      "Costs of filter 375:   300 ( 10.14s )\n",
      "Costs of filter 376:   517 ( 10.06s )\n",
      "Costs of filter 378:   784 ( 10.10s )\n",
      "Costs of filter 381:   650 ( 10.18s )\n",
      "Costs of filter 382:   423 ( 10.11s )\n",
      "134 filter processed.\n",
      "Draw some of the filters---------------------\n"
     ]
    }
   ],
   "source": [
    "visualize_layer(model_complex, \"conv2d_69\")"
   ]
  },
  {
   "cell_type": "code",
   "execution_count": 168,
   "metadata": {},
   "outputs": [
    {
     "name": "stdout",
     "output_type": "stream",
     "text": [
      "Compute filters 0 to 384\n",
      "-------------FILTERS HAVE BEEN COMPUTED-------\n",
      "Costs of filter   0:   656 ( 11.35s )\n",
      "Costs of filter   6:   398 ( 10.46s )\n",
      "Costs of filter   7:   679 ( 10.62s )\n",
      "Costs of filter   8:   429 ( 10.51s )\n",
      "Costs of filter  10:   504 ( 10.44s )\n",
      "Costs of filter  12:   372 ( 10.46s )\n",
      "Costs of filter  13:   409 ( 10.77s )\n",
      "Costs of filter  16:   450 ( 10.48s )\n",
      "Costs of filter  23:   759 ( 10.44s )\n",
      "Costs of filter  24:   449 ( 10.62s )\n",
      "Costs of filter  28:   649 ( 10.64s )\n",
      "Costs of filter  29:   401 ( 10.71s )\n",
      "Costs of filter  32:   453 ( 10.84s )\n",
      "Costs of filter  33:   383 ( 10.83s )\n",
      "Costs of filter  38:   738 ( 10.79s )\n",
      "Costs of filter  40:   659 ( 11.08s )\n",
      "Costs of filter  43:   707 ( 10.87s )\n",
      "Costs of filter  44:   355 ( 11.07s )\n",
      "Costs of filter  45:   375 ( 11.00s )\n",
      "Costs of filter  46:   506 ( 10.87s )\n",
      "Costs of filter  47:   336 ( 10.90s )\n",
      "Costs of filter  50:   519 ( 10.81s )\n",
      "Costs of filter  51:   535 ( 11.16s )\n",
      "Costs of filter  53:   347 ( 10.98s )\n",
      "Costs of filter  54:   415 ( 11.16s )\n",
      "Costs of filter  55:   709 ( 11.34s )\n",
      "Costs of filter  56:   556 ( 11.30s )\n",
      "Costs of filter  58:   397 ( 11.22s )\n",
      "Costs of filter  59:   360 ( 11.33s )\n",
      "Costs of filter  62:   553 ( 11.37s )\n",
      "Costs of filter  63:   443 ( 11.15s )\n",
      "Costs of filter  64:   321 ( 11.12s )\n",
      "Costs of filter  69:   449 ( 11.31s )\n",
      "Costs of filter  70:   392 ( 11.24s )\n",
      "Costs of filter  75:   375 ( 11.13s )\n",
      "Costs of filter  79:   323 ( 11.38s )\n",
      "Costs of filter  83:   459 ( 11.24s )\n",
      "Costs of filter  86:   575 ( 11.39s )\n",
      "Costs of filter  89:   402 ( 11.48s )\n",
      "Costs of filter  90:   412 ( 11.36s )\n",
      "Costs of filter  92:   669 ( 11.50s )\n",
      "Costs of filter  95:   532 ( 11.42s )\n",
      "Costs of filter  98:   332 ( 11.54s )\n",
      "Costs of filter 101:   391 ( 11.62s )\n",
      "Costs of filter 103:   442 ( 11.58s )\n",
      "Costs of filter 105:   343 ( 11.74s )\n",
      "Costs of filter 106:   326 ( 11.73s )\n",
      "Costs of filter 110:   483 ( 11.72s )\n",
      "Costs of filter 117:   357 ( 11.81s )\n",
      "Costs of filter 118:   461 ( 11.76s )\n",
      "Costs of filter 121:   525 ( 11.89s )\n",
      "Costs of filter 122:   429 ( 11.89s )\n",
      "Costs of filter 126:   455 ( 11.76s )\n",
      "Costs of filter 127:   391 ( 11.82s )\n",
      "Costs of filter 130:   382 ( 11.84s )\n",
      "Costs of filter 139:   383 ( 12.01s )\n",
      "Costs of filter 147:   554 ( 12.40s )\n",
      "Costs of filter 150:   358 ( 12.15s )\n",
      "Costs of filter 151:   311 ( 12.30s )\n",
      "Costs of filter 152:   464 ( 12.20s )\n",
      "Costs of filter 155:   506 ( 12.40s )\n",
      "Costs of filter 156:   362 ( 12.28s )\n",
      "Costs of filter 158:   301 ( 12.39s )\n",
      "Costs of filter 163:   597 ( 12.39s )\n",
      "Costs of filter 168:   316 ( 12.34s )\n",
      "Costs of filter 169:   605 ( 13.48s )\n",
      "Costs of filter 175:   337 ( 12.69s )\n",
      "Costs of filter 176:   455 ( 14.01s )\n",
      "Costs of filter 177:   418 ( 13.17s )\n",
      "Costs of filter 178:   425 ( 12.68s )\n",
      "Costs of filter 180:   520 ( 12.74s )\n",
      "Costs of filter 181:   290 ( 12.88s )\n",
      "Costs of filter 185:   368 ( 13.62s )\n",
      "Costs of filter 187:   654 ( 12.90s )\n",
      "Costs of filter 189:   391 ( 12.90s )\n",
      "Costs of filter 190:   349 ( 12.91s )\n",
      "Costs of filter 191:   513 ( 12.88s )\n",
      "Costs of filter 196:   334 ( 12.92s )\n",
      "Costs of filter 197:   301 ( 12.96s )\n",
      "Costs of filter 202:   773 ( 13.00s )\n",
      "Costs of filter 205:   485 ( 13.30s )\n",
      "Costs of filter 208:   527 ( 13.18s )\n",
      "Costs of filter 215:   427 ( 13.31s )\n",
      "Costs of filter 216:   354 ( 13.21s )\n",
      "Costs of filter 217:   330 ( 13.30s )\n",
      "Costs of filter 218:   482 ( 13.29s )\n",
      "Costs of filter 219:   528 ( 14.00s )\n",
      "Costs of filter 222:   727 ( 13.34s )\n",
      "Costs of filter 224:   437 ( 13.29s )\n",
      "Costs of filter 226:   659 ( 13.61s )\n",
      "Costs of filter 227:   339 ( 14.25s )\n",
      "Costs of filter 230:   427 ( 13.53s )\n",
      "Costs of filter 231:   619 ( 13.60s )\n",
      "Costs of filter 233:   315 ( 13.48s )\n",
      "Costs of filter 234:   357 ( 13.72s )\n",
      "Costs of filter 235:   398 ( 13.52s )\n",
      "Costs of filter 237:   336 ( 13.75s )\n",
      "Costs of filter 241:   565 ( 13.55s )\n",
      "Costs of filter 243:   264 ( 13.79s )\n",
      "Costs of filter 246:   419 ( 13.63s )\n",
      "Costs of filter 247:   487 ( 13.80s )\n",
      "Costs of filter 248:   779 ( 13.75s )\n",
      "Costs of filter 250:   464 ( 13.48s )\n",
      "Costs of filter 253:   768 ( 13.55s )\n",
      "Costs of filter 256:   482 ( 13.82s )\n",
      "Costs of filter 258:   701 ( 13.73s )\n",
      "Costs of filter 260:   472 ( 14.03s )\n",
      "Costs of filter 262:   421 ( 13.64s )\n",
      "Costs of filter 267:   391 ( 13.91s )\n",
      "Costs of filter 269:   331 ( 13.93s )\n",
      "Costs of filter 270:   559 ( 13.86s )\n",
      "Costs of filter 273:   421 ( 14.12s )\n",
      "Costs of filter 276:   511 ( 14.43s )\n",
      "Costs of filter 277:   532 ( 14.37s )\n",
      "Costs of filter 281:   376 ( 14.39s )\n",
      "Costs of filter 287:   441 ( 14.68s )\n",
      "Costs of filter 289:   324 ( 14.48s )\n",
      "Costs of filter 293:   463 ( 14.26s )\n",
      "Costs of filter 301:   403 ( 14.41s )\n",
      "Costs of filter 302:   354 ( 14.56s )\n",
      "Costs of filter 313:   455 ( 14.67s )\n",
      "Costs of filter 317:   313 ( 14.70s )\n",
      "Costs of filter 320:   295 ( 15.44s )\n",
      "Costs of filter 325:   394 ( 14.82s )\n",
      "Costs of filter 329:   527 ( 14.94s )\n",
      "Costs of filter 332:   533 ( 15.15s )\n",
      "Costs of filter 333:   361 ( 15.03s )\n",
      "Costs of filter 337:   535 ( 15.14s )\n",
      "Costs of filter 339:   650 ( 15.04s )\n",
      "Costs of filter 340:   552 ( 15.14s )\n",
      "Costs of filter 341:   556 ( 15.08s )\n",
      "Costs of filter 342:   318 ( 14.95s )\n",
      "Costs of filter 348:   474 ( 15.40s )\n",
      "Costs of filter 351:   449 ( 15.29s )\n",
      "Costs of filter 359:   318 ( 15.44s )\n",
      "Costs of filter 360:   486 ( 15.29s )\n",
      "Costs of filter 365:   364 ( 15.75s )\n",
      "Costs of filter 372:   383 ( 15.73s )\n",
      "Costs of filter 373:   463 ( 15.78s )\n",
      "Costs of filter 375:   760 ( 15.53s )\n",
      "Costs of filter 376:   394 ( 15.65s )\n",
      "Costs of filter 377:   430 ( 15.84s )\n",
      "Costs of filter 378:   264 ( 15.77s )\n",
      "Costs of filter 379:   328 ( 15.67s )\n",
      "Costs of filter 380:   518 ( 15.83s )\n",
      "Costs of filter 383:   450 ( 15.73s )\n",
      "146 filter processed.\n",
      "Draw some of the filters---------------------\n"
     ]
    }
   ],
   "source": [
    "visualize_layer(model_complex, \"conv2d_70\")"
   ]
  },
  {
   "cell_type": "code",
   "execution_count": 169,
   "metadata": {},
   "outputs": [
    {
     "name": "stdout",
     "output_type": "stream",
     "text": [
      "Compute filters 0 to 256\n",
      "-------------FILTERS HAVE BEEN COMPUTED-------\n",
      "Costs of filter   1:   528 ( 16.64s )\n",
      "Costs of filter   3:   327 ( 16.16s )\n",
      "Costs of filter   5:   819 ( 16.26s )\n",
      "Costs of filter   7:   558 ( 16.47s )\n",
      "Costs of filter   8:   476 ( 16.46s )\n",
      "Costs of filter   9:   672 ( 16.55s )\n",
      "Costs of filter  10:   436 ( 16.41s )\n",
      "Costs of filter  14:   634 ( 16.26s )\n",
      "Costs of filter  15:  1015 ( 16.18s )\n",
      "Costs of filter  16:   452 ( 16.36s )\n",
      "Costs of filter  20:   530 ( 16.18s )\n",
      "Costs of filter  23:   425 ( 16.24s )\n",
      "Costs of filter  24:   597 ( 16.27s )\n",
      "Costs of filter  30:   429 ( 16.50s )\n",
      "Costs of filter  31:   589 ( 16.52s )\n",
      "Costs of filter  34:   744 ( 16.83s )\n",
      "Costs of filter  35:   527 ( 16.69s )\n",
      "Costs of filter  37:   632 ( 17.09s )\n",
      "Costs of filter  41:   650 ( 17.06s )\n",
      "Costs of filter  42:   498 ( 16.87s )\n",
      "Costs of filter  44:   579 ( 16.94s )\n",
      "Costs of filter  45:   469 ( 17.24s )\n",
      "Costs of filter  47:   573 ( 16.74s )\n",
      "Costs of filter  50:   750 ( 17.02s )\n",
      "Costs of filter  51:   454 ( 16.88s )\n",
      "Costs of filter  53:   378 ( 16.88s )\n",
      "Costs of filter  54:   736 ( 16.89s )\n",
      "Costs of filter  57:   813 ( 17.26s )\n",
      "Costs of filter  60:   477 ( 17.26s )\n",
      "Costs of filter  63:   379 ( 16.98s )\n",
      "Costs of filter  64:   577 ( 17.13s )\n",
      "Costs of filter  66:   513 ( 17.25s )\n",
      "Costs of filter  67:   493 ( 17.10s )\n",
      "Costs of filter  70:   674 ( 17.16s )\n",
      "Costs of filter  76:   644 ( 17.29s )\n",
      "Costs of filter  77:   405 ( 17.62s )\n",
      "Costs of filter  83:   722 ( 17.32s )\n",
      "Costs of filter  85:   436 ( 17.54s )\n",
      "Costs of filter  87:   698 ( 17.58s )\n",
      "Costs of filter  88:   747 ( 17.60s )\n",
      "Costs of filter  94:   792 ( 18.04s )\n",
      "Costs of filter  95:   415 ( 17.64s )\n",
      "Costs of filter  96:   496 ( 17.66s )\n",
      "Costs of filter  97:   564 ( 17.83s )\n",
      "Costs of filter  99:   897 ( 17.89s )\n",
      "Costs of filter 103:   638 ( 18.07s )\n",
      "Costs of filter 104:   384 ( 18.03s )\n",
      "Costs of filter 111:   541 ( 18.48s )\n",
      "Costs of filter 113:   491 ( 18.31s )\n",
      "Costs of filter 115:   917 ( 18.23s )\n",
      "Costs of filter 121:   573 ( 18.48s )\n",
      "Costs of filter 127:   493 ( 18.62s )\n",
      "Costs of filter 131:   474 ( 18.58s )\n",
      "Costs of filter 135:   552 ( 18.71s )\n",
      "Costs of filter 139:   551 ( 18.86s )\n",
      "Costs of filter 140:   437 ( 19.42s )\n",
      "Costs of filter 141:   464 ( 18.83s )\n",
      "Costs of filter 143:   469 ( 18.64s )\n",
      "Costs of filter 144:   680 ( 18.54s )\n",
      "Costs of filter 147:   721 ( 19.09s )\n",
      "Costs of filter 151:   405 ( 19.01s )\n",
      "Costs of filter 154:   844 ( 18.92s )\n",
      "Costs of filter 158:   877 ( 19.14s )\n",
      "Costs of filter 162:   706 ( 18.98s )\n",
      "Costs of filter 164:   325 ( 19.30s )\n",
      "Costs of filter 165:   517 ( 20.18s )\n",
      "Costs of filter 166:   598 ( 19.44s )\n",
      "Costs of filter 167:   565 ( 19.30s )\n",
      "Costs of filter 168:   512 ( 19.47s )\n",
      "Costs of filter 169:   544 ( 19.46s )\n",
      "Costs of filter 174:   504 ( 19.37s )\n",
      "Costs of filter 178:   621 ( 19.54s )\n",
      "Costs of filter 186:   811 ( 21.36s )\n",
      "Costs of filter 187:   373 ( 22.45s )\n",
      "Costs of filter 188:   325 ( 21.51s )\n",
      "Costs of filter 190:   614 ( 21.27s )\n",
      "Costs of filter 197:   856 ( 24.74s )\n",
      "Costs of filter 198:   745 ( 23.05s )\n",
      "Costs of filter 199:   857 ( 23.32s )\n",
      "Costs of filter 201:   598 ( 25.84s )\n",
      "Costs of filter 204:   562 ( 25.16s )\n",
      "Costs of filter 205:   522 ( 23.94s )\n",
      "Costs of filter 207:   606 ( 25.32s )\n",
      "Costs of filter 209:   639 ( 21.89s )\n",
      "Costs of filter 216:   684 ( 27.65s )\n",
      "Costs of filter 218:   561 ( 21.34s )\n",
      "Costs of filter 219:   750 ( 24.16s )\n",
      "Costs of filter 220:   858 ( 21.88s )\n",
      "Costs of filter 226:   535 ( 21.64s )\n",
      "Costs of filter 227:   515 ( 21.44s )\n",
      "Costs of filter 228:   707 ( 21.77s )\n",
      "Costs of filter 229:   730 ( 24.87s )\n",
      "Costs of filter 230:   506 ( 24.89s )\n",
      "Costs of filter 238:   482 ( 23.37s )\n",
      "Costs of filter 240:   573 ( 24.72s )\n",
      "Costs of filter 241:   379 ( 25.17s )\n",
      "Costs of filter 242:   506 ( 24.58s )\n",
      "Costs of filter 243:   510 ( 22.58s )\n",
      "Costs of filter 244:   656 ( 22.04s )\n",
      "Costs of filter 246:   770 ( 22.50s )\n",
      "Costs of filter 248:   702 ( 21.95s )\n",
      "Costs of filter 254:   817 ( 24.22s )\n",
      "102 filter processed.\n",
      "Draw some of the filters---------------------\n"
     ]
    }
   ],
   "source": [
    "visualize_layer(model_complex, \"conv2d_71\")"
   ]
  },
  {
   "cell_type": "code",
   "execution_count": 170,
   "metadata": {},
   "outputs": [
    {
     "name": "stdout",
     "output_type": "stream",
     "text": [
      "Compute filters 0 to 192\n",
      "-------------FILTERS HAVE BEEN COMPUTED-------\n"
     ]
    },
    {
     "ename": "InvalidArgumentError",
     "evalue": "2 root error(s) found.\n  (0) Invalid argument: ConcatOp : Dimensions of inputs should match: shape[0] = [1,256,3,3] vs. shape[2] = [1,256,4,4]\n\t [[{{node concatenate_11/concat}}]]\n\t [[Mean_3828/_22501]]\n  (1) Invalid argument: ConcatOp : Dimensions of inputs should match: shape[0] = [1,256,3,3] vs. shape[2] = [1,256,4,4]\n\t [[{{node concatenate_11/concat}}]]\n0 successful operations.\n0 derived errors ignored.",
     "output_type": "error",
     "traceback": [
      "\u001b[1;31m---------------------------------------------------------------------------\u001b[0m",
      "\u001b[1;31mInvalidArgumentError\u001b[0m                      Traceback (most recent call last)",
      "\u001b[1;32m<ipython-input-170-49ccee0af847>\u001b[0m in \u001b[0;36m<module>\u001b[1;34m()\u001b[0m\n\u001b[1;32m----> 1\u001b[1;33m \u001b[0mvisualize_layer\u001b[0m\u001b[1;33m(\u001b[0m\u001b[0mmodel_complex\u001b[0m\u001b[1;33m,\u001b[0m \u001b[1;34m\"Conv_ALL\"\u001b[0m\u001b[1;33m)\u001b[0m\u001b[1;33m\u001b[0m\u001b[0m\n\u001b[0m",
      "\u001b[1;32m<ipython-input-163-7990861ae071>\u001b[0m in \u001b[0;36mvisualize_layer\u001b[1;34m(model, layer_name, step, epochs, upscaling_steps, upscaling_factor, output_dim, filter_range)\u001b[0m\n\u001b[0;32m    231\u001b[0m     \u001b[0mprocessed_filters\u001b[0m \u001b[1;33m=\u001b[0m \u001b[1;33m[\u001b[0m\u001b[1;33m]\u001b[0m\u001b[1;33m\u001b[0m\u001b[0m\n\u001b[0;32m    232\u001b[0m     \u001b[1;32mfor\u001b[0m \u001b[0mf\u001b[0m \u001b[1;32min\u001b[0m \u001b[0mrange\u001b[0m\u001b[1;33m(\u001b[0m\u001b[0mfilter_lower\u001b[0m\u001b[1;33m,\u001b[0m \u001b[0mfilter_upper\u001b[0m\u001b[1;33m)\u001b[0m\u001b[1;33m:\u001b[0m\u001b[1;33m\u001b[0m\u001b[0m\n\u001b[1;32m--> 233\u001b[1;33m         \u001b[0mimg_loss\u001b[0m \u001b[1;33m=\u001b[0m \u001b[0m_generate_filter_image\u001b[0m\u001b[1;33m(\u001b[0m\u001b[0minput_img\u001b[0m\u001b[1;33m,\u001b[0m \u001b[0moutput_layer\u001b[0m\u001b[1;33m.\u001b[0m\u001b[0moutput\u001b[0m\u001b[1;33m,\u001b[0m \u001b[0mf\u001b[0m\u001b[1;33m)\u001b[0m\u001b[1;33m\u001b[0m\u001b[0m\n\u001b[0m\u001b[0;32m    234\u001b[0m \u001b[1;33m\u001b[0m\u001b[0m\n\u001b[0;32m    235\u001b[0m         \u001b[1;32mif\u001b[0m \u001b[0mimg_loss\u001b[0m \u001b[1;32mis\u001b[0m \u001b[1;32mnot\u001b[0m \u001b[1;32mNone\u001b[0m\u001b[1;33m:\u001b[0m\u001b[1;33m\u001b[0m\u001b[0m\n",
      "\u001b[1;32m<ipython-input-163-7990861ae071>\u001b[0m in \u001b[0;36m_generate_filter_image\u001b[1;34m(input_img, layer_output, filter_index)\u001b[0m\n\u001b[0;32m    144\u001b[0m             \u001b[1;31m# we run gradient ascent for e.g. 20 steps\u001b[0m\u001b[1;33m\u001b[0m\u001b[1;33m\u001b[0m\u001b[0m\n\u001b[0;32m    145\u001b[0m             \u001b[1;32mfor\u001b[0m \u001b[0m_\u001b[0m \u001b[1;32min\u001b[0m \u001b[0mrange\u001b[0m\u001b[1;33m(\u001b[0m\u001b[0mepochs\u001b[0m\u001b[1;33m)\u001b[0m\u001b[1;33m:\u001b[0m\u001b[1;33m\u001b[0m\u001b[0m\n\u001b[1;32m--> 146\u001b[1;33m                 \u001b[0mloss_value\u001b[0m\u001b[1;33m,\u001b[0m \u001b[0mgrads_value\u001b[0m \u001b[1;33m=\u001b[0m \u001b[0miterate\u001b[0m\u001b[1;33m(\u001b[0m\u001b[1;33m[\u001b[0m\u001b[0minput_img_data\u001b[0m\u001b[1;33m]\u001b[0m\u001b[1;33m)\u001b[0m\u001b[1;33m\u001b[0m\u001b[0m\n\u001b[0m\u001b[0;32m    147\u001b[0m                 \u001b[0minput_img_data\u001b[0m \u001b[1;33m+=\u001b[0m \u001b[0mgrads_value\u001b[0m \u001b[1;33m*\u001b[0m \u001b[0mstep\u001b[0m\u001b[1;33m\u001b[0m\u001b[0m\n\u001b[0;32m    148\u001b[0m \u001b[1;33m\u001b[0m\u001b[0m\n",
      "\u001b[1;32mD:\\Applications\\Python3\\lib\\site-packages\\keras\\backend\\tensorflow_backend.py\u001b[0m in \u001b[0;36m__call__\u001b[1;34m(self, inputs)\u001b[0m\n\u001b[0;32m   2713\u001b[0m                 \u001b[1;32mreturn\u001b[0m \u001b[0mself\u001b[0m\u001b[1;33m.\u001b[0m\u001b[0m_legacy_call\u001b[0m\u001b[1;33m(\u001b[0m\u001b[0minputs\u001b[0m\u001b[1;33m)\u001b[0m\u001b[1;33m\u001b[0m\u001b[0m\n\u001b[0;32m   2714\u001b[0m \u001b[1;33m\u001b[0m\u001b[0m\n\u001b[1;32m-> 2715\u001b[1;33m             \u001b[1;32mreturn\u001b[0m \u001b[0mself\u001b[0m\u001b[1;33m.\u001b[0m\u001b[0m_call\u001b[0m\u001b[1;33m(\u001b[0m\u001b[0minputs\u001b[0m\u001b[1;33m)\u001b[0m\u001b[1;33m\u001b[0m\u001b[0m\n\u001b[0m\u001b[0;32m   2716\u001b[0m         \u001b[1;32melse\u001b[0m\u001b[1;33m:\u001b[0m\u001b[1;33m\u001b[0m\u001b[0m\n\u001b[0;32m   2717\u001b[0m             \u001b[1;32mif\u001b[0m \u001b[0mpy_any\u001b[0m\u001b[1;33m(\u001b[0m\u001b[0mis_tensor\u001b[0m\u001b[1;33m(\u001b[0m\u001b[0mx\u001b[0m\u001b[1;33m)\u001b[0m \u001b[1;32mfor\u001b[0m \u001b[0mx\u001b[0m \u001b[1;32min\u001b[0m \u001b[0minputs\u001b[0m\u001b[1;33m)\u001b[0m\u001b[1;33m:\u001b[0m\u001b[1;33m\u001b[0m\u001b[0m\n",
      "\u001b[1;32mD:\\Applications\\Python3\\lib\\site-packages\\keras\\backend\\tensorflow_backend.py\u001b[0m in \u001b[0;36m_call\u001b[1;34m(self, inputs)\u001b[0m\n\u001b[0;32m   2673\u001b[0m             \u001b[0mfetched\u001b[0m \u001b[1;33m=\u001b[0m \u001b[0mself\u001b[0m\u001b[1;33m.\u001b[0m\u001b[0m_callable_fn\u001b[0m\u001b[1;33m(\u001b[0m\u001b[1;33m*\u001b[0m\u001b[0marray_vals\u001b[0m\u001b[1;33m,\u001b[0m \u001b[0mrun_metadata\u001b[0m\u001b[1;33m=\u001b[0m\u001b[0mself\u001b[0m\u001b[1;33m.\u001b[0m\u001b[0mrun_metadata\u001b[0m\u001b[1;33m)\u001b[0m\u001b[1;33m\u001b[0m\u001b[0m\n\u001b[0;32m   2674\u001b[0m         \u001b[1;32melse\u001b[0m\u001b[1;33m:\u001b[0m\u001b[1;33m\u001b[0m\u001b[0m\n\u001b[1;32m-> 2675\u001b[1;33m             \u001b[0mfetched\u001b[0m \u001b[1;33m=\u001b[0m \u001b[0mself\u001b[0m\u001b[1;33m.\u001b[0m\u001b[0m_callable_fn\u001b[0m\u001b[1;33m(\u001b[0m\u001b[1;33m*\u001b[0m\u001b[0marray_vals\u001b[0m\u001b[1;33m)\u001b[0m\u001b[1;33m\u001b[0m\u001b[0m\n\u001b[0m\u001b[0;32m   2676\u001b[0m         \u001b[1;32mreturn\u001b[0m \u001b[0mfetched\u001b[0m\u001b[1;33m[\u001b[0m\u001b[1;33m:\u001b[0m\u001b[0mlen\u001b[0m\u001b[1;33m(\u001b[0m\u001b[0mself\u001b[0m\u001b[1;33m.\u001b[0m\u001b[0moutputs\u001b[0m\u001b[1;33m)\u001b[0m\u001b[1;33m]\u001b[0m\u001b[1;33m\u001b[0m\u001b[0m\n\u001b[0;32m   2677\u001b[0m \u001b[1;33m\u001b[0m\u001b[0m\n",
      "\u001b[1;32mD:\\Applications\\Python3\\lib\\site-packages\\tensorflow\\python\\client\\session.py\u001b[0m in \u001b[0;36m__call__\u001b[1;34m(self, *args, **kwargs)\u001b[0m\n\u001b[0;32m   1456\u001b[0m         ret = tf_session.TF_SessionRunCallable(self._session._session,\n\u001b[0;32m   1457\u001b[0m                                                \u001b[0mself\u001b[0m\u001b[1;33m.\u001b[0m\u001b[0m_handle\u001b[0m\u001b[1;33m,\u001b[0m \u001b[0margs\u001b[0m\u001b[1;33m,\u001b[0m\u001b[1;33m\u001b[0m\u001b[0m\n\u001b[1;32m-> 1458\u001b[1;33m                                                run_metadata_ptr)\n\u001b[0m\u001b[0;32m   1459\u001b[0m         \u001b[1;32mif\u001b[0m \u001b[0mrun_metadata\u001b[0m\u001b[1;33m:\u001b[0m\u001b[1;33m\u001b[0m\u001b[0m\n\u001b[0;32m   1460\u001b[0m           \u001b[0mproto_data\u001b[0m \u001b[1;33m=\u001b[0m \u001b[0mtf_session\u001b[0m\u001b[1;33m.\u001b[0m\u001b[0mTF_GetBuffer\u001b[0m\u001b[1;33m(\u001b[0m\u001b[0mrun_metadata_ptr\u001b[0m\u001b[1;33m)\u001b[0m\u001b[1;33m\u001b[0m\u001b[0m\n",
      "\u001b[1;31mInvalidArgumentError\u001b[0m: 2 root error(s) found.\n  (0) Invalid argument: ConcatOp : Dimensions of inputs should match: shape[0] = [1,256,3,3] vs. shape[2] = [1,256,4,4]\n\t [[{{node concatenate_11/concat}}]]\n\t [[Mean_3828/_22501]]\n  (1) Invalid argument: ConcatOp : Dimensions of inputs should match: shape[0] = [1,256,3,3] vs. shape[2] = [1,256,4,4]\n\t [[{{node concatenate_11/concat}}]]\n0 successful operations.\n0 derived errors ignored."
     ]
    }
   ],
   "source": [
    "visualize_layer(model_complex, \"Conv_ALL\")"
   ]
  },
  {
   "cell_type": "code",
   "execution_count": null,
   "metadata": {},
   "outputs": [],
   "source": []
  }
 ],
 "metadata": {
  "kernelspec": {
   "display_name": "Python 3",
   "language": "python",
   "name": "python3"
  },
  "language_info": {
   "codemirror_mode": {
    "name": "ipython",
    "version": 3
   },
   "file_extension": ".py",
   "mimetype": "text/x-python",
   "name": "python",
   "nbconvert_exporter": "python",
   "pygments_lexer": "ipython3",
   "version": "3.6.1"
  }
 },
 "nbformat": 4,
 "nbformat_minor": 1
}

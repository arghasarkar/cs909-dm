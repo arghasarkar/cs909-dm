{
 "cells": [
  {
   "cell_type": "markdown",
   "metadata": {},
   "source": [
    "# CNN for Image Classification\n",
    "\n",
    "In this lab, you are given a dataset containing 6,000 pictures of cats and dogs (3,000 cats, 3,000 dogs) and asked to train a classifier built upon Convolutional Neural Networks (ConvNets) to classify images as \"dogs\" or \"cats\"."
   ]
  },
  {
   "cell_type": "code",
   "execution_count": 1,
   "metadata": {},
   "outputs": [
    {
     "name": "stderr",
     "output_type": "stream",
     "text": [
      "D:\\Applications\\Python3\\lib\\site-packages\\h5py\\__init__.py:36: FutureWarning: Conversion of the second argument of issubdtype from `float` to `np.floating` is deprecated. In future, it will be treated as `np.float64 == np.dtype(float).type`.\n",
      "  from ._conv import register_converters as _register_converters\n",
      "Using TensorFlow backend.\n"
     ]
    }
   ],
   "source": [
    "%matplotlib inline\n",
    "\n",
    "import os\n",
    "import numpy as np\n",
    "import matplotlib.pyplot as plt\n",
    "import cv2\n",
    "\n",
    "# from __future__ import print_function\n",
    "import keras\n",
    "from keras import metrics\n",
    "from keras.preprocessing.image import ImageDataGenerator\n",
    "from keras.models import Sequential\n",
    "from keras.layers import Dense, Dropout, Activation, Flatten, BatchNormalization\n",
    "from keras.layers import Conv2D, MaxPooling2D"
   ]
  },
  {
   "cell_type": "markdown",
   "metadata": {},
   "source": [
    "### Exercise 1 \n",
    "Split the dataset by selecting 4,800 pictures for training, 600 for validation, and 600 for testing."
   ]
  },
  {
   "cell_type": "code",
   "execution_count": 2,
   "metadata": {
    "scrolled": true
   },
   "outputs": [],
   "source": [
    "img_width = 50\n",
    "img_height = 50\n",
    "num_classes = 2\n",
    "DATA_DIR = './data/'\n",
    "image_filenames = [DATA_DIR+i for i in os.listdir(DATA_DIR)] # use this for full dataset\n",
    "\n",
    "# Setting the random seed\n",
    "np.random.seed(200)\n",
    "\n",
    "\n",
    "# Split the data in three sets, 80% for training, 10% for validation and 10% for testing\n",
    "# make sure that the image filenames have a fixed order before shuffling\n",
    "# Add your code here"
   ]
  },
  {
   "cell_type": "code",
   "execution_count": 3,
   "metadata": {},
   "outputs": [],
   "source": [
    "import pandas as pd\n",
    "from sklearn import datasets, linear_model\n",
    "from sklearn.model_selection import train_test_split"
   ]
  },
  {
   "cell_type": "markdown",
   "metadata": {},
   "source": [
    "The function ```get_class_from_filename``` takes the file path and returns ***0*** for cats and ***1*** for dogs.\n",
    "\n",
    "The function ```generate_class_arr``` takes the array of filenames and returns an array of class numbers using the function ```get_class_from_filename```."
   ]
  },
  {
   "cell_type": "code",
   "execution_count": 4,
   "metadata": {},
   "outputs": [],
   "source": [
    "\n",
    "def load_images(filenames):\n",
    "    \n",
    "    files = []\n",
    "    for i in range(len(filenames)):\n",
    "        files.append(cv2.imread(filenames[i]))\n",
    "        \n",
    "    return np.array(resize_files(files))\n",
    "\n",
    "\n",
    "def resize_files(files):\n",
    "    _files = []\n",
    "    for i in range(len(files)):\n",
    "        _resized = np.array(cv2.resize(files[i], (img_width, img_height),interpolation=cv2.INTER_AREA))\n",
    "        _normalized = np.true_divide(_resized, 255)\n",
    "        _files.append(_normalized)\n",
    "        \n",
    "    return _files\n",
    "\n",
    "\n",
    "def get_class_from_filename(filename):\n",
    "    \n",
    "    parts = filename.split(\".\")\n",
    "    size = len(parts)\n",
    "    \n",
    "    _class = parts[size - 3]\n",
    "    _class = _class[-3:]\n",
    "    \n",
    "    return np.array([0, 1] if _class == \"cat\" else [1,0])\n",
    "\n",
    "\n",
    "# print(get_class_from_filename(\"./test/dog.267.jpg\"))\n",
    "\n",
    "def generate_class_arr(filenames):\n",
    "    \n",
    "    classes = []\n",
    "    \n",
    "    for i in range(len(filenames)):\n",
    "        classes.append(get_class_from_filename(filenames[i]))\n",
    "    \n",
    "    return np.array(classes)\n",
    "\n",
    "# arr = ['./data/cat.2718.jpg', './data/dog.1753.jpg', './data/cat.1211.jpg', './data/dog.775.jpg', './data/cat.1577.jpg', './data/cat.952.jpg']\n",
    "# print(generate_class_arr(arr))\n",
    "        "
   ]
  },
  {
   "cell_type": "code",
   "execution_count": 5,
   "metadata": {},
   "outputs": [],
   "source": [
    "y = generate_class_arr(image_filenames)"
   ]
  },
  {
   "cell_type": "code",
   "execution_count": 6,
   "metadata": {},
   "outputs": [],
   "source": [
    "\n",
    "x_train_filenames, x_test_filenames, y_train, y_test = train_test_split(image_filenames, y, test_size=0.2)\n",
    "x_test_filenames, x_val_filenames, y_test, y_val = train_test_split(x_test_filenames, y_test, test_size=0.5)\n"
   ]
  },
  {
   "cell_type": "code",
   "execution_count": 7,
   "metadata": {},
   "outputs": [],
   "source": [
    "x_train = load_images(x_train_filenames)\n",
    "x_test = load_images(x_test_filenames)\n",
    "x_val = load_images(x_val_filenames)\n"
   ]
  },
  {
   "cell_type": "code",
   "execution_count": 8,
   "metadata": {
    "scrolled": true
   },
   "outputs": [
    {
     "name": "stdout",
     "output_type": "stream",
     "text": [
      "4800   4800\n",
      "600   600\n",
      "600   600\n"
     ]
    }
   ],
   "source": [
    "# print(x_train_filenames[:5])\n",
    "# print(y_train[:5])\n",
    "print(len(x_train_filenames), \" \", len(y_train))\n",
    "\n",
    "# print(x_test_filenames[:5])\n",
    "# print(y_test[:5])\n",
    "print(len(x_test_filenames), \" \", len(y_test))\n",
    "\n",
    "# print(x_val_filenames[:5])\n",
    "# print(y_val[:5])\n",
    "print(len(x_val_filenames), \" \", len(y_val))\n"
   ]
  },
  {
   "cell_type": "code",
   "execution_count": 9,
   "metadata": {
    "scrolled": true
   },
   "outputs": [
    {
     "name": "stdout",
     "output_type": "stream",
     "text": [
      "Label: [1 0]\n",
      "(50, 50, 3)\n"
     ]
    },
    {
     "data": {
      "image/png": "[encoded data removed]",
      "text/plain": [
       "<matplotlib.figure.Figure at 0x2096393a128>"
      ]
     },
     "metadata": {},
     "output_type": "display_data"
    }
   ],
   "source": [
    "\n",
    "plt.imshow(x_train[0])\n",
    "print(\"Label: {}\".format(y_train[0]))\n",
    "print(x_train[0].shape)\n"
   ]
  },
  {
   "cell_type": "code",
   "execution_count": 10,
   "metadata": {},
   "outputs": [
    {
     "name": "stdout",
     "output_type": "stream",
     "text": [
      "Label: [1 0]\n"
     ]
    },
    {
     "data": {
      "image/png": "[encoded data removed]",
      "text/plain": [
       "<matplotlib.figure.Figure at 0x2096393a6d8>"
      ]
     },
     "metadata": {},
     "output_type": "display_data"
    }
   ],
   "source": [
    "\n",
    "plt.imshow(x_test[0])\n",
    "print(\"Label: {}\".format(y_test[0]))\n"
   ]
  },
  {
   "cell_type": "code",
   "execution_count": 11,
   "metadata": {
    "scrolled": true
   },
   "outputs": [
    {
     "name": "stdout",
     "output_type": "stream",
     "text": [
      "Label: [1 0]\n"
     ]
    },
    {
     "data": {
      "image/png": "[encoded data removed]",
      "text/plain": [
       "<matplotlib.figure.Figure at 0x2097584e518>"
      ]
     },
     "metadata": {},
     "output_type": "display_data"
    }
   ],
   "source": [
    "\n",
    "plt.imshow(x_val[0])\n",
    "print(\"Label: {}\".format(y_val[0]))\n"
   ]
  },
  {
   "cell_type": "markdown",
   "metadata": {},
   "source": [
    "### Exercise 2\n",
    "Train a Convolutional Neural Network (ConvNet) on the training set. The general structure of the ConvNet will be a stack of alternated Conv2D (with relu activation) and MaxPooling2D layers. A Conv2D layer creates a convolution kernel that is convolved with the layer input to produce a tensor of outputs. A MaxPooling2D layer is used to downscale input in both the vertical and horizontal dimensions."
   ]
  },
  {
   "cell_type": "code",
   "execution_count": 12,
   "metadata": {},
   "outputs": [],
   "source": [
    "from keras.layers import Conv2D, MaxPooling2D, GlobalAveragePooling2D"
   ]
  },
  {
   "cell_type": "code",
   "execution_count": 13,
   "metadata": {},
   "outputs": [
    {
     "name": "stdout",
     "output_type": "stream",
     "text": [
      "WARNING:tensorflow:From D:\\Applications\\Python3\\lib\\site-packages\\keras\\backend\\tensorflow_backend.py:1264: calling reduce_prod (from tensorflow.python.ops.math_ops) with keep_dims is deprecated and will be removed in a future version.\n",
      "Instructions for updating:\n",
      "keep_dims is deprecated, use keepdims instead\n"
     ]
    }
   ],
   "source": [
    "# Add your code here\n",
    "\n",
    "\n",
    "input_shape = x_train[1].shape\n",
    "\n",
    "model = Sequential()\n",
    "#add model layers\n",
    "\n",
    "model.add(Conv2D(64, 2,padding='same', input_shape=input_shape))\n",
    "model.add(BatchNormalization())\n",
    "model.add(Activation('relu'))\n",
    "model.add(MaxPooling2D(pool_size=(2,2)))\n",
    "model.add(Dropout(0.2))\n",
    "\n",
    "model.add(Conv2D(128, 2, padding='same'))\n",
    "model.add(BatchNormalization())\n",
    "model.add(Activation('relu'))\n",
    "model.add(MaxPooling2D(pool_size=(2,2)))\n",
    "model.add(Dropout(0.2))\n",
    "\n",
    "model.add(Conv2D(256, 2, padding='same'))\n",
    "model.add(BatchNormalization())\n",
    "model.add(Activation('relu'))\n",
    "model.add(MaxPooling2D(pool_size=(2,2)))\n",
    "\n",
    "model.add(Flatten())\n",
    "\n",
    "model.add(Dense(512, activation='relu'))\n",
    "model.add(BatchNormalization())\n",
    "model.add(Dropout(0.2))\n",
    "model.add(Dense(256, activation='relu'))\n",
    "\n",
    "model.add(Dense(2, activation='sigmoid'))\n",
    "          "
   ]
  },
  {
   "cell_type": "code",
   "execution_count": 14,
   "metadata": {},
   "outputs": [
    {
     "name": "stdout",
     "output_type": "stream",
     "text": [
      "_________________________________________________________________\n",
      "Layer (type)                 Output Shape              Param #   \n",
      "=================================================================\n",
      "conv2d_1 (Conv2D)            (None, 50, 50, 64)        832       \n",
      "_________________________________________________________________\n",
      "batch_normalization_1 (Batch (None, 50, 50, 64)        256       \n",
      "_________________________________________________________________\n",
      "activation_1 (Activation)    (None, 50, 50, 64)        0         \n",
      "_________________________________________________________________\n",
      "max_pooling2d_1 (MaxPooling2 (None, 25, 25, 64)        0         \n",
      "_________________________________________________________________\n",
      "dropout_1 (Dropout)          (None, 25, 25, 64)        0         \n",
      "_________________________________________________________________\n",
      "conv2d_2 (Conv2D)            (None, 25, 25, 128)       32896     \n",
      "_________________________________________________________________\n",
      "batch_normalization_2 (Batch (None, 25, 25, 128)       512       \n",
      "_________________________________________________________________\n",
      "activation_2 (Activation)    (None, 25, 25, 128)       0         \n",
      "_________________________________________________________________\n",
      "max_pooling2d_2 (MaxPooling2 (None, 12, 12, 128)       0         \n",
      "_________________________________________________________________\n",
      "dropout_2 (Dropout)          (None, 12, 12, 128)       0         \n",
      "_________________________________________________________________\n",
      "conv2d_3 (Conv2D)            (None, 12, 12, 256)       131328    \n",
      "_________________________________________________________________\n",
      "batch_normalization_3 (Batch (None, 12, 12, 256)       1024      \n",
      "_________________________________________________________________\n",
      "activation_3 (Activation)    (None, 12, 12, 256)       0         \n",
      "_________________________________________________________________\n",
      "max_pooling2d_3 (MaxPooling2 (None, 6, 6, 256)         0         \n",
      "_________________________________________________________________\n",
      "flatten_1 (Flatten)          (None, 9216)              0         \n",
      "_________________________________________________________________\n",
      "dense_1 (Dense)              (None, 512)               4719104   \n",
      "_________________________________________________________________\n",
      "batch_normalization_4 (Batch (None, 512)               2048      \n",
      "_________________________________________________________________\n",
      "dropout_3 (Dropout)          (None, 512)               0         \n",
      "_________________________________________________________________\n",
      "dense_2 (Dense)              (None, 256)               131328    \n",
      "_________________________________________________________________\n",
      "dense_3 (Dense)              (None, 2)                 514       \n",
      "=================================================================\n",
      "Total params: 5,019,842\n",
      "Trainable params: 5,017,922\n",
      "Non-trainable params: 1,920\n",
      "_________________________________________________________________\n"
     ]
    }
   ],
   "source": [
    "model.summary()"
   ]
  },
  {
   "cell_type": "code",
   "execution_count": 15,
   "metadata": {},
   "outputs": [],
   "source": [
    "batch_size = 128"
   ]
  },
  {
   "cell_type": "code",
   "execution_count": 16,
   "metadata": {},
   "outputs": [],
   "source": [
    "epochs = 60"
   ]
  },
  {
   "cell_type": "code",
   "execution_count": 17,
   "metadata": {},
   "outputs": [
    {
     "name": "stdout",
     "output_type": "stream",
     "text": [
      "WARNING:tensorflow:From D:\\Applications\\Python3\\lib\\site-packages\\keras\\backend\\tensorflow_backend.py:2885: calling reduce_sum (from tensorflow.python.ops.math_ops) with keep_dims is deprecated and will be removed in a future version.\n",
      "Instructions for updating:\n",
      "keep_dims is deprecated, use keepdims instead\n",
      "WARNING:tensorflow:From D:\\Applications\\Python3\\lib\\site-packages\\keras\\backend\\tensorflow_backend.py:1349: calling reduce_mean (from tensorflow.python.ops.math_ops) with keep_dims is deprecated and will be removed in a future version.\n",
      "Instructions for updating:\n",
      "keep_dims is deprecated, use keepdims instead\n"
     ]
    }
   ],
   "source": [
    "optimizer = keras.optimizers.RMSprop(lr=0.00005)\n",
    "model.compile(optimizer=optimizer, loss='categorical_crossentropy', metrics=['accuracy'])\n"
   ]
  },
  {
   "cell_type": "code",
   "execution_count": 18,
   "metadata": {},
   "outputs": [
    {
     "name": "stdout",
     "output_type": "stream",
     "text": [
      "600\n"
     ]
    }
   ],
   "source": [
    "print(len(x_test))"
   ]
  },
  {
   "cell_type": "code",
   "execution_count": 132,
   "metadata": {},
   "outputs": [
    {
     "name": "stdout",
     "output_type": "stream",
     "text": [
      "50\n",
      "(50, 50, 3)\n",
      "<class 'numpy.ndarray'>\n",
      "4800\n",
      "<class 'numpy.ndarray'>\n",
      "<class 'numpy.ndarray'>\n",
      "(2,)\n"
     ]
    }
   ],
   "source": [
    "print(len(x_train[5]))\n",
    "print(x_train[5].shape)\n",
    "print(type(x_train))\n",
    "print(len(y_train))\n",
    "print(type(y_train))\n",
    "print(type(y_train[0]))\n",
    "print(y_train[0].shape)"
   ]
  },
  {
   "cell_type": "code",
   "execution_count": 133,
   "metadata": {},
   "outputs": [
    {
     "name": "stdout",
     "output_type": "stream",
     "text": [
      "sys.version_info(major=3, minor=6, micro=1, releaselevel='final', serial=0)\n"
     ]
    }
   ],
   "source": [
    "x_train_in = np.array(x_train[:2])\n",
    "y_train_in = np.array(y_train[:2])\n",
    "\n",
    "import sys\n",
    "print(sys.version_info)"
   ]
  },
  {
   "cell_type": "code",
   "execution_count": 21,
   "metadata": {},
   "outputs": [],
   "source": [
    "from keras.callbacks import ModelCheckpoint\n",
    "\n",
    "weights_filepath = \"weights.hdf5\"\n",
    "checkpoint = ModelCheckpoint(weights_filepath, monitor = 'val_acc', verbose = 1, save_best_only = True, mode='max')\n",
    "callbacks_list = [checkpoint]\n"
   ]
  },
  {
   "cell_type": "code",
   "execution_count": 22,
   "metadata": {},
   "outputs": [],
   "source": [
    "# import os.path\n",
    "# from keras.models import load_model\n",
    "\n",
    "# def load_model_weights(filepath):\n",
    "    \n",
    "#     if os.path.exists(filepath):\n",
    "#         model = load_model(filepath)\n",
    "#         return True, model\n",
    "\n",
    "# _model_exists, _model = load_model_weights\n",
    "\n",
    "# if _model_exists:\n",
    "#     model = _model\n",
    "    "
   ]
  },
  {
   "cell_type": "code",
   "execution_count": 23,
   "metadata": {},
   "outputs": [
    {
     "name": "stdout",
     "output_type": "stream",
     "text": [
      "Train on 4800 samples, validate on 600 samples\n",
      "Epoch 1/60\n",
      "4736/4800 [============================>.] - ETA: 0s - loss: 0.6668 - acc: 0.6102Epoch 00001: val_acc improved from -inf to 0.50500, saving model to weights.hdf5\n",
      "4800/4800 [==============================] - 7s 2ms/step - loss: 0.6656 - acc: 0.6106 - val_loss: 0.6940 - val_acc: 0.5050\n",
      "Epoch 2/60\n",
      "4736/4800 [============================>.] - ETA: 0s - loss: 0.5993 - acc: 0.6767Epoch 00002: val_acc did not improve\n",
      "4800/4800 [==============================] - 3s 718us/step - loss: 0.5996 - acc: 0.6760 - val_loss: 0.7071 - val_acc: 0.5050\n",
      "Epoch 3/60\n",
      "4736/4800 [============================>.] - ETA: 0s - loss: 0.5684 - acc: 0.6983Epoch 00003: val_acc did not improve\n",
      "4800/4800 [==============================] - 3s 720us/step - loss: 0.5682 - acc: 0.6981 - val_loss: 0.7880 - val_acc: 0.5050\n",
      "Epoch 4/60\n",
      "4736/4800 [============================>.] - ETA: 0s - loss: 0.5500 - acc: 0.7156Epoch 00004: val_acc did not improve\n",
      "4800/4800 [==============================] - 3s 722us/step - loss: 0.5504 - acc: 0.7154 - val_loss: 0.8407 - val_acc: 0.5050\n",
      "Epoch 5/60\n",
      "4736/4800 [============================>.] - ETA: 0s - loss: 0.5235 - acc: 0.7359Epoch 00005: val_acc did not improve\n",
      "4800/4800 [==============================] - 3s 719us/step - loss: 0.5225 - acc: 0.7365 - val_loss: 0.8830 - val_acc: 0.5050\n",
      "Epoch 6/60\n",
      "4736/4800 [============================>.] - ETA: 0s - loss: 0.5266 - acc: 0.7308Epoch 00006: val_acc did not improve\n",
      "4800/4800 [==============================] - 3s 720us/step - loss: 0.5270 - acc: 0.7315 - val_loss: 0.9269 - val_acc: 0.5050\n",
      "Epoch 7/60\n",
      "4736/4800 [============================>.] - ETA: 0s - loss: 0.4958 - acc: 0.7555Epoch 00007: val_acc improved from 0.50500 to 0.52167, saving model to weights.hdf5\n",
      "4800/4800 [==============================] - 4s 733us/step - loss: 0.4965 - acc: 0.7554 - val_loss: 0.7116 - val_acc: 0.5217\n",
      "Epoch 8/60\n",
      "4736/4800 [============================>.] - ETA: 0s - loss: 0.4920 - acc: 0.7462Epoch 00008: val_acc improved from 0.52167 to 0.53500, saving model to weights.hdf5\n",
      "4800/4800 [==============================] - 4s 735us/step - loss: 0.4920 - acc: 0.7465 - val_loss: 0.6929 - val_acc: 0.5350\n",
      "Epoch 9/60\n",
      "4736/4800 [============================>.] - ETA: 0s - loss: 0.4778 - acc: 0.7595Epoch 00009: val_acc did not improve\n",
      "4800/4800 [==============================] - 3s 719us/step - loss: 0.4768 - acc: 0.7598 - val_loss: 0.9647 - val_acc: 0.5050\n",
      "Epoch 10/60\n",
      "4736/4800 [============================>.] - ETA: 0s - loss: 0.4663 - acc: 0.7679Epoch 00010: val_acc did not improve\n",
      "4800/4800 [==============================] - 3s 719us/step - loss: 0.4650 - acc: 0.7694 - val_loss: 0.8456 - val_acc: 0.5150\n",
      "Epoch 11/60\n",
      "4736/4800 [============================>.] - ETA: 0s - loss: 0.4517 - acc: 0.7810Epoch 00011: val_acc did not improve\n",
      "4800/4800 [==============================] - 3s 720us/step - loss: 0.4516 - acc: 0.7810 - val_loss: 0.8933 - val_acc: 0.5200\n",
      "Epoch 12/60\n",
      "4736/4800 [============================>.] - ETA: 0s - loss: 0.4468 - acc: 0.7827Epoch 00012: val_acc improved from 0.53500 to 0.56833, saving model to weights.hdf5\n",
      "4800/4800 [==============================] - 4s 747us/step - loss: 0.4476 - acc: 0.7825 - val_loss: 0.7773 - val_acc: 0.5683\n",
      "Epoch 13/60\n",
      "4736/4800 [============================>.] - ETA: 0s - loss: 0.4321 - acc: 0.7975Epoch 00013: val_acc did not improve\n",
      "4800/4800 [==============================] - 3s 721us/step - loss: 0.4324 - acc: 0.7969 - val_loss: 0.9424 - val_acc: 0.5650\n",
      "Epoch 14/60\n",
      "4736/4800 [============================>.] - ETA: 0s - loss: 0.4262 - acc: 0.7962Epoch 00014: val_acc improved from 0.56833 to 0.60500, saving model to weights.hdf5\n",
      "4800/4800 [==============================] - 4s 736us/step - loss: 0.4281 - acc: 0.7954 - val_loss: 0.8488 - val_acc: 0.6050\n",
      "Epoch 15/60\n",
      "4736/4800 [============================>.] - ETA: 0s - loss: 0.4062 - acc: 0.8093Epoch 00015: val_acc improved from 0.60500 to 0.62333, saving model to weights.hdf5\n",
      "4800/4800 [==============================] - 4s 735us/step - loss: 0.4066 - acc: 0.8092 - val_loss: 0.8015 - val_acc: 0.6233\n",
      "Epoch 16/60\n",
      "4736/4800 [============================>.] - ETA: 0s - loss: 0.3990 - acc: 0.8095Epoch 00016: val_acc improved from 0.62333 to 0.67667, saving model to weights.hdf5\n",
      "4800/4800 [==============================] - 4s 799us/step - loss: 0.3999 - acc: 0.8090 - val_loss: 0.6429 - val_acc: 0.6767\n",
      "Epoch 17/60\n",
      "4736/4800 [============================>.] - ETA: 0s - loss: 0.3961 - acc: 0.8159Epoch 00017: val_acc did not improve\n",
      "4800/4800 [==============================] - 3s 725us/step - loss: 0.3960 - acc: 0.8158 - val_loss: 0.7110 - val_acc: 0.6533\n",
      "Epoch 18/60\n",
      "4736/4800 [============================>.] - ETA: 0s - loss: 0.3766 - acc: 0.8197Epoch 00018: val_acc improved from 0.67667 to 0.68667, saving model to weights.hdf5\n",
      "4800/4800 [==============================] - 4s 737us/step - loss: 0.3773 - acc: 0.8185 - val_loss: 0.6467 - val_acc: 0.6867\n",
      "Epoch 19/60\n",
      "4736/4800 [============================>.] - ETA: 0s - loss: 0.3684 - acc: 0.8277Epoch 00019: val_acc improved from 0.68667 to 0.71000, saving model to weights.hdf5\n",
      "4800/4800 [==============================] - 4s 735us/step - loss: 0.3691 - acc: 0.8269 - val_loss: 0.5990 - val_acc: 0.7100\n",
      "Epoch 20/60\n",
      "4736/4800 [============================>.] - ETA: 0s - loss: 0.3536 - acc: 0.8393Epoch 00020: val_acc improved from 0.71000 to 0.71500, saving model to weights.hdf5\n",
      "4800/4800 [==============================] - 4s 736us/step - loss: 0.3537 - acc: 0.8396 - val_loss: 0.5698 - val_acc: 0.7150\n",
      "Epoch 21/60\n",
      "4736/4800 [============================>.] - ETA: 0s - loss: 0.3423 - acc: 0.8473Epoch 00021: val_acc improved from 0.71500 to 0.72667, saving model to weights.hdf5\n",
      "4800/4800 [==============================] - 4s 741us/step - loss: 0.3429 - acc: 0.8467 - val_loss: 0.5504 - val_acc: 0.7267\n",
      "Epoch 22/60\n",
      "4736/4800 [============================>.] - ETA: 0s - loss: 0.3387 - acc: 0.8429Epoch 00022: val_acc improved from 0.72667 to 0.75500, saving model to weights.hdf5\n",
      "4800/4800 [==============================] - 4s 735us/step - loss: 0.3388 - acc: 0.8427 - val_loss: 0.5434 - val_acc: 0.7550\n",
      "Epoch 23/60\n",
      "4736/4800 [============================>.] - ETA: 0s - loss: 0.3303 - acc: 0.8514Epoch 00023: val_acc did not improve\n",
      "4800/4800 [==============================] - 3s 718us/step - loss: 0.3308 - acc: 0.8510 - val_loss: 0.5325 - val_acc: 0.7483\n",
      "Epoch 24/60\n",
      "4736/4800 [============================>.] - ETA: 0s - loss: 0.3187 - acc: 0.8575Epoch 00024: val_acc did not improve\n",
      "4800/4800 [==============================] - 3s 719us/step - loss: 0.3193 - acc: 0.8569 - val_loss: 0.5621 - val_acc: 0.7350\n",
      "Epoch 25/60\n",
      "4736/4800 [============================>.] - ETA: 0s - loss: 0.3103 - acc: 0.8600Epoch 00025: val_acc did not improve\n",
      "4800/4800 [==============================] - 3s 719us/step - loss: 0.3105 - acc: 0.8596 - val_loss: 0.5510 - val_acc: 0.7400\n",
      "Epoch 26/60\n",
      "4736/4800 [============================>.] - ETA: 0s - loss: 0.3067 - acc: 0.8636Epoch 00026: val_acc did not improve\n",
      "4800/4800 [==============================] - 3s 719us/step - loss: 0.3062 - acc: 0.8637 - val_loss: 0.5258 - val_acc: 0.7500\n",
      "Epoch 27/60\n",
      "4736/4800 [============================>.] - ETA: 0s - loss: 0.2890 - acc: 0.8782Epoch 00027: val_acc did not improve\n",
      "4800/4800 [==============================] - 3s 719us/step - loss: 0.2902 - acc: 0.8773 - val_loss: 0.5821 - val_acc: 0.7300\n",
      "Epoch 28/60\n",
      "4736/4800 [============================>.] - ETA: 0s - loss: 0.2858 - acc: 0.8771Epoch 00028: val_acc did not improve\n",
      "4800/4800 [==============================] - 3s 720us/step - loss: 0.2854 - acc: 0.8771 - val_loss: 0.5718 - val_acc: 0.7417\n",
      "Epoch 29/60\n",
      "4736/4800 [============================>.] - ETA: 0s - loss: 0.2733 - acc: 0.8858Epoch 00029: val_acc did not improve\n",
      "4800/4800 [==============================] - 3s 719us/step - loss: 0.2742 - acc: 0.8856 - val_loss: 0.5785 - val_acc: 0.7267\n",
      "Epoch 30/60\n",
      "4736/4800 [============================>.] - ETA: 0s - loss: 0.2810 - acc: 0.8769Epoch 00030: val_acc improved from 0.75500 to 0.76833, saving model to weights.hdf5\n",
      "4800/4800 [==============================] - 4s 738us/step - loss: 0.2806 - acc: 0.8769 - val_loss: 0.5160 - val_acc: 0.7683\n"
     ]
    },
    {
     "name": "stdout",
     "output_type": "stream",
     "text": [
      "Epoch 31/60\n",
      "4736/4800 [============================>.] - ETA: 0s - loss: 0.2546 - acc: 0.8904Epoch 00031: val_acc improved from 0.76833 to 0.77000, saving model to weights.hdf5\n",
      "4800/4800 [==============================] - 4s 738us/step - loss: 0.2553 - acc: 0.8896 - val_loss: 0.5133 - val_acc: 0.7700\n",
      "Epoch 32/60\n",
      "4736/4800 [============================>.] - ETA: 0s - loss: 0.2489 - acc: 0.8982Epoch 00032: val_acc improved from 0.77000 to 0.77167, saving model to weights.hdf5\n",
      "4800/4800 [==============================] - 4s 739us/step - loss: 0.2489 - acc: 0.8983 - val_loss: 0.5342 - val_acc: 0.7717\n",
      "Epoch 33/60\n",
      "4736/4800 [============================>.] - ETA: 0s - loss: 0.2493 - acc: 0.8976Epoch 00033: val_acc improved from 0.77167 to 0.77500, saving model to weights.hdf5\n",
      "4800/4800 [==============================] - 4s 736us/step - loss: 0.2496 - acc: 0.8975 - val_loss: 0.5329 - val_acc: 0.7750\n",
      "Epoch 34/60\n",
      "4736/4800 [============================>.] - ETA: 0s - loss: 0.2397 - acc: 0.9029Epoch 00034: val_acc did not improve\n",
      "4800/4800 [==============================] - 3s 719us/step - loss: 0.2391 - acc: 0.9027 - val_loss: 0.5304 - val_acc: 0.7683\n",
      "Epoch 35/60\n",
      "4736/4800 [============================>.] - ETA: 0s - loss: 0.2316 - acc: 0.9052Epoch 00035: val_acc did not improve\n",
      "4800/4800 [==============================] - 3s 723us/step - loss: 0.2311 - acc: 0.9054 - val_loss: 0.5671 - val_acc: 0.7400\n",
      "Epoch 36/60\n",
      "4736/4800 [============================>.] - ETA: 0s - loss: 0.2273 - acc: 0.9113Epoch 00036: val_acc did not improve\n",
      "4800/4800 [==============================] - 3s 724us/step - loss: 0.2285 - acc: 0.9102 - val_loss: 0.5825 - val_acc: 0.7267\n",
      "Epoch 37/60\n",
      "4736/4800 [============================>.] - ETA: 0s - loss: 0.2135 - acc: 0.9132Epoch 00037: val_acc did not improve\n",
      "4800/4800 [==============================] - 3s 725us/step - loss: 0.2126 - acc: 0.9137 - val_loss: 0.5615 - val_acc: 0.7433\n",
      "Epoch 38/60\n",
      "4736/4800 [============================>.] - ETA: 0s - loss: 0.2076 - acc: 0.9155Epoch 00038: val_acc did not improve\n",
      "4800/4800 [==============================] - 3s 724us/step - loss: 0.2078 - acc: 0.9154 - val_loss: 0.5460 - val_acc: 0.7700\n",
      "Epoch 39/60\n",
      "4736/4800 [============================>.] - ETA: 0s - loss: 0.2033 - acc: 0.9212Epoch 00039: val_acc did not improve\n",
      "4800/4800 [==============================] - 3s 725us/step - loss: 0.2043 - acc: 0.9198 - val_loss: 0.5641 - val_acc: 0.7517\n",
      "Epoch 40/60\n",
      "4736/4800 [============================>.] - ETA: 0s - loss: 0.2035 - acc: 0.9183Epoch 00040: val_acc did not improve\n",
      "4800/4800 [==============================] - 3s 726us/step - loss: 0.2041 - acc: 0.9179 - val_loss: 0.5216 - val_acc: 0.7617\n",
      "Epoch 41/60\n",
      "4736/4800 [============================>.] - ETA: 0s - loss: 0.1883 - acc: 0.9269Epoch 00041: val_acc did not improve\n",
      "4800/4800 [==============================] - 3s 729us/step - loss: 0.1880 - acc: 0.9269 - val_loss: 0.5466 - val_acc: 0.7600\n",
      "Epoch 42/60\n",
      "4736/4800 [============================>.] - ETA: 0s - loss: 0.1790 - acc: 0.9360Epoch 00042: val_acc improved from 0.77500 to 0.78000, saving model to weights.hdf5\n",
      "4800/4800 [==============================] - 4s 767us/step - loss: 0.1790 - acc: 0.9358 - val_loss: 0.5522 - val_acc: 0.7800\n",
      "Epoch 43/60\n",
      "4736/4800 [============================>.] - ETA: 0s - loss: 0.1823 - acc: 0.9293Epoch 00043: val_acc did not improve\n",
      "4800/4800 [==============================] - 4s 738us/step - loss: 0.1815 - acc: 0.9298 - val_loss: 0.5797 - val_acc: 0.7617\n",
      "Epoch 44/60\n",
      "4736/4800 [============================>.] - ETA: 0s - loss: 0.1668 - acc: 0.9362Epoch 00044: val_acc did not improve\n",
      "4800/4800 [==============================] - 4s 731us/step - loss: 0.1683 - acc: 0.9348 - val_loss: 0.5662 - val_acc: 0.7450\n",
      "Epoch 45/60\n",
      "4736/4800 [============================>.] - ETA: 0s - loss: 0.1676 - acc: 0.9348Epoch 00045: val_acc did not improve\n",
      "4800/4800 [==============================] - 3s 726us/step - loss: 0.1678 - acc: 0.9346 - val_loss: 0.5943 - val_acc: 0.7400\n",
      "Epoch 46/60\n",
      "4736/4800 [============================>.] - ETA: 0s - loss: 0.1517 - acc: 0.9457Epoch 00046: val_acc did not improve\n",
      "4800/4800 [==============================] - 3s 726us/step - loss: 0.1512 - acc: 0.9458 - val_loss: 0.5720 - val_acc: 0.7550\n",
      "Epoch 47/60\n",
      "4736/4800 [============================>.] - ETA: 0s - loss: 0.1440 - acc: 0.9497Epoch 00047: val_acc did not improve\n",
      "4800/4800 [==============================] - 3s 725us/step - loss: 0.1447 - acc: 0.9485 - val_loss: 0.6458 - val_acc: 0.7233\n",
      "Epoch 48/60\n",
      "4736/4800 [============================>.] - ETA: 0s - loss: 0.1415 - acc: 0.9485Epoch 00048: val_acc did not improve\n",
      "4800/4800 [==============================] - 3s 724us/step - loss: 0.1411 - acc: 0.9481 - val_loss: 0.5824 - val_acc: 0.7550\n",
      "Epoch 49/60\n",
      "4736/4800 [============================>.] - ETA: 0s - loss: 0.1369 - acc: 0.9516Epoch 00049: val_acc did not improve\n",
      "4800/4800 [==============================] - 3s 726us/step - loss: 0.1377 - acc: 0.9515 - val_loss: 0.6139 - val_acc: 0.7633\n",
      "Epoch 50/60\n",
      "4736/4800 [============================>.] - ETA: 0s - loss: 0.1412 - acc: 0.9474Epoch 00050: val_acc did not improve\n",
      "4800/4800 [==============================] - 3s 724us/step - loss: 0.1411 - acc: 0.9479 - val_loss: 0.6028 - val_acc: 0.7533\n",
      "Epoch 51/60\n",
      "4736/4800 [============================>.] - ETA: 0s - loss: 0.1261 - acc: 0.9540Epoch 00051: val_acc did not improve\n",
      "4800/4800 [==============================] - 4s 731us/step - loss: 0.1265 - acc: 0.9537 - val_loss: 0.6158 - val_acc: 0.7500\n",
      "Epoch 52/60\n",
      "4736/4800 [============================>.] - ETA: 0s - loss: 0.1265 - acc: 0.9573Epoch 00052: val_acc did not improve\n",
      "4800/4800 [==============================] - 4s 741us/step - loss: 0.1280 - acc: 0.9565 - val_loss: 0.6511 - val_acc: 0.7467\n",
      "Epoch 53/60\n",
      "4736/4800 [============================>.] - ETA: 0s - loss: 0.1163 - acc: 0.9586Epoch 00053: val_acc did not improve\n",
      "4800/4800 [==============================] - 3s 729us/step - loss: 0.1164 - acc: 0.9585 - val_loss: 0.6739 - val_acc: 0.7250\n",
      "Epoch 54/60\n",
      "4736/4800 [============================>.] - ETA: 0s - loss: 0.1118 - acc: 0.9628Epoch 00054: val_acc did not improve\n",
      "4800/4800 [==============================] - 4s 732us/step - loss: 0.1120 - acc: 0.9629 - val_loss: 0.6204 - val_acc: 0.7633\n",
      "Epoch 55/60\n",
      "4736/4800 [============================>.] - ETA: 0s - loss: 0.1144 - acc: 0.9605Epoch 00055: val_acc did not improve\n",
      "4800/4800 [==============================] - 3s 723us/step - loss: 0.1145 - acc: 0.9608 - val_loss: 0.6621 - val_acc: 0.7417\n",
      "Epoch 56/60\n",
      "4736/4800 [============================>.] - ETA: 0s - loss: 0.1056 - acc: 0.9637Epoch 00056: val_acc did not improve\n",
      "4800/4800 [==============================] - 3s 728us/step - loss: 0.1058 - acc: 0.9635 - val_loss: 0.6157 - val_acc: 0.7550\n",
      "Epoch 57/60\n",
      "4736/4800 [============================>.] - ETA: 0s - loss: 0.1034 - acc: 0.9677Epoch 00057: val_acc did not improve\n",
      "4800/4800 [==============================] - 3s 725us/step - loss: 0.1037 - acc: 0.9673 - val_loss: 0.6266 - val_acc: 0.7450\n",
      "Epoch 58/60\n",
      "4736/4800 [============================>.] - ETA: 0s - loss: 0.1034 - acc: 0.9668Epoch 00058: val_acc did not improve\n",
      "4800/4800 [==============================] - 3s 726us/step - loss: 0.1032 - acc: 0.9669 - val_loss: 0.6456 - val_acc: 0.7483\n",
      "Epoch 59/60\n",
      "4736/4800 [============================>.] - ETA: 0s - loss: 0.0992 - acc: 0.9662Epoch 00059: val_acc did not improve\n",
      "4800/4800 [==============================] - 3s 723us/step - loss: 0.0992 - acc: 0.9660 - val_loss: 0.6628 - val_acc: 0.7433\n",
      "Epoch 60/60\n",
      "4736/4800 [============================>.] - ETA: 0s - loss: 0.0914 - acc: 0.9694Epoch 00060: val_acc did not improve\n",
      "4800/4800 [==============================] - 3s 722us/step - loss: 0.0912 - acc: 0.9694 - val_loss: 0.6204 - val_acc: 0.7633\n"
     ]
    }
   ],
   "source": [
    "\n",
    "history = model.fit(x_train, y_train, batch_size=batch_size, epochs=epochs,validation_data=(x_test, y_test), callbacks=callbacks_list, verbose=1)\n"
   ]
  },
  {
   "cell_type": "code",
   "execution_count": 24,
   "metadata": {},
   "outputs": [
    {
     "name": "stdout",
     "output_type": "stream",
     "text": [
      "600/600 [==============================] - 0s 363us/step\n",
      "Test loss: 0.5754404934247335\n",
      "Test accuracy: 0.785\n"
     ]
    }
   ],
   "source": [
    "\n",
    "score = model.evaluate(x_val, y_val, verbose=1)\n",
    "print('Test loss:', score[0])\n",
    "print('Test accuracy:', score[1])\n"
   ]
  },
  {
   "cell_type": "code",
   "execution_count": 81,
   "metadata": {},
   "outputs": [],
   "source": [
    "\n",
    "model_predictions = model.predict(x_val)\n"
   ]
  },
  {
   "cell_type": "code",
   "execution_count": 96,
   "metadata": {},
   "outputs": [
    {
     "name": "stdout",
     "output_type": "stream",
     "text": [
      "             precision    recall  f1-score   support\n",
      "\n",
      "          0       0.82      0.74      0.78       303\n",
      "          1       0.76      0.84      0.79       297\n",
      "\n",
      "avg / total       0.79      0.79      0.78       600\n",
      "\n"
     ]
    }
   ],
   "source": [
    "\n",
    "preds = np.squeeze(model.predict(x_val))\n",
    "# preds = model_predictions\n",
    "threshold = 0.5\n",
    "print(classification_report(y_val.argmax(axis=1), preds.argmax(axis=1)))\n"
   ]
  },
  {
   "cell_type": "code",
   "execution_count": 83,
   "metadata": {},
   "outputs": [
    {
     "name": "stdout",
     "output_type": "stream",
     "text": [
      "Confusion matrix:\n",
      "[[223  80]\n",
      " [ 49 248]]\n"
     ]
    }
   ],
   "source": [
    "\n",
    "print(\"Confusion matrix:\")\n",
    "print(confusion_matrix(y_val.argmax(axis=1), preds.argmax(axis=1)))\n"
   ]
  },
  {
   "cell_type": "markdown",
   "metadata": {},
   "source": [
    "### Exercise 3\n",
    "\n",
    "Output the training/validation loss and accuracy curves. Also print the classification results (e.g., classification accuracy, confusion matrix, precision-recall curves and/or ROC curves) on the test set."
   ]
  },
  {
   "cell_type": "code",
   "execution_count": 88,
   "metadata": {},
   "outputs": [
    {
     "name": "stdout",
     "output_type": "stream",
     "text": [
      "Classification report for the simple CNN:\n",
      "             precision    recall  f1-score   support\n",
      "\n",
      "          0       0.82      0.74      0.78       303\n",
      "          1       0.76      0.84      0.79       297\n",
      "\n",
      "avg / total       0.79      0.79      0.78       600\n",
      "\n",
      "Confusion matrix:\n",
      "[[223  80]\n",
      " [ 49 248]]\n"
     ]
    }
   ],
   "source": [
    "from sklearn.metrics import classification_report, confusion_matrix, precision_recall_curve, roc_curve, auc\n",
    "from sklearn.preprocessing import label_binarize\n",
    "\n",
    "mod_preds = model_predictions\n",
    "\n",
    "# Add your code here\n",
    "print(\"Classification report for the simple CNN:\")\n",
    "print(classification_report(y_val.argmax(axis=1), preds.argmax(axis=1)))\n",
    "print(\"Confusion matrix:\")\n",
    "print(confusion_matrix(y_val.argmax(axis=1), preds.argmax(axis=1)))\n",
    "\n"
   ]
  },
  {
   "cell_type": "code",
   "execution_count": 122,
   "metadata": {},
   "outputs": [],
   "source": [
    "from sklearn.metrics import precision_recall_curve\n",
    "from sklearn.utils.fixes import signature\n",
    "from sklearn.metrics import average_precision_score\n",
    "\n",
    "def plot_precision_recall_curve(labels, predictions, classifier_name=None):\n",
    "    \n",
    "    title = \"Precision-Recall curve\"\n",
    "    if classifier_name is not None:\n",
    "        title = \"Precision-Recall curve for {} predictions\".format(classifier_name)\n",
    "        \n",
    "    precision, recall, thresholds = precision_recall_curve(labels, predictions)\n",
    "    \n",
    "    average_precision = average_precision_score(labels, predictions)\n",
    "\n",
    "    # In matplotlib < 1.5, plt.fill_between does not have a 'step' argument\n",
    "    step_kwargs = ({'step': 'post'}\n",
    "                   if 'step' in signature(plt.fill_between).parameters\n",
    "                   else {})\n",
    "    \n",
    "    fig = plt.figure()\n",
    "    fig.set_figwidth(10)\n",
    "    fig.suptitle('Precision-Recall curve for {0}: AP={1:0.2f}'.format(classifier_name, average_precision))\n",
    "    \n",
    "    plot = plt.subplot(1, 2, 2)\n",
    "    \n",
    "    plot.step(recall, precision, color='b', alpha=0.2, where='post')\n",
    "    \n",
    "    plot.fill_between(recall, precision, alpha=0.2, color='b', **step_kwargs)\n",
    "\n",
    "    plot.set_xlabel('Recall')\n",
    "    plot.set_ylabel('Precision')\n",
    "    plot.set_ylim([0.0, 1.05])\n",
    "    plot.set_xlim([0.0, 1.0])\n",
    "    \n",
    "    \n",
    "    return plot\n",
    "\n",
    "\n",
    "def first_arg(arr):\n",
    "    \n",
    "    _arr = []\n",
    "    \n",
    "    for i in range(len(arr)):\n",
    "        _arr.append(arr[i][1])\n",
    "    \n",
    "    return _arr\n"
   ]
  },
  {
   "cell_type": "code",
   "execution_count": 123,
   "metadata": {},
   "outputs": [],
   "source": [
    "\n",
    "# fpr_simple, tpr_simple, thresholds_simple = roc_curve(y_val.argmax(axis=1).ravel(), mod_preds.argmax(axis=1).ravel())\n",
    "fpr_simple, tpr_simple, thresholds_simple = roc_curve(y_val.argmax(axis=1).ravel(), first_arg(preds))\n",
    "auc_simple = auc(fpr_simple, tpr_simple)\n"
   ]
  },
  {
   "cell_type": "code",
   "execution_count": 124,
   "metadata": {},
   "outputs": [
    {
     "data": {
      "image/png": "[encoded data removed]",
      "text/plain": [
       "<matplotlib.figure.Figure at 0x209cc96ac18>"
      ]
     },
     "metadata": {},
     "output_type": "display_data"
    }
   ],
   "source": [
    "\n",
    "plt.figure(1)\n",
    "# plt.plot([0, 1], [0, 1], 'k--')\n",
    "plt.plot(fpr_simple, tpr_simple, label='Keras (area = {:.3f})'.format(auc_simple))\n",
    "plt.xlabel('False positive rate')\n",
    "plt.ylabel('True positive rate')\n",
    "plt.title('ROC curve')\n",
    "plt.legend(loc='best')\n",
    "plt.show()\n"
   ]
  },
  {
   "cell_type": "code",
   "execution_count": 125,
   "metadata": {},
   "outputs": [
    {
     "name": "stdout",
     "output_type": "stream",
     "text": [
      "Axes(0.547727,0.125;0.352273x0.755)\n"
     ]
    },
    {
     "data": {
      "image/png": "[encoded data removed]",
      "text/plain": [
       "<matplotlib.figure.Figure at 0x209cc973588>"
      ]
     },
     "metadata": {},
     "output_type": "display_data"
    }
   ],
   "source": [
    "\n",
    "print(plot_precision_recall_curve(first_arg(y_val), first_arg(preds), \"Keras Simple CNN\"))\n"
   ]
  },
  {
   "cell_type": "code",
   "execution_count": 108,
   "metadata": {},
   "outputs": [
    {
     "name": "stdout",
     "output_type": "stream",
     "text": [
      "[0 1 0 1 1 0 1 1 0 0 1 0 0 1 0 0 1 1 1 1 0 0 1 0 0 1 0 1 0 0 1 0 0 1 1 1 0\n",
      " 0 0 0 1 1 0 0 1 0 0 1 1 0 0 1 1 0 1 0 1 0 0 0 1 0 1 1 0 0 1 1 0 0 0 0 1 1\n",
      " 1 1 0 0 1 1 0 0 1 1 0 1 1 0 1 1 1 0 1 1 1 1 1 0 1 1 0 0 0 0 0 0 0 1 1 0 0\n",
      " 1 1 0 0 1 1 0 1 1 1 1 0 1 0 1 0 0 0 1 0 1 0 0 1 1 1 1 0 0 1 0 1 1 1 0 0 1\n",
      " 0 1 1 0 0 1 0 1 1 0 1 0 0 1 1 1 1 1 0 0 0 1 1 1 1 0 1 1 1 1 1 1 0 1 0 0 0\n",
      " 1 1 1 0 1 0 0 0 0 1 1 0 1 0 0 1 0 1 1 0 1 1 0 0 0 0 1 0 1 0 0 0 0 0 1 1 1\n",
      " 1 1 1 0 1 1 1 1 0 1 1 0 0 1 1 0 0 0 1 0 1 1 0 1 0 0 1 0 0 0 1 0 1 1 0 0 0\n",
      " 1 0 1 1 0 0 1 1 0 1 1 0 1 0 1 0 1 0 0 1 0 1 0 0 0 1 0 0 0 1 0 1 0 1 0 1 1\n",
      " 0 1 1 0 1 0 0 1 1 0 1 0 0 0 0 1 1 1 0 1 1 0 1 1 1 1 0 1 0 0 1 0 1 0 1 1 1\n",
      " 1 1 0 1 1 0 1 1 0 1 1 1 1 0 1 0 1 1 0 1 0 1 1 1 0 1 0 1 0 1 1 1 1 1 1 1 1\n",
      " 0 1 1 1 0 0 0 1 0 1 1 0 1 0 1 1 0 1 0 0 0 0 1 0 1 0 1 1 0 0 0 0 1 1 1 0 0\n",
      " 1 1 0 0 1 0 1 1 1 0 0 1 1 0 1 0 1 1 0 0 0 1 1 0 1 0 1 1 1 0 0 1 1 1 0 1 0\n",
      " 1 0 1 0 0 0 1 1 0 0 1 1 0 0 1 0 1 0 1 0 0 0 1 1 1 1 0 1 1 0 1 1 1 1 1 0 0\n",
      " 1 1 0 0 1 0 0 1 0 1 1 1 1 1 1 0 1 0 1 0 1 1 1 0 1 1 0 1 0 0 1 0 0 1 1 1 1\n",
      " 0 1 1 0 1 1 0 1 0 0 0 1 0 1 0 0 1 1 0 1 0 0 0 0 0 1 1 1 1 0 0 1 1 1 0 0 1\n",
      " 0 1 1 1 1 1 0 0 1 1 1 1 1 1 1 1 0 0 1 1 0 0 0 1 1 1 1 1 0 1 1 0 1 1 1 0 1\n",
      " 0 1 1 0 1 1 0 0]\n"
     ]
    }
   ],
   "source": [
    "print(preds.argmax(axis=1))"
   ]
  },
  {
   "cell_type": "markdown",
   "metadata": {},
   "source": [
    "### Exercise 4\n",
    "\n",
    "Explore different network architectures (e.g., stacking 4 Conv2D+MaxPooling2D layers) and various ways in tuning the model parameters to see if you can improve the model performance on the validation set."
   ]
  },
  {
   "cell_type": "code",
   "execution_count": 126,
   "metadata": {},
   "outputs": [],
   "source": [
    "# Add your code here\n",
    "\n",
    "input_shape = x_train[1].shape\n",
    "\n",
    "model_complex = Sequential()\n",
    "#add model layers\n",
    "\n",
    "model_complex.add(Conv2D(128, 2,padding='same', input_shape=input_shape))\n",
    "model_complex.add(BatchNormalization())\n",
    "model_complex.add(Activation('relu'))\n",
    "model_complex.add(MaxPooling2D(pool_size=(2,2)))\n",
    "model_complex.add(Dropout(0.2))\n",
    "\n",
    "model_complex.add(Conv2D(256, 2, padding='same'))\n",
    "model_complex.add(BatchNormalization())\n",
    "model_complex.add(Activation('relu'))\n",
    "model_complex.add(MaxPooling2D(pool_size=(2,2)))\n",
    "model_complex.add(Dropout(0.2))\n",
    "\n",
    "model_complex.add(Conv2D(512, 2, padding='same'))\n",
    "model_complex.add(BatchNormalization())\n",
    "model_complex.add(Activation('relu'))\n",
    "model_complex.add(MaxPooling2D(pool_size=(2,2)))\n",
    "\n",
    "model_complex.add(Flatten())\n",
    "\n",
    "model_complex.add(Dense(1024, activation='relu'))\n",
    "model_complex.add(BatchNormalization())\n",
    "model_complex.add(Dropout(0.2))\n",
    "model_complex.add(Dense(512, activation='relu'))\n",
    "\n",
    "model_complex.add(Dense(2, activation='sigmoid'))\n"
   ]
  },
  {
   "cell_type": "code",
   "execution_count": 127,
   "metadata": {},
   "outputs": [],
   "source": [
    "\n",
    "optimizer = keras.optimizers.RMSprop(lr=0.00005)\n",
    "model_complex.compile(optimizer=optimizer, loss='categorical_crossentropy', metrics=['accuracy'])\n"
   ]
  },
  {
   "cell_type": "code",
   "execution_count": 130,
   "metadata": {},
   "outputs": [],
   "source": [
    "\n",
    "aug = ImageDataGenerator(rotation_range=20, zoom_range=0.15, width_shift_range=0.2, height_shift_range=0.2, shear_range=0.15, horizontal_flip=True, fill_mode=\"nearest\")\n"
   ]
  },
  {
   "cell_type": "code",
   "execution_count": 131,
   "metadata": {},
   "outputs": [
    {
     "name": "stdout",
     "output_type": "stream",
     "text": [
      "Epoch 1/60\n",
      "37/37 [==============================] - 7s 179ms/step - loss: 0.7246 - acc: 0.7230 - val_loss: 0.5499 - val_acc: 0.7700\n",
      "Epoch 2/60\n",
      "37/37 [==============================] - 6s 174ms/step - loss: 0.6181 - acc: 0.7234 - val_loss: 0.5409 - val_acc: 0.7467\n",
      "Epoch 3/60\n",
      "37/37 [==============================] - 6s 174ms/step - loss: 0.5546 - acc: 0.7363 - val_loss: 0.5638 - val_acc: 0.7467\n",
      "Epoch 4/60\n",
      "37/37 [==============================] - 6s 174ms/step - loss: 0.5330 - acc: 0.7394 - val_loss: 0.5432 - val_acc: 0.7450\n",
      "Epoch 5/60\n",
      "37/37 [==============================] - 7s 176ms/step - loss: 0.5304 - acc: 0.7432 - val_loss: 0.5292 - val_acc: 0.7550\n",
      "Epoch 6/60\n",
      "37/37 [==============================] - 6s 172ms/step - loss: 0.5141 - acc: 0.7496 - val_loss: 0.5367 - val_acc: 0.7583\n",
      "Epoch 7/60\n",
      "37/37 [==============================] - 6s 175ms/step - loss: 0.5068 - acc: 0.7585 - val_loss: 0.5047 - val_acc: 0.7717\n",
      "Epoch 8/60\n",
      "37/37 [==============================] - 6s 175ms/step - loss: 0.5144 - acc: 0.7485 - val_loss: 0.4963 - val_acc: 0.7567\n",
      "Epoch 9/60\n",
      "37/37 [==============================] - 6s 175ms/step - loss: 0.5048 - acc: 0.7580 - val_loss: 0.4860 - val_acc: 0.7633\n",
      "Epoch 10/60\n",
      "37/37 [==============================] - 6s 175ms/step - loss: 0.4945 - acc: 0.7569 - val_loss: 0.5099 - val_acc: 0.7650\n",
      "Epoch 11/60\n",
      "37/37 [==============================] - 7s 179ms/step - loss: 0.4990 - acc: 0.7549 - val_loss: 0.4858 - val_acc: 0.7800\n",
      "Epoch 12/60\n",
      "37/37 [==============================] - 6s 175ms/step - loss: 0.4942 - acc: 0.7524 - val_loss: 0.4990 - val_acc: 0.7750\n",
      "Epoch 13/60\n",
      "37/37 [==============================] - 7s 177ms/step - loss: 0.4868 - acc: 0.7699 - val_loss: 0.5103 - val_acc: 0.7567\n",
      "Epoch 14/60\n",
      "37/37 [==============================] - 7s 178ms/step - loss: 0.4885 - acc: 0.7555 - val_loss: 0.5441 - val_acc: 0.7383\n",
      "Epoch 15/60\n",
      "37/37 [==============================] - 7s 180ms/step - loss: 0.4737 - acc: 0.7726 - val_loss: 0.4854 - val_acc: 0.7733\n",
      "Epoch 16/60\n",
      "37/37 [==============================] - 6s 174ms/step - loss: 0.4707 - acc: 0.7740 - val_loss: 0.4829 - val_acc: 0.7667\n",
      "Epoch 17/60\n",
      "37/37 [==============================] - 7s 177ms/step - loss: 0.4800 - acc: 0.7688 - val_loss: 0.4987 - val_acc: 0.7550\n",
      "Epoch 18/60\n",
      "37/37 [==============================] - 7s 177ms/step - loss: 0.4773 - acc: 0.7760 - val_loss: 0.4795 - val_acc: 0.7583\n",
      "Epoch 19/60\n",
      "37/37 [==============================] - 7s 179ms/step - loss: 0.4822 - acc: 0.7591 - val_loss: 0.4805 - val_acc: 0.7650\n",
      "Epoch 20/60\n",
      "37/37 [==============================] - 7s 182ms/step - loss: 0.4413 - acc: 0.7871 - val_loss: 0.4767 - val_acc: 0.7700\n",
      "Epoch 21/60\n",
      "37/37 [==============================] - 7s 180ms/step - loss: 0.4650 - acc: 0.7749 - val_loss: 0.4825 - val_acc: 0.7717\n",
      "Epoch 22/60\n",
      "37/37 [==============================] - 7s 179ms/step - loss: 0.4495 - acc: 0.7890 - val_loss: 0.5216 - val_acc: 0.7467\n",
      "Epoch 23/60\n",
      "37/37 [==============================] - 7s 178ms/step - loss: 0.4535 - acc: 0.7817 - val_loss: 0.5103 - val_acc: 0.7833\n",
      "Epoch 24/60\n",
      "37/37 [==============================] - 7s 179ms/step - loss: 0.4523 - acc: 0.7804 - val_loss: 0.5163 - val_acc: 0.7583\n",
      "Epoch 25/60\n",
      "37/37 [==============================] - 7s 180ms/step - loss: 0.4583 - acc: 0.7806 - val_loss: 0.5223 - val_acc: 0.7617\n",
      "Epoch 26/60\n",
      "37/37 [==============================] - 7s 178ms/step - loss: 0.4599 - acc: 0.7856 - val_loss: 0.4739 - val_acc: 0.7800\n",
      "Epoch 27/60\n",
      "37/37 [==============================] - 7s 181ms/step - loss: 0.4391 - acc: 0.7857 - val_loss: 0.4648 - val_acc: 0.7800\n",
      "Epoch 28/60\n",
      "37/37 [==============================] - 7s 178ms/step - loss: 0.4438 - acc: 0.7941 - val_loss: 0.4742 - val_acc: 0.7833\n",
      "Epoch 29/60\n",
      "37/37 [==============================] - 7s 177ms/step - loss: 0.4409 - acc: 0.7899 - val_loss: 0.5020 - val_acc: 0.7733\n",
      "Epoch 30/60\n",
      "37/37 [==============================] - 7s 181ms/step - loss: 0.4413 - acc: 0.7916 - val_loss: 0.4765 - val_acc: 0.7817\n",
      "Epoch 31/60\n",
      "37/37 [==============================] - 7s 179ms/step - loss: 0.4411 - acc: 0.7922 - val_loss: 0.4983 - val_acc: 0.7700\n",
      "Epoch 32/60\n",
      "37/37 [==============================] - 7s 177ms/step - loss: 0.4316 - acc: 0.7937 - val_loss: 0.4676 - val_acc: 0.7833\n",
      "Epoch 33/60\n",
      "37/37 [==============================] - 7s 181ms/step - loss: 0.4374 - acc: 0.7943 - val_loss: 0.5125 - val_acc: 0.7683\n",
      "Epoch 34/60\n",
      "37/37 [==============================] - 7s 181ms/step - loss: 0.4246 - acc: 0.8019 - val_loss: 0.4884 - val_acc: 0.7750\n",
      "Epoch 35/60\n",
      "37/37 [==============================] - 7s 181ms/step - loss: 0.4326 - acc: 0.7916 - val_loss: 0.4847 - val_acc: 0.7767\n",
      "Epoch 36/60\n",
      "37/37 [==============================] - 7s 180ms/step - loss: 0.4269 - acc: 0.7956 - val_loss: 0.5431 - val_acc: 0.7567\n",
      "Epoch 37/60\n",
      "37/37 [==============================] - 7s 180ms/step - loss: 0.4184 - acc: 0.7990 - val_loss: 0.4860 - val_acc: 0.7717\n",
      "Epoch 38/60\n",
      "37/37 [==============================] - 7s 179ms/step - loss: 0.4267 - acc: 0.7975 - val_loss: 0.4373 - val_acc: 0.7983\n",
      "Epoch 39/60\n",
      "37/37 [==============================] - 7s 180ms/step - loss: 0.4274 - acc: 0.7967 - val_loss: 0.4630 - val_acc: 0.7867\n",
      "Epoch 40/60\n",
      "37/37 [==============================] - 7s 180ms/step - loss: 0.4294 - acc: 0.7943 - val_loss: 0.4643 - val_acc: 0.7917\n",
      "Epoch 41/60\n",
      "37/37 [==============================] - 7s 193ms/step - loss: 0.4195 - acc: 0.7960 - val_loss: 0.4802 - val_acc: 0.7867\n",
      "Epoch 42/60\n",
      "37/37 [==============================] - 7s 181ms/step - loss: 0.4213 - acc: 0.8030 - val_loss: 0.4716 - val_acc: 0.7783\n",
      "Epoch 43/60\n",
      "37/37 [==============================] - 7s 179ms/step - loss: 0.4204 - acc: 0.8053 - val_loss: 0.4798 - val_acc: 0.7900\n",
      "Epoch 44/60\n",
      "37/37 [==============================] - 7s 181ms/step - loss: 0.4138 - acc: 0.8066 - val_loss: 0.4850 - val_acc: 0.7717\n",
      "Epoch 45/60\n",
      "37/37 [==============================] - 7s 177ms/step - loss: 0.4146 - acc: 0.8030 - val_loss: 0.4476 - val_acc: 0.7850\n",
      "Epoch 46/60\n",
      "37/37 [==============================] - 7s 180ms/step - loss: 0.4201 - acc: 0.8003 - val_loss: 0.4527 - val_acc: 0.7767\n",
      "Epoch 47/60\n",
      "37/37 [==============================] - 7s 181ms/step - loss: 0.4149 - acc: 0.8032 - val_loss: 0.4818 - val_acc: 0.7717\n",
      "Epoch 48/60\n",
      "37/37 [==============================] - 7s 185ms/step - loss: 0.4131 - acc: 0.8060 - val_loss: 0.4762 - val_acc: 0.7733\n",
      "Epoch 49/60\n",
      "37/37 [==============================] - 7s 183ms/step - loss: 0.4136 - acc: 0.8125 - val_loss: 0.4945 - val_acc: 0.7617\n",
      "Epoch 50/60\n",
      "37/37 [==============================] - 7s 180ms/step - loss: 0.4034 - acc: 0.8081 - val_loss: 0.4618 - val_acc: 0.7983\n",
      "Epoch 51/60\n",
      "37/37 [==============================] - 7s 192ms/step - loss: 0.4008 - acc: 0.8098 - val_loss: 0.4437 - val_acc: 0.7967\n",
      "Epoch 52/60\n",
      "37/37 [==============================] - 7s 179ms/step - loss: 0.4122 - acc: 0.8062 - val_loss: 0.4886 - val_acc: 0.7767\n",
      "Epoch 53/60\n",
      "37/37 [==============================] - 7s 183ms/step - loss: 0.4050 - acc: 0.8045 - val_loss: 0.5549 - val_acc: 0.7317\n",
      "Epoch 54/60\n",
      "37/37 [==============================] - 7s 183ms/step - loss: 0.4015 - acc: 0.8125 - val_loss: 0.4465 - val_acc: 0.7983\n",
      "Epoch 55/60\n",
      "37/37 [==============================] - 7s 185ms/step - loss: 0.3990 - acc: 0.8140 - val_loss: 0.4608 - val_acc: 0.7783\n",
      "Epoch 56/60\n",
      "37/37 [==============================] - 7s 179ms/step - loss: 0.3923 - acc: 0.8218 - val_loss: 0.4416 - val_acc: 0.7983\n",
      "Epoch 57/60\n",
      "37/37 [==============================] - 7s 182ms/step - loss: 0.4028 - acc: 0.8144 - val_loss: 0.4821 - val_acc: 0.7767\n",
      "Epoch 58/60\n",
      "37/37 [==============================] - 7s 185ms/step - loss: 0.3976 - acc: 0.8178 - val_loss: 0.4316 - val_acc: 0.8050\n",
      "Epoch 59/60\n",
      "37/37 [==============================] - 7s 180ms/step - loss: 0.3998 - acc: 0.8102 - val_loss: 0.4417 - val_acc: 0.7933\n",
      "Epoch 60/60\n",
      "37/37 [==============================] - 7s 178ms/step - loss: 0.3878 - acc: 0.8262 - val_loss: 0.4551 - val_acc: 0.7800\n"
     ]
    }
   ],
   "source": [
    "\n",
    "# history_complex = model_complex.fit(x_train, y_train, batch_size=batch_size, epochs=epochs,validation_data=(x_test, y_test), verbose=1)\n",
    "\n",
    "history_complex = model_complex.fit_generator(aug.flow(x_train, y_train, batch_size=batch_size), validation_data=(x_test, y_test), steps_per_epoch=len(x_train) // batch_size, epochs=epochs)\n"
   ]
  },
  {
   "cell_type": "markdown",
   "metadata": {},
   "source": [
    "### Exercise 5\n",
    "\n",
    "Apply the trained model on the testing set and output the classification results."
   ]
  },
  {
   "cell_type": "code",
   "execution_count": 27,
   "metadata": {},
   "outputs": [],
   "source": [
    "# Add your code here\n",
    "\n",
    "weights_filepath = \"weights.hdf5\"\n",
    "checkpoint = ModelCheckpoint(weights_filepath, monitor = 'val_acc', verbose = 1, save_best_only = True, mode='max')\n",
    "callbacks_list = [checkpoint]"
   ]
  },
  {
   "cell_type": "markdown",
   "metadata": {},
   "source": [
    "### Exercise 6 \n",
    "\n",
    "Plot the saliency map of original image to see which part is important for making classification decisions. You can refer to the following blog article on how to generate visualisation results of the filters in the ConvNets.\n",
    "https://blog.keras.io/how-convolutional-neural-networks-see-the-world.html"
   ]
  },
  {
   "cell_type": "code",
   "execution_count": 28,
   "metadata": {},
   "outputs": [],
   "source": [
    "# Add your code here"
   ]
  }
 ],
 "metadata": {
  "kernelspec": {
   "display_name": "Python 3",
   "language": "python",
   "name": "python3"
  },
  "language_info": {
   "codemirror_mode": {
    "name": "ipython",
    "version": 3
   },
   "file_extension": ".py",
   "mimetype": "text/x-python",
   "name": "python",
   "nbconvert_exporter": "python",
   "pygments_lexer": "ipython3",
   "version": "3.6.1"
  }
 },
 "nbformat": 4,
 "nbformat_minor": 1
}

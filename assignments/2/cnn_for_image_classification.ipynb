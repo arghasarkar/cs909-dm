{
 "cells": [
  {
   "cell_type": "markdown",
   "metadata": {},
   "source": [
    "# CNN for Image Classification\n",
    "\n",
    "In this lab, you are given a dataset containing 6,000 pictures of cats and dogs (3,000 cats, 3,000 dogs) and asked to train a classifier built upon Convolutional Neural Networks (ConvNets) to classify images as \"dogs\" or \"cats\"."
   ]
  },
  {
   "cell_type": "code",
   "execution_count": 1,
   "metadata": {},
   "outputs": [
    {
     "name": "stderr",
     "output_type": "stream",
     "text": [
      "D:\\Applications\\Python3\\lib\\site-packages\\h5py\\__init__.py:36: FutureWarning: Conversion of the second argument of issubdtype from `float` to `np.floating` is deprecated. In future, it will be treated as `np.float64 == np.dtype(float).type`.\n",
      "  from ._conv import register_converters as _register_converters\n",
      "Using TensorFlow backend.\n"
     ]
    }
   ],
   "source": [
    "%matplotlib inline\n",
    "\n",
    "import os\n",
    "import numpy as np\n",
    "import matplotlib.pyplot as plt\n",
    "import cv2\n",
    "\n",
    "# from __future__ import print_function\n",
    "import keras\n",
    "from keras import metrics\n",
    "from keras.preprocessing.image import ImageDataGenerator\n",
    "from keras.models import Sequential\n",
    "from keras.layers import Dense, Dropout, Activation, Flatten, BatchNormalization\n",
    "from keras.layers import Conv2D, MaxPooling2D"
   ]
  },
  {
   "cell_type": "markdown",
   "metadata": {},
   "source": [
    "### Exercise 1 \n",
    "Split the dataset by selecting 4,800 pictures for training, 600 for validation, and 600 for testing."
   ]
  },
  {
   "cell_type": "code",
   "execution_count": 2,
   "metadata": {
    "scrolled": true
   },
   "outputs": [],
   "source": [
    "img_width = 50\n",
    "img_height = 50\n",
    "num_classes = 2\n",
    "DATA_DIR = './data/'\n",
    "image_filenames = [DATA_DIR+i for i in os.listdir(DATA_DIR)] # use this for full dataset\n",
    "\n",
    "# Setting the random seed\n",
    "np.random.seed(200)\n",
    "\n",
    "\n",
    "# Split the data in three sets, 80% for training, 10% for validation and 10% for testing\n",
    "# make sure that the image filenames have a fixed order before shuffling\n",
    "# Add your code here"
   ]
  },
  {
   "cell_type": "code",
   "execution_count": 3,
   "metadata": {},
   "outputs": [],
   "source": [
    "import pandas as pd\n",
    "from sklearn import datasets, linear_model\n",
    "from sklearn.model_selection import train_test_split"
   ]
  },
  {
   "cell_type": "markdown",
   "metadata": {},
   "source": [
    "The function ```get_class_from_filename``` takes the file path and returns ***0*** for cats and ***1*** for dogs.\n",
    "\n",
    "The function ```generate_class_arr``` takes the array of filenames and returns an array of class numbers using the function ```get_class_from_filename```."
   ]
  },
  {
   "cell_type": "code",
   "execution_count": 4,
   "metadata": {},
   "outputs": [],
   "source": [
    "\n",
    "def load_images(filenames):\n",
    "    \n",
    "    files = []\n",
    "    for i in range(len(filenames)):\n",
    "        files.append(cv2.imread(filenames[i]))\n",
    "        \n",
    "    return np.array(resize_files(files))\n",
    "\n",
    "\n",
    "def resize_files(files):\n",
    "    _files = []\n",
    "    for i in range(len(files)):\n",
    "        _resized = np.array(cv2.resize(files[i], (img_width, img_height),interpolation=cv2.INTER_AREA))\n",
    "        _normalized = np.true_divide(_resized, 255)\n",
    "        _files.append(_normalized)\n",
    "        \n",
    "    return _files\n",
    "\n",
    "\n",
    "def get_class_from_filename(filename):\n",
    "    \n",
    "    parts = filename.split(\".\")\n",
    "    size = len(parts)\n",
    "    \n",
    "    _class = parts[size - 3]\n",
    "    _class = _class[-3:]\n",
    "    \n",
    "    return np.array([0, 1] if _class == \"cat\" else [1,0])\n",
    "\n",
    "\n",
    "# print(get_class_from_filename(\"./test/dog.267.jpg\"))\n",
    "\n",
    "def generate_class_arr(filenames):\n",
    "    \n",
    "    classes = []\n",
    "    \n",
    "    for i in range(len(filenames)):\n",
    "        classes.append(get_class_from_filename(filenames[i]))\n",
    "    \n",
    "    return np.array(classes)\n",
    "\n",
    "# arr = ['./data/cat.2718.jpg', './data/dog.1753.jpg', './data/cat.1211.jpg', './data/dog.775.jpg', './data/cat.1577.jpg', './data/cat.952.jpg']\n",
    "# print(generate_class_arr(arr))\n",
    "        "
   ]
  },
  {
   "cell_type": "code",
   "execution_count": 5,
   "metadata": {},
   "outputs": [],
   "source": [
    "y = generate_class_arr(image_filenames)"
   ]
  },
  {
   "cell_type": "code",
   "execution_count": 6,
   "metadata": {},
   "outputs": [],
   "source": [
    "\n",
    "x_train_filenames, x_test_filenames, y_train, y_test = train_test_split(image_filenames, y, test_size=0.2)\n",
    "x_test_filenames, x_val_filenames, y_test, y_val = train_test_split(x_test_filenames, y_test, test_size=0.5)\n"
   ]
  },
  {
   "cell_type": "code",
   "execution_count": 7,
   "metadata": {},
   "outputs": [],
   "source": [
    "x_train = load_images(x_train_filenames)\n",
    "x_test = load_images(x_test_filenames)\n",
    "x_val = load_images(x_val_filenames)\n"
   ]
  },
  {
   "cell_type": "code",
   "execution_count": 8,
   "metadata": {
    "scrolled": true
   },
   "outputs": [
    {
     "name": "stdout",
     "output_type": "stream",
     "text": [
      "4800   4800\n",
      "600   600\n",
      "600   600\n"
     ]
    }
   ],
   "source": [
    "# print(x_train_filenames[:5])\n",
    "# print(y_train[:5])\n",
    "print(len(x_train_filenames), \" \", len(y_train))\n",
    "\n",
    "# print(x_test_filenames[:5])\n",
    "# print(y_test[:5])\n",
    "print(len(x_test_filenames), \" \", len(y_test))\n",
    "\n",
    "# print(x_val_filenames[:5])\n",
    "# print(y_val[:5])\n",
    "print(len(x_val_filenames), \" \", len(y_val))\n"
   ]
  },
  {
   "cell_type": "code",
   "execution_count": 9,
   "metadata": {
    "scrolled": true
   },
   "outputs": [
    {
     "name": "stdout",
     "output_type": "stream",
     "text": [
      "Label: [1 0]\n",
      "(50, 50, 3)\n"
     ]
    },
    {
     "data": {
      "image/png": "[encoded data removed]",
      "text/plain": [
       "<matplotlib.figure.Figure at 0x1c3e03d7390>"
      ]
     },
     "metadata": {},
     "output_type": "display_data"
    }
   ],
   "source": [
    "\n",
    "plt.imshow(x_train[0])\n",
    "print(\"Label: {}\".format(y_train[0]))\n",
    "print(x_train[0].shape)\n"
   ]
  },
  {
   "cell_type": "code",
   "execution_count": 10,
   "metadata": {},
   "outputs": [
    {
     "name": "stdout",
     "output_type": "stream",
     "text": [
      "Label: [1 0]\n"
     ]
    },
    {
     "data": {
      "image/png": "[encoded data removed]",
      "text/plain": [
       "<matplotlib.figure.Figure at 0x1c3e0bd4da0>"
      ]
     },
     "metadata": {},
     "output_type": "display_data"
    }
   ],
   "source": [
    "\n",
    "plt.imshow(x_test[0])\n",
    "print(\"Label: {}\".format(y_test[0]))\n"
   ]
  },
  {
   "cell_type": "code",
   "execution_count": 11,
   "metadata": {
    "scrolled": true
   },
   "outputs": [
    {
     "name": "stdout",
     "output_type": "stream",
     "text": [
      "Label: [1 0]\n"
     ]
    },
    {
     "data": {
      "image/png": "[encoded data removed]",
      "text/plain": [
       "<matplotlib.figure.Figure at 0x1c3e0c352b0>"
      ]
     },
     "metadata": {},
     "output_type": "display_data"
    }
   ],
   "source": [
    "\n",
    "plt.imshow(x_val[0])\n",
    "print(\"Label: {}\".format(y_val[0]))\n"
   ]
  },
  {
   "cell_type": "markdown",
   "metadata": {},
   "source": [
    "### Exercise 2\n",
    "Train a Convolutional Neural Network (ConvNet) on the training set. The general structure of the ConvNet will be a stack of alternated Conv2D (with relu activation) and MaxPooling2D layers. A Conv2D layer creates a convolution kernel that is convolved with the layer input to produce a tensor of outputs. A MaxPooling2D layer is used to downscale input in both the vertical and horizontal dimensions."
   ]
  },
  {
   "cell_type": "code",
   "execution_count": 12,
   "metadata": {},
   "outputs": [],
   "source": [
    "from keras.layers import Conv2D, MaxPooling2D, GlobalAveragePooling2D"
   ]
  },
  {
   "cell_type": "code",
   "execution_count": 13,
   "metadata": {},
   "outputs": [
    {
     "name": "stdout",
     "output_type": "stream",
     "text": [
      "WARNING:tensorflow:From D:\\Applications\\Python3\\lib\\site-packages\\keras\\backend\\tensorflow_backend.py:1264: calling reduce_prod (from tensorflow.python.ops.math_ops) with keep_dims is deprecated and will be removed in a future version.\n",
      "Instructions for updating:\n",
      "keep_dims is deprecated, use keepdims instead\n"
     ]
    }
   ],
   "source": [
    "# Add your code here\n",
    "\n",
    "\n",
    "input_shape = x_train[1].shape\n",
    "\n",
    "model = Sequential()\n",
    "#add model layers\n",
    "\n",
    "model.add(Conv2D(64, 2,padding='same', input_shape=input_shape))\n",
    "model.add(Activation('relu'))\n",
    "model.add(MaxPooling2D(pool_size=(2,2)))\n",
    "\n",
    "model.add(Conv2D(128, 2, padding='same'))\n",
    "model.add(Activation('relu'))\n",
    "model.add(MaxPooling2D(pool_size=(2,2)))\n",
    "\n",
    "model.add(Flatten())\n",
    "\n",
    "model.add(Dense(256, activation='relu'))\n",
    "model.add(Dense(128, activation='relu'))\n",
    "\n",
    "model.add(Dense(2, activation='softmax'))\n",
    "          "
   ]
  },
  {
   "cell_type": "code",
   "execution_count": 14,
   "metadata": {},
   "outputs": [
    {
     "name": "stdout",
     "output_type": "stream",
     "text": [
      "_________________________________________________________________\n",
      "Layer (type)                 Output Shape              Param #   \n",
      "=================================================================\n",
      "conv2d_1 (Conv2D)            (None, 50, 50, 64)        832       \n",
      "_________________________________________________________________\n",
      "activation_1 (Activation)    (None, 50, 50, 64)        0         \n",
      "_________________________________________________________________\n",
      "max_pooling2d_1 (MaxPooling2 (None, 25, 25, 64)        0         \n",
      "_________________________________________________________________\n",
      "conv2d_2 (Conv2D)            (None, 25, 25, 128)       32896     \n",
      "_________________________________________________________________\n",
      "activation_2 (Activation)    (None, 25, 25, 128)       0         \n",
      "_________________________________________________________________\n",
      "max_pooling2d_2 (MaxPooling2 (None, 12, 12, 128)       0         \n",
      "_________________________________________________________________\n",
      "flatten_1 (Flatten)          (None, 18432)             0         \n",
      "_________________________________________________________________\n",
      "dense_1 (Dense)              (None, 256)               4718848   \n",
      "_________________________________________________________________\n",
      "dense_2 (Dense)              (None, 128)               32896     \n",
      "_________________________________________________________________\n",
      "dense_3 (Dense)              (None, 2)                 258       \n",
      "=================================================================\n",
      "Total params: 4,785,730\n",
      "Trainable params: 4,785,730\n",
      "Non-trainable params: 0\n",
      "_________________________________________________________________\n"
     ]
    }
   ],
   "source": [
    "model.summary()"
   ]
  },
  {
   "cell_type": "code",
   "execution_count": 15,
   "metadata": {},
   "outputs": [],
   "source": [
    "batch_size = 128"
   ]
  },
  {
   "cell_type": "code",
   "execution_count": 16,
   "metadata": {},
   "outputs": [],
   "source": [
    "epochs = 60"
   ]
  },
  {
   "cell_type": "code",
   "execution_count": 17,
   "metadata": {},
   "outputs": [
    {
     "name": "stdout",
     "output_type": "stream",
     "text": [
      "WARNING:tensorflow:From D:\\Applications\\Python3\\lib\\site-packages\\keras\\backend\\tensorflow_backend.py:2885: calling reduce_sum (from tensorflow.python.ops.math_ops) with keep_dims is deprecated and will be removed in a future version.\n",
      "Instructions for updating:\n",
      "keep_dims is deprecated, use keepdims instead\n",
      "WARNING:tensorflow:From D:\\Applications\\Python3\\lib\\site-packages\\keras\\backend\\tensorflow_backend.py:1349: calling reduce_mean (from tensorflow.python.ops.math_ops) with keep_dims is deprecated and will be removed in a future version.\n",
      "Instructions for updating:\n",
      "keep_dims is deprecated, use keepdims instead\n"
     ]
    }
   ],
   "source": [
    "optimizer = keras.optimizers.RMSprop(lr=0.00005)\n",
    "model.compile(optimizer=optimizer, loss='categorical_crossentropy', metrics=['accuracy'])\n"
   ]
  },
  {
   "cell_type": "code",
   "execution_count": 18,
   "metadata": {},
   "outputs": [],
   "source": [
    "from keras.callbacks import ModelCheckpoint\n",
    "\n",
    "weights_filepath = \"weights.hdf5\"\n",
    "checkpoint = ModelCheckpoint(weights_filepath, monitor = 'val_acc', verbose = 1, save_best_only = True, mode='max')\n",
    "callbacks_list = [checkpoint]\n"
   ]
  },
  {
   "cell_type": "code",
   "execution_count": 19,
   "metadata": {},
   "outputs": [
    {
     "name": "stdout",
     "output_type": "stream",
     "text": [
      "Train on 4800 samples, validate on 600 samples\n",
      "Epoch 1/60\n",
      "4736/4800 [============================>.] - ETA: 0s - loss: 0.6907 - acc: 0.5260Epoch 00001: val_acc improved from -inf to 0.59667, saving model to weights.hdf5\n",
      "4800/4800 [==============================] - 9s 2ms/step - loss: 0.6903 - acc: 0.5271 - val_loss: 0.6740 - val_acc: 0.5967\n",
      "Epoch 2/60\n",
      "4608/4800 [===========================>..] - ETA: 0s - loss: 0.6678 - acc: 0.5968Epoch 00002: val_acc did not improve\n",
      "4800/4800 [==============================] - 1s 289us/step - loss: 0.6660 - acc: 0.6019 - val_loss: 0.6628 - val_acc: 0.5717\n",
      "Epoch 3/60\n",
      "4736/4800 [============================>.] - ETA: 0s - loss: 0.6448 - acc: 0.6394Epoch 00003: val_acc improved from 0.59667 to 0.66500, saving model to weights.hdf5\n",
      "4800/4800 [==============================] - 1s 279us/step - loss: 0.6443 - acc: 0.6398 - val_loss: 0.6364 - val_acc: 0.6650\n",
      "Epoch 4/60\n",
      "4736/4800 [============================>.] - ETA: 0s - loss: 0.6241 - acc: 0.6562Epoch 00004: val_acc did not improve\n",
      "4800/4800 [==============================] - 1s 262us/step - loss: 0.6241 - acc: 0.6565 - val_loss: 0.6234 - val_acc: 0.6650\n",
      "Epoch 5/60\n",
      "4736/4800 [============================>.] - ETA: 0s - loss: 0.6113 - acc: 0.6708Epoch 00005: val_acc did not improve\n",
      "4800/4800 [==============================] - 1s 266us/step - loss: 0.6119 - acc: 0.6696 - val_loss: 0.6475 - val_acc: 0.5817\n",
      "Epoch 6/60\n",
      "4736/4800 [============================>.] - ETA: 0s - loss: 0.6012 - acc: 0.6812Epoch 00006: val_acc did not improve\n",
      "4800/4800 [==============================] - 1s 257us/step - loss: 0.6011 - acc: 0.6810 - val_loss: 0.6220 - val_acc: 0.6567\n",
      "Epoch 7/60\n",
      "4736/4800 [============================>.] - ETA: 0s - loss: 0.5863 - acc: 0.6959Epoch 00007: val_acc improved from 0.66500 to 0.69000, saving model to weights.hdf5\n",
      "4800/4800 [==============================] - 1s 276us/step - loss: 0.5853 - acc: 0.6969 - val_loss: 0.6031 - val_acc: 0.6900\n",
      "Epoch 8/60\n",
      "4736/4800 [============================>.] - ETA: 0s - loss: 0.5762 - acc: 0.7137Epoch 00008: val_acc did not improve\n",
      "4800/4800 [==============================] - 1s 258us/step - loss: 0.5756 - acc: 0.7144 - val_loss: 0.6045 - val_acc: 0.6733\n",
      "Epoch 9/60\n",
      "4736/4800 [============================>.] - ETA: 0s - loss: 0.5654 - acc: 0.7122Epoch 00009: val_acc did not improve\n",
      "4800/4800 [==============================] - 1s 268us/step - loss: 0.5670 - acc: 0.7115 - val_loss: 0.6572 - val_acc: 0.6033\n",
      "Epoch 10/60\n",
      "4736/4800 [============================>.] - ETA: 0s - loss: 0.5624 - acc: 0.7103Epoch 00010: val_acc improved from 0.69000 to 0.69167, saving model to weights.hdf5\n",
      "4800/4800 [==============================] - 1s 273us/step - loss: 0.5619 - acc: 0.7113 - val_loss: 0.5825 - val_acc: 0.6917\n",
      "Epoch 11/60\n",
      "4736/4800 [============================>.] - ETA: 0s - loss: 0.5542 - acc: 0.7200Epoch 00011: val_acc improved from 0.69167 to 0.70667, saving model to weights.hdf5\n",
      "4800/4800 [==============================] - 1s 282us/step - loss: 0.5539 - acc: 0.7198 - val_loss: 0.5860 - val_acc: 0.7067\n",
      "Epoch 12/60\n",
      "4736/4800 [============================>.] - ETA: 0s - loss: 0.5435 - acc: 0.7314Epoch 00012: val_acc did not improve\n",
      "4800/4800 [==============================] - 1s 269us/step - loss: 0.5438 - acc: 0.7313 - val_loss: 0.6106 - val_acc: 0.6700\n",
      "Epoch 13/60\n",
      "4736/4800 [============================>.] - ETA: 0s - loss: 0.5386 - acc: 0.7323Epoch 00013: val_acc did not improve\n",
      "4800/4800 [==============================] - 1s 262us/step - loss: 0.5380 - acc: 0.7329 - val_loss: 0.5941 - val_acc: 0.6817\n",
      "Epoch 14/60\n",
      "4736/4800 [============================>.] - ETA: 0s - loss: 0.5368 - acc: 0.7308Epoch 00014: val_acc improved from 0.70667 to 0.70833, saving model to weights.hdf5\n",
      "4800/4800 [==============================] - 1s 271us/step - loss: 0.5363 - acc: 0.7317 - val_loss: 0.5722 - val_acc: 0.7083\n",
      "Epoch 15/60\n",
      "4736/4800 [============================>.] - ETA: 0s - loss: 0.5234 - acc: 0.7392Epoch 00015: val_acc did not improve\n",
      "4800/4800 [==============================] - 1s 262us/step - loss: 0.5250 - acc: 0.7377 - val_loss: 0.6346 - val_acc: 0.6533\n",
      "Epoch 16/60\n",
      "4736/4800 [============================>.] - ETA: 0s - loss: 0.5118 - acc: 0.7515Epoch 00016: val_acc improved from 0.70833 to 0.71000, saving model to weights.hdf5\n",
      "4800/4800 [==============================] - 1s 292us/step - loss: 0.5103 - acc: 0.7531 - val_loss: 0.5729 - val_acc: 0.7100\n",
      "Epoch 17/60\n",
      "4608/4800 [===========================>..] - ETA: 0s - loss: 0.5114 - acc: 0.7465Epoch 00017: val_acc did not improve\n",
      "4800/4800 [==============================] - 2s 323us/step - loss: 0.5104 - acc: 0.7483 - val_loss: 0.5822 - val_acc: 0.6933\n",
      "Epoch 18/60\n",
      "4736/4800 [============================>.] - ETA: 0s - loss: 0.5000 - acc: 0.7622Epoch 00018: val_acc did not improve\n",
      "4800/4800 [==============================] - 1s 263us/step - loss: 0.5010 - acc: 0.7619 - val_loss: 0.6041 - val_acc: 0.6717\n",
      "Epoch 19/60\n",
      "4736/4800 [============================>.] - ETA: 0s - loss: 0.4972 - acc: 0.7612Epoch 00019: val_acc did not improve\n",
      "4800/4800 [==============================] - 1s 265us/step - loss: 0.4964 - acc: 0.7619 - val_loss: 0.5672 - val_acc: 0.7033\n",
      "Epoch 20/60\n",
      "4736/4800 [============================>.] - ETA: 0s - loss: 0.4896 - acc: 0.7597Epoch 00020: val_acc did not improve\n",
      "4800/4800 [==============================] - 1s 260us/step - loss: 0.4888 - acc: 0.7615 - val_loss: 0.5676 - val_acc: 0.7067\n",
      "Epoch 21/60\n",
      "4736/4800 [============================>.] - ETA: 0s - loss: 0.4896 - acc: 0.7587Epoch 00021: val_acc did not improve\n",
      "4800/4800 [==============================] - 1s 268us/step - loss: 0.4890 - acc: 0.7594 - val_loss: 0.5573 - val_acc: 0.7067\n",
      "Epoch 22/60\n",
      "4736/4800 [============================>.] - ETA: 0s - loss: 0.4744 - acc: 0.7758Epoch 00022: val_acc improved from 0.71000 to 0.71667, saving model to weights.hdf5\n",
      "4800/4800 [==============================] - 1s 273us/step - loss: 0.4741 - acc: 0.7765 - val_loss: 0.5726 - val_acc: 0.7167\n",
      "Epoch 23/60\n",
      "4736/4800 [============================>.] - ETA: 0s - loss: 0.4738 - acc: 0.7698Epoch 00023: val_acc did not improve\n",
      "4800/4800 [==============================] - 1s 259us/step - loss: 0.4722 - acc: 0.7712 - val_loss: 0.5554 - val_acc: 0.7083\n",
      "Epoch 24/60\n",
      "4736/4800 [============================>.] - ETA: 0s - loss: 0.4675 - acc: 0.7791Epoch 00024: val_acc improved from 0.71667 to 0.71667, saving model to weights.hdf5\n",
      "4800/4800 [==============================] - 1s 280us/step - loss: 0.4677 - acc: 0.7788 - val_loss: 0.5505 - val_acc: 0.7167\n",
      "Epoch 25/60\n",
      "4736/4800 [============================>.] - ETA: 0s - loss: 0.4565 - acc: 0.7810Epoch 00025: val_acc did not improve\n",
      "4800/4800 [==============================] - 1s 260us/step - loss: 0.4558 - acc: 0.7821 - val_loss: 0.5556 - val_acc: 0.7067\n",
      "Epoch 26/60\n",
      "4736/4800 [============================>.] - ETA: 0s - loss: 0.4583 - acc: 0.7863Epoch 00026: val_acc did not improve\n",
      "4800/4800 [==============================] - 1s 259us/step - loss: 0.4586 - acc: 0.7860 - val_loss: 0.5580 - val_acc: 0.7150\n",
      "Epoch 27/60\n",
      "4736/4800 [============================>.] - ETA: 0s - loss: 0.4496 - acc: 0.7933Epoch 00027: val_acc did not improve\n",
      "4800/4800 [==============================] - 1s 260us/step - loss: 0.4490 - acc: 0.7940 - val_loss: 0.5401 - val_acc: 0.7117\n",
      "Epoch 28/60\n",
      "4736/4800 [============================>.] - ETA: 0s - loss: 0.4406 - acc: 0.7971Epoch 00028: val_acc did not improve\n",
      "4800/4800 [==============================] - 1s 260us/step - loss: 0.4416 - acc: 0.7967 - val_loss: 0.6249 - val_acc: 0.6617\n",
      "Epoch 29/60\n",
      "4736/4800 [============================>.] - ETA: 0s - loss: 0.4323 - acc: 0.8053Epoch 00029: val_acc did not improve\n",
      "4800/4800 [==============================] - 1s 260us/step - loss: 0.4324 - acc: 0.8054 - val_loss: 0.5584 - val_acc: 0.7133\n",
      "Epoch 30/60\n",
      "4736/4800 [============================>.] - ETA: 0s - loss: 0.4327 - acc: 0.8045Epoch 00030: val_acc did not improve\n",
      "4800/4800 [==============================] - 1s 259us/step - loss: 0.4326 - acc: 0.8042 - val_loss: 0.5722 - val_acc: 0.7033\n",
      "Epoch 31/60\n"
     ]
    },
    {
     "name": "stdout",
     "output_type": "stream",
     "text": [
      "4736/4800 [============================>.] - ETA: 0s - loss: 0.4217 - acc: 0.8062Epoch 00031: val_acc improved from 0.71667 to 0.71833, saving model to weights.hdf5\n",
      "4800/4800 [==============================] - 1s 271us/step - loss: 0.4217 - acc: 0.8052 - val_loss: 0.5465 - val_acc: 0.7183\n",
      "Epoch 32/60\n",
      "4736/4800 [============================>.] - ETA: 0s - loss: 0.4185 - acc: 0.8117Epoch 00032: val_acc did not improve\n",
      "4800/4800 [==============================] - 1s 262us/step - loss: 0.4191 - acc: 0.8115 - val_loss: 0.5480 - val_acc: 0.7167\n",
      "Epoch 33/60\n",
      "4736/4800 [============================>.] - ETA: 0s - loss: 0.4063 - acc: 0.8209Epoch 00033: val_acc did not improve\n",
      "4800/4800 [==============================] - 1s 260us/step - loss: 0.4062 - acc: 0.8206 - val_loss: 0.6478 - val_acc: 0.6850\n",
      "Epoch 34/60\n",
      "4736/4800 [============================>.] - ETA: 0s - loss: 0.4097 - acc: 0.8167Epoch 00034: val_acc improved from 0.71833 to 0.72000, saving model to weights.hdf5\n",
      "4800/4800 [==============================] - 1s 270us/step - loss: 0.4093 - acc: 0.8171 - val_loss: 0.5414 - val_acc: 0.7200\n",
      "Epoch 35/60\n",
      "4736/4800 [============================>.] - ETA: 0s - loss: 0.4012 - acc: 0.8207Epoch 00035: val_acc improved from 0.72000 to 0.73500, saving model to weights.hdf5\n",
      "4800/4800 [==============================] - 1s 272us/step - loss: 0.4015 - acc: 0.8217 - val_loss: 0.5376 - val_acc: 0.7350\n",
      "Epoch 36/60\n",
      "4736/4800 [============================>.] - ETA: 0s - loss: 0.3909 - acc: 0.8300Epoch 00036: val_acc did not improve\n",
      "4800/4800 [==============================] - 1s 260us/step - loss: 0.3926 - acc: 0.8283 - val_loss: 0.5615 - val_acc: 0.7133\n",
      "Epoch 37/60\n",
      "4736/4800 [============================>.] - ETA: 0s - loss: 0.3853 - acc: 0.8323Epoch 00037: val_acc did not improve\n",
      "4800/4800 [==============================] - 1s 257us/step - loss: 0.3847 - acc: 0.8333 - val_loss: 0.5250 - val_acc: 0.7217\n",
      "Epoch 38/60\n",
      "4736/4800 [============================>.] - ETA: 0s - loss: 0.3762 - acc: 0.8387Epoch 00038: val_acc did not improve\n",
      "4800/4800 [==============================] - 1s 258us/step - loss: 0.3765 - acc: 0.8383 - val_loss: 0.7306 - val_acc: 0.6567\n",
      "Epoch 39/60\n",
      "4736/4800 [============================>.] - ETA: 0s - loss: 0.3774 - acc: 0.8336Epoch 00039: val_acc did not improve\n",
      "4800/4800 [==============================] - 1s 258us/step - loss: 0.3765 - acc: 0.8340 - val_loss: 0.5306 - val_acc: 0.7317\n",
      "Epoch 40/60\n",
      "4736/4800 [============================>.] - ETA: 0s - loss: 0.3735 - acc: 0.8349Epoch 00040: val_acc did not improve\n",
      "4800/4800 [==============================] - 1s 257us/step - loss: 0.3730 - acc: 0.8352 - val_loss: 0.5295 - val_acc: 0.7250\n",
      "Epoch 41/60\n",
      "4736/4800 [============================>.] - ETA: 0s - loss: 0.3616 - acc: 0.8457Epoch 00041: val_acc did not improve\n",
      "4800/4800 [==============================] - 1s 257us/step - loss: 0.3607 - acc: 0.8462 - val_loss: 0.5403 - val_acc: 0.7250\n",
      "Epoch 42/60\n",
      "4736/4800 [============================>.] - ETA: 0s - loss: 0.3592 - acc: 0.8433Epoch 00042: val_acc did not improve\n",
      "4800/4800 [==============================] - 1s 257us/step - loss: 0.3589 - acc: 0.8435 - val_loss: 0.5311 - val_acc: 0.7333\n",
      "Epoch 43/60\n",
      "4736/4800 [============================>.] - ETA: 0s - loss: 0.3488 - acc: 0.8575Epoch 00043: val_acc did not improve\n",
      "4800/4800 [==============================] - 1s 258us/step - loss: 0.3526 - acc: 0.8548 - val_loss: 0.7031 - val_acc: 0.6467\n",
      "Epoch 44/60\n",
      "4736/4800 [============================>.] - ETA: 0s - loss: 0.3443 - acc: 0.8609Epoch 00044: val_acc did not improve\n",
      "4800/4800 [==============================] - 1s 257us/step - loss: 0.3440 - acc: 0.8610 - val_loss: 0.5902 - val_acc: 0.7167\n",
      "Epoch 45/60\n",
      "4736/4800 [============================>.] - ETA: 0s - loss: 0.3392 - acc: 0.8598Epoch 00045: val_acc improved from 0.73500 to 0.73833, saving model to weights.hdf5\n",
      "4800/4800 [==============================] - 1s 270us/step - loss: 0.3383 - acc: 0.8604 - val_loss: 0.5217 - val_acc: 0.7383\n",
      "Epoch 46/60\n",
      "4736/4800 [============================>.] - ETA: 0s - loss: 0.3226 - acc: 0.8725Epoch 00046: val_acc did not improve\n",
      "4800/4800 [==============================] - 1s 257us/step - loss: 0.3223 - acc: 0.8723 - val_loss: 0.5241 - val_acc: 0.7333\n",
      "Epoch 47/60\n",
      "4736/4800 [============================>.] - ETA: 0s - loss: 0.3380 - acc: 0.8560Epoch 00047: val_acc improved from 0.73833 to 0.74833, saving model to weights.hdf5\n",
      "4800/4800 [==============================] - 1s 269us/step - loss: 0.3363 - acc: 0.8565 - val_loss: 0.5245 - val_acc: 0.7483\n",
      "Epoch 48/60\n",
      "4736/4800 [============================>.] - ETA: 0s - loss: 0.3289 - acc: 0.8653Epoch 00048: val_acc did not improve\n",
      "4800/4800 [==============================] - 1s 257us/step - loss: 0.3292 - acc: 0.8652 - val_loss: 0.5532 - val_acc: 0.7317\n",
      "Epoch 49/60\n",
      "4736/4800 [============================>.] - ETA: 0s - loss: 0.3135 - acc: 0.8761Epoch 00049: val_acc did not improve\n",
      "4800/4800 [==============================] - 1s 257us/step - loss: 0.3146 - acc: 0.8748 - val_loss: 0.5551 - val_acc: 0.7167\n",
      "Epoch 50/60\n",
      "4736/4800 [============================>.] - ETA: 0s - loss: 0.3102 - acc: 0.8748Epoch 00050: val_acc did not improve\n",
      "4800/4800 [==============================] - 1s 258us/step - loss: 0.3101 - acc: 0.8748 - val_loss: 0.5208 - val_acc: 0.7417\n",
      "Epoch 51/60\n",
      "4736/4800 [============================>.] - ETA: 0s - loss: 0.3038 - acc: 0.8754Epoch 00051: val_acc did not improve\n",
      "4800/4800 [==============================] - 1s 258us/step - loss: 0.3033 - acc: 0.8758 - val_loss: 0.5238 - val_acc: 0.7417\n",
      "Epoch 52/60\n",
      "4736/4800 [============================>.] - ETA: 0s - loss: 0.3029 - acc: 0.8799Epoch 00052: val_acc did not improve\n",
      "4800/4800 [==============================] - 1s 258us/step - loss: 0.3017 - acc: 0.8804 - val_loss: 0.5282 - val_acc: 0.7400\n",
      "Epoch 53/60\n",
      "4736/4800 [============================>.] - ETA: 0s - loss: 0.2952 - acc: 0.8811Epoch 00053: val_acc did not improve\n",
      "4800/4800 [==============================] - 1s 261us/step - loss: 0.2948 - acc: 0.8819 - val_loss: 0.5349 - val_acc: 0.7450\n",
      "Epoch 54/60\n",
      "4736/4800 [============================>.] - ETA: 0s - loss: 0.2887 - acc: 0.8860Epoch 00054: val_acc did not improve\n",
      "4800/4800 [==============================] - 1s 257us/step - loss: 0.2891 - acc: 0.8854 - val_loss: 0.5434 - val_acc: 0.7300\n",
      "Epoch 55/60\n",
      "4736/4800 [============================>.] - ETA: 0s - loss: 0.2822 - acc: 0.8853Epoch 00055: val_acc did not improve\n",
      "4800/4800 [==============================] - 1s 258us/step - loss: 0.2827 - acc: 0.8850 - val_loss: 0.5335 - val_acc: 0.7333\n",
      "Epoch 56/60\n",
      "4736/4800 [============================>.] - ETA: 0s - loss: 0.2775 - acc: 0.8946Epoch 00056: val_acc did not improve\n",
      "4800/4800 [==============================] - 1s 257us/step - loss: 0.2782 - acc: 0.8944 - val_loss: 0.5534 - val_acc: 0.7217\n",
      "Epoch 57/60\n",
      "4736/4800 [============================>.] - ETA: 0s - loss: 0.2682 - acc: 0.8989Epoch 00057: val_acc improved from 0.74833 to 0.75500, saving model to weights.hdf5\n",
      "4800/4800 [==============================] - 1s 270us/step - loss: 0.2678 - acc: 0.8992 - val_loss: 0.5392 - val_acc: 0.7550\n",
      "Epoch 58/60\n",
      "4736/4800 [============================>.] - ETA: 0s - loss: 0.2703 - acc: 0.8997Epoch 00058: val_acc did not improve\n",
      "4800/4800 [==============================] - 1s 257us/step - loss: 0.2688 - acc: 0.9004 - val_loss: 0.5485 - val_acc: 0.7500\n",
      "Epoch 59/60\n",
      "4736/4800 [============================>.] - ETA: 0s - loss: 0.2619 - acc: 0.8989Epoch 00059: val_acc did not improve\n",
      "4800/4800 [==============================] - 1s 258us/step - loss: 0.2618 - acc: 0.8990 - val_loss: 0.5599 - val_acc: 0.7367\n",
      "Epoch 60/60\n",
      "4736/4800 [============================>.] - ETA: 0s - loss: 0.2581 - acc: 0.8991Epoch 00060: val_acc did not improve\n",
      "4800/4800 [==============================] - 1s 264us/step - loss: 0.2582 - acc: 0.8992 - val_loss: 0.5233 - val_acc: 0.7483\n"
     ]
    }
   ],
   "source": [
    "\n",
    "history = model.fit(x_train, y_train, batch_size=batch_size, epochs=epochs,validation_data=(x_test, y_test), callbacks=callbacks_list, verbose=1)\n"
   ]
  },
  {
   "cell_type": "code",
   "execution_count": 20,
   "metadata": {},
   "outputs": [
    {
     "name": "stdout",
     "output_type": "stream",
     "text": [
      "600/600 [==============================] - 0s 230us/step\n",
      "Test loss: 0.5162494762738545\n",
      "Test accuracy: 0.7566666674613952\n"
     ]
    }
   ],
   "source": [
    "\n",
    "score = model.evaluate(x_val, y_val, verbose=1)\n",
    "print('Test loss:', score[0])\n",
    "print('Test accuracy:', score[1])\n"
   ]
  },
  {
   "cell_type": "code",
   "execution_count": 21,
   "metadata": {},
   "outputs": [],
   "source": [
    "\n",
    "model_predictions = model.predict(x_val)\n"
   ]
  },
  {
   "cell_type": "markdown",
   "metadata": {},
   "source": [
    "### Exercise 3\n",
    "\n",
    "Output the training/validation loss and accuracy curves. Also print the classification results (e.g., classification accuracy, confusion matrix, precision-recall curves and/or ROC curves) on the test set."
   ]
  },
  {
   "cell_type": "code",
   "execution_count": 22,
   "metadata": {},
   "outputs": [
    {
     "name": "stdout",
     "output_type": "stream",
     "text": [
      "Classification report for the simple CNN:\n",
      "             precision    recall  f1-score   support\n",
      "\n",
      "          0       0.74      0.79      0.77       303\n",
      "          1       0.77      0.72      0.75       297\n",
      "\n",
      "avg / total       0.76      0.76      0.76       600\n",
      "\n"
     ]
    }
   ],
   "source": [
    "from sklearn.metrics import classification_report, confusion_matrix, precision_recall_curve, roc_curve, auc\n",
    "from sklearn.preprocessing import label_binarize\n",
    "\n",
    "# Add your code here\n",
    "print(\"Classification report for the simple CNN:\")\n",
    "print(classification_report(y_val.argmax(axis=1), model_predictions.argmax(axis=1)))\n"
   ]
  },
  {
   "cell_type": "code",
   "execution_count": 23,
   "metadata": {},
   "outputs": [
    {
     "name": "stdout",
     "output_type": "stream",
     "text": [
      "Confusion matrix for the simple CNN:\n",
      "[[239  64]\n",
      " [ 82 215]]\n"
     ]
    }
   ],
   "source": [
    "\n",
    "print(\"Confusion matrix for the simple CNN:\")\n",
    "print(confusion_matrix(y_val.argmax(axis=1),  model_predictions.argmax(axis=1)))\n"
   ]
  },
  {
   "cell_type": "code",
   "execution_count": 24,
   "metadata": {},
   "outputs": [],
   "source": [
    "from sklearn.metrics import precision_recall_curve\n",
    "from sklearn.utils.fixes import signature\n",
    "from sklearn.metrics import average_precision_score\n",
    "\n",
    "def plot_precision_recall_curve(labels, predictions, classifier_name=None):\n",
    "    \n",
    "    title = \"Precision-Recall curve\"\n",
    "    if classifier_name is not None:\n",
    "        title = \"Precision-Recall curve for {} predictions\".format(classifier_name)\n",
    "        \n",
    "    precision, recall, thresholds = precision_recall_curve(labels, predictions)\n",
    "    \n",
    "    average_precision = average_precision_score(labels, predictions)\n",
    "\n",
    "    # In matplotlib < 1.5, plt.fill_between does not have a 'step' argument\n",
    "    step_kwargs = ({'step': 'post'}\n",
    "                   if 'step' in signature(plt.fill_between).parameters\n",
    "                   else {})\n",
    "    \n",
    "    fig = plt.figure()\n",
    "    fig.set_figwidth(10)\n",
    "    fig.suptitle('Precision-Recall curve for {0}: AP={1:0.2f}'.format(classifier_name, average_precision))\n",
    "    \n",
    "    plot = plt.subplot(1, 2, 2)\n",
    "    \n",
    "    plot.step(recall, precision, color='b', alpha=0.2, where='post')\n",
    "    \n",
    "    plot.fill_between(recall, precision, alpha=0.2, color='b', **step_kwargs)\n",
    "\n",
    "    plot.set_xlabel('Recall')\n",
    "    plot.set_ylabel('Precision')\n",
    "    plot.set_ylim([0.0, 1.05])\n",
    "    plot.set_xlim([0.0, 1.0])\n",
    "       \n",
    "    return plot\n",
    "\n",
    "\n",
    "def plot_train_val_acc_curve(_hist):\n",
    "    \n",
    "    plt.plot(_hist.history['acc'])\n",
    "    plt.plot(_hist.history['val_acc'])\n",
    "    plt.title('model accuracy')\n",
    "    plt.ylabel('accuracy')\n",
    "    plt.xlabel('epoch')\n",
    "    plt.legend(['train', 'test'], loc='upper left')\n",
    "    \n",
    "    return plt.show()\n",
    "\n",
    "\n",
    "def plot_train_val_loss_curve(_hist):\n",
    "    \n",
    "    plt.plot(history.history['loss'])\n",
    "    plt.plot(history.history['val_loss'])\n",
    "    plt.title('model loss')\n",
    "    plt.ylabel('loss')\n",
    "    plt.xlabel('epoch')\n",
    "    plt.legend(['train', 'test'], loc='upper left')\n",
    "    \n",
    "    return plt.show()\n",
    "\n",
    "\n",
    "def plot_roc_curve(_y, _y_hat):\n",
    "    \n",
    "    fpr, tpr, thresholds = roc_curve(_y.argmax(axis=1).ravel(), first_arg(_y_hat))\n",
    "    auc_simple = auc(fpr, tpr)\n",
    "    plt.plot(fpr, tpr, label='Keras (area = {:.3f})'.format(auc_simple))\n",
    "    plt.xlabel('False positive rate')\n",
    "    plt.ylabel('True positive rate')\n",
    "    plt.title('ROC curve')\n",
    "    plt.legend(loc='best')\n",
    "    \n",
    "    return plt.show()\n",
    "    \n",
    "\n",
    "def first_arg(arr):\n",
    "    \n",
    "    _arr = []\n",
    "    \n",
    "    for i in range(len(arr)):\n",
    "        _arr.append(arr[i][1])\n",
    "    \n",
    "    return _arr\n"
   ]
  },
  {
   "cell_type": "code",
   "execution_count": 25,
   "metadata": {},
   "outputs": [
    {
     "data": {
      "image/png": "[encoded data removed]",
      "text/plain": [
       "<matplotlib.figure.Figure at 0x1c3f2b5b048>"
      ]
     },
     "metadata": {},
     "output_type": "display_data"
    }
   ],
   "source": [
    "\n",
    "plot_train_val_acc_curve(history)\n"
   ]
  },
  {
   "cell_type": "code",
   "execution_count": 26,
   "metadata": {},
   "outputs": [
    {
     "data": {
      "image/png": "[encoded data removed]",
      "text/plain": [
       "<matplotlib.figure.Figure at 0x1c3f2ae84e0>"
      ]
     },
     "metadata": {},
     "output_type": "display_data"
    }
   ],
   "source": [
    "\n",
    "plot_train_val_loss_curve(history)\n"
   ]
  },
  {
   "cell_type": "code",
   "execution_count": 27,
   "metadata": {},
   "outputs": [
    {
     "data": {
      "image/png": "[encoded data removed]",
      "text/plain": [
       "<matplotlib.figure.Figure at 0x1c44af1bd30>"
      ]
     },
     "metadata": {},
     "output_type": "display_data"
    }
   ],
   "source": [
    "\n",
    "plot_roc_curve(y_val,  model_predictions)\n"
   ]
  },
  {
   "cell_type": "code",
   "execution_count": 28,
   "metadata": {},
   "outputs": [
    {
     "name": "stdout",
     "output_type": "stream",
     "text": [
      "Axes(0.547727,0.125;0.352273x0.755)\n"
     ]
    },
    {
     "data": {
      "image/png": "[encoded data removed]",
      "text/plain": [
       "<matplotlib.figure.Figure at 0x1c44af38400>"
      ]
     },
     "metadata": {},
     "output_type": "display_data"
    }
   ],
   "source": [
    "\n",
    "print(plot_precision_recall_curve(first_arg(y_val), first_arg(model_predictions), \"Keras Simple CNN\"))\n"
   ]
  },
  {
   "cell_type": "markdown",
   "metadata": {},
   "source": [
    "### Exercise 4\n",
    "\n",
    "Explore different network architectures (e.g., stacking 4 Conv2D+MaxPooling2D layers) and various ways in tuning the model parameters to see if you can improve the model performance on the validation set."
   ]
  },
  {
   "cell_type": "code",
   "execution_count": 29,
   "metadata": {},
   "outputs": [],
   "source": [
    "# Add your code here\n",
    "\n",
    "input_shape = x_train[1].shape\n",
    "\n",
    "model_complex = Sequential()\n",
    "#add model layers\n",
    "\n",
    "model_complex.add(Conv2D(128, 2,padding='same', input_shape=input_shape))\n",
    "model_complex.add(BatchNormalization())\n",
    "model_complex.add(Activation('relu'))\n",
    "model_complex.add(MaxPooling2D(pool_size=(2,2)))\n",
    "model_complex.add(Dropout(0.2))\n",
    "\n",
    "model_complex.add(Conv2D(256, 2, padding='same'))\n",
    "model_complex.add(BatchNormalization())\n",
    "model_complex.add(Activation('relu'))\n",
    "model_complex.add(MaxPooling2D(pool_size=(2,2)))\n",
    "model_complex.add(Dropout(0.2))\n",
    "\n",
    "model_complex.add(Conv2D(512, 2, padding='same'))\n",
    "model_complex.add(BatchNormalization())\n",
    "model_complex.add(Activation('relu'))\n",
    "model_complex.add(MaxPooling2D(pool_size=(2,2)))\n",
    "model_complex.add(Dropout(0.2))\n",
    "\n",
    "model_complex.add(Conv2D(1024, 2, padding='same'))\n",
    "model_complex.add(BatchNormalization())\n",
    "model_complex.add(Activation('relu'))\n",
    "model_complex.add(MaxPooling2D(pool_size=(2,2)))\n",
    "model_complex.add(Dropout(0.2))\n",
    "\n",
    "model_complex.add(Flatten())\n",
    "\n",
    "model_complex.add(Dense(1024, activation='relu'))\n",
    "model_complex.add(BatchNormalization())\n",
    "model_complex.add(Dropout(0.2))\n",
    "\n",
    "# model_complex.add(Dense(512, activation='relu'))\n",
    "# model_complex.add(BatchNormalization())\n",
    "# model_complex.add(Dropout(0.2))\n",
    "\n",
    "# model_complex.add(Dense(512, activation='relu'))\n",
    "\n",
    "model_complex.add(Dense(2, activation='softmax'))\n"
   ]
  },
  {
   "cell_type": "code",
   "execution_count": 30,
   "metadata": {},
   "outputs": [
    {
     "name": "stdout",
     "output_type": "stream",
     "text": [
      "_________________________________________________________________\n",
      "Layer (type)                 Output Shape              Param #   \n",
      "=================================================================\n",
      "conv2d_3 (Conv2D)            (None, 50, 50, 128)       1664      \n",
      "_________________________________________________________________\n",
      "batch_normalization_1 (Batch (None, 50, 50, 128)       512       \n",
      "_________________________________________________________________\n",
      "activation_3 (Activation)    (None, 50, 50, 128)       0         \n",
      "_________________________________________________________________\n",
      "max_pooling2d_3 (MaxPooling2 (None, 25, 25, 128)       0         \n",
      "_________________________________________________________________\n",
      "dropout_1 (Dropout)          (None, 25, 25, 128)       0         \n",
      "_________________________________________________________________\n",
      "conv2d_4 (Conv2D)            (None, 25, 25, 256)       131328    \n",
      "_________________________________________________________________\n",
      "batch_normalization_2 (Batch (None, 25, 25, 256)       1024      \n",
      "_________________________________________________________________\n",
      "activation_4 (Activation)    (None, 25, 25, 256)       0         \n",
      "_________________________________________________________________\n",
      "max_pooling2d_4 (MaxPooling2 (None, 12, 12, 256)       0         \n",
      "_________________________________________________________________\n",
      "dropout_2 (Dropout)          (None, 12, 12, 256)       0         \n",
      "_________________________________________________________________\n",
      "conv2d_5 (Conv2D)            (None, 12, 12, 512)       524800    \n",
      "_________________________________________________________________\n",
      "batch_normalization_3 (Batch (None, 12, 12, 512)       2048      \n",
      "_________________________________________________________________\n",
      "activation_5 (Activation)    (None, 12, 12, 512)       0         \n",
      "_________________________________________________________________\n",
      "max_pooling2d_5 (MaxPooling2 (None, 6, 6, 512)         0         \n",
      "_________________________________________________________________\n",
      "dropout_3 (Dropout)          (None, 6, 6, 512)         0         \n",
      "_________________________________________________________________\n",
      "conv2d_6 (Conv2D)            (None, 6, 6, 1024)        2098176   \n",
      "_________________________________________________________________\n",
      "batch_normalization_4 (Batch (None, 6, 6, 1024)        4096      \n",
      "_________________________________________________________________\n",
      "activation_6 (Activation)    (None, 6, 6, 1024)        0         \n",
      "_________________________________________________________________\n",
      "max_pooling2d_6 (MaxPooling2 (None, 3, 3, 1024)        0         \n",
      "_________________________________________________________________\n",
      "dropout_4 (Dropout)          (None, 3, 3, 1024)        0         \n",
      "_________________________________________________________________\n",
      "flatten_2 (Flatten)          (None, 9216)              0         \n",
      "_________________________________________________________________\n",
      "dense_4 (Dense)              (None, 1024)              9438208   \n",
      "_________________________________________________________________\n",
      "batch_normalization_5 (Batch (None, 1024)              4096      \n",
      "_________________________________________________________________\n",
      "dropout_5 (Dropout)          (None, 1024)              0         \n",
      "_________________________________________________________________\n",
      "dense_5 (Dense)              (None, 2)                 2050      \n",
      "=================================================================\n",
      "Total params: 12,208,002\n",
      "Trainable params: 12,202,114\n",
      "Non-trainable params: 5,888\n",
      "_________________________________________________________________\n"
     ]
    }
   ],
   "source": [
    "\n",
    "model_complex.summary()\n"
   ]
  },
  {
   "cell_type": "code",
   "execution_count": 31,
   "metadata": {},
   "outputs": [],
   "source": [
    "\n",
    "optimizer = keras.optimizers.RMSprop(lr=0.00005)\n",
    "model_complex.compile(optimizer=optimizer, loss='categorical_crossentropy', metrics=['accuracy'])\n",
    "\n",
    "\n",
    "aug = ImageDataGenerator(rotation_range=20, zoom_range=0.15, width_shift_range=0.2, height_shift_range=0.2, shear_range=0.15, horizontal_flip=True, fill_mode=\"nearest\")\n",
    "\n",
    "weights_filepath = \"weights_better.hdf5\"\n",
    "checkpoint = ModelCheckpoint(weights_filepath, monitor = 'val_acc', verbose = 1, save_best_only = True, mode='max')\n",
    "callbacks_list = [checkpoint]\n"
   ]
  },
  {
   "cell_type": "code",
   "execution_count": 32,
   "metadata": {},
   "outputs": [
    {
     "name": "stdout",
     "output_type": "stream",
     "text": [
      "Epoch 1/100\n",
      "36/37 [============================>.] - ETA: 0s - loss: 0.9936 - acc: 0.5655Epoch 00001: val_acc improved from -inf to 0.50500, saving model to weights_better.hdf5\n",
      "37/37 [==============================] - 11s 291ms/step - loss: 0.9917 - acc: 0.5661 - val_loss: 0.6961 - val_acc: 0.5050\n",
      "Epoch 2/100\n",
      "36/37 [============================>.] - ETA: 0s - loss: 0.8884 - acc: 0.5931Epoch 00002: val_acc did not improve\n",
      "37/37 [==============================] - 7s 195ms/step - loss: 0.8894 - acc: 0.5935 - val_loss: 0.7053 - val_acc: 0.5050\n",
      "Epoch 3/100\n",
      "22/37 [================>.............] - ETA: 2s - loss: 0.8751 - acc: 0.6016"
     ]
    },
    {
     "ename": "KeyboardInterrupt",
     "evalue": "",
     "output_type": "error",
     "traceback": [
      "\u001b[1;31m---------------------------------------------------------------------------\u001b[0m",
      "\u001b[1;31mKeyboardInterrupt\u001b[0m                         Traceback (most recent call last)",
      "\u001b[1;32m<ipython-input-32-4d60f6f2cea5>\u001b[0m in \u001b[0;36m<module>\u001b[1;34m()\u001b[0m\n\u001b[0;32m      4\u001b[0m \u001b[0mepoch_complex\u001b[0m \u001b[1;33m=\u001b[0m \u001b[1;36m100\u001b[0m\u001b[1;33m\u001b[0m\u001b[0m\n\u001b[0;32m      5\u001b[0m \u001b[1;33m\u001b[0m\u001b[0m\n\u001b[1;32m----> 6\u001b[1;33m \u001b[0mhistory_complex\u001b[0m \u001b[1;33m=\u001b[0m \u001b[0mmodel_complex\u001b[0m\u001b[1;33m.\u001b[0m\u001b[0mfit_generator\u001b[0m\u001b[1;33m(\u001b[0m\u001b[0maug\u001b[0m\u001b[1;33m.\u001b[0m\u001b[0mflow\u001b[0m\u001b[1;33m(\u001b[0m\u001b[0mx_train\u001b[0m\u001b[1;33m,\u001b[0m \u001b[0my_train\u001b[0m\u001b[1;33m,\u001b[0m \u001b[0mbatch_size\u001b[0m\u001b[1;33m=\u001b[0m\u001b[0mbatch_size\u001b[0m\u001b[1;33m)\u001b[0m\u001b[1;33m,\u001b[0m \u001b[0mvalidation_data\u001b[0m\u001b[1;33m=\u001b[0m\u001b[1;33m(\u001b[0m\u001b[0mx_test\u001b[0m\u001b[1;33m,\u001b[0m \u001b[0my_test\u001b[0m\u001b[1;33m)\u001b[0m\u001b[1;33m,\u001b[0m \u001b[0mcallbacks\u001b[0m\u001b[1;33m=\u001b[0m\u001b[0mcallbacks_list\u001b[0m\u001b[1;33m,\u001b[0m \u001b[0msteps_per_epoch\u001b[0m\u001b[1;33m=\u001b[0m\u001b[0mlen\u001b[0m\u001b[1;33m(\u001b[0m\u001b[0mx_train\u001b[0m\u001b[1;33m)\u001b[0m \u001b[1;33m//\u001b[0m \u001b[0mbatch_size\u001b[0m\u001b[1;33m,\u001b[0m \u001b[0mepochs\u001b[0m\u001b[1;33m=\u001b[0m\u001b[0mepoch_complex\u001b[0m\u001b[1;33m)\u001b[0m\u001b[1;33m\u001b[0m\u001b[0m\n\u001b[0m",
      "\u001b[1;32mD:\\Applications\\Python3\\lib\\site-packages\\keras\\legacy\\interfaces.py\u001b[0m in \u001b[0;36mwrapper\u001b[1;34m(*args, **kwargs)\u001b[0m\n\u001b[0;32m     85\u001b[0m                 warnings.warn('Update your `' + object_name +\n\u001b[0;32m     86\u001b[0m                               '` call to the Keras 2 API: ' + signature, stacklevel=2)\n\u001b[1;32m---> 87\u001b[1;33m             \u001b[1;32mreturn\u001b[0m \u001b[0mfunc\u001b[0m\u001b[1;33m(\u001b[0m\u001b[1;33m*\u001b[0m\u001b[0margs\u001b[0m\u001b[1;33m,\u001b[0m \u001b[1;33m**\u001b[0m\u001b[0mkwargs\u001b[0m\u001b[1;33m)\u001b[0m\u001b[1;33m\u001b[0m\u001b[0m\n\u001b[0m\u001b[0;32m     88\u001b[0m         \u001b[0mwrapper\u001b[0m\u001b[1;33m.\u001b[0m\u001b[0m_original_function\u001b[0m \u001b[1;33m=\u001b[0m \u001b[0mfunc\u001b[0m\u001b[1;33m\u001b[0m\u001b[0m\n\u001b[0;32m     89\u001b[0m         \u001b[1;32mreturn\u001b[0m \u001b[0mwrapper\u001b[0m\u001b[1;33m\u001b[0m\u001b[0m\n",
      "\u001b[1;32mD:\\Applications\\Python3\\lib\\site-packages\\keras\\models.py\u001b[0m in \u001b[0;36mfit_generator\u001b[1;34m(self, generator, steps_per_epoch, epochs, verbose, callbacks, validation_data, validation_steps, class_weight, max_queue_size, workers, use_multiprocessing, shuffle, initial_epoch)\u001b[0m\n\u001b[0;32m   1225\u001b[0m                                         \u001b[0muse_multiprocessing\u001b[0m\u001b[1;33m=\u001b[0m\u001b[0muse_multiprocessing\u001b[0m\u001b[1;33m,\u001b[0m\u001b[1;33m\u001b[0m\u001b[0m\n\u001b[0;32m   1226\u001b[0m                                         \u001b[0mshuffle\u001b[0m\u001b[1;33m=\u001b[0m\u001b[0mshuffle\u001b[0m\u001b[1;33m,\u001b[0m\u001b[1;33m\u001b[0m\u001b[0m\n\u001b[1;32m-> 1227\u001b[1;33m                                         initial_epoch=initial_epoch)\n\u001b[0m\u001b[0;32m   1228\u001b[0m \u001b[1;33m\u001b[0m\u001b[0m\n\u001b[0;32m   1229\u001b[0m     \u001b[1;33m@\u001b[0m\u001b[0minterfaces\u001b[0m\u001b[1;33m.\u001b[0m\u001b[0mlegacy_generator_methods_support\u001b[0m\u001b[1;33m\u001b[0m\u001b[0m\n",
      "\u001b[1;32mD:\\Applications\\Python3\\lib\\site-packages\\keras\\legacy\\interfaces.py\u001b[0m in \u001b[0;36mwrapper\u001b[1;34m(*args, **kwargs)\u001b[0m\n\u001b[0;32m     85\u001b[0m                 warnings.warn('Update your `' + object_name +\n\u001b[0;32m     86\u001b[0m                               '` call to the Keras 2 API: ' + signature, stacklevel=2)\n\u001b[1;32m---> 87\u001b[1;33m             \u001b[1;32mreturn\u001b[0m \u001b[0mfunc\u001b[0m\u001b[1;33m(\u001b[0m\u001b[1;33m*\u001b[0m\u001b[0margs\u001b[0m\u001b[1;33m,\u001b[0m \u001b[1;33m**\u001b[0m\u001b[0mkwargs\u001b[0m\u001b[1;33m)\u001b[0m\u001b[1;33m\u001b[0m\u001b[0m\n\u001b[0m\u001b[0;32m     88\u001b[0m         \u001b[0mwrapper\u001b[0m\u001b[1;33m.\u001b[0m\u001b[0m_original_function\u001b[0m \u001b[1;33m=\u001b[0m \u001b[0mfunc\u001b[0m\u001b[1;33m\u001b[0m\u001b[0m\n\u001b[0;32m     89\u001b[0m         \u001b[1;32mreturn\u001b[0m \u001b[0mwrapper\u001b[0m\u001b[1;33m\u001b[0m\u001b[0m\n",
      "\u001b[1;32mD:\\Applications\\Python3\\lib\\site-packages\\keras\\engine\\training.py\u001b[0m in \u001b[0;36mfit_generator\u001b[1;34m(self, generator, steps_per_epoch, epochs, verbose, callbacks, validation_data, validation_steps, class_weight, max_queue_size, workers, use_multiprocessing, shuffle, initial_epoch)\u001b[0m\n\u001b[0;32m   2145\u001b[0m                     outs = self.train_on_batch(x, y,\n\u001b[0;32m   2146\u001b[0m                                                \u001b[0msample_weight\u001b[0m\u001b[1;33m=\u001b[0m\u001b[0msample_weight\u001b[0m\u001b[1;33m,\u001b[0m\u001b[1;33m\u001b[0m\u001b[0m\n\u001b[1;32m-> 2147\u001b[1;33m                                                class_weight=class_weight)\n\u001b[0m\u001b[0;32m   2148\u001b[0m \u001b[1;33m\u001b[0m\u001b[0m\n\u001b[0;32m   2149\u001b[0m                     \u001b[1;32mif\u001b[0m \u001b[1;32mnot\u001b[0m \u001b[0misinstance\u001b[0m\u001b[1;33m(\u001b[0m\u001b[0mouts\u001b[0m\u001b[1;33m,\u001b[0m \u001b[0mlist\u001b[0m\u001b[1;33m)\u001b[0m\u001b[1;33m:\u001b[0m\u001b[1;33m\u001b[0m\u001b[0m\n",
      "\u001b[1;32mD:\\Applications\\Python3\\lib\\site-packages\\keras\\engine\\training.py\u001b[0m in \u001b[0;36mtrain_on_batch\u001b[1;34m(self, x, y, sample_weight, class_weight)\u001b[0m\n\u001b[0;32m   1837\u001b[0m             \u001b[0mins\u001b[0m \u001b[1;33m=\u001b[0m \u001b[0mx\u001b[0m \u001b[1;33m+\u001b[0m \u001b[0my\u001b[0m \u001b[1;33m+\u001b[0m \u001b[0msample_weights\u001b[0m\u001b[1;33m\u001b[0m\u001b[0m\n\u001b[0;32m   1838\u001b[0m         \u001b[0mself\u001b[0m\u001b[1;33m.\u001b[0m\u001b[0m_make_train_function\u001b[0m\u001b[1;33m(\u001b[0m\u001b[1;33m)\u001b[0m\u001b[1;33m\u001b[0m\u001b[0m\n\u001b[1;32m-> 1839\u001b[1;33m         \u001b[0moutputs\u001b[0m \u001b[1;33m=\u001b[0m \u001b[0mself\u001b[0m\u001b[1;33m.\u001b[0m\u001b[0mtrain_function\u001b[0m\u001b[1;33m(\u001b[0m\u001b[0mins\u001b[0m\u001b[1;33m)\u001b[0m\u001b[1;33m\u001b[0m\u001b[0m\n\u001b[0m\u001b[0;32m   1840\u001b[0m         \u001b[1;32mif\u001b[0m \u001b[0mlen\u001b[0m\u001b[1;33m(\u001b[0m\u001b[0moutputs\u001b[0m\u001b[1;33m)\u001b[0m \u001b[1;33m==\u001b[0m \u001b[1;36m1\u001b[0m\u001b[1;33m:\u001b[0m\u001b[1;33m\u001b[0m\u001b[0m\n\u001b[0;32m   1841\u001b[0m             \u001b[1;32mreturn\u001b[0m \u001b[0moutputs\u001b[0m\u001b[1;33m[\u001b[0m\u001b[1;36m0\u001b[0m\u001b[1;33m]\u001b[0m\u001b[1;33m\u001b[0m\u001b[0m\n",
      "\u001b[1;32mD:\\Applications\\Python3\\lib\\site-packages\\keras\\backend\\tensorflow_backend.py\u001b[0m in \u001b[0;36m__call__\u001b[1;34m(self, inputs)\u001b[0m\n\u001b[0;32m   2355\u001b[0m         \u001b[0msession\u001b[0m \u001b[1;33m=\u001b[0m \u001b[0mget_session\u001b[0m\u001b[1;33m(\u001b[0m\u001b[1;33m)\u001b[0m\u001b[1;33m\u001b[0m\u001b[0m\n\u001b[0;32m   2356\u001b[0m         updated = session.run(fetches=fetches, feed_dict=feed_dict,\n\u001b[1;32m-> 2357\u001b[1;33m                               **self.session_kwargs)\n\u001b[0m\u001b[0;32m   2358\u001b[0m         \u001b[1;32mreturn\u001b[0m \u001b[0mupdated\u001b[0m\u001b[1;33m[\u001b[0m\u001b[1;33m:\u001b[0m\u001b[0mlen\u001b[0m\u001b[1;33m(\u001b[0m\u001b[0mself\u001b[0m\u001b[1;33m.\u001b[0m\u001b[0moutputs\u001b[0m\u001b[1;33m)\u001b[0m\u001b[1;33m]\u001b[0m\u001b[1;33m\u001b[0m\u001b[0m\n\u001b[0;32m   2359\u001b[0m \u001b[1;33m\u001b[0m\u001b[0m\n",
      "\u001b[1;32mD:\\Applications\\Python3\\lib\\site-packages\\tensorflow\\python\\client\\session.py\u001b[0m in \u001b[0;36mrun\u001b[1;34m(self, fetches, feed_dict, options, run_metadata)\u001b[0m\n\u001b[0;32m    875\u001b[0m     \u001b[1;32mtry\u001b[0m\u001b[1;33m:\u001b[0m\u001b[1;33m\u001b[0m\u001b[0m\n\u001b[0;32m    876\u001b[0m       result = self._run(None, fetches, feed_dict, options_ptr,\n\u001b[1;32m--> 877\u001b[1;33m                          run_metadata_ptr)\n\u001b[0m\u001b[0;32m    878\u001b[0m       \u001b[1;32mif\u001b[0m \u001b[0mrun_metadata\u001b[0m\u001b[1;33m:\u001b[0m\u001b[1;33m\u001b[0m\u001b[0m\n\u001b[0;32m    879\u001b[0m         \u001b[0mproto_data\u001b[0m \u001b[1;33m=\u001b[0m \u001b[0mtf_session\u001b[0m\u001b[1;33m.\u001b[0m\u001b[0mTF_GetBuffer\u001b[0m\u001b[1;33m(\u001b[0m\u001b[0mrun_metadata_ptr\u001b[0m\u001b[1;33m)\u001b[0m\u001b[1;33m\u001b[0m\u001b[0m\n",
      "\u001b[1;32mD:\\Applications\\Python3\\lib\\site-packages\\tensorflow\\python\\client\\session.py\u001b[0m in \u001b[0;36m_run\u001b[1;34m(self, handle, fetches, feed_dict, options, run_metadata)\u001b[0m\n\u001b[0;32m   1098\u001b[0m     \u001b[1;32mif\u001b[0m \u001b[0mfinal_fetches\u001b[0m \u001b[1;32mor\u001b[0m \u001b[0mfinal_targets\u001b[0m \u001b[1;32mor\u001b[0m \u001b[1;33m(\u001b[0m\u001b[0mhandle\u001b[0m \u001b[1;32mand\u001b[0m \u001b[0mfeed_dict_tensor\u001b[0m\u001b[1;33m)\u001b[0m\u001b[1;33m:\u001b[0m\u001b[1;33m\u001b[0m\u001b[0m\n\u001b[0;32m   1099\u001b[0m       results = self._do_run(handle, final_targets, final_fetches,\n\u001b[1;32m-> 1100\u001b[1;33m                              feed_dict_tensor, options, run_metadata)\n\u001b[0m\u001b[0;32m   1101\u001b[0m     \u001b[1;32melse\u001b[0m\u001b[1;33m:\u001b[0m\u001b[1;33m\u001b[0m\u001b[0m\n\u001b[0;32m   1102\u001b[0m       \u001b[0mresults\u001b[0m \u001b[1;33m=\u001b[0m \u001b[1;33m[\u001b[0m\u001b[1;33m]\u001b[0m\u001b[1;33m\u001b[0m\u001b[0m\n",
      "\u001b[1;32mD:\\Applications\\Python3\\lib\\site-packages\\tensorflow\\python\\client\\session.py\u001b[0m in \u001b[0;36m_do_run\u001b[1;34m(self, handle, target_list, fetch_list, feed_dict, options, run_metadata)\u001b[0m\n\u001b[0;32m   1270\u001b[0m     \u001b[1;32mif\u001b[0m \u001b[0mhandle\u001b[0m \u001b[1;32mis\u001b[0m \u001b[1;32mNone\u001b[0m\u001b[1;33m:\u001b[0m\u001b[1;33m\u001b[0m\u001b[0m\n\u001b[0;32m   1271\u001b[0m       return self._do_call(_run_fn, feeds, fetches, targets, options,\n\u001b[1;32m-> 1272\u001b[1;33m                            run_metadata)\n\u001b[0m\u001b[0;32m   1273\u001b[0m     \u001b[1;32melse\u001b[0m\u001b[1;33m:\u001b[0m\u001b[1;33m\u001b[0m\u001b[0m\n\u001b[0;32m   1274\u001b[0m       \u001b[1;32mreturn\u001b[0m \u001b[0mself\u001b[0m\u001b[1;33m.\u001b[0m\u001b[0m_do_call\u001b[0m\u001b[1;33m(\u001b[0m\u001b[0m_prun_fn\u001b[0m\u001b[1;33m,\u001b[0m \u001b[0mhandle\u001b[0m\u001b[1;33m,\u001b[0m \u001b[0mfeeds\u001b[0m\u001b[1;33m,\u001b[0m \u001b[0mfetches\u001b[0m\u001b[1;33m)\u001b[0m\u001b[1;33m\u001b[0m\u001b[0m\n",
      "\u001b[1;32mD:\\Applications\\Python3\\lib\\site-packages\\tensorflow\\python\\client\\session.py\u001b[0m in \u001b[0;36m_do_call\u001b[1;34m(self, fn, *args)\u001b[0m\n\u001b[0;32m   1276\u001b[0m   \u001b[1;32mdef\u001b[0m \u001b[0m_do_call\u001b[0m\u001b[1;33m(\u001b[0m\u001b[0mself\u001b[0m\u001b[1;33m,\u001b[0m \u001b[0mfn\u001b[0m\u001b[1;33m,\u001b[0m \u001b[1;33m*\u001b[0m\u001b[0margs\u001b[0m\u001b[1;33m)\u001b[0m\u001b[1;33m:\u001b[0m\u001b[1;33m\u001b[0m\u001b[0m\n\u001b[0;32m   1277\u001b[0m     \u001b[1;32mtry\u001b[0m\u001b[1;33m:\u001b[0m\u001b[1;33m\u001b[0m\u001b[0m\n\u001b[1;32m-> 1278\u001b[1;33m       \u001b[1;32mreturn\u001b[0m \u001b[0mfn\u001b[0m\u001b[1;33m(\u001b[0m\u001b[1;33m*\u001b[0m\u001b[0margs\u001b[0m\u001b[1;33m)\u001b[0m\u001b[1;33m\u001b[0m\u001b[0m\n\u001b[0m\u001b[0;32m   1279\u001b[0m     \u001b[1;32mexcept\u001b[0m \u001b[0merrors\u001b[0m\u001b[1;33m.\u001b[0m\u001b[0mOpError\u001b[0m \u001b[1;32mas\u001b[0m \u001b[0me\u001b[0m\u001b[1;33m:\u001b[0m\u001b[1;33m\u001b[0m\u001b[0m\n\u001b[0;32m   1280\u001b[0m       \u001b[0mmessage\u001b[0m \u001b[1;33m=\u001b[0m \u001b[0mcompat\u001b[0m\u001b[1;33m.\u001b[0m\u001b[0mas_text\u001b[0m\u001b[1;33m(\u001b[0m\u001b[0me\u001b[0m\u001b[1;33m.\u001b[0m\u001b[0mmessage\u001b[0m\u001b[1;33m)\u001b[0m\u001b[1;33m\u001b[0m\u001b[0m\n",
      "\u001b[1;32mD:\\Applications\\Python3\\lib\\site-packages\\tensorflow\\python\\client\\session.py\u001b[0m in \u001b[0;36m_run_fn\u001b[1;34m(feed_dict, fetch_list, target_list, options, run_metadata)\u001b[0m\n\u001b[0;32m   1261\u001b[0m       \u001b[0mself\u001b[0m\u001b[1;33m.\u001b[0m\u001b[0m_extend_graph\u001b[0m\u001b[1;33m(\u001b[0m\u001b[1;33m)\u001b[0m\u001b[1;33m\u001b[0m\u001b[0m\n\u001b[0;32m   1262\u001b[0m       return self._call_tf_sessionrun(\n\u001b[1;32m-> 1263\u001b[1;33m           options, feed_dict, fetch_list, target_list, run_metadata)\n\u001b[0m\u001b[0;32m   1264\u001b[0m \u001b[1;33m\u001b[0m\u001b[0m\n\u001b[0;32m   1265\u001b[0m     \u001b[1;32mdef\u001b[0m \u001b[0m_prun_fn\u001b[0m\u001b[1;33m(\u001b[0m\u001b[0mhandle\u001b[0m\u001b[1;33m,\u001b[0m \u001b[0mfeed_dict\u001b[0m\u001b[1;33m,\u001b[0m \u001b[0mfetch_list\u001b[0m\u001b[1;33m)\u001b[0m\u001b[1;33m:\u001b[0m\u001b[1;33m\u001b[0m\u001b[0m\n",
      "\u001b[1;32mD:\\Applications\\Python3\\lib\\site-packages\\tensorflow\\python\\client\\session.py\u001b[0m in \u001b[0;36m_call_tf_sessionrun\u001b[1;34m(self, options, feed_dict, fetch_list, target_list, run_metadata)\u001b[0m\n\u001b[0;32m   1348\u001b[0m     return tf_session.TF_SessionRun_wrapper(\n\u001b[0;32m   1349\u001b[0m         \u001b[0mself\u001b[0m\u001b[1;33m.\u001b[0m\u001b[0m_session\u001b[0m\u001b[1;33m,\u001b[0m \u001b[0moptions\u001b[0m\u001b[1;33m,\u001b[0m \u001b[0mfeed_dict\u001b[0m\u001b[1;33m,\u001b[0m \u001b[0mfetch_list\u001b[0m\u001b[1;33m,\u001b[0m \u001b[0mtarget_list\u001b[0m\u001b[1;33m,\u001b[0m\u001b[1;33m\u001b[0m\u001b[0m\n\u001b[1;32m-> 1350\u001b[1;33m         run_metadata)\n\u001b[0m\u001b[0;32m   1351\u001b[0m \u001b[1;33m\u001b[0m\u001b[0m\n\u001b[0;32m   1352\u001b[0m   \u001b[1;32mdef\u001b[0m \u001b[0m_call_tf_sessionprun\u001b[0m\u001b[1;33m(\u001b[0m\u001b[0mself\u001b[0m\u001b[1;33m,\u001b[0m \u001b[0mhandle\u001b[0m\u001b[1;33m,\u001b[0m \u001b[0mfeed_dict\u001b[0m\u001b[1;33m,\u001b[0m \u001b[0mfetch_list\u001b[0m\u001b[1;33m)\u001b[0m\u001b[1;33m:\u001b[0m\u001b[1;33m\u001b[0m\u001b[0m\n",
      "\u001b[1;31mKeyboardInterrupt\u001b[0m: "
     ]
    }
   ],
   "source": [
    "\n",
    "# history_complex = model_complex.fit(x_train, y_train, batch_size=batch_size, epochs=epochs,validation_data=(x_test, y_test), verbose=1)\n",
    "\n",
    "epoch_complex = 100\n",
    "\n",
    "history_complex = model_complex.fit_generator(aug.flow(x_train, y_train, batch_size=batch_size), validation_data=(x_test, y_test), callbacks=callbacks_list, steps_per_epoch=len(x_train) // batch_size, epochs=epoch_complex)\n"
   ]
  },
  {
   "cell_type": "code",
   "execution_count": null,
   "metadata": {},
   "outputs": [],
   "source": [
    "\n",
    "score_complex = model_complex.evaluate(x_val, y_val, verbose=1)\n",
    "print('Test loss:', score_complex[0])\n",
    "print('Test accuracy:', score_complex[1])\n"
   ]
  },
  {
   "cell_type": "code",
   "execution_count": null,
   "metadata": {},
   "outputs": [],
   "source": [
    "\n",
    "model_complex_predictions = model_complex.predict(x_val)\n"
   ]
  },
  {
   "cell_type": "markdown",
   "metadata": {},
   "source": [
    "### Exercise 5\n",
    "\n",
    "Apply the trained model on the testing set and output the classification results."
   ]
  },
  {
   "cell_type": "code",
   "execution_count": null,
   "metadata": {},
   "outputs": [],
   "source": [
    "\n",
    "print(\"Classification report for the complex CNN:\")\n",
    "print(classification_report(y_val.argmax(axis=1), model_complex_predictions.argmax(axis=1)))\n"
   ]
  },
  {
   "cell_type": "code",
   "execution_count": null,
   "metadata": {},
   "outputs": [],
   "source": [
    "\n",
    "print(\"Confusion matrix for the complex CNN:\")\n",
    "print(confusion_matrix(y_val.argmax(axis=1), model_complex_predictions.argmax(axis=1)))\n"
   ]
  },
  {
   "cell_type": "code",
   "execution_count": null,
   "metadata": {},
   "outputs": [],
   "source": [
    "\n",
    "plot_train_val_acc_curve(history_complex)\n"
   ]
  },
  {
   "cell_type": "code",
   "execution_count": null,
   "metadata": {},
   "outputs": [],
   "source": [
    "\n",
    "plot_train_val_loss_curve(history_complex)\n"
   ]
  },
  {
   "cell_type": "code",
   "execution_count": null,
   "metadata": {},
   "outputs": [],
   "source": [
    "\n",
    "print(plot_precision_recall_curve(first_arg(y_val), first_arg(model_complex_predictions), \"Keras Complex CNN\"))\n"
   ]
  },
  {
   "cell_type": "markdown",
   "metadata": {},
   "source": [
    "### Exercise 6 \n",
    "\n",
    "Plot the saliency map of original image to see which part is important for making classification decisions. You can refer to the following blog article on how to generate visualisation results of the filters in the ConvNets.\n",
    "https://blog.keras.io/how-convolutional-neural-networks-see-the-world.html"
   ]
  },
  {
   "cell_type": "code",
   "execution_count": null,
   "metadata": {},
   "outputs": [],
   "source": [
    "\n",
    "# Add your code here\n",
    "from keras import applications\n",
    "\n",
    "# get the symbolic outputs of each \"key\" layer (we gave them unique names).\n",
    "layer_dict = dict([(layer.name, layer) for layer in model_complex.layers])\n"
   ]
  },
  {
   "cell_type": "code",
   "execution_count": null,
   "metadata": {},
   "outputs": [],
   "source": [
    "\n",
    "from keras import backend as K\n",
    "\n",
    "input_img = x_val[0][0]\n",
    "\n",
    "layer_name = 'conv2d_6'\n",
    "filter_index = 0  # can be any integer from 0 to 511, as there are 512 filters in that layer\n",
    "\n",
    "# build a loss function that maximizes the activation\n",
    "# of the nth filter of the layer considered\n",
    "layer_output = layer_dict[layer_name].output\n",
    "loss = K.mean(layer_output[:, :, :, filter_index])\n",
    "\n",
    "# compute the gradient of the input picture wrt this loss\n",
    "grads = K.gradients(loss, input_img)[0]\n",
    "\n",
    "# normalization trick: we normalize the gradient\n",
    "grads /= (K.sqrt(K.mean(K.square(grads))) + 1e-5)\n",
    "\n",
    "# this function returns the loss and grads given the input picture\n",
    "iterate = K.function([input_img], [loss, grads])\n"
   ]
  },
  {
   "cell_type": "code",
   "execution_count": null,
   "metadata": {},
   "outputs": [],
   "source": [
    "\n",
    "import numpy as np\n",
    "\n",
    "# we start from a gray image with some noise\n",
    "input_img_data = np.random.random((1, 3, img_width, img_height)) * 20 + 128.\n",
    "# run gradient ascent for 20 steps\n",
    "for i in range(20):\n",
    "    loss_value, grads_value = iterate([input_img_data])\n",
    "    input_img_data += grads_value * step\n"
   ]
  },
  {
   "cell_type": "code",
   "execution_count": null,
   "metadata": {},
   "outputs": [],
   "source": []
  }
 ],
 "metadata": {
  "kernelspec": {
   "display_name": "Python 3",
   "language": "python",
   "name": "python3"
  },
  "language_info": {
   "codemirror_mode": {
    "name": "ipython",
    "version": 3
   },
   "file_extension": ".py",
   "mimetype": "text/x-python",
   "name": "python",
   "nbconvert_exporter": "python",
   "pygments_lexer": "ipython3",
   "version": "3.6.1"
  }
 },
 "nbformat": 4,
 "nbformat_minor": 1
}

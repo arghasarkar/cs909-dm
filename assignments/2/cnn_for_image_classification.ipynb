{
 "cells": [
  {
   "cell_type": "markdown",
   "metadata": {},
   "source": [
    "# CNN for Image Classification\n",
    "\n",
    "In this lab, you are given a dataset containing 6,000 pictures of cats and dogs (3,000 cats, 3,000 dogs) and asked to train a classifier built upon Convolutional Neural Networks (ConvNets) to classify images as \"dogs\" or \"cats\"."
   ]
  },
  {
   "cell_type": "code",
   "execution_count": 1,
   "metadata": {},
   "outputs": [
    {
     "name": "stderr",
     "output_type": "stream",
     "text": [
      "D:\\Applications\\Python3\\lib\\site-packages\\h5py\\__init__.py:36: FutureWarning: Conversion of the second argument of issubdtype from `float` to `np.floating` is deprecated. In future, it will be treated as `np.float64 == np.dtype(float).type`.\n",
      "  from ._conv import register_converters as _register_converters\n",
      "Using TensorFlow backend.\n"
     ]
    }
   ],
   "source": [
    "%matplotlib inline\n",
    "\n",
    "import os\n",
    "import numpy as np\n",
    "import matplotlib.pyplot as plt\n",
    "import cv2\n",
    "\n",
    "# from __future__ import print_function\n",
    "import keras\n",
    "from keras import metrics\n",
    "from keras.preprocessing.image import ImageDataGenerator\n",
    "from keras.models import Sequential\n",
    "from keras.layers import Dense, Dropout, Activation, Flatten, BatchNormalization\n",
    "from keras.layers import Conv2D, MaxPooling2D"
   ]
  },
  {
   "cell_type": "markdown",
   "metadata": {},
   "source": [
    "### Exercise 1 \n",
    "Split the dataset by selecting 4,800 pictures for training, 600 for validation, and 600 for testing."
   ]
  },
  {
   "cell_type": "code",
   "execution_count": 2,
   "metadata": {
    "scrolled": true
   },
   "outputs": [],
   "source": [
    "img_width = 50\n",
    "img_height = 50\n",
    "num_classes = 2\n",
    "DATA_DIR = './data/'\n",
    "image_filenames = [DATA_DIR+i for i in os.listdir(DATA_DIR)] # use this for full dataset\n",
    "\n",
    "# Split the data in three sets, 80% for training, 10% for validation and 10% for testing\n",
    "# make sure that the image filenames have a fixed order before shuffling\n",
    "# Add your code here"
   ]
  },
  {
   "cell_type": "code",
   "execution_count": 3,
   "metadata": {},
   "outputs": [],
   "source": [
    "# print(image_filenames)"
   ]
  },
  {
   "cell_type": "code",
   "execution_count": 4,
   "metadata": {},
   "outputs": [],
   "source": [
    "import pandas as pd\n",
    "from sklearn import datasets, linear_model\n",
    "from sklearn.model_selection import train_test_split"
   ]
  },
  {
   "cell_type": "markdown",
   "metadata": {},
   "source": [
    "The function ```get_class_from_filename``` takes the file path and returns ***0*** for cats and ***1*** for dogs.\n",
    "\n",
    "The function ```generate_class_arr``` takes the array of filenames and returns an array of class numbers using the function ```get_class_from_filename```."
   ]
  },
  {
   "cell_type": "code",
   "execution_count": 5,
   "metadata": {},
   "outputs": [],
   "source": [
    "\n",
    "def load_images(filenames):\n",
    "    \n",
    "    files = []\n",
    "    for i in range(len(filenames)):\n",
    "        files.append(cv2.imread(filenames[i]))\n",
    "        \n",
    "    return np.array(resize_files(files))\n",
    "\n",
    "\n",
    "def resize_files(files):\n",
    "    _files = []\n",
    "    for i in range(len(files)):\n",
    "        _resized = np.array(cv2.resize(files[i], (img_width, img_height),interpolation=cv2.INTER_AREA))\n",
    "        _normalized = np.true_divide(_resized, 255)\n",
    "        _files.append(_normalized)\n",
    "        \n",
    "    return _files\n",
    "\n",
    "\n",
    "def get_class_from_filename(filename):\n",
    "    \n",
    "    parts = filename.split(\".\")\n",
    "    size = len(parts)\n",
    "    \n",
    "    _class = parts[size - 3]\n",
    "    _class = _class[-3:]\n",
    "    \n",
    "    return np.array([0, 1] if _class == \"cat\" else [1,0])\n",
    "\n",
    "\n",
    "# print(get_class_from_filename(\"./test/dog.267.jpg\"))\n",
    "\n",
    "def generate_class_arr(filenames):\n",
    "    \n",
    "    classes = []\n",
    "    \n",
    "    for i in range(len(filenames)):\n",
    "        classes.append(get_class_from_filename(filenames[i]))\n",
    "    \n",
    "    return np.array(classes)\n",
    "\n",
    "# arr = ['./data/cat.2718.jpg', './data/dog.1753.jpg', './data/cat.1211.jpg', './data/dog.775.jpg', './data/cat.1577.jpg', './data/cat.952.jpg']\n",
    "# print(generate_class_arr(arr))\n",
    "        "
   ]
  },
  {
   "cell_type": "code",
   "execution_count": 6,
   "metadata": {},
   "outputs": [],
   "source": [
    "y = generate_class_arr(image_filenames)"
   ]
  },
  {
   "cell_type": "code",
   "execution_count": 7,
   "metadata": {},
   "outputs": [],
   "source": [
    "\n",
    "x_train_filenames, x_test_filenames, y_train, y_test = train_test_split(image_filenames, y, test_size=0.2)\n",
    "x_test_filenames, x_val_filenames, y_test, y_val = train_test_split(x_test_filenames, y_test, test_size=0.5)\n"
   ]
  },
  {
   "cell_type": "code",
   "execution_count": 8,
   "metadata": {},
   "outputs": [],
   "source": [
    "x_train = load_images(x_train_filenames)\n",
    "x_test = load_images(x_test_filenames)\n",
    "x_val = load_images(x_val_filenames)\n"
   ]
  },
  {
   "cell_type": "code",
   "execution_count": 9,
   "metadata": {},
   "outputs": [
    {
     "name": "stdout",
     "output_type": "stream",
     "text": [
      "4800   4800\n",
      "600   600\n",
      "600   600\n"
     ]
    }
   ],
   "source": [
    "# print(x_train_filenames[:5])\n",
    "# print(y_train[:5])\n",
    "print(len(x_train_filenames), \" \", len(y_train))\n",
    "\n",
    "# print(x_test_filenames[:5])\n",
    "# print(y_test[:5])\n",
    "print(len(x_test_filenames), \" \", len(y_test))\n",
    "\n",
    "# print(x_val_filenames[:5])\n",
    "# print(y_val[:5])\n",
    "print(len(x_val_filenames), \" \", len(y_val))\n"
   ]
  },
  {
   "cell_type": "code",
   "execution_count": 10,
   "metadata": {},
   "outputs": [
    {
     "name": "stdout",
     "output_type": "stream",
     "text": [
      "Label: [1 0]\n",
      "(50, 50, 3)\n"
     ]
    },
    {
     "data": {
      "image/png": "[encoded data removed]",
      "text/plain": [
       "<matplotlib.figure.Figure at 0x1d7e05f5dd8>"
      ]
     },
     "metadata": {},
     "output_type": "display_data"
    }
   ],
   "source": [
    "\n",
    "plt.imshow(x_train[0])\n",
    "print(\"Label: {}\".format(y_train[0]))\n",
    "print(x_train[0].shape)\n"
   ]
  },
  {
   "cell_type": "code",
   "execution_count": 11,
   "metadata": {},
   "outputs": [
    {
     "name": "stdout",
     "output_type": "stream",
     "text": [
      "Label: [1 0]\n"
     ]
    },
    {
     "data": {
      "image/png": "[encoded data removed]",
      "text/plain": [
       "<matplotlib.figure.Figure at 0x1d7e05f5b70>"
      ]
     },
     "metadata": {},
     "output_type": "display_data"
    }
   ],
   "source": [
    "\n",
    "plt.imshow(x_test[0])\n",
    "print(\"Label: {}\".format(y_test[0]))\n"
   ]
  },
  {
   "cell_type": "code",
   "execution_count": 12,
   "metadata": {},
   "outputs": [
    {
     "name": "stdout",
     "output_type": "stream",
     "text": [
      "Label: [0 1]\n"
     ]
    },
    {
     "data": {
      "image/png": "[encoded data removed]",
      "text/plain": [
       "<matplotlib.figure.Figure at 0x1d7ff2c92b0>"
      ]
     },
     "metadata": {},
     "output_type": "display_data"
    }
   ],
   "source": [
    "\n",
    "plt.imshow(x_val[0])\n",
    "print(\"Label: {}\".format(y_val[0]))\n"
   ]
  },
  {
   "cell_type": "markdown",
   "metadata": {},
   "source": [
    "### Exercise 2\n",
    "Train a Convolutional Neural Network (ConvNet) on the training set. The general structure of the ConvNet will be a stack of alternated Conv2D (with relu activation) and MaxPooling2D layers. A Conv2D layer creates a convolution kernel that is convolved with the layer input to produce a tensor of outputs. A MaxPooling2D layer is used to downscale input in both the vertical and horizontal dimensions."
   ]
  },
  {
   "cell_type": "code",
   "execution_count": 13,
   "metadata": {},
   "outputs": [],
   "source": [
    "from keras.layers import Conv2D, MaxPooling2D, GlobalAveragePooling2D"
   ]
  },
  {
   "cell_type": "code",
   "execution_count": 14,
   "metadata": {},
   "outputs": [
    {
     "name": "stdout",
     "output_type": "stream",
     "text": [
      "WARNING:tensorflow:From D:\\Applications\\Python3\\lib\\site-packages\\keras\\backend\\tensorflow_backend.py:1264: calling reduce_prod (from tensorflow.python.ops.math_ops) with keep_dims is deprecated and will be removed in a future version.\n",
      "Instructions for updating:\n",
      "keep_dims is deprecated, use keepdims instead\n"
     ]
    }
   ],
   "source": [
    "# Add your code here\n",
    "\n",
    "\n",
    "input_shape = x_train[1].shape\n",
    "\n",
    "model = Sequential()\n",
    "#add model layers\n",
    "\n",
    "model.add(Conv2D(64, 2,padding='same', input_shape=input_shape))\n",
    "model.add(BatchNormalization())\n",
    "model.add(Activation('relu'))\n",
    "model.add(MaxPooling2D(pool_size=(2,2)))\n",
    "model.add(Dropout(0.2))\n",
    "\n",
    "model.add(Conv2D(128, 2, padding='same'))\n",
    "model.add(BatchNormalization())\n",
    "model.add(Activation('relu'))\n",
    "model.add(MaxPooling2D(pool_size=(2,2)))\n",
    "model.add(Dropout(0.2))\n",
    "\n",
    "model.add(Conv2D(256, 2, padding='same'))\n",
    "model.add(BatchNormalization())\n",
    "model.add(Activation('relu'))\n",
    "model.add(MaxPooling2D(pool_size=(2,2)))\n",
    "\n",
    "model.add(Flatten())\n",
    "\n",
    "model.add(Dense(512, activation='relu'))\n",
    "model.add(BatchNormalization())\n",
    "model.add(Dropout(0.2))\n",
    "model.add(Dense(256, activation='relu'))\n",
    "\n",
    "model.add(Dense(2, activation='sigmoid'))\n",
    "          "
   ]
  },
  {
   "cell_type": "code",
   "execution_count": 15,
   "metadata": {},
   "outputs": [
    {
     "name": "stdout",
     "output_type": "stream",
     "text": [
      "_________________________________________________________________\n",
      "Layer (type)                 Output Shape              Param #   \n",
      "=================================================================\n",
      "conv2d_1 (Conv2D)            (None, 50, 50, 64)        832       \n",
      "_________________________________________________________________\n",
      "batch_normalization_1 (Batch (None, 50, 50, 64)        256       \n",
      "_________________________________________________________________\n",
      "activation_1 (Activation)    (None, 50, 50, 64)        0         \n",
      "_________________________________________________________________\n",
      "max_pooling2d_1 (MaxPooling2 (None, 25, 25, 64)        0         \n",
      "_________________________________________________________________\n",
      "dropout_1 (Dropout)          (None, 25, 25, 64)        0         \n",
      "_________________________________________________________________\n",
      "conv2d_2 (Conv2D)            (None, 25, 25, 128)       32896     \n",
      "_________________________________________________________________\n",
      "batch_normalization_2 (Batch (None, 25, 25, 128)       512       \n",
      "_________________________________________________________________\n",
      "activation_2 (Activation)    (None, 25, 25, 128)       0         \n",
      "_________________________________________________________________\n",
      "max_pooling2d_2 (MaxPooling2 (None, 12, 12, 128)       0         \n",
      "_________________________________________________________________\n",
      "dropout_2 (Dropout)          (None, 12, 12, 128)       0         \n",
      "_________________________________________________________________\n",
      "conv2d_3 (Conv2D)            (None, 12, 12, 256)       131328    \n",
      "_________________________________________________________________\n",
      "batch_normalization_3 (Batch (None, 12, 12, 256)       1024      \n",
      "_________________________________________________________________\n",
      "activation_3 (Activation)    (None, 12, 12, 256)       0         \n",
      "_________________________________________________________________\n",
      "max_pooling2d_3 (MaxPooling2 (None, 6, 6, 256)         0         \n",
      "_________________________________________________________________\n",
      "flatten_1 (Flatten)          (None, 9216)              0         \n",
      "_________________________________________________________________\n",
      "dense_1 (Dense)              (None, 512)               4719104   \n",
      "_________________________________________________________________\n",
      "batch_normalization_4 (Batch (None, 512)               2048      \n",
      "_________________________________________________________________\n",
      "dropout_3 (Dropout)          (None, 512)               0         \n",
      "_________________________________________________________________\n",
      "dense_2 (Dense)              (None, 256)               131328    \n",
      "_________________________________________________________________\n",
      "dense_3 (Dense)              (None, 2)                 514       \n",
      "=================================================================\n",
      "Total params: 5,019,842\n",
      "Trainable params: 5,017,922\n",
      "Non-trainable params: 1,920\n",
      "_________________________________________________________________\n"
     ]
    }
   ],
   "source": [
    "model.summary()"
   ]
  },
  {
   "cell_type": "code",
   "execution_count": 16,
   "metadata": {},
   "outputs": [],
   "source": [
    "batch_size = 128"
   ]
  },
  {
   "cell_type": "code",
   "execution_count": 17,
   "metadata": {},
   "outputs": [],
   "source": [
    "epochs = 60"
   ]
  },
  {
   "cell_type": "code",
   "execution_count": 18,
   "metadata": {},
   "outputs": [
    {
     "name": "stdout",
     "output_type": "stream",
     "text": [
      "WARNING:tensorflow:From D:\\Applications\\Python3\\lib\\site-packages\\keras\\backend\\tensorflow_backend.py:2885: calling reduce_sum (from tensorflow.python.ops.math_ops) with keep_dims is deprecated and will be removed in a future version.\n",
      "Instructions for updating:\n",
      "keep_dims is deprecated, use keepdims instead\n",
      "WARNING:tensorflow:From D:\\Applications\\Python3\\lib\\site-packages\\keras\\backend\\tensorflow_backend.py:1349: calling reduce_mean (from tensorflow.python.ops.math_ops) with keep_dims is deprecated and will be removed in a future version.\n",
      "Instructions for updating:\n",
      "keep_dims is deprecated, use keepdims instead\n"
     ]
    }
   ],
   "source": [
    "optimizer = keras.optimizers.RMSprop(lr=0.00005)\n",
    "model.compile(optimizer=optimizer, loss='categorical_crossentropy', metrics=['accuracy'])\n"
   ]
  },
  {
   "cell_type": "code",
   "execution_count": 19,
   "metadata": {},
   "outputs": [
    {
     "name": "stdout",
     "output_type": "stream",
     "text": [
      "600\n"
     ]
    }
   ],
   "source": [
    "print(len(x_test))"
   ]
  },
  {
   "cell_type": "code",
   "execution_count": 20,
   "metadata": {},
   "outputs": [
    {
     "name": "stdout",
     "output_type": "stream",
     "text": [
      "50\n",
      "(50, 50, 3)\n",
      "<class 'numpy.ndarray'>\n",
      "4800\n",
      "<class 'numpy.ndarray'>\n",
      "<class 'numpy.ndarray'>\n",
      "[1 0]\n"
     ]
    }
   ],
   "source": [
    "print(len(x_train[5]))\n",
    "print(x_train[5].shape)\n",
    "print(type(x_train))\n",
    "print(len(y_train))\n",
    "print(type(y_train))\n",
    "print(type(y_train[0]))\n",
    "print(y_train[0])"
   ]
  },
  {
   "cell_type": "code",
   "execution_count": 21,
   "metadata": {},
   "outputs": [],
   "source": [
    "x_train_in = np.array(x_train[:2])\n",
    "y_train_in = np.array(y_train[:2])"
   ]
  },
  {
   "cell_type": "code",
   "execution_count": 22,
   "metadata": {},
   "outputs": [],
   "source": [
    "from keras.callbacks import ModelCheckpoint\n",
    "\n",
    "weights_filepath = \"weights.hdf5\"\n",
    "checkpoint = ModelCheckpoint(weights_filepath, monitor = 'val_acc', verbose = 1, save_best_only = True, mode='max')\n",
    "callbacks_list = [checkpoint]\n"
   ]
  },
  {
   "cell_type": "code",
   "execution_count": null,
   "metadata": {},
   "outputs": [],
   "source": [
    "# import os.path\n",
    "# from keras.models import load_model\n",
    "\n",
    "# def load_model_weights(filepath):\n",
    "    \n",
    "#     if os.path.exists(filepath):\n",
    "#         model = load_model(filepath)\n",
    "#         return True, model\n",
    "\n",
    "# _model_exists, _model = load_model_weights\n",
    "\n",
    "# if _model_exists:\n",
    "#     model = _model\n",
    "    "
   ]
  },
  {
   "cell_type": "code",
   "execution_count": 23,
   "metadata": {},
   "outputs": [
    {
     "name": "stdout",
     "output_type": "stream",
     "text": [
      "Train on 4800 samples, validate on 600 samples\n",
      "Epoch 1/60\n",
      "4736/4800 [============================>.] - ETA: 0s - loss: 0.6642 - acc: 0.6104Epoch 00001: val_acc improved from -inf to 0.51167, saving model to weights.hdf5\n",
      "4800/4800 [==============================] - 8s 2ms/step - loss: 0.6635 - acc: 0.6110 - val_loss: 0.6955 - val_acc: 0.5117\n",
      "Epoch 2/60\n",
      "4736/4800 [============================>.] - ETA: 0s - loss: 0.6018 - acc: 0.6772Epoch 00002: val_acc did not improve\n",
      "4800/4800 [==============================] - 4s 739us/step - loss: 0.6019 - acc: 0.6771 - val_loss: 0.6911 - val_acc: 0.5117\n",
      "Epoch 3/60\n",
      "4736/4800 [============================>.] - ETA: 0s - loss: 0.5664 - acc: 0.7057Epoch 00003: val_acc did not improve\n",
      "4800/4800 [==============================] - 4s 766us/step - loss: 0.5665 - acc: 0.7048 - val_loss: 0.8033 - val_acc: 0.5117\n",
      "Epoch 4/60\n",
      "4736/4800 [============================>.] - ETA: 0s - loss: 0.5516 - acc: 0.7088Epoch 00004: val_acc did not improve\n",
      "4800/4800 [==============================] - 4s 751us/step - loss: 0.5529 - acc: 0.7079 - val_loss: 0.8404 - val_acc: 0.5117\n",
      "Epoch 5/60\n",
      "4736/4800 [============================>.] - ETA: 0s - loss: 0.5309 - acc: 0.7226Epoch 00005: val_acc did not improve\n",
      "4800/4800 [==============================] - 4s 742us/step - loss: 0.5313 - acc: 0.7212 - val_loss: 0.8747 - val_acc: 0.5117\n",
      "Epoch 6/60\n",
      "4736/4800 [============================>.] - ETA: 0s - loss: 0.5121 - acc: 0.7390Epoch 00006: val_acc did not improve\n",
      "4800/4800 [==============================] - 4s 747us/step - loss: 0.5115 - acc: 0.7398 - val_loss: 1.1108 - val_acc: 0.5117\n",
      "Epoch 7/60\n",
      "4736/4800 [============================>.] - ETA: 0s - loss: 0.5027 - acc: 0.7411Epoch 00007: val_acc did not improve\n",
      "4800/4800 [==============================] - 4s 746us/step - loss: 0.5031 - acc: 0.7412 - val_loss: 0.9766 - val_acc: 0.5117\n",
      "Epoch 8/60\n",
      "4736/4800 [============================>.] - ETA: 0s - loss: 0.4869 - acc: 0.7519Epoch 00008: val_acc did not improve\n",
      "4800/4800 [==============================] - 4s 765us/step - loss: 0.4859 - acc: 0.7529 - val_loss: 0.9455 - val_acc: 0.5117\n",
      "Epoch 9/60\n",
      "4736/4800 [============================>.] - ETA: 0s - loss: 0.4736 - acc: 0.7656Epoch 00009: val_acc did not improve\n",
      "4800/4800 [==============================] - 4s 744us/step - loss: 0.4744 - acc: 0.7648 - val_loss: 1.0221 - val_acc: 0.5117\n",
      "Epoch 10/60\n",
      "4736/4800 [============================>.] - ETA: 0s - loss: 0.4658 - acc: 0.7713Epoch 00010: val_acc improved from 0.51167 to 0.51333, saving model to weights.hdf5\n",
      "4800/4800 [==============================] - 4s 763us/step - loss: 0.4672 - acc: 0.7704 - val_loss: 1.0441 - val_acc: 0.5133\n",
      "Epoch 11/60\n",
      "4736/4800 [============================>.] - ETA: 0s - loss: 0.4447 - acc: 0.7815Epoch 00011: val_acc improved from 0.51333 to 0.55167, saving model to weights.hdf5\n",
      "4800/4800 [==============================] - 4s 749us/step - loss: 0.4448 - acc: 0.7806 - val_loss: 0.7793 - val_acc: 0.5517\n",
      "Epoch 12/60\n",
      "4736/4800 [============================>.] - ETA: 0s - loss: 0.4360 - acc: 0.7876Epoch 00012: val_acc did not improve\n",
      "4800/4800 [==============================] - 4s 733us/step - loss: 0.4343 - acc: 0.7885 - val_loss: 0.9600 - val_acc: 0.5333\n",
      "Epoch 13/60\n",
      "4736/4800 [============================>.] - ETA: 0s - loss: 0.4261 - acc: 0.7867Epoch 00013: val_acc did not improve\n",
      "4800/4800 [==============================] - 3s 725us/step - loss: 0.4273 - acc: 0.7863 - val_loss: 1.0461 - val_acc: 0.5400\n",
      "Epoch 14/60\n",
      "4736/4800 [============================>.] - ETA: 0s - loss: 0.4142 - acc: 0.8022Epoch 00014: val_acc improved from 0.55167 to 0.62000, saving model to weights.hdf5\n",
      "4800/4800 [==============================] - 4s 755us/step - loss: 0.4159 - acc: 0.8004 - val_loss: 0.7177 - val_acc: 0.6200\n",
      "Epoch 15/60\n",
      "4736/4800 [============================>.] - ETA: 0s - loss: 0.4102 - acc: 0.8085Epoch 00015: val_acc did not improve\n",
      "4800/4800 [==============================] - 3s 724us/step - loss: 0.4097 - acc: 0.8088 - val_loss: 0.7955 - val_acc: 0.6067\n",
      "Epoch 16/60\n",
      "4736/4800 [============================>.] - ETA: 0s - loss: 0.3941 - acc: 0.8106Epoch 00016: val_acc improved from 0.62000 to 0.64333, saving model to weights.hdf5\n",
      "4800/4800 [==============================] - 4s 738us/step - loss: 0.3927 - acc: 0.8115 - val_loss: 0.7303 - val_acc: 0.6433\n",
      "Epoch 17/60\n",
      "4736/4800 [============================>.] - ETA: 0s - loss: 0.3853 - acc: 0.8152Epoch 00017: val_acc improved from 0.64333 to 0.71000, saving model to weights.hdf5\n",
      "4800/4800 [==============================] - 4s 736us/step - loss: 0.3846 - acc: 0.8158 - val_loss: 0.6376 - val_acc: 0.7100\n",
      "Epoch 18/60\n",
      "4736/4800 [============================>.] - ETA: 0s - loss: 0.3798 - acc: 0.8250Epoch 00018: val_acc improved from 0.71000 to 0.74833, saving model to weights.hdf5\n",
      "4800/4800 [==============================] - 4s 742us/step - loss: 0.3801 - acc: 0.8250 - val_loss: 0.5506 - val_acc: 0.7483\n",
      "Epoch 19/60\n",
      "4736/4800 [============================>.] - ETA: 0s - loss: 0.3670 - acc: 0.8302Epoch 00019: val_acc did not improve\n",
      "4800/4800 [==============================] - 4s 743us/step - loss: 0.3682 - acc: 0.8296 - val_loss: 0.5990 - val_acc: 0.7317\n",
      "Epoch 20/60\n",
      "4736/4800 [============================>.] - ETA: 0s - loss: 0.3583 - acc: 0.8319Epoch 00020: val_acc did not improve\n",
      "4800/4800 [==============================] - 4s 730us/step - loss: 0.3584 - acc: 0.8317 - val_loss: 0.4961 - val_acc: 0.7467\n",
      "Epoch 21/60\n",
      "4736/4800 [============================>.] - ETA: 0s - loss: 0.3416 - acc: 0.8433Epoch 00021: val_acc improved from 0.74833 to 0.75333, saving model to weights.hdf5\n",
      "4800/4800 [==============================] - 4s 754us/step - loss: 0.3416 - acc: 0.8433 - val_loss: 0.5717 - val_acc: 0.7533\n",
      "Epoch 22/60\n",
      "4736/4800 [============================>.] - ETA: 0s - loss: 0.3441 - acc: 0.8421Epoch 00022: val_acc improved from 0.75333 to 0.76833, saving model to weights.hdf5\n",
      "4800/4800 [==============================] - 4s 740us/step - loss: 0.3446 - acc: 0.8410 - val_loss: 0.5098 - val_acc: 0.7683\n",
      "Epoch 23/60\n",
      "4736/4800 [============================>.] - ETA: 0s - loss: 0.3216 - acc: 0.8511Epoch 00023: val_acc did not improve\n",
      "4800/4800 [==============================] - 4s 732us/step - loss: 0.3218 - acc: 0.8512 - val_loss: 0.4914 - val_acc: 0.7600\n",
      "Epoch 24/60\n",
      "4736/4800 [============================>.] - ETA: 0s - loss: 0.3186 - acc: 0.8535Epoch 00024: val_acc did not improve\n",
      "4800/4800 [==============================] - 4s 736us/step - loss: 0.3172 - acc: 0.8548 - val_loss: 0.4907 - val_acc: 0.7650\n",
      "Epoch 25/60\n",
      "4736/4800 [============================>.] - ETA: 0s - loss: 0.3163 - acc: 0.8594Epoch 00025: val_acc did not improve\n",
      "4800/4800 [==============================] - 3s 723us/step - loss: 0.3158 - acc: 0.8598 - val_loss: 0.5133 - val_acc: 0.7500\n",
      "Epoch 26/60\n",
      "4736/4800 [============================>.] - ETA: 0s - loss: 0.3036 - acc: 0.8659Epoch 00026: val_acc did not improve\n",
      "4800/4800 [==============================] - 4s 734us/step - loss: 0.3041 - acc: 0.8652 - val_loss: 0.5010 - val_acc: 0.7550\n",
      "Epoch 27/60\n",
      "4736/4800 [============================>.] - ETA: 0s - loss: 0.2878 - acc: 0.8758Epoch 00027: val_acc did not improve\n",
      "4800/4800 [==============================] - 3s 725us/step - loss: 0.2874 - acc: 0.8758 - val_loss: 0.4866 - val_acc: 0.7500\n",
      "Epoch 28/60\n",
      "4736/4800 [============================>.] - ETA: 0s - loss: 0.2857 - acc: 0.8716Epoch 00028: val_acc did not improve\n",
      "4800/4800 [==============================] - 3s 728us/step - loss: 0.2859 - acc: 0.8717 - val_loss: 0.5202 - val_acc: 0.7633\n",
      "Epoch 29/60\n",
      "4736/4800 [============================>.] - ETA: 0s - loss: 0.2755 - acc: 0.8794Epoch 00029: val_acc improved from 0.76833 to 0.77500, saving model to weights.hdf5\n",
      "4800/4800 [==============================] - 4s 738us/step - loss: 0.2752 - acc: 0.8796 - val_loss: 0.4967 - val_acc: 0.7750\n",
      "Epoch 30/60\n",
      "4736/4800 [============================>.] - ETA: 0s - loss: 0.2668 - acc: 0.8841Epoch 00030: val_acc did not improve\n",
      "4800/4800 [==============================] - 3s 715us/step - loss: 0.2669 - acc: 0.8838 - val_loss: 0.5006 - val_acc: 0.7467\n",
      "Epoch 31/60\n"
     ]
    },
    {
     "name": "stdout",
     "output_type": "stream",
     "text": [
      "4736/4800 [============================>.] - ETA: 0s - loss: 0.2490 - acc: 0.8967Epoch 00031: val_acc did not improve\n",
      "4800/4800 [==============================] - 3s 715us/step - loss: 0.2492 - acc: 0.8969 - val_loss: 0.5015 - val_acc: 0.7583\n",
      "Epoch 32/60\n",
      "4736/4800 [============================>.] - ETA: 0s - loss: 0.2519 - acc: 0.8940Epoch 00032: val_acc did not improve\n",
      "4800/4800 [==============================] - 3s 717us/step - loss: 0.2517 - acc: 0.8942 - val_loss: 0.4842 - val_acc: 0.7583\n",
      "Epoch 33/60\n",
      "4736/4800 [============================>.] - ETA: 0s - loss: 0.2415 - acc: 0.8957Epoch 00033: val_acc did not improve\n",
      "4800/4800 [==============================] - 3s 714us/step - loss: 0.2426 - acc: 0.8952 - val_loss: 0.4943 - val_acc: 0.7617\n",
      "Epoch 34/60\n",
      "4736/4800 [============================>.] - ETA: 0s - loss: 0.2448 - acc: 0.9037Epoch 00034: val_acc did not improve\n",
      "4800/4800 [==============================] - 3s 715us/step - loss: 0.2453 - acc: 0.9031 - val_loss: 0.5064 - val_acc: 0.7567\n",
      "Epoch 35/60\n",
      "4736/4800 [============================>.] - ETA: 0s - loss: 0.2259 - acc: 0.9094Epoch 00035: val_acc did not improve\n",
      "4800/4800 [==============================] - 3s 727us/step - loss: 0.2249 - acc: 0.9102 - val_loss: 0.5131 - val_acc: 0.7483\n",
      "Epoch 36/60\n",
      "4736/4800 [============================>.] - ETA: 0s - loss: 0.2223 - acc: 0.9086Epoch 00036: val_acc did not improve\n",
      "4800/4800 [==============================] - 4s 736us/step - loss: 0.2223 - acc: 0.9087 - val_loss: 0.5193 - val_acc: 0.7467\n",
      "Epoch 37/60\n",
      "4736/4800 [============================>.] - ETA: 0s - loss: 0.2175 - acc: 0.9079Epoch 00037: val_acc did not improve\n",
      "4800/4800 [==============================] - 3s 727us/step - loss: 0.2175 - acc: 0.9081 - val_loss: 0.5077 - val_acc: 0.7600\n",
      "Epoch 38/60\n",
      "4736/4800 [============================>.] - ETA: 0s - loss: 0.2092 - acc: 0.9139Epoch 00038: val_acc did not improve\n",
      "4800/4800 [==============================] - 3s 720us/step - loss: 0.2084 - acc: 0.9142 - val_loss: 0.5222 - val_acc: 0.7450\n",
      "Epoch 39/60\n",
      "4736/4800 [============================>.] - ETA: 0s - loss: 0.2003 - acc: 0.9250Epoch 00039: val_acc did not improve\n",
      "4800/4800 [==============================] - 3s 722us/step - loss: 0.2010 - acc: 0.9246 - val_loss: 0.5635 - val_acc: 0.7667\n",
      "Epoch 40/60\n",
      "4736/4800 [============================>.] - ETA: 0s - loss: 0.1876 - acc: 0.9263Epoch 00040: val_acc did not improve\n",
      "4800/4800 [==============================] - 3s 729us/step - loss: 0.1881 - acc: 0.9260 - val_loss: 0.5479 - val_acc: 0.7617\n",
      "Epoch 41/60\n",
      "4736/4800 [============================>.] - ETA: 0s - loss: 0.1834 - acc: 0.9303Epoch 00041: val_acc did not improve\n",
      "4800/4800 [==============================] - 3s 724us/step - loss: 0.1829 - acc: 0.9308 - val_loss: 0.5693 - val_acc: 0.7367\n",
      "Epoch 42/60\n",
      "4736/4800 [============================>.] - ETA: 0s - loss: 0.1776 - acc: 0.9341Epoch 00042: val_acc did not improve\n",
      "4800/4800 [==============================] - 3s 724us/step - loss: 0.1776 - acc: 0.9342 - val_loss: 0.6180 - val_acc: 0.7517\n",
      "Epoch 43/60\n",
      "4736/4800 [============================>.] - ETA: 0s - loss: 0.1739 - acc: 0.9348Epoch 00043: val_acc did not improve\n",
      "4800/4800 [==============================] - 3s 724us/step - loss: 0.1727 - acc: 0.9352 - val_loss: 0.5507 - val_acc: 0.7600\n",
      "Epoch 44/60\n",
      "4736/4800 [============================>.] - ETA: 0s - loss: 0.1691 - acc: 0.9337Epoch 00044: val_acc did not improve\n",
      "4800/4800 [==============================] - 3s 724us/step - loss: 0.1685 - acc: 0.9344 - val_loss: 0.5412 - val_acc: 0.7400\n",
      "Epoch 45/60\n",
      "4736/4800 [============================>.] - ETA: 0s - loss: 0.1534 - acc: 0.9445Epoch 00045: val_acc did not improve\n",
      "4800/4800 [==============================] - 3s 725us/step - loss: 0.1535 - acc: 0.9446 - val_loss: 0.5560 - val_acc: 0.7600\n",
      "Epoch 46/60\n",
      "4736/4800 [============================>.] - ETA: 0s - loss: 0.1513 - acc: 0.9457Epoch 00046: val_acc did not improve\n",
      "4800/4800 [==============================] - 3s 725us/step - loss: 0.1512 - acc: 0.9458 - val_loss: 0.5439 - val_acc: 0.7667\n",
      "Epoch 47/60\n",
      "4736/4800 [============================>.] - ETA: 0s - loss: 0.1584 - acc: 0.9411Epoch 00047: val_acc did not improve\n",
      "4800/4800 [==============================] - 3s 725us/step - loss: 0.1593 - acc: 0.9406 - val_loss: 0.5455 - val_acc: 0.7667\n",
      "Epoch 48/60\n",
      "4736/4800 [============================>.] - ETA: 0s - loss: 0.1449 - acc: 0.9512Epoch 00048: val_acc did not improve\n",
      "4800/4800 [==============================] - 3s 724us/step - loss: 0.1459 - acc: 0.9506 - val_loss: 0.5823 - val_acc: 0.7550\n",
      "Epoch 49/60\n",
      "4736/4800 [============================>.] - ETA: 0s - loss: 0.1364 - acc: 0.9529Epoch 00049: val_acc did not improve\n",
      "4800/4800 [==============================] - 3s 724us/step - loss: 0.1369 - acc: 0.9531 - val_loss: 0.5429 - val_acc: 0.7517\n",
      "Epoch 50/60\n",
      "4736/4800 [============================>.] - ETA: 0s - loss: 0.1316 - acc: 0.9544Epoch 00050: val_acc did not improve\n",
      "4800/4800 [==============================] - 3s 724us/step - loss: 0.1323 - acc: 0.9540 - val_loss: 0.5674 - val_acc: 0.7650\n",
      "Epoch 51/60\n",
      "4736/4800 [============================>.] - ETA: 0s - loss: 0.1261 - acc: 0.9544Epoch 00051: val_acc did not improve\n",
      "4800/4800 [==============================] - 3s 724us/step - loss: 0.1260 - acc: 0.9544 - val_loss: 0.5378 - val_acc: 0.7667\n",
      "Epoch 52/60\n",
      "4736/4800 [============================>.] - ETA: 0s - loss: 0.1270 - acc: 0.9595Epoch 00052: val_acc did not improve\n",
      "4800/4800 [==============================] - 3s 726us/step - loss: 0.1262 - acc: 0.9598 - val_loss: 0.5400 - val_acc: 0.7600\n",
      "Epoch 53/60\n",
      "4736/4800 [============================>.] - ETA: 0s - loss: 0.1223 - acc: 0.9548Epoch 00053: val_acc did not improve\n",
      "4800/4800 [==============================] - 3s 723us/step - loss: 0.1216 - acc: 0.9552 - val_loss: 0.5886 - val_acc: 0.7617\n",
      "Epoch 54/60\n",
      "4736/4800 [============================>.] - ETA: 0s - loss: 0.1160 - acc: 0.9635Epoch 00054: val_acc did not improve\n",
      "4800/4800 [==============================] - 3s 724us/step - loss: 0.1160 - acc: 0.9633 - val_loss: 0.5651 - val_acc: 0.7467\n",
      "Epoch 55/60\n",
      "4736/4800 [============================>.] - ETA: 0s - loss: 0.1116 - acc: 0.9599Epoch 00055: val_acc did not improve\n",
      "4800/4800 [==============================] - 3s 723us/step - loss: 0.1113 - acc: 0.9604 - val_loss: 0.5854 - val_acc: 0.7633\n",
      "Epoch 56/60\n",
      "4736/4800 [============================>.] - ETA: 0s - loss: 0.1064 - acc: 0.9652Epoch 00056: val_acc did not improve\n",
      "4800/4800 [==============================] - 3s 723us/step - loss: 0.1068 - acc: 0.9648 - val_loss: 0.5843 - val_acc: 0.7600\n",
      "Epoch 57/60\n",
      "4736/4800 [============================>.] - ETA: 0s - loss: 0.0972 - acc: 0.9677Epoch 00057: val_acc did not improve\n",
      "4800/4800 [==============================] - 3s 723us/step - loss: 0.0987 - acc: 0.9669 - val_loss: 0.6023 - val_acc: 0.7700\n",
      "Epoch 58/60\n",
      "4736/4800 [============================>.] - ETA: 0s - loss: 0.0967 - acc: 0.9704Epoch 00058: val_acc did not improve\n",
      "4800/4800 [==============================] - 4s 732us/step - loss: 0.0971 - acc: 0.9704 - val_loss: 0.5950 - val_acc: 0.7667\n",
      "Epoch 59/60\n",
      "4736/4800 [============================>.] - ETA: 0s - loss: 0.0909 - acc: 0.9717Epoch 00059: val_acc did not improve\n",
      "4800/4800 [==============================] - 3s 729us/step - loss: 0.0909 - acc: 0.9717 - val_loss: 0.6281 - val_acc: 0.7567\n",
      "Epoch 60/60\n",
      "4736/4800 [============================>.] - ETA: 0s - loss: 0.0867 - acc: 0.9749Epoch 00060: val_acc did not improve\n",
      "4800/4800 [==============================] - 4s 740us/step - loss: 0.0873 - acc: 0.9746 - val_loss: 0.6142 - val_acc: 0.7583\n"
     ]
    }
   ],
   "source": [
    "\n",
    "history = model.fit(x_train, y_train, batch_size=batch_size, epochs=epochs,validation_data=(x_test, y_test), callbacks=callbacks_list, verbose=1)\n"
   ]
  },
  {
   "cell_type": "code",
   "execution_count": 29,
   "metadata": {},
   "outputs": [
    {
     "name": "stdout",
     "output_type": "stream",
     "text": [
      "600/600 [==============================] - 0s 413us/step\n",
      "Test loss: 0.6807564568519592\n",
      "Test accuracy: 0.7533333341280619\n"
     ]
    }
   ],
   "source": [
    "\n",
    "score = model.evaluate(x_val, y_val, verbose=1)\n",
    "print('Test loss:', score[0])\n",
    "print('Test accuracy:', score[1])\n"
   ]
  },
  {
   "cell_type": "markdown",
   "metadata": {},
   "source": [
    "### Exercise 3\n",
    "\n",
    "Output the training/validation loss and accuracy curves. Also print the classification results (e.g., classification accuracy, confusion matrix, precision-recall curves and/or ROC curves) on the test set."
   ]
  },
  {
   "cell_type": "code",
   "execution_count": 30,
   "metadata": {},
   "outputs": [],
   "source": [
    "from sklearn.metrics import classification_report, confusion_matrix, precision_recall_curve, roc_curve\n",
    "\n",
    "# Add your code here"
   ]
  },
  {
   "cell_type": "markdown",
   "metadata": {},
   "source": [
    "### Exercise 4\n",
    "\n",
    "Explore different network architectures (e.g., stacking 4 Conv2D+MaxPooling2D layers) and various ways in tuning the model parameters to see if you can improve the model performance on the validation set."
   ]
  },
  {
   "cell_type": "code",
   "execution_count": 26,
   "metadata": {},
   "outputs": [],
   "source": [
    "# Add your code here"
   ]
  },
  {
   "cell_type": "markdown",
   "metadata": {},
   "source": [
    "### Exercise 5\n",
    "\n",
    "Apply the trained model on the testing set and output the classification results."
   ]
  },
  {
   "cell_type": "code",
   "execution_count": 27,
   "metadata": {},
   "outputs": [],
   "source": [
    "# Add your code here"
   ]
  },
  {
   "cell_type": "markdown",
   "metadata": {},
   "source": [
    "### Exercise 6 \n",
    "\n",
    "Plot the saliency map of original image to see which part is important for making classification decisions. You can refer to the following blog article on how to generate visualisation results of the filters in the ConvNets.\n",
    "https://blog.keras.io/how-convolutional-neural-networks-see-the-world.html"
   ]
  },
  {
   "cell_type": "code",
   "execution_count": 28,
   "metadata": {},
   "outputs": [],
   "source": [
    "# Add your code here"
   ]
  }
 ],
 "metadata": {
  "kernelspec": {
   "display_name": "Python 3",
   "language": "python",
   "name": "python3"
  },
  "language_info": {
   "codemirror_mode": {
    "name": "ipython",
    "version": 3
   },
   "file_extension": ".py",
   "mimetype": "text/x-python",
   "name": "python",
   "nbconvert_exporter": "python",
   "pygments_lexer": "ipython3",
   "version": "3.6.1"
  }
 },
 "nbformat": 4,
 "nbformat_minor": 1
}

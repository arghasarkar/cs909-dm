{
 "cells": [
  {
   "cell_type": "markdown",
   "metadata": {},
   "source": [
    "# CNN for Image Classification\n",
    "\n",
    "In this lab, you are given a dataset containing 6,000 pictures of cats and dogs (3,000 cats, 3,000 dogs) and asked to train a classifier built upon Convolutional Neural Networks (ConvNets) to classify images as \"dogs\" or \"cats\"."
   ]
  },
  {
   "cell_type": "code",
   "execution_count": 1,
   "metadata": {},
   "outputs": [
    {
     "name": "stderr",
     "output_type": "stream",
     "text": [
      "D:\\Applications\\Python3\\lib\\site-packages\\h5py\\__init__.py:36: FutureWarning: Conversion of the second argument of issubdtype from `float` to `np.floating` is deprecated. In future, it will be treated as `np.float64 == np.dtype(float).type`.\n",
      "  from ._conv import register_converters as _register_converters\n",
      "Using TensorFlow backend.\n"
     ]
    }
   ],
   "source": [
    "%matplotlib inline\n",
    "\n",
    "import os\n",
    "import numpy as np\n",
    "import matplotlib.pyplot as plt\n",
    "import cv2\n",
    "\n",
    "# from __future__ import print_function\n",
    "import keras\n",
    "from keras import metrics\n",
    "from keras.preprocessing.image import ImageDataGenerator\n",
    "from keras.models import Sequential\n",
    "from keras.layers import Dense, Dropout, Activation, Flatten, BatchNormalization\n",
    "from keras.layers import Conv2D, MaxPooling2D"
   ]
  },
  {
   "cell_type": "markdown",
   "metadata": {},
   "source": [
    "### Exercise 1 \n",
    "Split the dataset by selecting 4,800 pictures for training, 600 for validation, and 600 for testing."
   ]
  },
  {
   "cell_type": "code",
   "execution_count": 2,
   "metadata": {
    "scrolled": true
   },
   "outputs": [],
   "source": [
    "img_width = 50\n",
    "img_height = 50\n",
    "num_classes = 2\n",
    "DATA_DIR = './data/'\n",
    "image_filenames = [DATA_DIR+i for i in os.listdir(DATA_DIR)] # use this for full dataset\n",
    "\n",
    "# Setting the random seed\n",
    "np.random.seed(200)\n",
    "\n",
    "\n",
    "# Split the data in three sets, 80% for training, 10% for validation and 10% for testing\n",
    "# make sure that the image filenames have a fixed order before shuffling\n",
    "# Add your code here"
   ]
  },
  {
   "cell_type": "code",
   "execution_count": 3,
   "metadata": {},
   "outputs": [],
   "source": [
    "import pandas as pd\n",
    "from sklearn import datasets, linear_model\n",
    "from sklearn.model_selection import train_test_split"
   ]
  },
  {
   "cell_type": "markdown",
   "metadata": {},
   "source": [
    "The function ```get_class_from_filename``` takes the file path and returns ***0*** for cats and ***1*** for dogs.\n",
    "\n",
    "The function ```generate_class_arr``` takes the array of filenames and returns an array of class numbers using the function ```get_class_from_filename```."
   ]
  },
  {
   "cell_type": "code",
   "execution_count": 4,
   "metadata": {},
   "outputs": [],
   "source": [
    "\n",
    "def load_images(filenames):\n",
    "    \n",
    "    files = []\n",
    "    for i in range(len(filenames)):\n",
    "        files.append(cv2.imread(filenames[i]))\n",
    "        \n",
    "    return np.array(resize_files(files))\n",
    "\n",
    "\n",
    "def resize_files(files):\n",
    "    _files = []\n",
    "    for i in range(len(files)):\n",
    "        _resized = np.array(cv2.resize(files[i], (img_width, img_height),interpolation=cv2.INTER_AREA))\n",
    "        _normalized = np.true_divide(_resized, 255)\n",
    "        _files.append(_normalized)\n",
    "        \n",
    "    return _files\n",
    "\n",
    "\n",
    "def get_class_from_filename(filename):\n",
    "    \n",
    "    parts = filename.split(\".\")\n",
    "    size = len(parts)\n",
    "    \n",
    "    _class = parts[size - 3]\n",
    "    _class = _class[-3:]\n",
    "    \n",
    "    return np.array([0, 1] if _class == \"cat\" else [1,0])\n",
    "\n",
    "\n",
    "# print(get_class_from_filename(\"./test/dog.267.jpg\"))\n",
    "\n",
    "def generate_class_arr(filenames):\n",
    "    \n",
    "    classes = []\n",
    "    \n",
    "    for i in range(len(filenames)):\n",
    "        classes.append(get_class_from_filename(filenames[i]))\n",
    "    \n",
    "    return np.array(classes)\n",
    "\n",
    "# arr = ['./data/cat.2718.jpg', './data/dog.1753.jpg', './data/cat.1211.jpg', './data/dog.775.jpg', './data/cat.1577.jpg', './data/cat.952.jpg']\n",
    "# print(generate_class_arr(arr))\n",
    "        "
   ]
  },
  {
   "cell_type": "code",
   "execution_count": 5,
   "metadata": {},
   "outputs": [],
   "source": [
    "y = generate_class_arr(image_filenames)"
   ]
  },
  {
   "cell_type": "code",
   "execution_count": 6,
   "metadata": {},
   "outputs": [],
   "source": [
    "\n",
    "x_train_filenames, x_test_filenames, y_train, y_test = train_test_split(image_filenames, y, test_size=0.2)\n",
    "x_test_filenames, x_val_filenames, y_test, y_val = train_test_split(x_test_filenames, y_test, test_size=0.5)\n"
   ]
  },
  {
   "cell_type": "code",
   "execution_count": 7,
   "metadata": {},
   "outputs": [],
   "source": [
    "x_train = load_images(x_train_filenames)\n",
    "x_test = load_images(x_test_filenames)\n",
    "x_val = load_images(x_val_filenames)\n"
   ]
  },
  {
   "cell_type": "code",
   "execution_count": 8,
   "metadata": {
    "scrolled": true
   },
   "outputs": [
    {
     "name": "stdout",
     "output_type": "stream",
     "text": [
      "4800   4800\n",
      "600   600\n",
      "600   600\n"
     ]
    }
   ],
   "source": [
    "# print(x_train_filenames[:5])\n",
    "# print(y_train[:5])\n",
    "print(len(x_train_filenames), \" \", len(y_train))\n",
    "\n",
    "# print(x_test_filenames[:5])\n",
    "# print(y_test[:5])\n",
    "print(len(x_test_filenames), \" \", len(y_test))\n",
    "\n",
    "# print(x_val_filenames[:5])\n",
    "# print(y_val[:5])\n",
    "print(len(x_val_filenames), \" \", len(y_val))\n"
   ]
  },
  {
   "cell_type": "code",
   "execution_count": 9,
   "metadata": {
    "scrolled": true
   },
   "outputs": [
    {
     "name": "stdout",
     "output_type": "stream",
     "text": [
      "Label: [1 0]\n",
      "(50, 50, 3)\n"
     ]
    },
    {
     "data": {
      "image/png": "[encoded data removed]",
      "text/plain": [
       "<matplotlib.figure.Figure at 0x142595ac128>"
      ]
     },
     "metadata": {},
     "output_type": "display_data"
    }
   ],
   "source": [
    "\n",
    "plt.imshow(x_train[0])\n",
    "print(\"Label: {}\".format(y_train[0]))\n",
    "print(x_train[0].shape)\n"
   ]
  },
  {
   "cell_type": "code",
   "execution_count": 10,
   "metadata": {},
   "outputs": [
    {
     "name": "stdout",
     "output_type": "stream",
     "text": [
      "Label: [1 0]\n"
     ]
    },
    {
     "data": {
      "image/png": "[encoded data removed]",
      "text/plain": [
       "<matplotlib.figure.Figure at 0x1426b449208>"
      ]
     },
     "metadata": {},
     "output_type": "display_data"
    }
   ],
   "source": [
    "\n",
    "plt.imshow(x_test[0])\n",
    "print(\"Label: {}\".format(y_test[0]))\n"
   ]
  },
  {
   "cell_type": "code",
   "execution_count": 11,
   "metadata": {
    "scrolled": true
   },
   "outputs": [
    {
     "name": "stdout",
     "output_type": "stream",
     "text": [
      "Label: [1 0]\n"
     ]
    },
    {
     "data": {
      "image/png": "[encoded data removed]",
      "text/plain": [
       "<matplotlib.figure.Figure at 0x142595acb38>"
      ]
     },
     "metadata": {},
     "output_type": "display_data"
    }
   ],
   "source": [
    "\n",
    "plt.imshow(x_val[0])\n",
    "print(\"Label: {}\".format(y_val[0]))\n"
   ]
  },
  {
   "cell_type": "markdown",
   "metadata": {},
   "source": [
    "### Exercise 2\n",
    "Train a Convolutional Neural Network (ConvNet) on the training set. The general structure of the ConvNet will be a stack of alternated Conv2D (with relu activation) and MaxPooling2D layers. A Conv2D layer creates a convolution kernel that is convolved with the layer input to produce a tensor of outputs. A MaxPooling2D layer is used to downscale input in both the vertical and horizontal dimensions."
   ]
  },
  {
   "cell_type": "code",
   "execution_count": 12,
   "metadata": {},
   "outputs": [],
   "source": [
    "from keras.layers import Conv2D, MaxPooling2D, GlobalAveragePooling2D"
   ]
  },
  {
   "cell_type": "code",
   "execution_count": 13,
   "metadata": {},
   "outputs": [
    {
     "name": "stdout",
     "output_type": "stream",
     "text": [
      "WARNING:tensorflow:From D:\\Applications\\Python3\\lib\\site-packages\\keras\\backend\\tensorflow_backend.py:1264: calling reduce_prod (from tensorflow.python.ops.math_ops) with keep_dims is deprecated and will be removed in a future version.\n",
      "Instructions for updating:\n",
      "keep_dims is deprecated, use keepdims instead\n"
     ]
    }
   ],
   "source": [
    "# Add your code here\n",
    "\n",
    "\n",
    "input_shape = x_train[1].shape\n",
    "\n",
    "model = Sequential()\n",
    "#add model layers\n",
    "\n",
    "model.add(Conv2D(64, 2,padding='same', input_shape=input_shape))\n",
    "model.add(Activation('relu'))\n",
    "model.add(MaxPooling2D(pool_size=(2,2)))\n",
    "\n",
    "model.add(Conv2D(128, 2, padding='same'))\n",
    "model.add(Activation('relu'))\n",
    "model.add(MaxPooling2D(pool_size=(2,2)))\n",
    "\n",
    "model.add(Flatten())\n",
    "\n",
    "model.add(Dense(256, activation='relu'))\n",
    "model.add(Dense(128, activation='relu'))\n",
    "\n",
    "model.add(Dense(2, activation='softmax'))\n",
    "          "
   ]
  },
  {
   "cell_type": "code",
   "execution_count": 14,
   "metadata": {},
   "outputs": [
    {
     "name": "stdout",
     "output_type": "stream",
     "text": [
      "_________________________________________________________________\n",
      "Layer (type)                 Output Shape              Param #   \n",
      "=================================================================\n",
      "conv2d_1 (Conv2D)            (None, 50, 50, 64)        832       \n",
      "_________________________________________________________________\n",
      "activation_1 (Activation)    (None, 50, 50, 64)        0         \n",
      "_________________________________________________________________\n",
      "max_pooling2d_1 (MaxPooling2 (None, 25, 25, 64)        0         \n",
      "_________________________________________________________________\n",
      "conv2d_2 (Conv2D)            (None, 25, 25, 128)       32896     \n",
      "_________________________________________________________________\n",
      "activation_2 (Activation)    (None, 25, 25, 128)       0         \n",
      "_________________________________________________________________\n",
      "max_pooling2d_2 (MaxPooling2 (None, 12, 12, 128)       0         \n",
      "_________________________________________________________________\n",
      "flatten_1 (Flatten)          (None, 18432)             0         \n",
      "_________________________________________________________________\n",
      "dense_1 (Dense)              (None, 256)               4718848   \n",
      "_________________________________________________________________\n",
      "dense_2 (Dense)              (None, 128)               32896     \n",
      "_________________________________________________________________\n",
      "dense_3 (Dense)              (None, 2)                 258       \n",
      "=================================================================\n",
      "Total params: 4,785,730\n",
      "Trainable params: 4,785,730\n",
      "Non-trainable params: 0\n",
      "_________________________________________________________________\n"
     ]
    }
   ],
   "source": [
    "model.summary()"
   ]
  },
  {
   "cell_type": "code",
   "execution_count": 15,
   "metadata": {},
   "outputs": [],
   "source": [
    "batch_size = 128"
   ]
  },
  {
   "cell_type": "code",
   "execution_count": 16,
   "metadata": {},
   "outputs": [],
   "source": [
    "epochs = 60"
   ]
  },
  {
   "cell_type": "code",
   "execution_count": 17,
   "metadata": {},
   "outputs": [
    {
     "name": "stdout",
     "output_type": "stream",
     "text": [
      "WARNING:tensorflow:From D:\\Applications\\Python3\\lib\\site-packages\\keras\\backend\\tensorflow_backend.py:2885: calling reduce_sum (from tensorflow.python.ops.math_ops) with keep_dims is deprecated and will be removed in a future version.\n",
      "Instructions for updating:\n",
      "keep_dims is deprecated, use keepdims instead\n",
      "WARNING:tensorflow:From D:\\Applications\\Python3\\lib\\site-packages\\keras\\backend\\tensorflow_backend.py:1349: calling reduce_mean (from tensorflow.python.ops.math_ops) with keep_dims is deprecated and will be removed in a future version.\n",
      "Instructions for updating:\n",
      "keep_dims is deprecated, use keepdims instead\n"
     ]
    }
   ],
   "source": [
    "optimizer = keras.optimizers.RMSprop(lr=0.00005)\n",
    "model.compile(optimizer=optimizer, loss='categorical_crossentropy', metrics=['accuracy'])\n"
   ]
  },
  {
   "cell_type": "code",
   "execution_count": 18,
   "metadata": {},
   "outputs": [],
   "source": [
    "from keras.callbacks import ModelCheckpoint\n",
    "\n",
    "weights_filepath = \"weights.hdf5\"\n",
    "checkpoint = ModelCheckpoint(weights_filepath, monitor = 'val_acc', verbose = 1, save_best_only = True, mode='max')\n",
    "callbacks_list = [checkpoint]\n"
   ]
  },
  {
   "cell_type": "code",
   "execution_count": 19,
   "metadata": {},
   "outputs": [
    {
     "name": "stdout",
     "output_type": "stream",
     "text": [
      "Train on 4800 samples, validate on 600 samples\n",
      "Epoch 1/60\n",
      "4736/4800 [============================>.] - ETA: 0s - loss: 0.6906 - acc: 0.5251Epoch 00001: val_acc improved from -inf to 0.58167, saving model to weights.hdf5\n",
      "4800/4800 [==============================] - 4s 920us/step - loss: 0.6902 - acc: 0.5262 - val_loss: 0.6748 - val_acc: 0.5817\n",
      "Epoch 2/60\n",
      "4736/4800 [============================>.] - ETA: 0s - loss: 0.6671 - acc: 0.5997Epoch 00002: val_acc did not improve\n",
      "4800/4800 [==============================] - 1s 260us/step - loss: 0.6663 - acc: 0.6021 - val_loss: 0.6654 - val_acc: 0.5633\n",
      "Epoch 3/60\n",
      "4736/4800 [============================>.] - ETA: 0s - loss: 0.6455 - acc: 0.6408- ETA: 0s - loss: 0.6470 - acc: 0.6Epoch 00003: val_acc improved from 0.58167 to 0.66167, saving model to weights.hdf5\n",
      "4800/4800 [==============================] - 1s 280us/step - loss: 0.6450 - acc: 0.6412 - val_loss: 0.6362 - val_acc: 0.6617\n",
      "Epoch 4/60\n",
      "4736/4800 [============================>.] - ETA: 0s - loss: 0.6237 - acc: 0.6603Epoch 00004: val_acc improved from 0.66167 to 0.66500, saving model to weights.hdf5\n",
      "4800/4800 [==============================] - 2s 319us/step - loss: 0.6238 - acc: 0.6604 - val_loss: 0.6239 - val_acc: 0.6650\n",
      "Epoch 5/60\n",
      "4736/4800 [============================>.] - ETA: 0s - loss: 0.6109 - acc: 0.6719- ETA: 0s - loss: 0.6249 - aEpoch 00005: val_acc did not improve\n",
      "4800/4800 [==============================] - 1s 270us/step - loss: 0.6115 - acc: 0.6706 - val_loss: 0.6478 - val_acc: 0.5800\n",
      "Epoch 6/60\n",
      "4736/4800 [============================>.] - ETA: 0s - loss: 0.6006 - acc: 0.6820Epoch 00006: val_acc did not improve\n",
      "4800/4800 [==============================] - 1s 265us/step - loss: 0.6005 - acc: 0.6821 - val_loss: 0.6230 - val_acc: 0.6450\n",
      "Epoch 7/60\n",
      "4736/4800 [============================>.] - ETA: 0s - loss: 0.5864 - acc: 0.6962Epoch 00007: val_acc improved from 0.66500 to 0.68333, saving model to weights.hdf5\n",
      "4800/4800 [==============================] - 1s 272us/step - loss: 0.5853 - acc: 0.6971 - val_loss: 0.6038 - val_acc: 0.6833\n",
      "Epoch 8/60\n",
      "4736/4800 [============================>.] - ETA: 0s - loss: 0.5759 - acc: 0.7152Epoch 00008: val_acc did not improve\n",
      "4800/4800 [==============================] - 1s 259us/step - loss: 0.5753 - acc: 0.7158 - val_loss: 0.6028 - val_acc: 0.6783\n",
      "Epoch 9/60\n",
      "4736/4800 [============================>.] - ETA: 0s - loss: 0.5648 - acc: 0.7130Epoch 00009: val_acc did not improve\n",
      "4800/4800 [==============================] - 1s 258us/step - loss: 0.5664 - acc: 0.7123 - val_loss: 0.6589 - val_acc: 0.5983\n",
      "Epoch 10/60\n",
      "4736/4800 [============================>.] - ETA: 0s - loss: 0.5617 - acc: 0.7126Epoch 00010: val_acc improved from 0.68333 to 0.69667, saving model to weights.hdf5\n",
      "4800/4800 [==============================] - 1s 285us/step - loss: 0.5612 - acc: 0.7133 - val_loss: 0.5830 - val_acc: 0.6967\n",
      "Epoch 11/60\n",
      "4736/4800 [============================>.] - ETA: 0s - loss: 0.5527 - acc: 0.7236Epoch 00011: val_acc improved from 0.69667 to 0.70333, saving model to weights.hdf5\n",
      "4800/4800 [==============================] - 1s 279us/step - loss: 0.5526 - acc: 0.7233 - val_loss: 0.5895 - val_acc: 0.7033\n",
      "Epoch 12/60\n",
      "4736/4800 [============================>.] - ETA: 0s - loss: 0.5424 - acc: 0.7318Epoch 00012: val_acc did not improve\n",
      "4800/4800 [==============================] - 1s 276us/step - loss: 0.5427 - acc: 0.7317 - val_loss: 0.6100 - val_acc: 0.6717\n",
      "Epoch 13/60\n",
      "4736/4800 [============================>.] - ETA: 0s - loss: 0.5372 - acc: 0.7327Epoch 00013: val_acc did not improve\n",
      "4800/4800 [==============================] - 1s 274us/step - loss: 0.5366 - acc: 0.7338 - val_loss: 0.5953 - val_acc: 0.6733\n",
      "Epoch 14/60\n",
      "4736/4800 [============================>.] - ETA: 0s - loss: 0.5357 - acc: 0.7302Epoch 00014: val_acc did not improve\n",
      "4800/4800 [==============================] - 1s 273us/step - loss: 0.5351 - acc: 0.7310 - val_loss: 0.5723 - val_acc: 0.7000\n",
      "Epoch 15/60\n",
      "4736/4800 [============================>.] - ETA: 0s - loss: 0.5220 - acc: 0.7409Epoch 00015: val_acc did not improve\n",
      "4800/4800 [==============================] - 1s 269us/step - loss: 0.5236 - acc: 0.7394 - val_loss: 0.6358 - val_acc: 0.6533\n",
      "Epoch 16/60\n",
      "4736/4800 [============================>.] - ETA: 0s - loss: 0.5098 - acc: 0.7534Epoch 00016: val_acc improved from 0.70333 to 0.70667, saving model to weights.hdf5\n",
      "4800/4800 [==============================] - 1s 288us/step - loss: 0.5083 - acc: 0.7548 - val_loss: 0.5779 - val_acc: 0.7067\n",
      "Epoch 17/60\n",
      "4736/4800 [============================>.] - ETA: 0s - loss: 0.5074 - acc: 0.7473Epoch 00017: val_acc did not improve\n",
      "4800/4800 [==============================] - 1s 266us/step - loss: 0.5079 - acc: 0.7469 - val_loss: 0.5815 - val_acc: 0.6967\n",
      "Epoch 18/60\n",
      "4736/4800 [============================>.] - ETA: 0s - loss: 0.4986 - acc: 0.7612Epoch 00018: val_acc did not improve\n",
      "4800/4800 [==============================] - 1s 271us/step - loss: 0.4996 - acc: 0.7608 - val_loss: 0.6092 - val_acc: 0.6767\n",
      "Epoch 19/60\n",
      "4736/4800 [============================>.] - ETA: 0s - loss: 0.4952 - acc: 0.7616Epoch 00019: val_acc improved from 0.70667 to 0.71167, saving model to weights.hdf5\n",
      "4800/4800 [==============================] - 1s 281us/step - loss: 0.4944 - acc: 0.7623 - val_loss: 0.5666 - val_acc: 0.7117\n",
      "Epoch 20/60\n",
      "4736/4800 [============================>.] - ETA: 0s - loss: 0.4872 - acc: 0.7637Epoch 00020: val_acc did not improve\n",
      "4800/4800 [==============================] - 1s 267us/step - loss: 0.4864 - acc: 0.7656 - val_loss: 0.5678 - val_acc: 0.7033\n",
      "Epoch 21/60\n",
      "4736/4800 [============================>.] - ETA: 0s - loss: 0.4875 - acc: 0.7595Epoch 00021: val_acc did not improve\n",
      "4800/4800 [==============================] - 1s 266us/step - loss: 0.4869 - acc: 0.7602 - val_loss: 0.5557 - val_acc: 0.7000\n",
      "Epoch 22/60\n",
      "4736/4800 [============================>.] - ETA: 0s - loss: 0.4719 - acc: 0.7743Epoch 00022: val_acc improved from 0.71167 to 0.71667, saving model to weights.hdf5\n",
      "4800/4800 [==============================] - 1s 276us/step - loss: 0.4716 - acc: 0.7750 - val_loss: 0.5708 - val_acc: 0.7167\n",
      "Epoch 23/60\n",
      "4736/4800 [============================>.] - ETA: 0s - loss: 0.4711 - acc: 0.7732Epoch 00023: val_acc did not improve\n",
      "4800/4800 [==============================] - 1s 267us/step - loss: 0.4695 - acc: 0.7744 - val_loss: 0.5530 - val_acc: 0.7150\n",
      "Epoch 24/60\n",
      "4736/4800 [============================>.] - ETA: 0s - loss: 0.4643 - acc: 0.7785Epoch 00024: val_acc did not improve\n",
      "4800/4800 [==============================] - 1s 268us/step - loss: 0.4644 - acc: 0.7781 - val_loss: 0.5501 - val_acc: 0.7050\n",
      "Epoch 25/60\n",
      "4736/4800 [============================>.] - ETA: 0s - loss: 0.4534 - acc: 0.7870Epoch 00025: val_acc did not improve\n",
      "4800/4800 [==============================] - 1s 265us/step - loss: 0.4527 - acc: 0.7879 - val_loss: 0.5589 - val_acc: 0.7067\n",
      "Epoch 26/60\n",
      "4736/4800 [============================>.] - ETA: 0s - loss: 0.4548 - acc: 0.7889Epoch 00026: val_acc did not improve\n",
      "4800/4800 [==============================] - 1s 265us/step - loss: 0.4551 - acc: 0.7885 - val_loss: 0.5592 - val_acc: 0.7067\n",
      "Epoch 27/60\n",
      "4736/4800 [============================>.] - ETA: 0s - loss: 0.4457 - acc: 0.7962Epoch 00027: val_acc did not improve\n",
      "4800/4800 [==============================] - 1s 265us/step - loss: 0.4450 - acc: 0.7967 - val_loss: 0.5392 - val_acc: 0.7117\n",
      "Epoch 28/60\n",
      "4736/4800 [============================>.] - ETA: 0s - loss: 0.4367 - acc: 0.7998Epoch 00028: val_acc did not improve\n",
      "4800/4800 [==============================] - 1s 266us/step - loss: 0.4377 - acc: 0.7994 - val_loss: 0.6225 - val_acc: 0.6617\n",
      "Epoch 29/60\n",
      "4736/4800 [============================>.] - ETA: 0s - loss: 0.4271 - acc: 0.8074Epoch 00029: val_acc did not improve\n",
      "4800/4800 [==============================] - 1s 269us/step - loss: 0.4272 - acc: 0.8073 - val_loss: 0.5675 - val_acc: 0.7100\n",
      "Epoch 30/60\n",
      "4736/4800 [============================>.] - ETA: 0s - loss: 0.4281 - acc: 0.8049Epoch 00030: val_acc did not improve\n",
      "4800/4800 [==============================] - 1s 275us/step - loss: 0.4278 - acc: 0.8050 - val_loss: 0.5691 - val_acc: 0.7033\n",
      "Epoch 31/60\n"
     ]
    },
    {
     "name": "stdout",
     "output_type": "stream",
     "text": [
      "4736/4800 [============================>.] - ETA: 0s - loss: 0.4172 - acc: 0.8106Epoch 00031: val_acc improved from 0.71667 to 0.71833, saving model to weights.hdf5\n",
      "4800/4800 [==============================] - 1s 286us/step - loss: 0.4172 - acc: 0.8102 - val_loss: 0.5429 - val_acc: 0.7183\n",
      "Epoch 32/60\n",
      "4736/4800 [============================>.] - ETA: 0s - loss: 0.4136 - acc: 0.8140Epoch 00032: val_acc improved from 0.71833 to 0.71833, saving model to weights.hdf5\n",
      "4800/4800 [==============================] - 1s 280us/step - loss: 0.4142 - acc: 0.8133 - val_loss: 0.5448 - val_acc: 0.7183\n",
      "Epoch 33/60\n",
      "4736/4800 [============================>.] - ETA: 0s - loss: 0.4016 - acc: 0.8269Epoch 00033: val_acc did not improve\n",
      "4800/4800 [==============================] - 1s 269us/step - loss: 0.4013 - acc: 0.8265 - val_loss: 0.6281 - val_acc: 0.7067\n",
      "Epoch 34/60\n",
      "4736/4800 [============================>.] - ETA: 0s - loss: 0.4046 - acc: 0.8222Epoch 00034: val_acc improved from 0.71833 to 0.72000, saving model to weights.hdf5\n",
      "4800/4800 [==============================] - 1s 293us/step - loss: 0.4042 - acc: 0.8227 - val_loss: 0.5419 - val_acc: 0.7200\n",
      "Epoch 35/60\n",
      "4736/4800 [============================>.] - ETA: 0s - loss: 0.3956 - acc: 0.8239Epoch 00035: val_acc improved from 0.72000 to 0.73667, saving model to weights.hdf5\n",
      "4800/4800 [==============================] - 1s 282us/step - loss: 0.3959 - acc: 0.8248 - val_loss: 0.5381 - val_acc: 0.7367\n",
      "Epoch 36/60\n",
      "4736/4800 [============================>.] - ETA: 0s - loss: 0.3848 - acc: 0.8368- ETA: 0s - loss: 0.3848 - aEpoch 00036: val_acc did not improve\n",
      "4800/4800 [==============================] - 1s 279us/step - loss: 0.3869 - acc: 0.8350 - val_loss: 0.5703 - val_acc: 0.7100\n",
      "Epoch 37/60\n",
      "4736/4800 [============================>.] - ETA: 0s - loss: 0.3797 - acc: 0.8368Epoch 00037: val_acc did not improve\n",
      "4800/4800 [==============================] - 1s 269us/step - loss: 0.3790 - acc: 0.8377 - val_loss: 0.5260 - val_acc: 0.7250\n",
      "Epoch 38/60\n",
      "4736/4800 [============================>.] - ETA: 0s - loss: 0.3721 - acc: 0.8412Epoch 00038: val_acc did not improve\n",
      "4800/4800 [==============================] - 1s 265us/step - loss: 0.3726 - acc: 0.8408 - val_loss: 0.7054 - val_acc: 0.6633\n",
      "Epoch 39/60\n",
      "4736/4800 [============================>.] - ETA: 0s - loss: 0.3703 - acc: 0.8361Epoch 00039: val_acc did not improve\n",
      "4800/4800 [==============================] - 1s 265us/step - loss: 0.3695 - acc: 0.8365 - val_loss: 0.5304 - val_acc: 0.7333\n",
      "Epoch 40/60\n",
      "4736/4800 [============================>.] - ETA: 0s - loss: 0.3671 - acc: 0.8395Epoch 00040: val_acc did not improve\n",
      "4800/4800 [==============================] - 1s 265us/step - loss: 0.3667 - acc: 0.8398 - val_loss: 0.5271 - val_acc: 0.7250\n",
      "Epoch 41/60\n",
      "4736/4800 [============================>.] - ETA: 0s - loss: 0.3564 - acc: 0.8501Epoch 00041: val_acc did not improve\n",
      "4800/4800 [==============================] - 1s 266us/step - loss: 0.3555 - acc: 0.8510 - val_loss: 0.5435 - val_acc: 0.7217\n",
      "Epoch 42/60\n",
      "4736/4800 [============================>.] - ETA: 0s - loss: 0.3524 - acc: 0.8484Epoch 00042: val_acc did not improve\n",
      "4800/4800 [==============================] - 1s 264us/step - loss: 0.3522 - acc: 0.8485 - val_loss: 0.5414 - val_acc: 0.7217\n",
      "Epoch 43/60\n",
      "4736/4800 [============================>.] - ETA: 0s - loss: 0.3445 - acc: 0.8547Epoch 00043: val_acc did not improve\n",
      "4800/4800 [==============================] - 1s 268us/step - loss: 0.3480 - acc: 0.8521 - val_loss: 0.7033 - val_acc: 0.6417\n",
      "Epoch 44/60\n",
      "4736/4800 [============================>.] - ETA: 0s - loss: 0.3375 - acc: 0.8640Epoch 00044: val_acc did not improve\n",
      "4800/4800 [==============================] - 1s 271us/step - loss: 0.3371 - acc: 0.8644 - val_loss: 0.5889 - val_acc: 0.7100\n",
      "Epoch 45/60\n",
      "4608/4800 [===========================>..] - ETA: 0s - loss: 0.3299 - acc: 0.8657Epoch 00045: val_acc did not improve\n",
      "4800/4800 [==============================] - 1s 296us/step - loss: 0.3316 - acc: 0.8644 - val_loss: 0.5225 - val_acc: 0.7333\n",
      "Epoch 46/60\n",
      "4736/4800 [============================>.] - ETA: 0s - loss: 0.3235 - acc: 0.8668Epoch 00046: val_acc did not improve\n",
      "4800/4800 [==============================] - 1s 284us/step - loss: 0.3233 - acc: 0.8667 - val_loss: 0.5253 - val_acc: 0.7333\n",
      "Epoch 47/60\n",
      "4608/4800 [===========================>..] - ETA: 0s - loss: 0.3266 - acc: 0.8659Epoch 00047: val_acc improved from 0.73667 to 0.74167, saving model to weights.hdf5\n",
      "4800/4800 [==============================] - 2s 318us/step - loss: 0.3260 - acc: 0.8656 - val_loss: 0.5248 - val_acc: 0.7417\n",
      "Epoch 48/60\n",
      "4736/4800 [============================>.] - ETA: 0s - loss: 0.3221 - acc: 0.8716Epoch 00048: val_acc did not improve\n",
      "4800/4800 [==============================] - 1s 280us/step - loss: 0.3224 - acc: 0.8715 - val_loss: 0.5562 - val_acc: 0.7350\n",
      "Epoch 49/60\n",
      "4736/4800 [============================>.] - ETA: 0s - loss: 0.3069 - acc: 0.8813Epoch 00049: val_acc did not improve\n",
      "4800/4800 [==============================] - 1s 268us/step - loss: 0.3078 - acc: 0.8802 - val_loss: 0.5499 - val_acc: 0.7250\n",
      "Epoch 50/60\n",
      "4608/4800 [===========================>..] - ETA: 0s - loss: 0.3046 - acc: 0.8791Epoch 00050: val_acc did not improve\n",
      "4800/4800 [==============================] - 1s 281us/step - loss: 0.3027 - acc: 0.8808 - val_loss: 0.5231 - val_acc: 0.7417\n",
      "Epoch 51/60\n",
      "4736/4800 [============================>.] - ETA: 0s - loss: 0.2967 - acc: 0.8801Epoch 00051: val_acc did not improve\n",
      "4800/4800 [==============================] - 1s 269us/step - loss: 0.2963 - acc: 0.8808 - val_loss: 0.5503 - val_acc: 0.7200\n",
      "Epoch 52/60\n",
      "4736/4800 [============================>.] - ETA: 0s - loss: 0.2937 - acc: 0.8870Epoch 00052: val_acc did not improve\n",
      "4800/4800 [==============================] - 1s 284us/step - loss: 0.2924 - acc: 0.8875 - val_loss: 0.5268 - val_acc: 0.7350\n",
      "Epoch 53/60\n",
      "4736/4800 [============================>.] - ETA: 0s - loss: 0.2870 - acc: 0.8841Epoch 00053: val_acc improved from 0.74167 to 0.74500, saving model to weights.hdf5\n",
      "4800/4800 [==============================] - 1s 282us/step - loss: 0.2866 - acc: 0.8850 - val_loss: 0.5334 - val_acc: 0.7450\n",
      "Epoch 54/60\n",
      "4736/4800 [============================>.] - ETA: 0s - loss: 0.2806 - acc: 0.8879Epoch 00054: val_acc did not improve\n",
      "4800/4800 [==============================] - 1s 267us/step - loss: 0.2810 - acc: 0.8877 - val_loss: 0.5425 - val_acc: 0.7367\n",
      "Epoch 55/60\n",
      "4736/4800 [============================>.] - ETA: 0s - loss: 0.2754 - acc: 0.8906Epoch 00055: val_acc improved from 0.74500 to 0.74667, saving model to weights.hdf5\n",
      "4800/4800 [==============================] - 1s 289us/step - loss: 0.2758 - acc: 0.8902 - val_loss: 0.5316 - val_acc: 0.7467\n",
      "Epoch 56/60\n",
      "4736/4800 [============================>.] - ETA: 0s - loss: 0.2694 - acc: 0.8984Epoch 00056: val_acc did not improve\n",
      "4800/4800 [==============================] - 1s 267us/step - loss: 0.2701 - acc: 0.8981 - val_loss: 0.5577 - val_acc: 0.7250\n",
      "Epoch 57/60\n",
      "4736/4800 [============================>.] - ETA: 0s - loss: 0.2609 - acc: 0.9039Epoch 00057: val_acc improved from 0.74667 to 0.75167, saving model to weights.hdf5\n",
      "4800/4800 [==============================] - 2s 339us/step - loss: 0.2604 - acc: 0.9044 - val_loss: 0.5360 - val_acc: 0.7517\n",
      "Epoch 58/60\n",
      "4736/4800 [============================>.] - ETA: 0s - loss: 0.2617 - acc: 0.9029Epoch 00058: val_acc did not improve\n",
      "4800/4800 [==============================] - 1s 269us/step - loss: 0.2603 - acc: 0.9035 - val_loss: 0.5461 - val_acc: 0.7517\n",
      "Epoch 59/60\n",
      "4736/4800 [============================>.] - ETA: 0s - loss: 0.2518 - acc: 0.9065Epoch 00059: val_acc did not improve\n",
      "4800/4800 [==============================] - 1s 265us/step - loss: 0.2522 - acc: 0.9062 - val_loss: 0.6005 - val_acc: 0.7217\n",
      "Epoch 60/60\n",
      "4608/4800 [===========================>..] - ETA: 0s - loss: 0.2410 - acc: 0.9106Epoch 00060: val_acc did not improve\n",
      "4800/4800 [==============================] - 1s 276us/step - loss: 0.2480 - acc: 0.9062 - val_loss: 0.5354 - val_acc: 0.7483\n"
     ]
    }
   ],
   "source": [
    "\n",
    "history = model.fit(x_train, y_train, batch_size=batch_size, epochs=epochs,validation_data=(x_test, y_test), callbacks=callbacks_list, verbose=1)\n"
   ]
  },
  {
   "cell_type": "code",
   "execution_count": 20,
   "metadata": {},
   "outputs": [
    {
     "name": "stdout",
     "output_type": "stream",
     "text": [
      "600/600 [==============================] - 0s 228us/step\n",
      "Test loss: 0.5183738883336385\n",
      "Test accuracy: 0.7616666674613952\n"
     ]
    }
   ],
   "source": [
    "\n",
    "score = model.evaluate(x_val, y_val, verbose=1)\n",
    "print('Test loss:', score[0])\n",
    "print('Test accuracy:', score[1])\n"
   ]
  },
  {
   "cell_type": "code",
   "execution_count": 21,
   "metadata": {},
   "outputs": [],
   "source": [
    "\n",
    "model_predictions = model.predict(x_val)\n"
   ]
  },
  {
   "cell_type": "markdown",
   "metadata": {},
   "source": [
    "### Exercise 3\n",
    "\n",
    "Output the training/validation loss and accuracy curves. Also print the classification results (e.g., classification accuracy, confusion matrix, precision-recall curves and/or ROC curves) on the test set."
   ]
  },
  {
   "cell_type": "code",
   "execution_count": 22,
   "metadata": {},
   "outputs": [
    {
     "name": "stdout",
     "output_type": "stream",
     "text": [
      "Classification report for the simple CNN:\n",
      "             precision    recall  f1-score   support\n",
      "\n",
      "          0       0.77      0.75      0.76       303\n",
      "          1       0.75      0.77      0.76       297\n",
      "\n",
      "avg / total       0.76      0.76      0.76       600\n",
      "\n"
     ]
    }
   ],
   "source": [
    "from sklearn.metrics import classification_report, confusion_matrix, precision_recall_curve, roc_curve, auc\n",
    "from sklearn.preprocessing import label_binarize\n",
    "\n",
    "# Add your code here\n",
    "print(\"Classification report for the simple CNN:\")\n",
    "print(classification_report(y_val.argmax(axis=1), model_predictions.argmax(axis=1)))\n"
   ]
  },
  {
   "cell_type": "code",
   "execution_count": 23,
   "metadata": {},
   "outputs": [
    {
     "name": "stdout",
     "output_type": "stream",
     "text": [
      "Confusion matrix for the simple CNN:\n",
      "[[227  76]\n",
      " [ 67 230]]\n"
     ]
    }
   ],
   "source": [
    "\n",
    "print(\"Confusion matrix for the simple CNN:\")\n",
    "print(confusion_matrix(y_val.argmax(axis=1),  model_predictions.argmax(axis=1)))\n"
   ]
  },
  {
   "cell_type": "code",
   "execution_count": 24,
   "metadata": {},
   "outputs": [],
   "source": [
    "from sklearn.metrics import precision_recall_curve\n",
    "from sklearn.utils.fixes import signature\n",
    "from sklearn.metrics import average_precision_score\n",
    "\n",
    "def plot_precision_recall_curve(labels, predictions, classifier_name=None):\n",
    "    \n",
    "    title = \"Precision-Recall curve\"\n",
    "    if classifier_name is not None:\n",
    "        title = \"Precision-Recall curve for {} predictions\".format(classifier_name)\n",
    "        \n",
    "    precision, recall, thresholds = precision_recall_curve(labels, predictions)\n",
    "    \n",
    "    average_precision = average_precision_score(labels, predictions)\n",
    "\n",
    "    # In matplotlib < 1.5, plt.fill_between does not have a 'step' argument\n",
    "    step_kwargs = ({'step': 'post'}\n",
    "                   if 'step' in signature(plt.fill_between).parameters\n",
    "                   else {})\n",
    "    \n",
    "    fig = plt.figure()\n",
    "    fig.set_figwidth(10)\n",
    "    fig.suptitle('Precision-Recall curve for {0}: AP={1:0.2f}'.format(classifier_name, average_precision))\n",
    "    \n",
    "    plot = plt.subplot(1, 2, 2)\n",
    "    \n",
    "    plot.step(recall, precision, color='b', alpha=0.2, where='post')\n",
    "    \n",
    "    plot.fill_between(recall, precision, alpha=0.2, color='b', **step_kwargs)\n",
    "\n",
    "    plot.set_xlabel('Recall')\n",
    "    plot.set_ylabel('Precision')\n",
    "    plot.set_ylim([0.0, 1.05])\n",
    "    plot.set_xlim([0.0, 1.0])\n",
    "       \n",
    "    return plot\n",
    "\n",
    "\n",
    "def plot_train_val_acc_curve(_hist):\n",
    "    \n",
    "    plt.plot(_hist.history['acc'])\n",
    "    plt.plot(_hist.history['val_acc'])\n",
    "    plt.title('model accuracy')\n",
    "    plt.ylabel('accuracy')\n",
    "    plt.xlabel('epoch')\n",
    "    plt.legend(['train', 'test'], loc='upper left')\n",
    "    \n",
    "    return plt.show()\n",
    "\n",
    "\n",
    "def plot_train_val_loss_curve(_hist):\n",
    "    \n",
    "    plt.plot(history.history['loss'])\n",
    "    plt.plot(history.history['val_loss'])\n",
    "    plt.title('model loss')\n",
    "    plt.ylabel('loss')\n",
    "    plt.xlabel('epoch')\n",
    "    plt.legend(['train', 'test'], loc='upper left')\n",
    "    \n",
    "    return plt.show()\n",
    "\n",
    "\n",
    "def plot_roc_curve(_y, _y_hat):\n",
    "    \n",
    "    fpr, tpr, thresholds = roc_curve(_y.argmax(axis=1).ravel(), first_arg(_y_hat))\n",
    "    auc_simple = auc(fpr, tpr)\n",
    "    plt.plot(fpr, tpr, label='Keras (area = {:.3f})'.format(auc_simple))\n",
    "    plt.xlabel('False positive rate')\n",
    "    plt.ylabel('True positive rate')\n",
    "    plt.title('ROC curve')\n",
    "    plt.legend(loc='best')\n",
    "    \n",
    "    return plt.show()\n",
    "    \n",
    "\n",
    "def first_arg(arr):\n",
    "    \n",
    "    _arr = []\n",
    "    \n",
    "    for i in range(len(arr)):\n",
    "        _arr.append(arr[i][1])\n",
    "    \n",
    "    return _arr\n"
   ]
  },
  {
   "cell_type": "code",
   "execution_count": 25,
   "metadata": {},
   "outputs": [
    {
     "data": {
      "image/png": "[encoded data removed]",
      "text/plain": [
       "<matplotlib.figure.Figure at 0x1426b4e5860>"
      ]
     },
     "metadata": {},
     "output_type": "display_data"
    }
   ],
   "source": [
    "\n",
    "plot_train_val_acc_curve(history)\n"
   ]
  },
  {
   "cell_type": "code",
   "execution_count": 26,
   "metadata": {},
   "outputs": [
    {
     "data": {
      "image/png": "[encoded data removed]",
      "text/plain": [
       "<matplotlib.figure.Figure at 0x1426b4e5550>"
      ]
     },
     "metadata": {},
     "output_type": "display_data"
    }
   ],
   "source": [
    "\n",
    "plot_train_val_loss_curve(history)\n"
   ]
  },
  {
   "cell_type": "code",
   "execution_count": 27,
   "metadata": {},
   "outputs": [
    {
     "data": {
      "image/png": "[encoded data removed]",
      "text/plain": [
       "<matplotlib.figure.Figure at 0x142cb6a2f60>"
      ]
     },
     "metadata": {},
     "output_type": "display_data"
    }
   ],
   "source": [
    "\n",
    "plot_roc_curve(y_val,  model_predictions)\n"
   ]
  },
  {
   "cell_type": "code",
   "execution_count": 28,
   "metadata": {},
   "outputs": [
    {
     "name": "stdout",
     "output_type": "stream",
     "text": [
      "Axes(0.547727,0.125;0.352273x0.755)\n"
     ]
    },
    {
     "data": {
      "image/png": "[encoded data removed]",
      "text/plain": [
       "<matplotlib.figure.Figure at 0x142cb6bf160>"
      ]
     },
     "metadata": {},
     "output_type": "display_data"
    }
   ],
   "source": [
    "\n",
    "print(plot_precision_recall_curve(first_arg(y_val), first_arg(model_predictions), \"Keras Simple CNN\"))\n"
   ]
  },
  {
   "cell_type": "markdown",
   "metadata": {},
   "source": [
    "### Exercise 4\n",
    "\n",
    "Explore different network architectures (e.g., stacking 4 Conv2D+MaxPooling2D layers) and various ways in tuning the model parameters to see if you can improve the model performance on the validation set."
   ]
  },
  {
   "cell_type": "code",
   "execution_count": 29,
   "metadata": {},
   "outputs": [],
   "source": [
    "# Add your code here\n",
    "\n",
    "input_shape = x_train[1].shape\n",
    "\n",
    "model_complex = Sequential()\n",
    "#add model layers\n",
    "\n",
    "model_complex.add(Conv2D(128, 2,padding='same', input_shape=input_shape))\n",
    "model_complex.add(BatchNormalization())\n",
    "model_complex.add(Activation('relu'))\n",
    "model_complex.add(MaxPooling2D(pool_size=(2,2)))\n",
    "model_complex.add(Dropout(0.2))\n",
    "\n",
    "model_complex.add(Conv2D(256, 2, padding='same'))\n",
    "model_complex.add(BatchNormalization())\n",
    "model_complex.add(Activation('relu'))\n",
    "model_complex.add(MaxPooling2D(pool_size=(2,2)))\n",
    "model_complex.add(Dropout(0.2))\n",
    "\n",
    "model_complex.add(Conv2D(512, 2, padding='same'))\n",
    "model_complex.add(BatchNormalization())\n",
    "model_complex.add(Activation('relu'))\n",
    "model_complex.add(MaxPooling2D(pool_size=(2,2)))\n",
    "model_complex.add(Dropout(0.2))\n",
    "\n",
    "model_complex.add(Conv2D(1024, 2, padding='same'))\n",
    "model_complex.add(BatchNormalization())\n",
    "model_complex.add(Activation('relu'))\n",
    "model_complex.add(MaxPooling2D(pool_size=(2,2)))\n",
    "model_complex.add(Dropout(0.2))\n",
    "\n",
    "model_complex.add(Flatten())\n",
    "\n",
    "model_complex.add(Dense(1024, activation='relu'))\n",
    "model_complex.add(BatchNormalization())\n",
    "model_complex.add(Dropout(0.2))\n",
    "\n",
    "# model_complex.add(Dense(512, activation='relu'))\n",
    "# model_complex.add(BatchNormalization())\n",
    "# model_complex.add(Dropout(0.2))\n",
    "\n",
    "# model_complex.add(Dense(512, activation='relu'))\n",
    "\n",
    "model_complex.add(Dense(2, activation='softmax'))\n"
   ]
  },
  {
   "cell_type": "code",
   "execution_count": 42,
   "metadata": {},
   "outputs": [
    {
     "name": "stdout",
     "output_type": "stream",
     "text": [
      "_________________________________________________________________\n",
      "Layer (type)                 Output Shape              Param #   \n",
      "=================================================================\n",
      "conv2d_3 (Conv2D)            (None, 50, 50, 128)       1664      \n",
      "_________________________________________________________________\n",
      "batch_normalization_1 (Batch (None, 50, 50, 128)       512       \n",
      "_________________________________________________________________\n",
      "activation_3 (Activation)    (None, 50, 50, 128)       0         \n",
      "_________________________________________________________________\n",
      "max_pooling2d_3 (MaxPooling2 (None, 25, 25, 128)       0         \n",
      "_________________________________________________________________\n",
      "dropout_1 (Dropout)          (None, 25, 25, 128)       0         \n",
      "_________________________________________________________________\n",
      "conv2d_4 (Conv2D)            (None, 25, 25, 256)       131328    \n",
      "_________________________________________________________________\n",
      "batch_normalization_2 (Batch (None, 25, 25, 256)       1024      \n",
      "_________________________________________________________________\n",
      "activation_4 (Activation)    (None, 25, 25, 256)       0         \n",
      "_________________________________________________________________\n",
      "max_pooling2d_4 (MaxPooling2 (None, 12, 12, 256)       0         \n",
      "_________________________________________________________________\n",
      "dropout_2 (Dropout)          (None, 12, 12, 256)       0         \n",
      "_________________________________________________________________\n",
      "conv2d_5 (Conv2D)            (None, 12, 12, 512)       524800    \n",
      "_________________________________________________________________\n",
      "batch_normalization_3 (Batch (None, 12, 12, 512)       2048      \n",
      "_________________________________________________________________\n",
      "activation_5 (Activation)    (None, 12, 12, 512)       0         \n",
      "_________________________________________________________________\n",
      "max_pooling2d_5 (MaxPooling2 (None, 6, 6, 512)         0         \n",
      "_________________________________________________________________\n",
      "dropout_3 (Dropout)          (None, 6, 6, 512)         0         \n",
      "_________________________________________________________________\n",
      "conv2d_6 (Conv2D)            (None, 6, 6, 1024)        2098176   \n",
      "_________________________________________________________________\n",
      "batch_normalization_4 (Batch (None, 6, 6, 1024)        4096      \n",
      "_________________________________________________________________\n",
      "activation_6 (Activation)    (None, 6, 6, 1024)        0         \n",
      "_________________________________________________________________\n",
      "max_pooling2d_6 (MaxPooling2 (None, 3, 3, 1024)        0         \n",
      "_________________________________________________________________\n",
      "dropout_4 (Dropout)          (None, 3, 3, 1024)        0         \n",
      "_________________________________________________________________\n",
      "flatten_2 (Flatten)          (None, 9216)              0         \n",
      "_________________________________________________________________\n",
      "dense_4 (Dense)              (None, 1024)              9438208   \n",
      "_________________________________________________________________\n",
      "batch_normalization_5 (Batch (None, 1024)              4096      \n",
      "_________________________________________________________________\n",
      "dropout_5 (Dropout)          (None, 1024)              0         \n",
      "_________________________________________________________________\n",
      "dense_5 (Dense)              (None, 2)                 2050      \n",
      "=================================================================\n",
      "Total params: 12,208,002\n",
      "Trainable params: 12,202,114\n",
      "Non-trainable params: 5,888\n",
      "_________________________________________________________________\n"
     ]
    }
   ],
   "source": [
    "\n",
    "model_complex.summary()\n"
   ]
  },
  {
   "cell_type": "code",
   "execution_count": 30,
   "metadata": {},
   "outputs": [],
   "source": [
    "\n",
    "optimizer = keras.optimizers.RMSprop(lr=0.00005)\n",
    "model_complex.compile(optimizer=optimizer, loss='categorical_crossentropy', metrics=['accuracy'])\n",
    "\n",
    "\n",
    "aug = ImageDataGenerator(rotation_range=20, zoom_range=0.15, width_shift_range=0.2, height_shift_range=0.2, shear_range=0.15, horizontal_flip=True, fill_mode=\"nearest\")\n",
    "\n",
    "weights_filepath = \"weights_better.hdf5\"\n",
    "checkpoint = ModelCheckpoint(weights_filepath, monitor = 'val_acc', verbose = 1, save_best_only = True, mode='max')\n",
    "callbacks_list = [checkpoint]\n"
   ]
  },
  {
   "cell_type": "code",
   "execution_count": 31,
   "metadata": {},
   "outputs": [
    {
     "name": "stdout",
     "output_type": "stream",
     "text": [
      "Epoch 1/100\n",
      "36/37 [============================>.] - ETA: 0s - loss: 0.9683 - acc: 0.5779Epoch 00001: val_acc improved from -inf to 0.50500, saving model to weights_better.hdf5\n",
      "37/37 [==============================] - 12s 330ms/step - loss: 0.9639 - acc: 0.5781 - val_loss: 0.6971 - val_acc: 0.5050\n",
      "Epoch 2/100\n",
      "36/37 [============================>.] - ETA: 0s - loss: 0.9168 - acc: 0.5846Epoch 00002: val_acc did not improve\n",
      "37/37 [==============================] - 7s 200ms/step - loss: 0.9142 - acc: 0.5859 - val_loss: 0.6948 - val_acc: 0.4967\n",
      "Epoch 3/100\n",
      "36/37 [============================>.] - ETA: 0s - loss: 0.8467 - acc: 0.6072Epoch 00003: val_acc did not improve\n",
      "37/37 [==============================] - 7s 199ms/step - loss: 0.8521 - acc: 0.6064 - val_loss: 0.6970 - val_acc: 0.4950\n",
      "Epoch 4/100\n",
      "36/37 [============================>.] - ETA: 0s - loss: 0.8306 - acc: 0.6092Epoch 00004: val_acc did not improve\n",
      "37/37 [==============================] - 7s 200ms/step - loss: 0.8273 - acc: 0.6111 - val_loss: 0.7053 - val_acc: 0.4950\n",
      "Epoch 5/100\n",
      "36/37 [============================>.] - ETA: 0s - loss: 0.7992 - acc: 0.6207Epoch 00005: val_acc improved from 0.50500 to 0.55000, saving model to weights_better.hdf5\n",
      "37/37 [==============================] - 8s 205ms/step - loss: 0.7999 - acc: 0.6208 - val_loss: 0.6900 - val_acc: 0.5500\n",
      "Epoch 6/100\n",
      "36/37 [============================>.] - ETA: 0s - loss: 0.8285 - acc: 0.6100Epoch 00006: val_acc did not improve\n",
      "37/37 [==============================] - 7s 203ms/step - loss: 0.8274 - acc: 0.6102 - val_loss: 0.6960 - val_acc: 0.4983\n",
      "Epoch 7/100\n",
      "36/37 [============================>.] - ETA: 0s - loss: 0.7996 - acc: 0.6191Epoch 00007: val_acc did not improve\n",
      "37/37 [==============================] - 7s 200ms/step - loss: 0.7980 - acc: 0.6189 - val_loss: 0.7774 - val_acc: 0.4950\n",
      "Epoch 8/100\n",
      "36/37 [============================>.] - ETA: 0s - loss: 0.7604 - acc: 0.6263Epoch 00008: val_acc improved from 0.55000 to 0.57333, saving model to weights_better.hdf5\n",
      "37/37 [==============================] - 8s 208ms/step - loss: 0.7593 - acc: 0.6271 - val_loss: 0.6801 - val_acc: 0.5733\n",
      "Epoch 9/100\n",
      "36/37 [============================>.] - ETA: 0s - loss: 0.7657 - acc: 0.6194Epoch 00009: val_acc did not improve\n",
      "37/37 [==============================] - 7s 199ms/step - loss: 0.7658 - acc: 0.6193 - val_loss: 0.6804 - val_acc: 0.5700\n",
      "Epoch 10/100\n",
      "36/37 [============================>.] - ETA: 0s - loss: 0.7731 - acc: 0.6124Epoch 00010: val_acc did not improve\n",
      "37/37 [==============================] - 7s 195ms/step - loss: 0.7723 - acc: 0.6129 - val_loss: 0.6985 - val_acc: 0.5300\n",
      "Epoch 11/100\n",
      "36/37 [============================>.] - ETA: 0s - loss: 0.7316 - acc: 0.6330Epoch 00011: val_acc did not improve\n",
      "37/37 [==============================] - 7s 194ms/step - loss: 0.7339 - acc: 0.6326 - val_loss: 0.6912 - val_acc: 0.5233\n",
      "Epoch 12/100\n",
      "36/37 [============================>.] - ETA: 0s - loss: 0.6928 - acc: 0.6539Epoch 00012: val_acc improved from 0.57333 to 0.58667, saving model to weights_better.hdf5\n",
      "37/37 [==============================] - 7s 199ms/step - loss: 0.6948 - acc: 0.6528 - val_loss: 0.6655 - val_acc: 0.5867\n",
      "Epoch 13/100\n",
      "36/37 [============================>.] - ETA: 0s - loss: 0.7077 - acc: 0.6421Epoch 00013: val_acc improved from 0.58667 to 0.59333, saving model to weights_better.hdf5\n",
      "37/37 [==============================] - 8s 203ms/step - loss: 0.7062 - acc: 0.6434 - val_loss: 0.6562 - val_acc: 0.5933\n",
      "Epoch 14/100\n",
      "36/37 [============================>.] - ETA: 0s - loss: 0.7044 - acc: 0.6452Epoch 00014: val_acc improved from 0.59333 to 0.60833, saving model to weights_better.hdf5\n",
      "37/37 [==============================] - 7s 198ms/step - loss: 0.7046 - acc: 0.6465 - val_loss: 0.6572 - val_acc: 0.6083\n",
      "Epoch 15/100\n",
      "36/37 [============================>.] - ETA: 0s - loss: 0.6838 - acc: 0.6526Epoch 00015: val_acc did not improve\n",
      "37/37 [==============================] - 7s 197ms/step - loss: 0.6856 - acc: 0.6520 - val_loss: 0.6598 - val_acc: 0.5917\n",
      "Epoch 16/100\n",
      "36/37 [============================>.] - ETA: 0s - loss: 0.6932 - acc: 0.6491Epoch 00016: val_acc improved from 0.60833 to 0.68500, saving model to weights_better.hdf5\n",
      "37/37 [==============================] - 8s 204ms/step - loss: 0.6955 - acc: 0.6495 - val_loss: 0.6081 - val_acc: 0.6850\n",
      "Epoch 17/100\n",
      "36/37 [============================>.] - ETA: 0s - loss: 0.6732 - acc: 0.6534Epoch 00017: val_acc did not improve\n",
      "37/37 [==============================] - 7s 197ms/step - loss: 0.6741 - acc: 0.6518 - val_loss: 0.6803 - val_acc: 0.6050\n",
      "Epoch 18/100\n",
      "36/37 [============================>.] - ETA: 0s - loss: 0.6692 - acc: 0.6582Epoch 00018: val_acc did not improve\n",
      "37/37 [==============================] - 7s 199ms/step - loss: 0.6693 - acc: 0.6573 - val_loss: 0.5997 - val_acc: 0.6817\n",
      "Epoch 19/100\n",
      "36/37 [============================>.] - ETA: 0s - loss: 0.6606 - acc: 0.6617Epoch 00019: val_acc improved from 0.68500 to 0.68500, saving model to weights_better.hdf5\n",
      "37/37 [==============================] - 8s 204ms/step - loss: 0.6630 - acc: 0.6615 - val_loss: 0.5932 - val_acc: 0.6850\n",
      "Epoch 20/100\n",
      "36/37 [============================>.] - ETA: 0s - loss: 0.6699 - acc: 0.6508Epoch 00020: val_acc did not improve\n",
      "37/37 [==============================] - 7s 192ms/step - loss: 0.6697 - acc: 0.6510 - val_loss: 0.5959 - val_acc: 0.6717\n",
      "Epoch 21/100\n",
      "36/37 [============================>.] - ETA: 0s - loss: 0.6517 - acc: 0.6625Epoch 00021: val_acc improved from 0.68500 to 0.70167, saving model to weights_better.hdf5\n",
      "37/37 [==============================] - 7s 202ms/step - loss: 0.6513 - acc: 0.6630 - val_loss: 0.5709 - val_acc: 0.7017\n",
      "Epoch 22/100\n",
      "36/37 [============================>.] - ETA: 0s - loss: 0.6543 - acc: 0.6695Epoch 00022: val_acc did not improve\n",
      "37/37 [==============================] - 7s 193ms/step - loss: 0.6551 - acc: 0.6702 - val_loss: 0.5873 - val_acc: 0.6833\n",
      "Epoch 23/100\n",
      "36/37 [============================>.] - ETA: 0s - loss: 0.6548 - acc: 0.6523Epoch 00023: val_acc did not improve\n",
      "37/37 [==============================] - 7s 193ms/step - loss: 0.6543 - acc: 0.6533 - val_loss: 0.6087 - val_acc: 0.6750\n",
      "Epoch 24/100\n",
      "36/37 [============================>.] - ETA: 0s - loss: 0.6646 - acc: 0.6615Epoch 00024: val_acc improved from 0.70167 to 0.72833, saving model to weights_better.hdf5\n",
      "37/37 [==============================] - 7s 198ms/step - loss: 0.6663 - acc: 0.6607 - val_loss: 0.5784 - val_acc: 0.7283\n",
      "Epoch 25/100\n",
      "36/37 [============================>.] - ETA: 0s - loss: 0.6547 - acc: 0.6571Epoch 00025: val_acc did not improve\n",
      "37/37 [==============================] - 7s 198ms/step - loss: 0.6538 - acc: 0.6577 - val_loss: 0.5507 - val_acc: 0.7017\n",
      "Epoch 26/100\n",
      "36/37 [============================>.] - ETA: 0s - loss: 0.6329 - acc: 0.6777Epoch 00026: val_acc did not improve\n",
      "37/37 [==============================] - 7s 196ms/step - loss: 0.6323 - acc: 0.6788 - val_loss: 0.5714 - val_acc: 0.7067\n",
      "Epoch 27/100\n",
      "36/37 [============================>.] - ETA: 0s - loss: 0.6512 - acc: 0.6695Epoch 00027: val_acc did not improve\n",
      "37/37 [==============================] - 7s 195ms/step - loss: 0.6479 - acc: 0.6717 - val_loss: 0.5751 - val_acc: 0.7017\n",
      "Epoch 28/100\n",
      "36/37 [============================>.] - ETA: 0s - loss: 0.6428 - acc: 0.6725Epoch 00028: val_acc did not improve\n",
      "37/37 [==============================] - 7s 191ms/step - loss: 0.6435 - acc: 0.6729 - val_loss: 0.5381 - val_acc: 0.7133\n",
      "Epoch 29/100\n",
      "36/37 [============================>.] - ETA: 0s - loss: 0.6239 - acc: 0.6806Epoch 00029: val_acc did not improve\n",
      "37/37 [==============================] - 7s 196ms/step - loss: 0.6237 - acc: 0.6812 - val_loss: 0.5801 - val_acc: 0.6983\n",
      "Epoch 30/100\n",
      "36/37 [============================>.] - ETA: 0s - loss: 0.6273 - acc: 0.6764Epoch 00030: val_acc did not improve\n",
      "37/37 [==============================] - 7s 194ms/step - loss: 0.6258 - acc: 0.6776 - val_loss: 0.5793 - val_acc: 0.6800\n",
      "Epoch 31/100\n",
      "36/37 [============================>.] - ETA: 0s - loss: 0.6118 - acc: 0.6949Epoch 00031: val_acc did not improve\n",
      "37/37 [==============================] - 7s 194ms/step - loss: 0.6097 - acc: 0.6968 - val_loss: 0.5443 - val_acc: 0.7167\n"
     ]
    },
    {
     "name": "stdout",
     "output_type": "stream",
     "text": [
      "Epoch 32/100\n",
      "36/37 [============================>.] - ETA: 0s - loss: 0.6212 - acc: 0.6899Epoch 00032: val_acc improved from 0.72833 to 0.74333, saving model to weights_better.hdf5\n",
      "37/37 [==============================] - 8s 204ms/step - loss: 0.6254 - acc: 0.6869 - val_loss: 0.5350 - val_acc: 0.7433\n",
      "Epoch 33/100\n",
      "36/37 [============================>.] - ETA: 0s - loss: 0.6128 - acc: 0.6875Epoch 00033: val_acc did not improve\n",
      "37/37 [==============================] - 7s 196ms/step - loss: 0.6119 - acc: 0.6875 - val_loss: 0.5485 - val_acc: 0.7283\n",
      "Epoch 34/100\n",
      "36/37 [============================>.] - ETA: 0s - loss: 0.6134 - acc: 0.6886Epoch 00034: val_acc did not improve\n",
      "37/37 [==============================] - 7s 193ms/step - loss: 0.6110 - acc: 0.6909 - val_loss: 0.5293 - val_acc: 0.7283\n",
      "Epoch 35/100\n",
      "36/37 [============================>.] - ETA: 0s - loss: 0.6119 - acc: 0.6927Epoch 00035: val_acc improved from 0.74333 to 0.74833, saving model to weights_better.hdf5\n",
      "37/37 [==============================] - 7s 199ms/step - loss: 0.6110 - acc: 0.6934 - val_loss: 0.5130 - val_acc: 0.7483\n",
      "Epoch 36/100\n",
      "36/37 [============================>.] - ETA: 0s - loss: 0.6095 - acc: 0.6853Epoch 00036: val_acc did not improve\n",
      "37/37 [==============================] - 7s 196ms/step - loss: 0.6097 - acc: 0.6845 - val_loss: 0.5285 - val_acc: 0.7233\n",
      "Epoch 37/100\n",
      "36/37 [============================>.] - ETA: 0s - loss: 0.6151 - acc: 0.6931Epoch 00037: val_acc did not improve\n",
      "37/37 [==============================] - 7s 196ms/step - loss: 0.6153 - acc: 0.6928 - val_loss: 0.5201 - val_acc: 0.7417\n",
      "Epoch 38/100\n",
      "36/37 [============================>.] - ETA: 0s - loss: 0.6150 - acc: 0.6908Epoch 00038: val_acc did not improve\n",
      "37/37 [==============================] - 7s 197ms/step - loss: 0.6133 - acc: 0.6907 - val_loss: 0.5193 - val_acc: 0.7483\n",
      "Epoch 39/100\n",
      "36/37 [============================>.] - ETA: 0s - loss: 0.5993 - acc: 0.7012Epoch 00039: val_acc did not improve\n",
      "37/37 [==============================] - 7s 196ms/step - loss: 0.5968 - acc: 0.7021 - val_loss: 0.5243 - val_acc: 0.7350\n",
      "Epoch 40/100\n",
      "36/37 [============================>.] - ETA: 0s - loss: 0.5897 - acc: 0.7025Epoch 00040: val_acc did not improve\n",
      "37/37 [==============================] - 7s 196ms/step - loss: 0.5942 - acc: 0.6995 - val_loss: 0.5089 - val_acc: 0.7450\n",
      "Epoch 41/100\n",
      "36/37 [============================>.] - ETA: 0s - loss: 0.5978 - acc: 0.6951Epoch 00041: val_acc did not improve\n",
      "37/37 [==============================] - 7s 197ms/step - loss: 0.5999 - acc: 0.6953 - val_loss: 0.5672 - val_acc: 0.6883\n",
      "Epoch 42/100\n",
      "36/37 [============================>.] - ETA: 0s - loss: 0.5753 - acc: 0.7051Epoch 00042: val_acc improved from 0.74833 to 0.76333, saving model to weights_better.hdf5\n",
      "37/37 [==============================] - 7s 199ms/step - loss: 0.5762 - acc: 0.7053 - val_loss: 0.5043 - val_acc: 0.7633\n",
      "Epoch 43/100\n",
      "36/37 [============================>.] - ETA: 0s - loss: 0.5891 - acc: 0.7007Epoch 00043: val_acc did not improve\n",
      "37/37 [==============================] - 7s 196ms/step - loss: 0.5883 - acc: 0.7021 - val_loss: 0.5236 - val_acc: 0.7367\n",
      "Epoch 44/100\n",
      "36/37 [============================>.] - ETA: 0s - loss: 0.5939 - acc: 0.7088Epoch 00044: val_acc improved from 0.76333 to 0.77167, saving model to weights_better.hdf5\n",
      "37/37 [==============================] - 7s 201ms/step - loss: 0.5976 - acc: 0.7057 - val_loss: 0.5126 - val_acc: 0.7717\n",
      "Epoch 45/100\n",
      "36/37 [============================>.] - ETA: 0s - loss: 0.5962 - acc: 0.7033Epoch 00045: val_acc did not improve\n",
      "37/37 [==============================] - 7s 195ms/step - loss: 0.5971 - acc: 0.7027 - val_loss: 0.5064 - val_acc: 0.7450\n",
      "Epoch 46/100\n",
      "36/37 [============================>.] - ETA: 0s - loss: 0.5737 - acc: 0.7118Epoch 00046: val_acc did not improve\n",
      "37/37 [==============================] - 7s 195ms/step - loss: 0.5739 - acc: 0.7116 - val_loss: 0.5034 - val_acc: 0.7600\n",
      "Epoch 47/100\n",
      "36/37 [============================>.] - ETA: 0s - loss: 0.5711 - acc: 0.7138Epoch 00047: val_acc did not improve\n",
      "37/37 [==============================] - 7s 196ms/step - loss: 0.5737 - acc: 0.7122 - val_loss: 0.5364 - val_acc: 0.7333\n",
      "Epoch 48/100\n",
      "36/37 [============================>.] - ETA: 0s - loss: 0.5657 - acc: 0.7109Epoch 00048: val_acc did not improve\n",
      "37/37 [==============================] - 7s 197ms/step - loss: 0.5661 - acc: 0.7099 - val_loss: 0.5236 - val_acc: 0.7500\n",
      "Epoch 49/100\n",
      "36/37 [============================>.] - ETA: 0s - loss: 0.5593 - acc: 0.7272Epoch 00049: val_acc did not improve\n",
      "37/37 [==============================] - 7s 192ms/step - loss: 0.5588 - acc: 0.7276 - val_loss: 0.5823 - val_acc: 0.6983\n",
      "Epoch 50/100\n",
      "36/37 [============================>.] - ETA: 0s - loss: 0.5555 - acc: 0.7292Epoch 00050: val_acc did not improve\n",
      "37/37 [==============================] - 7s 197ms/step - loss: 0.5549 - acc: 0.7302 - val_loss: 0.5414 - val_acc: 0.7383\n",
      "Epoch 51/100\n",
      "36/37 [============================>.] - ETA: 0s - loss: 0.5697 - acc: 0.7120Epoch 00051: val_acc did not improve\n",
      "37/37 [==============================] - 7s 197ms/step - loss: 0.5690 - acc: 0.7126 - val_loss: 0.5822 - val_acc: 0.7100\n",
      "Epoch 52/100\n",
      "36/37 [============================>.] - ETA: 0s - loss: 0.5666 - acc: 0.7198Epoch 00052: val_acc did not improve\n",
      "37/37 [==============================] - 7s 199ms/step - loss: 0.5680 - acc: 0.7194 - val_loss: 0.5568 - val_acc: 0.7283\n",
      "Epoch 53/100\n",
      "36/37 [============================>.] - ETA: 0s - loss: 0.5582 - acc: 0.7270Epoch 00053: val_acc did not improve\n",
      "37/37 [==============================] - 7s 197ms/step - loss: 0.5613 - acc: 0.7249 - val_loss: 0.5106 - val_acc: 0.7450\n",
      "Epoch 54/100\n",
      "36/37 [============================>.] - ETA: 0s - loss: 0.5398 - acc: 0.7363Epoch 00054: val_acc did not improve\n",
      "37/37 [==============================] - 7s 195ms/step - loss: 0.5407 - acc: 0.7362 - val_loss: 0.5012 - val_acc: 0.7533\n",
      "Epoch 55/100\n",
      "36/37 [============================>.] - ETA: 0s - loss: 0.5509 - acc: 0.7270Epoch 00055: val_acc did not improve\n",
      "37/37 [==============================] - 7s 202ms/step - loss: 0.5523 - acc: 0.7261 - val_loss: 0.5051 - val_acc: 0.7700\n",
      "Epoch 56/100\n",
      "36/37 [============================>.] - ETA: 0s - loss: 0.5412 - acc: 0.7344Epoch 00056: val_acc improved from 0.77167 to 0.77500, saving model to weights_better.hdf5\n",
      "37/37 [==============================] - 7s 200ms/step - loss: 0.5418 - acc: 0.7335 - val_loss: 0.4843 - val_acc: 0.7750\n",
      "Epoch 57/100\n",
      "36/37 [============================>.] - ETA: 0s - loss: 0.5577 - acc: 0.7300Epoch 00057: val_acc improved from 0.77500 to 0.77667, saving model to weights_better.hdf5\n",
      "37/37 [==============================] - 8s 204ms/step - loss: 0.5556 - acc: 0.7314 - val_loss: 0.4795 - val_acc: 0.7767\n",
      "Epoch 58/100\n",
      "36/37 [============================>.] - ETA: 0s - loss: 0.5468 - acc: 0.7172Epoch 00058: val_acc did not improve\n",
      "37/37 [==============================] - 7s 196ms/step - loss: 0.5481 - acc: 0.7169 - val_loss: 0.4995 - val_acc: 0.7600\n",
      "Epoch 59/100\n",
      "36/37 [============================>.] - ETA: 0s - loss: 0.5442 - acc: 0.7346Epoch 00059: val_acc did not improve\n",
      "37/37 [==============================] - 7s 200ms/step - loss: 0.5411 - acc: 0.7375 - val_loss: 0.4968 - val_acc: 0.7700\n",
      "Epoch 60/100\n",
      "36/37 [============================>.] - ETA: 0s - loss: 0.5471 - acc: 0.7292Epoch 00060: val_acc did not improve\n",
      "37/37 [==============================] - 7s 198ms/step - loss: 0.5454 - acc: 0.7293 - val_loss: 0.5286 - val_acc: 0.7600\n",
      "Epoch 61/100\n",
      "36/37 [============================>.] - ETA: 0s - loss: 0.5391 - acc: 0.7407Epoch 00061: val_acc improved from 0.77667 to 0.77833, saving model to weights_better.hdf5\n",
      "37/37 [==============================] - 7s 201ms/step - loss: 0.5370 - acc: 0.7414 - val_loss: 0.4953 - val_acc: 0.7783\n",
      "Epoch 62/100\n",
      "36/37 [============================>.] - ETA: 0s - loss: 0.5357 - acc: 0.7355Epoch 00062: val_acc did not improve\n",
      "37/37 [==============================] - 7s 198ms/step - loss: 0.5360 - acc: 0.7354 - val_loss: 0.4898 - val_acc: 0.7750\n",
      "Epoch 63/100\n",
      "36/37 [============================>.] - ETA: 0s - loss: 0.5523 - acc: 0.7342Epoch 00063: val_acc did not improve\n",
      "37/37 [==============================] - 7s 197ms/step - loss: 0.5503 - acc: 0.7348 - val_loss: 0.4906 - val_acc: 0.7750\n"
     ]
    },
    {
     "name": "stdout",
     "output_type": "stream",
     "text": [
      "Epoch 64/100\n",
      "36/37 [============================>.] - ETA: 0s - loss: 0.5409 - acc: 0.7320Epoch 00064: val_acc did not improve\n",
      "37/37 [==============================] - 7s 194ms/step - loss: 0.5402 - acc: 0.7316 - val_loss: 0.5824 - val_acc: 0.7117\n",
      "Epoch 65/100\n",
      "36/37 [============================>.] - ETA: 0s - loss: 0.5340 - acc: 0.7422Epoch 00065: val_acc did not improve\n",
      "37/37 [==============================] - 7s 199ms/step - loss: 0.5344 - acc: 0.7411 - val_loss: 0.5383 - val_acc: 0.7433\n",
      "Epoch 66/100\n",
      "36/37 [============================>.] - ETA: 0s - loss: 0.5343 - acc: 0.7415Epoch 00066: val_acc did not improve\n",
      "37/37 [==============================] - 8s 211ms/step - loss: 0.5335 - acc: 0.7410 - val_loss: 0.5538 - val_acc: 0.7317\n",
      "Epoch 67/100\n",
      "36/37 [============================>.] - ETA: 0s - loss: 0.5279 - acc: 0.7470Epoch 00067: val_acc did not improve\n",
      "37/37 [==============================] - 8s 206ms/step - loss: 0.5276 - acc: 0.7453 - val_loss: 0.5770 - val_acc: 0.7267\n",
      "Epoch 68/100\n",
      "36/37 [============================>.] - ETA: 0s - loss: 0.5287 - acc: 0.7428Epoch 00068: val_acc did not improve\n",
      "37/37 [==============================] - 7s 198ms/step - loss: 0.5259 - acc: 0.7434 - val_loss: 0.5244 - val_acc: 0.7583\n",
      "Epoch 69/100\n",
      "36/37 [============================>.] - ETA: 0s - loss: 0.5191 - acc: 0.7476Epoch 00069: val_acc did not improve\n",
      "37/37 [==============================] - 7s 199ms/step - loss: 0.5192 - acc: 0.7475 - val_loss: 0.5737 - val_acc: 0.7200\n",
      "Epoch 70/100\n",
      "36/37 [============================>.] - ETA: 0s - loss: 0.5295 - acc: 0.7400Epoch 00070: val_acc did not improve\n",
      "37/37 [==============================] - 7s 198ms/step - loss: 0.5288 - acc: 0.7414 - val_loss: 0.5185 - val_acc: 0.7433\n",
      "Epoch 71/100\n",
      "36/37 [============================>.] - ETA: 0s - loss: 0.5191 - acc: 0.7472Epoch 00071: val_acc improved from 0.77833 to 0.78333, saving model to weights_better.hdf5\n",
      "37/37 [==============================] - 8s 204ms/step - loss: 0.5175 - acc: 0.7483 - val_loss: 0.4908 - val_acc: 0.7833\n",
      "Epoch 72/100\n",
      "36/37 [============================>.] - ETA: 0s - loss: 0.5208 - acc: 0.7463Epoch 00072: val_acc did not improve\n",
      "37/37 [==============================] - 7s 197ms/step - loss: 0.5205 - acc: 0.7469 - val_loss: 0.5007 - val_acc: 0.7583\n",
      "Epoch 73/100\n",
      "36/37 [============================>.] - ETA: 0s - loss: 0.5353 - acc: 0.7411Epoch 00073: val_acc did not improve\n",
      "37/37 [==============================] - 7s 197ms/step - loss: 0.5338 - acc: 0.7422 - val_loss: 0.5223 - val_acc: 0.7500\n",
      "Epoch 74/100\n",
      "36/37 [============================>.] - ETA: 0s - loss: 0.5146 - acc: 0.7552Epoch 00074: val_acc did not improve\n",
      "37/37 [==============================] - 7s 198ms/step - loss: 0.5168 - acc: 0.7536 - val_loss: 0.5397 - val_acc: 0.7400\n",
      "Epoch 75/100\n",
      "36/37 [============================>.] - ETA: 0s - loss: 0.5183 - acc: 0.7517Epoch 00075: val_acc did not improve\n",
      "37/37 [==============================] - 7s 198ms/step - loss: 0.5194 - acc: 0.7508 - val_loss: 0.4775 - val_acc: 0.7767\n",
      "Epoch 76/100\n",
      "36/37 [============================>.] - ETA: 0s - loss: 0.5218 - acc: 0.7433Epoch 00076: val_acc did not improve\n",
      "37/37 [==============================] - 7s 198ms/step - loss: 0.5202 - acc: 0.7437 - val_loss: 0.5586 - val_acc: 0.7133\n",
      "Epoch 77/100\n",
      "36/37 [============================>.] - ETA: 0s - loss: 0.4971 - acc: 0.7635Epoch 00077: val_acc did not improve\n",
      "37/37 [==============================] - 7s 198ms/step - loss: 0.4969 - acc: 0.7637 - val_loss: 0.6072 - val_acc: 0.7083\n",
      "Epoch 78/100\n",
      "36/37 [============================>.] - ETA: 0s - loss: 0.5040 - acc: 0.7593Epoch 00078: val_acc did not improve\n",
      "37/37 [==============================] - 7s 197ms/step - loss: 0.5050 - acc: 0.7582 - val_loss: 0.5587 - val_acc: 0.7233\n",
      "Epoch 79/100\n",
      "36/37 [============================>.] - ETA: 0s - loss: 0.5172 - acc: 0.7489Epoch 00079: val_acc did not improve\n",
      "37/37 [==============================] - 7s 195ms/step - loss: 0.5172 - acc: 0.7498 - val_loss: 0.5870 - val_acc: 0.7117\n",
      "Epoch 80/100\n",
      "36/37 [============================>.] - ETA: 0s - loss: 0.4956 - acc: 0.7606Epoch 00080: val_acc improved from 0.78333 to 0.79500, saving model to weights_better.hdf5\n",
      "37/37 [==============================] - 8s 215ms/step - loss: 0.4938 - acc: 0.7612 - val_loss: 0.4617 - val_acc: 0.7950\n",
      "Epoch 81/100\n",
      "36/37 [============================>.] - ETA: 0s - loss: 0.5103 - acc: 0.7509Epoch 00081: val_acc improved from 0.79500 to 0.79833, saving model to weights_better.hdf5\n",
      "37/37 [==============================] - 8s 205ms/step - loss: 0.5138 - acc: 0.7487 - val_loss: 0.4804 - val_acc: 0.7983\n",
      "Epoch 82/100\n",
      "36/37 [============================>.] - ETA: 0s - loss: 0.4967 - acc: 0.7676Epoch 00082: val_acc did not improve\n",
      "37/37 [==============================] - 7s 200ms/step - loss: 0.4978 - acc: 0.7660 - val_loss: 0.4673 - val_acc: 0.7917\n",
      "Epoch 83/100\n",
      "36/37 [============================>.] - ETA: 0s - loss: 0.4885 - acc: 0.7689Epoch 00083: val_acc did not improve\n",
      "37/37 [==============================] - 7s 197ms/step - loss: 0.4890 - acc: 0.7682 - val_loss: 0.5335 - val_acc: 0.7367\n",
      "Epoch 84/100\n",
      "36/37 [============================>.] - ETA: 0s - loss: 0.5040 - acc: 0.7554Epoch 00084: val_acc did not improve\n",
      "37/37 [==============================] - 7s 198ms/step - loss: 0.5038 - acc: 0.7551 - val_loss: 0.4590 - val_acc: 0.7967\n",
      "Epoch 85/100\n",
      "36/37 [============================>.] - ETA: 0s - loss: 0.4992 - acc: 0.7552Epoch 00085: val_acc did not improve\n",
      "37/37 [==============================] - 7s 199ms/step - loss: 0.5026 - acc: 0.7534 - val_loss: 0.4905 - val_acc: 0.7750\n",
      "Epoch 86/100\n",
      "36/37 [============================>.] - ETA: 0s - loss: 0.4940 - acc: 0.7626Epoch 00086: val_acc did not improve\n",
      "37/37 [==============================] - 7s 197ms/step - loss: 0.4925 - acc: 0.7637 - val_loss: 0.4868 - val_acc: 0.7867\n",
      "Epoch 87/100\n",
      "36/37 [============================>.] - ETA: 0s - loss: 0.4971 - acc: 0.7656Epoch 00087: val_acc did not improve\n",
      "37/37 [==============================] - 7s 194ms/step - loss: 0.4976 - acc: 0.7656 - val_loss: 0.5994 - val_acc: 0.7117\n",
      "Epoch 88/100\n",
      "36/37 [============================>.] - ETA: 0s - loss: 0.4745 - acc: 0.7715Epoch 00088: val_acc did not improve\n",
      "37/37 [==============================] - 7s 196ms/step - loss: 0.4741 - acc: 0.7730 - val_loss: 0.5981 - val_acc: 0.7167\n",
      "Epoch 89/100\n",
      "36/37 [============================>.] - ETA: 0s - loss: 0.4932 - acc: 0.7593Epoch 00089: val_acc did not improve\n",
      "37/37 [==============================] - 7s 196ms/step - loss: 0.4948 - acc: 0.7587 - val_loss: 0.4751 - val_acc: 0.7833\n",
      "Epoch 90/100\n",
      "36/37 [============================>.] - ETA: 0s - loss: 0.5065 - acc: 0.7619Epoch 00090: val_acc did not improve\n",
      "37/37 [==============================] - 7s 196ms/step - loss: 0.5055 - acc: 0.7614 - val_loss: 0.4896 - val_acc: 0.7800\n",
      "Epoch 91/100\n",
      "36/37 [============================>.] - ETA: 0s - loss: 0.4938 - acc: 0.7593Epoch 00091: val_acc did not improve\n",
      "37/37 [==============================] - 7s 199ms/step - loss: 0.4918 - acc: 0.7603 - val_loss: 0.5421 - val_acc: 0.7467\n",
      "Epoch 92/100\n",
      "36/37 [============================>.] - ETA: 0s - loss: 0.4960 - acc: 0.7650Epoch 00092: val_acc did not improve\n",
      "37/37 [==============================] - 7s 194ms/step - loss: 0.4951 - acc: 0.7650 - val_loss: 0.5369 - val_acc: 0.7517\n",
      "Epoch 93/100\n",
      "36/37 [============================>.] - ETA: 0s - loss: 0.4796 - acc: 0.7695Epoch 00093: val_acc did not improve\n",
      "37/37 [==============================] - 7s 196ms/step - loss: 0.4802 - acc: 0.7679 - val_loss: 0.5134 - val_acc: 0.7767\n",
      "Epoch 94/100\n",
      "36/37 [============================>.] - ETA: 0s - loss: 0.4753 - acc: 0.7667Epoch 00094: val_acc did not improve\n",
      "37/37 [==============================] - 7s 196ms/step - loss: 0.4777 - acc: 0.7650 - val_loss: 0.4823 - val_acc: 0.7850\n",
      "Epoch 95/100\n",
      "36/37 [============================>.] - ETA: 0s - loss: 0.4929 - acc: 0.7689Epoch 00095: val_acc did not improve\n",
      "37/37 [==============================] - 7s 199ms/step - loss: 0.4961 - acc: 0.7669 - val_loss: 0.4724 - val_acc: 0.7867\n",
      "Epoch 96/100\n",
      "36/37 [============================>.] - ETA: 0s - loss: 0.4814 - acc: 0.7656Epoch 00096: val_acc did not improve\n",
      "37/37 [==============================] - 7s 194ms/step - loss: 0.4835 - acc: 0.7659 - val_loss: 0.5251 - val_acc: 0.7667\n"
     ]
    },
    {
     "name": "stdout",
     "output_type": "stream",
     "text": [
      "Epoch 97/100\n",
      "36/37 [============================>.] - ETA: 0s - loss: 0.4794 - acc: 0.7734Epoch 00097: val_acc did not improve\n",
      "37/37 [==============================] - 7s 196ms/step - loss: 0.4788 - acc: 0.7736 - val_loss: 0.5283 - val_acc: 0.7667\n",
      "Epoch 98/100\n",
      "36/37 [============================>.] - ETA: 0s - loss: 0.4870 - acc: 0.7667Epoch 00098: val_acc did not improve\n",
      "37/37 [==============================] - 7s 197ms/step - loss: 0.4856 - acc: 0.7688 - val_loss: 0.4724 - val_acc: 0.7833\n",
      "Epoch 99/100\n",
      "36/37 [============================>.] - ETA: 0s - loss: 0.4726 - acc: 0.7782Epoch 00099: val_acc improved from 0.79833 to 0.80833, saving model to weights_better.hdf5\n",
      "37/37 [==============================] - 8s 205ms/step - loss: 0.4692 - acc: 0.7800 - val_loss: 0.4403 - val_acc: 0.8083\n",
      "Epoch 100/100\n",
      "36/37 [============================>.] - ETA: 0s - loss: 0.4771 - acc: 0.7782Epoch 00100: val_acc did not improve\n",
      "37/37 [==============================] - 7s 195ms/step - loss: 0.4778 - acc: 0.7781 - val_loss: 0.4636 - val_acc: 0.7900\n"
     ]
    }
   ],
   "source": [
    "\n",
    "# history_complex = model_complex.fit(x_train, y_train, batch_size=batch_size, epochs=epochs,validation_data=(x_test, y_test), verbose=1)\n",
    "\n",
    "epoch_complex = 100\n",
    "\n",
    "history_complex = model_complex.fit_generator(aug.flow(x_train, y_train, batch_size=batch_size), validation_data=(x_test, y_test), callbacks=callbacks_list, steps_per_epoch=len(x_train) // batch_size, epochs=epoch_complex)\n"
   ]
  },
  {
   "cell_type": "code",
   "execution_count": 32,
   "metadata": {},
   "outputs": [
    {
     "name": "stdout",
     "output_type": "stream",
     "text": [
      "600/600 [==============================] - 0s 742us/step\n",
      "Test loss: 0.42267305850982667\n",
      "Test accuracy: 0.8066666674613953\n"
     ]
    }
   ],
   "source": [
    "\n",
    "score_complex = model_complex.evaluate(x_val, y_val, verbose=1)\n",
    "print('Test loss:', score_complex[0])\n",
    "print('Test accuracy:', score_complex[1])\n"
   ]
  },
  {
   "cell_type": "code",
   "execution_count": 33,
   "metadata": {},
   "outputs": [],
   "source": [
    "\n",
    "model_complex_predictions = model_complex.predict(x_val)\n"
   ]
  },
  {
   "cell_type": "markdown",
   "metadata": {},
   "source": [
    "### Exercise 5\n",
    "\n",
    "Apply the trained model on the testing set and output the classification results."
   ]
  },
  {
   "cell_type": "code",
   "execution_count": 34,
   "metadata": {},
   "outputs": [
    {
     "name": "stdout",
     "output_type": "stream",
     "text": [
      "Classification report for the complex CNN:\n",
      "             precision    recall  f1-score   support\n",
      "\n",
      "          0       0.86      0.74      0.79       303\n",
      "          1       0.77      0.88      0.82       297\n",
      "\n",
      "avg / total       0.81      0.81      0.81       600\n",
      "\n"
     ]
    }
   ],
   "source": [
    "\n",
    "print(\"Classification report for the complex CNN:\")\n",
    "print(classification_report(y_val.argmax(axis=1), model_complex_predictions.argmax(axis=1)))\n"
   ]
  },
  {
   "cell_type": "code",
   "execution_count": 35,
   "metadata": {},
   "outputs": [
    {
     "name": "stdout",
     "output_type": "stream",
     "text": [
      "Confusion matrix for the complex CNN:\n",
      "[[223  80]\n",
      " [ 36 261]]\n"
     ]
    }
   ],
   "source": [
    "\n",
    "print(\"Confusion matrix for the complex CNN:\")\n",
    "print(confusion_matrix(y_val.argmax(axis=1), model_complex_predictions.argmax(axis=1)))\n"
   ]
  },
  {
   "cell_type": "code",
   "execution_count": 36,
   "metadata": {},
   "outputs": [
    {
     "data": {
      "image/png": "[encoded data removed]",
      "text/plain": [
       "<matplotlib.figure.Figure at 0x142cb7517b8>"
      ]
     },
     "metadata": {},
     "output_type": "display_data"
    }
   ],
   "source": [
    "\n",
    "plot_train_val_acc_curve(history_complex)\n"
   ]
  },
  {
   "cell_type": "code",
   "execution_count": 37,
   "metadata": {},
   "outputs": [
    {
     "data": {
      "image/png": "[encoded data removed]",
      "text/plain": [
       "<matplotlib.figure.Figure at 0x142cb7516a0>"
      ]
     },
     "metadata": {},
     "output_type": "display_data"
    }
   ],
   "source": [
    "\n",
    "plot_train_val_loss_curve(history_complex)\n"
   ]
  },
  {
   "cell_type": "code",
   "execution_count": 40,
   "metadata": {},
   "outputs": [
    {
     "name": "stdout",
     "output_type": "stream",
     "text": [
      "Axes(0.547727,0.125;0.352273x0.755)\n"
     ]
    },
    {
     "data": {
      "image/png": "[encoded data removed]",
      "text/plain": [
       "<matplotlib.figure.Figure at 0x144912e60f0>"
      ]
     },
     "metadata": {},
     "output_type": "display_data"
    }
   ],
   "source": [
    "\n",
    "print(plot_precision_recall_curve(first_arg(y_val), first_arg(model_complex_predictions), \"Keras Complex CNN\"))\n"
   ]
  },
  {
   "cell_type": "markdown",
   "metadata": {},
   "source": [
    "### Exercise 6 \n",
    "\n",
    "Plot the saliency map of original image to see which part is important for making classification decisions. You can refer to the following blog article on how to generate visualisation results of the filters in the ConvNets.\n",
    "https://blog.keras.io/how-convolutional-neural-networks-see-the-world.html"
   ]
  },
  {
   "cell_type": "code",
   "execution_count": 41,
   "metadata": {},
   "outputs": [],
   "source": [
    "\n",
    "# Add your code here\n",
    "from keras import applications\n",
    "\n",
    "# get the symbolic outputs of each \"key\" layer (we gave them unique names).\n",
    "layer_dict = dict([(layer.name, layer) for layer in model_complex.layers])\n"
   ]
  },
  {
   "cell_type": "code",
   "execution_count": 48,
   "metadata": {},
   "outputs": [
    {
     "ename": "ValueError",
     "evalue": "Tried to convert 'x' to a tensor and failed. Error: None values not supported.",
     "output_type": "error",
     "traceback": [
      "\u001b[1;31m---------------------------------------------------------------------------\u001b[0m",
      "\u001b[1;31mValueError\u001b[0m                                Traceback (most recent call last)",
      "\u001b[1;32mD:\\Applications\\Python3\\lib\\site-packages\\tensorflow\\python\\framework\\op_def_library.py\u001b[0m in \u001b[0;36m_apply_op_helper\u001b[1;34m(self, op_type_name, name, **keywords)\u001b[0m\n\u001b[0;32m    509\u001b[0m                 \u001b[0mas_ref\u001b[0m\u001b[1;33m=\u001b[0m\u001b[0minput_arg\u001b[0m\u001b[1;33m.\u001b[0m\u001b[0mis_ref\u001b[0m\u001b[1;33m,\u001b[0m\u001b[1;33m\u001b[0m\u001b[0m\n\u001b[1;32m--> 510\u001b[1;33m                 preferred_dtype=default_dtype)\n\u001b[0m\u001b[0;32m    511\u001b[0m           \u001b[1;32mexcept\u001b[0m \u001b[0mTypeError\u001b[0m \u001b[1;32mas\u001b[0m \u001b[0merr\u001b[0m\u001b[1;33m:\u001b[0m\u001b[1;33m\u001b[0m\u001b[0m\n",
      "\u001b[1;32mD:\\Applications\\Python3\\lib\\site-packages\\tensorflow\\python\\framework\\ops.py\u001b[0m in \u001b[0;36minternal_convert_to_tensor\u001b[1;34m(value, dtype, name, as_ref, preferred_dtype, ctx)\u001b[0m\n\u001b[0;32m   1093\u001b[0m     \u001b[1;32mif\u001b[0m \u001b[0mret\u001b[0m \u001b[1;32mis\u001b[0m \u001b[1;32mNone\u001b[0m\u001b[1;33m:\u001b[0m\u001b[1;33m\u001b[0m\u001b[0m\n\u001b[1;32m-> 1094\u001b[1;33m       \u001b[0mret\u001b[0m \u001b[1;33m=\u001b[0m \u001b[0mconversion_func\u001b[0m\u001b[1;33m(\u001b[0m\u001b[0mvalue\u001b[0m\u001b[1;33m,\u001b[0m \u001b[0mdtype\u001b[0m\u001b[1;33m=\u001b[0m\u001b[0mdtype\u001b[0m\u001b[1;33m,\u001b[0m \u001b[0mname\u001b[0m\u001b[1;33m=\u001b[0m\u001b[0mname\u001b[0m\u001b[1;33m,\u001b[0m \u001b[0mas_ref\u001b[0m\u001b[1;33m=\u001b[0m\u001b[0mas_ref\u001b[0m\u001b[1;33m)\u001b[0m\u001b[1;33m\u001b[0m\u001b[0m\n\u001b[0m\u001b[0;32m   1095\u001b[0m \u001b[1;33m\u001b[0m\u001b[0m\n",
      "\u001b[1;32mD:\\Applications\\Python3\\lib\\site-packages\\tensorflow\\python\\framework\\constant_op.py\u001b[0m in \u001b[0;36m_constant_tensor_conversion_function\u001b[1;34m(v, dtype, name, as_ref)\u001b[0m\n\u001b[0;32m    216\u001b[0m   \u001b[0m_\u001b[0m \u001b[1;33m=\u001b[0m \u001b[0mas_ref\u001b[0m\u001b[1;33m\u001b[0m\u001b[0m\n\u001b[1;32m--> 217\u001b[1;33m   \u001b[1;32mreturn\u001b[0m \u001b[0mconstant\u001b[0m\u001b[1;33m(\u001b[0m\u001b[0mv\u001b[0m\u001b[1;33m,\u001b[0m \u001b[0mdtype\u001b[0m\u001b[1;33m=\u001b[0m\u001b[0mdtype\u001b[0m\u001b[1;33m,\u001b[0m \u001b[0mname\u001b[0m\u001b[1;33m=\u001b[0m\u001b[0mname\u001b[0m\u001b[1;33m)\u001b[0m\u001b[1;33m\u001b[0m\u001b[0m\n\u001b[0m\u001b[0;32m    218\u001b[0m \u001b[1;33m\u001b[0m\u001b[0m\n",
      "\u001b[1;32mD:\\Applications\\Python3\\lib\\site-packages\\tensorflow\\python\\framework\\constant_op.py\u001b[0m in \u001b[0;36mconstant\u001b[1;34m(value, dtype, shape, name, verify_shape)\u001b[0m\n\u001b[0;32m    195\u001b[0m       tensor_util.make_tensor_proto(\n\u001b[1;32m--> 196\u001b[1;33m           value, dtype=dtype, shape=shape, verify_shape=verify_shape))\n\u001b[0m\u001b[0;32m    197\u001b[0m   \u001b[0mdtype_value\u001b[0m \u001b[1;33m=\u001b[0m \u001b[0mattr_value_pb2\u001b[0m\u001b[1;33m.\u001b[0m\u001b[0mAttrValue\u001b[0m\u001b[1;33m(\u001b[0m\u001b[0mtype\u001b[0m\u001b[1;33m=\u001b[0m\u001b[0mtensor_value\u001b[0m\u001b[1;33m.\u001b[0m\u001b[0mtensor\u001b[0m\u001b[1;33m.\u001b[0m\u001b[0mdtype\u001b[0m\u001b[1;33m)\u001b[0m\u001b[1;33m\u001b[0m\u001b[0m\n",
      "\u001b[1;32mD:\\Applications\\Python3\\lib\\site-packages\\tensorflow\\python\\framework\\tensor_util.py\u001b[0m in \u001b[0;36mmake_tensor_proto\u001b[1;34m(values, dtype, shape, verify_shape)\u001b[0m\n\u001b[0;32m    423\u001b[0m     \u001b[1;32mif\u001b[0m \u001b[0mvalues\u001b[0m \u001b[1;32mis\u001b[0m \u001b[1;32mNone\u001b[0m\u001b[1;33m:\u001b[0m\u001b[1;33m\u001b[0m\u001b[0m\n\u001b[1;32m--> 424\u001b[1;33m       \u001b[1;32mraise\u001b[0m \u001b[0mValueError\u001b[0m\u001b[1;33m(\u001b[0m\u001b[1;34m\"None values not supported.\"\u001b[0m\u001b[1;33m)\u001b[0m\u001b[1;33m\u001b[0m\u001b[0m\n\u001b[0m\u001b[0;32m    425\u001b[0m     \u001b[1;31m# if dtype is provided, forces numpy array to be the type\u001b[0m\u001b[1;33m\u001b[0m\u001b[1;33m\u001b[0m\u001b[0m\n",
      "\u001b[1;31mValueError\u001b[0m: None values not supported.",
      "\nDuring handling of the above exception, another exception occurred:\n",
      "\u001b[1;31mValueError\u001b[0m                                Traceback (most recent call last)",
      "\u001b[1;32mD:\\Applications\\Python3\\lib\\site-packages\\tensorflow\\python\\framework\\op_def_library.py\u001b[0m in \u001b[0;36m_apply_op_helper\u001b[1;34m(self, op_type_name, name, **keywords)\u001b[0m\n\u001b[0;32m    523\u001b[0m               observed = ops.internal_convert_to_tensor(\n\u001b[1;32m--> 524\u001b[1;33m                   values, as_ref=input_arg.is_ref).dtype.name\n\u001b[0m\u001b[0;32m    525\u001b[0m             \u001b[1;32mexcept\u001b[0m \u001b[0mValueError\u001b[0m \u001b[1;32mas\u001b[0m \u001b[0merr\u001b[0m\u001b[1;33m:\u001b[0m\u001b[1;33m\u001b[0m\u001b[0m\n",
      "\u001b[1;32mD:\\Applications\\Python3\\lib\\site-packages\\tensorflow\\python\\framework\\ops.py\u001b[0m in \u001b[0;36minternal_convert_to_tensor\u001b[1;34m(value, dtype, name, as_ref, preferred_dtype, ctx)\u001b[0m\n\u001b[0;32m   1093\u001b[0m     \u001b[1;32mif\u001b[0m \u001b[0mret\u001b[0m \u001b[1;32mis\u001b[0m \u001b[1;32mNone\u001b[0m\u001b[1;33m:\u001b[0m\u001b[1;33m\u001b[0m\u001b[0m\n\u001b[1;32m-> 1094\u001b[1;33m       \u001b[0mret\u001b[0m \u001b[1;33m=\u001b[0m \u001b[0mconversion_func\u001b[0m\u001b[1;33m(\u001b[0m\u001b[0mvalue\u001b[0m\u001b[1;33m,\u001b[0m \u001b[0mdtype\u001b[0m\u001b[1;33m=\u001b[0m\u001b[0mdtype\u001b[0m\u001b[1;33m,\u001b[0m \u001b[0mname\u001b[0m\u001b[1;33m=\u001b[0m\u001b[0mname\u001b[0m\u001b[1;33m,\u001b[0m \u001b[0mas_ref\u001b[0m\u001b[1;33m=\u001b[0m\u001b[0mas_ref\u001b[0m\u001b[1;33m)\u001b[0m\u001b[1;33m\u001b[0m\u001b[0m\n\u001b[0m\u001b[0;32m   1095\u001b[0m \u001b[1;33m\u001b[0m\u001b[0m\n",
      "\u001b[1;32mD:\\Applications\\Python3\\lib\\site-packages\\tensorflow\\python\\framework\\constant_op.py\u001b[0m in \u001b[0;36m_constant_tensor_conversion_function\u001b[1;34m(v, dtype, name, as_ref)\u001b[0m\n\u001b[0;32m    216\u001b[0m   \u001b[0m_\u001b[0m \u001b[1;33m=\u001b[0m \u001b[0mas_ref\u001b[0m\u001b[1;33m\u001b[0m\u001b[0m\n\u001b[1;32m--> 217\u001b[1;33m   \u001b[1;32mreturn\u001b[0m \u001b[0mconstant\u001b[0m\u001b[1;33m(\u001b[0m\u001b[0mv\u001b[0m\u001b[1;33m,\u001b[0m \u001b[0mdtype\u001b[0m\u001b[1;33m=\u001b[0m\u001b[0mdtype\u001b[0m\u001b[1;33m,\u001b[0m \u001b[0mname\u001b[0m\u001b[1;33m=\u001b[0m\u001b[0mname\u001b[0m\u001b[1;33m)\u001b[0m\u001b[1;33m\u001b[0m\u001b[0m\n\u001b[0m\u001b[0;32m    218\u001b[0m \u001b[1;33m\u001b[0m\u001b[0m\n",
      "\u001b[1;32mD:\\Applications\\Python3\\lib\\site-packages\\tensorflow\\python\\framework\\constant_op.py\u001b[0m in \u001b[0;36mconstant\u001b[1;34m(value, dtype, shape, name, verify_shape)\u001b[0m\n\u001b[0;32m    195\u001b[0m       tensor_util.make_tensor_proto(\n\u001b[1;32m--> 196\u001b[1;33m           value, dtype=dtype, shape=shape, verify_shape=verify_shape))\n\u001b[0m\u001b[0;32m    197\u001b[0m   \u001b[0mdtype_value\u001b[0m \u001b[1;33m=\u001b[0m \u001b[0mattr_value_pb2\u001b[0m\u001b[1;33m.\u001b[0m\u001b[0mAttrValue\u001b[0m\u001b[1;33m(\u001b[0m\u001b[0mtype\u001b[0m\u001b[1;33m=\u001b[0m\u001b[0mtensor_value\u001b[0m\u001b[1;33m.\u001b[0m\u001b[0mtensor\u001b[0m\u001b[1;33m.\u001b[0m\u001b[0mdtype\u001b[0m\u001b[1;33m)\u001b[0m\u001b[1;33m\u001b[0m\u001b[0m\n",
      "\u001b[1;32mD:\\Applications\\Python3\\lib\\site-packages\\tensorflow\\python\\framework\\tensor_util.py\u001b[0m in \u001b[0;36mmake_tensor_proto\u001b[1;34m(values, dtype, shape, verify_shape)\u001b[0m\n\u001b[0;32m    423\u001b[0m     \u001b[1;32mif\u001b[0m \u001b[0mvalues\u001b[0m \u001b[1;32mis\u001b[0m \u001b[1;32mNone\u001b[0m\u001b[1;33m:\u001b[0m\u001b[1;33m\u001b[0m\u001b[0m\n\u001b[1;32m--> 424\u001b[1;33m       \u001b[1;32mraise\u001b[0m \u001b[0mValueError\u001b[0m\u001b[1;33m(\u001b[0m\u001b[1;34m\"None values not supported.\"\u001b[0m\u001b[1;33m)\u001b[0m\u001b[1;33m\u001b[0m\u001b[0m\n\u001b[0m\u001b[0;32m    425\u001b[0m     \u001b[1;31m# if dtype is provided, forces numpy array to be the type\u001b[0m\u001b[1;33m\u001b[0m\u001b[1;33m\u001b[0m\u001b[0m\n",
      "\u001b[1;31mValueError\u001b[0m: None values not supported.",
      "\nDuring handling of the above exception, another exception occurred:\n",
      "\u001b[1;31mValueError\u001b[0m                                Traceback (most recent call last)",
      "\u001b[1;32m<ipython-input-48-d3bcdae1cbf0>\u001b[0m in \u001b[0;36m<module>\u001b[1;34m()\u001b[0m\n\u001b[0;32m     16\u001b[0m \u001b[1;33m\u001b[0m\u001b[0m\n\u001b[0;32m     17\u001b[0m \u001b[1;31m# normalization trick: we normalize the gradient\u001b[0m\u001b[1;33m\u001b[0m\u001b[1;33m\u001b[0m\u001b[0m\n\u001b[1;32m---> 18\u001b[1;33m \u001b[0mgrads\u001b[0m \u001b[1;33m/=\u001b[0m \u001b[1;33m(\u001b[0m\u001b[0mK\u001b[0m\u001b[1;33m.\u001b[0m\u001b[0msqrt\u001b[0m\u001b[1;33m(\u001b[0m\u001b[0mK\u001b[0m\u001b[1;33m.\u001b[0m\u001b[0mmean\u001b[0m\u001b[1;33m(\u001b[0m\u001b[0mK\u001b[0m\u001b[1;33m.\u001b[0m\u001b[0msquare\u001b[0m\u001b[1;33m(\u001b[0m\u001b[0mgrads\u001b[0m\u001b[1;33m)\u001b[0m\u001b[1;33m)\u001b[0m\u001b[1;33m)\u001b[0m \u001b[1;33m+\u001b[0m \u001b[1;36m1e-5\u001b[0m\u001b[1;33m)\u001b[0m\u001b[1;33m\u001b[0m\u001b[0m\n\u001b[0m\u001b[0;32m     19\u001b[0m \u001b[1;33m\u001b[0m\u001b[0m\n\u001b[0;32m     20\u001b[0m \u001b[1;31m# this function returns the loss and grads given the input picture\u001b[0m\u001b[1;33m\u001b[0m\u001b[1;33m\u001b[0m\u001b[0m\n",
      "\u001b[1;32mD:\\Applications\\Python3\\lib\\site-packages\\keras\\backend\\tensorflow_backend.py\u001b[0m in \u001b[0;36msquare\u001b[1;34m(x)\u001b[0m\n\u001b[0;32m   1415\u001b[0m         \u001b[0mA\u001b[0m \u001b[0mtensor\u001b[0m\u001b[1;33m.\u001b[0m\u001b[1;33m\u001b[0m\u001b[0m\n\u001b[0;32m   1416\u001b[0m     \"\"\"\n\u001b[1;32m-> 1417\u001b[1;33m     \u001b[1;32mreturn\u001b[0m \u001b[0mtf\u001b[0m\u001b[1;33m.\u001b[0m\u001b[0msquare\u001b[0m\u001b[1;33m(\u001b[0m\u001b[0mx\u001b[0m\u001b[1;33m)\u001b[0m\u001b[1;33m\u001b[0m\u001b[0m\n\u001b[0m\u001b[0;32m   1418\u001b[0m \u001b[1;33m\u001b[0m\u001b[0m\n\u001b[0;32m   1419\u001b[0m \u001b[1;33m\u001b[0m\u001b[0m\n",
      "\u001b[1;32mD:\\Applications\\Python3\\lib\\site-packages\\tensorflow\\python\\ops\\math_ops.py\u001b[0m in \u001b[0;36msquare\u001b[1;34m(x, name)\u001b[0m\n\u001b[0;32m    340\u001b[0m           indices=x.indices, values=x_square, dense_shape=x.dense_shape)\n\u001b[0;32m    341\u001b[0m     \u001b[1;32melse\u001b[0m\u001b[1;33m:\u001b[0m\u001b[1;33m\u001b[0m\u001b[0m\n\u001b[1;32m--> 342\u001b[1;33m       \u001b[1;32mreturn\u001b[0m \u001b[0mgen_math_ops\u001b[0m\u001b[1;33m.\u001b[0m\u001b[0msquare\u001b[0m\u001b[1;33m(\u001b[0m\u001b[0mx\u001b[0m\u001b[1;33m,\u001b[0m \u001b[0mname\u001b[0m\u001b[1;33m=\u001b[0m\u001b[0mname\u001b[0m\u001b[1;33m)\u001b[0m\u001b[1;33m\u001b[0m\u001b[0m\n\u001b[0m\u001b[0;32m    343\u001b[0m \u001b[1;33m\u001b[0m\u001b[0m\n\u001b[0;32m    344\u001b[0m \u001b[1;33m\u001b[0m\u001b[0m\n",
      "\u001b[1;32mD:\\Applications\\Python3\\lib\\site-packages\\tensorflow\\python\\ops\\gen_math_ops.py\u001b[0m in \u001b[0;36msquare\u001b[1;34m(x, name)\u001b[0m\n\u001b[0;32m   8645\u001b[0m   \u001b[1;32mif\u001b[0m \u001b[0m_ctx\u001b[0m \u001b[1;32mis\u001b[0m \u001b[1;32mNone\u001b[0m \u001b[1;32mor\u001b[0m \u001b[1;32mnot\u001b[0m \u001b[0m_ctx\u001b[0m\u001b[1;33m.\u001b[0m\u001b[0m_eager_context\u001b[0m\u001b[1;33m.\u001b[0m\u001b[0mis_eager\u001b[0m\u001b[1;33m:\u001b[0m\u001b[1;33m\u001b[0m\u001b[0m\n\u001b[0;32m   8646\u001b[0m     _, _, _op = _op_def_lib._apply_op_helper(\n\u001b[1;32m-> 8647\u001b[1;33m         \"Square\", x=x, name=name)\n\u001b[0m\u001b[0;32m   8648\u001b[0m     \u001b[0m_result\u001b[0m \u001b[1;33m=\u001b[0m \u001b[0m_op\u001b[0m\u001b[1;33m.\u001b[0m\u001b[0moutputs\u001b[0m\u001b[1;33m[\u001b[0m\u001b[1;33m:\u001b[0m\u001b[1;33m]\u001b[0m\u001b[1;33m\u001b[0m\u001b[0m\n\u001b[0;32m   8649\u001b[0m     \u001b[0m_inputs_flat\u001b[0m \u001b[1;33m=\u001b[0m \u001b[0m_op\u001b[0m\u001b[1;33m.\u001b[0m\u001b[0minputs\u001b[0m\u001b[1;33m\u001b[0m\u001b[0m\n",
      "\u001b[1;32mD:\\Applications\\Python3\\lib\\site-packages\\tensorflow\\python\\framework\\op_def_library.py\u001b[0m in \u001b[0;36m_apply_op_helper\u001b[1;34m(self, op_type_name, name, **keywords)\u001b[0m\n\u001b[0;32m    526\u001b[0m               raise ValueError(\n\u001b[0;32m    527\u001b[0m                   \u001b[1;34m\"Tried to convert '%s' to a tensor and failed. Error: %s\"\u001b[0m \u001b[1;33m%\u001b[0m\u001b[1;33m\u001b[0m\u001b[0m\n\u001b[1;32m--> 528\u001b[1;33m                   (input_name, err))\n\u001b[0m\u001b[0;32m    529\u001b[0m             prefix = (\"Input '%s' of '%s' Op has type %s that does not match\" %\n\u001b[0;32m    530\u001b[0m                       (input_name, op_type_name, observed))\n",
      "\u001b[1;31mValueError\u001b[0m: Tried to convert 'x' to a tensor and failed. Error: None values not supported."
     ]
    }
   ],
   "source": [
    "\n",
    "from keras import backend as K\n",
    "\n",
    "input_img = x_val[0][0]\n",
    "\n",
    "layer_name = 'conv2d_6'\n",
    "filter_index = 0  # can be any integer from 0 to 511, as there are 512 filters in that layer\n",
    "\n",
    "# build a loss function that maximizes the activation\n",
    "# of the nth filter of the layer considered\n",
    "layer_output = layer_dict[layer_name].output\n",
    "loss = K.mean(layer_output[:, :, :, filter_index])\n",
    "\n",
    "# compute the gradient of the input picture wrt this loss\n",
    "grads = K.gradients(loss, input_img)[0]\n",
    "\n",
    "# normalization trick: we normalize the gradient\n",
    "grads /= (K.sqrt(K.mean(K.square(grads))) + 1e-5)\n",
    "\n",
    "# this function returns the loss and grads given the input picture\n",
    "iterate = K.function([input_img], [loss, grads])\n"
   ]
  },
  {
   "cell_type": "code",
   "execution_count": 47,
   "metadata": {},
   "outputs": [
    {
     "ename": "NameError",
     "evalue": "name 'iterate' is not defined",
     "output_type": "error",
     "traceback": [
      "\u001b[1;31m---------------------------------------------------------------------------\u001b[0m",
      "\u001b[1;31mNameError\u001b[0m                                 Traceback (most recent call last)",
      "\u001b[1;32m<ipython-input-47-77808c5987d1>\u001b[0m in \u001b[0;36m<module>\u001b[1;34m()\u001b[0m\n\u001b[0;32m      6\u001b[0m \u001b[1;31m# run gradient ascent for 20 steps\u001b[0m\u001b[1;33m\u001b[0m\u001b[1;33m\u001b[0m\u001b[0m\n\u001b[0;32m      7\u001b[0m \u001b[1;32mfor\u001b[0m \u001b[0mi\u001b[0m \u001b[1;32min\u001b[0m \u001b[0mrange\u001b[0m\u001b[1;33m(\u001b[0m\u001b[1;36m20\u001b[0m\u001b[1;33m)\u001b[0m\u001b[1;33m:\u001b[0m\u001b[1;33m\u001b[0m\u001b[0m\n\u001b[1;32m----> 8\u001b[1;33m     \u001b[0mloss_value\u001b[0m\u001b[1;33m,\u001b[0m \u001b[0mgrads_value\u001b[0m \u001b[1;33m=\u001b[0m \u001b[0miterate\u001b[0m\u001b[1;33m(\u001b[0m\u001b[1;33m[\u001b[0m\u001b[0minput_img_data\u001b[0m\u001b[1;33m]\u001b[0m\u001b[1;33m)\u001b[0m\u001b[1;33m\u001b[0m\u001b[0m\n\u001b[0m\u001b[0;32m      9\u001b[0m     \u001b[0minput_img_data\u001b[0m \u001b[1;33m+=\u001b[0m \u001b[0mgrads_value\u001b[0m \u001b[1;33m*\u001b[0m \u001b[0mstep\u001b[0m\u001b[1;33m\u001b[0m\u001b[0m\n",
      "\u001b[1;31mNameError\u001b[0m: name 'iterate' is not defined"
     ]
    }
   ],
   "source": [
    "\n",
    "import numpy as np\n",
    "\n",
    "# we start from a gray image with some noise\n",
    "input_img_data = np.random.random((1, 3, img_width, img_height)) * 20 + 128.\n",
    "# run gradient ascent for 20 steps\n",
    "for i in range(20):\n",
    "    loss_value, grads_value = iterate([input_img_data])\n",
    "    input_img_data += grads_value * step\n"
   ]
  },
  {
   "cell_type": "code",
   "execution_count": null,
   "metadata": {},
   "outputs": [],
   "source": []
  }
 ],
 "metadata": {
  "kernelspec": {
   "display_name": "Python 3",
   "language": "python",
   "name": "python3"
  },
  "language_info": {
   "codemirror_mode": {
    "name": "ipython",
    "version": 3
   },
   "file_extension": ".py",
   "mimetype": "text/x-python",
   "name": "python",
   "nbconvert_exporter": "python",
   "pygments_lexer": "ipython3",
   "version": "3.6.1"
  }
 },
 "nbformat": 4,
 "nbformat_minor": 1
}

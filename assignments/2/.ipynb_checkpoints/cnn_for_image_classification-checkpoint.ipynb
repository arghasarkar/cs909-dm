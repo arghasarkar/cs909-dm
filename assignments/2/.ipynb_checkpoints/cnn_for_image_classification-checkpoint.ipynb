{
 "cells": [
  {
   "cell_type": "markdown",
   "metadata": {},
   "source": [
    "# CNN for Image Classification\n",
    "\n",
    "In this lab, you are given a dataset containing 6,000 pictures of cats and dogs (3,000 cats, 3,000 dogs) and asked to train a classifier built upon Convolutional Neural Networks (ConvNets) to classify images as \"dogs\" or \"cats\"."
   ]
  },
  {
   "cell_type": "code",
   "execution_count": 1,
   "metadata": {},
   "outputs": [
    {
     "name": "stderr",
     "output_type": "stream",
     "text": [
      "D:\\Applications\\Python3\\lib\\site-packages\\h5py\\__init__.py:36: FutureWarning: Conversion of the second argument of issubdtype from `float` to `np.floating` is deprecated. In future, it will be treated as `np.float64 == np.dtype(float).type`.\n",
      "  from ._conv import register_converters as _register_converters\n",
      "Using TensorFlow backend.\n"
     ]
    }
   ],
   "source": [
    "%matplotlib inline\n",
    "\n",
    "import os\n",
    "import numpy as np\n",
    "import matplotlib.pyplot as plt\n",
    "import cv2\n",
    "\n",
    "# from __future__ import print_function\n",
    "import keras\n",
    "from keras import metrics\n",
    "from keras.preprocessing.image import ImageDataGenerator\n",
    "from keras.models import Sequential\n",
    "from keras.layers import Dense, Dropout, Activation, Flatten, BatchNormalization\n",
    "from keras.layers import Conv2D, MaxPooling2D"
   ]
  },
  {
   "cell_type": "markdown",
   "metadata": {},
   "source": [
    "### Exercise 1 \n",
    "\n",
    "Split the dataset by selecting 4,800 pictures for training, 600 for validation, and 600 for testing. Over here, the **random seed** for numpy has been set to **200** to ensure the shuffling and the splitting for train, test and val are deterministic. "
   ]
  },
  {
   "cell_type": "code",
   "execution_count": 2,
   "metadata": {
    "scrolled": true
   },
   "outputs": [],
   "source": [
    "img_width = 50\n",
    "img_height = 50\n",
    "num_classes = 2\n",
    "DATA_DIR = './data/'\n",
    "image_filenames = [DATA_DIR+i for i in os.listdir(DATA_DIR)] # use this for full dataset\n",
    "\n",
    "# Setting the random seed\n",
    "np.random.seed(200)\n",
    "\n",
    "# Split the data in three sets, 80% for training, 10% for validation and 10% for testing\n",
    "# make sure that the image filenames have a fixed order before shuffling\n",
    "# Add your code here"
   ]
  },
  {
   "cell_type": "code",
   "execution_count": 3,
   "metadata": {},
   "outputs": [],
   "source": [
    "import pandas as pd\n",
    "from sklearn import datasets, linear_model\n",
    "from sklearn.model_selection import train_test_split"
   ]
  },
  {
   "cell_type": "markdown",
   "metadata": {},
   "source": [
    "The function ```get_class_from_filename``` takes the file path and returns ***0*** for cats and ***1*** for dogs.\n",
    "\n",
    "The function ```generate_class_arr``` takes the array of filenames and returns an array of class numbers using the function ```get_class_from_filename```.\n",
    "\n",
    "The function ```resize_files``` is used to resize all the image files to **50 x 50**. Over here, the pixel values are **nomalized by dividing by 255** which is the highest value of each pixel colour. Normalization of the pixel values means the new pixel values are between 0 & 1. This enables better training and reduces the dimensionality of the input. Not only this **reduces overfitting** but also allows for faster training process. Less training time is required as the sizes of the convolutional layer is smaller which means fewer operations as there are fewer pixels. Furthermore, as less memory is required for loading up the images, whilst training on the **GPU**, a higher **batch_size** can be used so the overall time taken for training is faster. \n",
    "\n",
    "The function ```load_images``` takes the array of filenames as input and then uses **cv2.imread** from OpenCV to read the data of the files and return a numpy array containing all the images's data. "
   ]
  },
  {
   "cell_type": "code",
   "execution_count": 4,
   "metadata": {},
   "outputs": [],
   "source": [
    "\n",
    "def load_images(filenames):\n",
    "    \n",
    "    files = []\n",
    "    for i in range(len(filenames)):\n",
    "        files.append(cv2.imread(filenames[i]))\n",
    "        \n",
    "    return np.array(resize_files(files))\n",
    "\n",
    "\n",
    "def resize_files(files):\n",
    "    _files = []\n",
    "    for i in range(len(files)):\n",
    "        _resized = np.array(cv2.resize(files[i], (img_width, img_height),interpolation=cv2.INTER_AREA))\n",
    "        _normalized = np.true_divide(_resized, 255)\n",
    "        _files.append(_normalized)\n",
    "        \n",
    "    return _files\n",
    "\n",
    "\n",
    "def get_class_from_filename(filename):\n",
    "    \n",
    "    parts = filename.split(\".\")\n",
    "    size = len(parts)\n",
    "    \n",
    "    _class = parts[size - 3]\n",
    "    _class = _class[-3:]\n",
    "    \n",
    "    return np.array([0, 1] if _class == \"cat\" else [1,0])\n",
    "\n",
    "\n",
    "def generate_class_arr(filenames):\n",
    "    \n",
    "    classes = []\n",
    "    \n",
    "    for i in range(len(filenames)):\n",
    "        classes.append(get_class_from_filename(filenames[i]))\n",
    "    \n",
    "    return np.array(classes)\n",
    "        "
   ]
  },
  {
   "cell_type": "markdown",
   "metadata": {},
   "source": [
    "The target array is generated and is called **y**. It contains the class names which are label encoded ***0*** for cats and ***1*** for dogs."
   ]
  },
  {
   "cell_type": "code",
   "execution_count": 5,
   "metadata": {},
   "outputs": [],
   "source": [
    "y = generate_class_arr(image_filenames)"
   ]
  },
  {
   "cell_type": "markdown",
   "metadata": {},
   "source": [
    "**80%** of the whole dataset which is **4800** images is used for the training set. The rest is used for testing and validation. After the first split has taken place breaking the file names into two sets of 4800 and 1200, the set of 1200 is split into **50%** chunk. So **600** images are used for each of the testing and validation sets. "
   ]
  },
  {
   "cell_type": "code",
   "execution_count": 6,
   "metadata": {},
   "outputs": [],
   "source": [
    "\n",
    "x_train_filenames, x_test_filenames, y_train, y_test = train_test_split(image_filenames, y, test_size=0.2)\n",
    "x_test_filenames, x_val_filenames, y_test, y_val = train_test_split(x_test_filenames, y_test, test_size=0.5)\n"
   ]
  },
  {
   "cell_type": "markdown",
   "metadata": {},
   "source": [
    "After the file names and their respective targets have been split into train, test and validation sets, the ```load_images``` function is used to load up the images with the given file name arrays. "
   ]
  },
  {
   "cell_type": "code",
   "execution_count": 7,
   "metadata": {},
   "outputs": [],
   "source": [
    "\n",
    "x_train = load_images(x_train_filenames)\n",
    "x_test = load_images(x_test_filenames)\n",
    "x_val = load_images(x_val_filenames)\n"
   ]
  },
  {
   "cell_type": "markdown",
   "metadata": {},
   "source": [
    "Just some sanity check to ensure the files and their targets have been loaded up correctly. "
   ]
  },
  {
   "cell_type": "code",
   "execution_count": 8,
   "metadata": {
    "scrolled": true
   },
   "outputs": [
    {
     "name": "stdout",
     "output_type": "stream",
     "text": [
      "4800   4800\n",
      "600   600\n",
      "600   600\n"
     ]
    }
   ],
   "source": [
    "# print(x_train_filenames[:5])\n",
    "# print(y_train[:5])\n",
    "print(len(x_train_filenames), \" \", len(y_train))\n",
    "\n",
    "# print(x_test_filenames[:5])\n",
    "# print(y_test[:5])\n",
    "print(len(x_test_filenames), \" \", len(y_test))\n",
    "\n",
    "# print(x_val_filenames[:5])\n",
    "# print(y_val[:5])\n",
    "print(len(x_val_filenames), \" \", len(y_val))\n"
   ]
  },
  {
   "cell_type": "markdown",
   "metadata": {},
   "source": [
    "Showing the first image of the train, test and the validation sets for sanity check purpose. "
   ]
  },
  {
   "cell_type": "code",
   "execution_count": 9,
   "metadata": {
    "scrolled": true
   },
   "outputs": [
    {
     "name": "stdout",
     "output_type": "stream",
     "text": [
      "Label: [1 0]\n",
      "(50, 50, 3)\n"
     ]
    },
    {
     "data": {
      "image/png": "[encoded data removed]",
      "text/plain": [
       "<matplotlib.figure.Figure at 0x2bfafcf5b00>"
      ]
     },
     "metadata": {},
     "output_type": "display_data"
    }
   ],
   "source": [
    "\n",
    "plt.imshow(x_train[0])\n",
    "print(\"Label: {}\".format(y_train[0]))\n",
    "print(x_train[0].shape)\n"
   ]
  },
  {
   "cell_type": "code",
   "execution_count": 10,
   "metadata": {},
   "outputs": [
    {
     "name": "stdout",
     "output_type": "stream",
     "text": [
      "Label: [1 0]\n"
     ]
    },
    {
     "data": {
      "image/png": "[encoded data removed]",
      "text/plain": [
       "<matplotlib.figure.Figure at 0x2bfafcadb38>"
      ]
     },
     "metadata": {},
     "output_type": "display_data"
    }
   ],
   "source": [
    "\n",
    "plt.imshow(x_test[0])\n",
    "print(\"Label: {}\".format(y_test[0]))\n"
   ]
  },
  {
   "cell_type": "code",
   "execution_count": 11,
   "metadata": {
    "scrolled": true
   },
   "outputs": [
    {
     "name": "stdout",
     "output_type": "stream",
     "text": [
      "Label: [1 0]\n"
     ]
    },
    {
     "data": {
      "image/png": "[encoded data removed]",
      "text/plain": [
       "<matplotlib.figure.Figure at 0x2bfc1bc6a58>"
      ]
     },
     "metadata": {},
     "output_type": "display_data"
    }
   ],
   "source": [
    "\n",
    "plt.imshow(x_val[0])\n",
    "print(\"Label: {}\".format(y_val[0]))\n"
   ]
  },
  {
   "cell_type": "markdown",
   "metadata": {},
   "source": [
    "### Exercise 2\n",
    "Train a Convolutional Neural Network (ConvNet) on the training set. The general structure of the ConvNet will be a stack of alternated Conv2D (with relu activation) and MaxPooling2D layers. A Conv2D layer creates a convolution kernel that is convolved with the layer input to produce a tensor of outputs. A MaxPooling2D layer is used to downscale input in both the vertical and horizontal dimensions."
   ]
  },
  {
   "cell_type": "code",
   "execution_count": 12,
   "metadata": {},
   "outputs": [],
   "source": [
    "from keras.layers import Conv2D, MaxPooling2D, GlobalAveragePooling2D"
   ]
  },
  {
   "cell_type": "code",
   "execution_count": 13,
   "metadata": {},
   "outputs": [],
   "source": [
    "# Add your code here\n",
    "\n",
    "\n",
    "input_shape = x_train[1].shape\n",
    "\n",
    "model = Sequential()\n",
    "#add model layers\n",
    "\n",
    "model.add(Conv2D(64, 2,padding='same', input_shape=input_shape))\n",
    "model.add(Activation('relu'))\n",
    "model.add(MaxPooling2D(pool_size=(2,2)))\n",
    "\n",
    "model.add(Conv2D(128, 2, padding='same'))\n",
    "model.add(Activation('relu'))\n",
    "model.add(MaxPooling2D(pool_size=(2,2)))\n",
    "\n",
    "model.add(Flatten())\n",
    "\n",
    "model.add(Dense(256, activation='relu'))\n",
    "model.add(Dense(128, activation='relu'))\n",
    "\n",
    "model.add(Dense(2, activation='softmax'))\n",
    "          "
   ]
  },
  {
   "cell_type": "code",
   "execution_count": 14,
   "metadata": {},
   "outputs": [
    {
     "name": "stdout",
     "output_type": "stream",
     "text": [
      "_________________________________________________________________\n",
      "Layer (type)                 Output Shape              Param #   \n",
      "=================================================================\n",
      "conv2d_1 (Conv2D)            (None, 50, 50, 64)        832       \n",
      "_________________________________________________________________\n",
      "activation_1 (Activation)    (None, 50, 50, 64)        0         \n",
      "_________________________________________________________________\n",
      "max_pooling2d_1 (MaxPooling2 (None, 25, 25, 64)        0         \n",
      "_________________________________________________________________\n",
      "conv2d_2 (Conv2D)            (None, 25, 25, 128)       32896     \n",
      "_________________________________________________________________\n",
      "activation_2 (Activation)    (None, 25, 25, 128)       0         \n",
      "_________________________________________________________________\n",
      "max_pooling2d_2 (MaxPooling2 (None, 12, 12, 128)       0         \n",
      "_________________________________________________________________\n",
      "flatten_1 (Flatten)          (None, 18432)             0         \n",
      "_________________________________________________________________\n",
      "dense_1 (Dense)              (None, 256)               4718848   \n",
      "_________________________________________________________________\n",
      "dense_2 (Dense)              (None, 128)               32896     \n",
      "_________________________________________________________________\n",
      "dense_3 (Dense)              (None, 2)                 258       \n",
      "=================================================================\n",
      "Total params: 4,785,730\n",
      "Trainable params: 4,785,730\n",
      "Non-trainable params: 0\n",
      "_________________________________________________________________\n"
     ]
    }
   ],
   "source": [
    "model.summary()"
   ]
  },
  {
   "cell_type": "code",
   "execution_count": 15,
   "metadata": {},
   "outputs": [],
   "source": [
    "batch_size = 128"
   ]
  },
  {
   "cell_type": "code",
   "execution_count": 16,
   "metadata": {},
   "outputs": [],
   "source": [
    "epochs = 60"
   ]
  },
  {
   "cell_type": "code",
   "execution_count": 17,
   "metadata": {},
   "outputs": [],
   "source": [
    "optimizer = keras.optimizers.RMSprop(lr=0.00005)\n",
    "model.compile(optimizer=optimizer, loss='categorical_crossentropy', metrics=['accuracy'])\n"
   ]
  },
  {
   "cell_type": "code",
   "execution_count": 18,
   "metadata": {},
   "outputs": [],
   "source": [
    "from keras.callbacks import ModelCheckpoint\n",
    "\n",
    "weights_filepath = \"weights.hdf5\"\n",
    "checkpoint = ModelCheckpoint(weights_filepath, monitor = 'val_acc', verbose = 1, save_best_only = True, mode='max')\n",
    "callbacks_list = [checkpoint]\n"
   ]
  },
  {
   "cell_type": "code",
   "execution_count": 19,
   "metadata": {},
   "outputs": [
    {
     "name": "stdout",
     "output_type": "stream",
     "text": [
      "Train on 4800 samples, validate on 600 samples\n",
      "Epoch 1/60\n",
      "4800/4800 [==============================] - 4s 905us/step - loss: 0.6896 - acc: 0.5302 - val_loss: 0.6743 - val_acc: 0.5833\n",
      "\n",
      "Epoch 00001: val_acc improved from -inf to 0.58333, saving model to weights.hdf5\n",
      "Epoch 2/60\n",
      "4800/4800 [==============================] - 1s 260us/step - loss: 0.6667 - acc: 0.6046 - val_loss: 0.6617 - val_acc: 0.5850\n",
      "\n",
      "Epoch 00002: val_acc improved from 0.58333 to 0.58500, saving model to weights.hdf5\n",
      "Epoch 3/60\n",
      "4800/4800 [==============================] - 1s 265us/step - loss: 0.6455 - acc: 0.6388 - val_loss: 0.6381 - val_acc: 0.6517\n",
      "\n",
      "Epoch 00003: val_acc improved from 0.58500 to 0.65167, saving model to weights.hdf5\n",
      "Epoch 4/60\n",
      "4800/4800 [==============================] - 1s 272us/step - loss: 0.6255 - acc: 0.6594 - val_loss: 0.6280 - val_acc: 0.6617\n",
      "\n",
      "Epoch 00004: val_acc improved from 0.65167 to 0.66167, saving model to weights.hdf5\n",
      "Epoch 5/60\n",
      "4800/4800 [==============================] - 1s 303us/step - loss: 0.6124 - acc: 0.6715 - val_loss: 0.6498 - val_acc: 0.5767\n",
      "\n",
      "Epoch 00005: val_acc did not improve from 0.66167\n",
      "Epoch 6/60\n",
      "4800/4800 [==============================] - 2s 321us/step - loss: 0.6018 - acc: 0.6810 - val_loss: 0.6236 - val_acc: 0.6467\n",
      "\n",
      "Epoch 00006: val_acc did not improve from 0.66167\n",
      "Epoch 7/60\n",
      "4800/4800 [==============================] - 1s 282us/step - loss: 0.5858 - acc: 0.6981 - val_loss: 0.6051 - val_acc: 0.6917\n",
      "\n",
      "Epoch 00007: val_acc improved from 0.66167 to 0.69167, saving model to weights.hdf5\n",
      "Epoch 8/60\n",
      "4800/4800 [==============================] - 1s 266us/step - loss: 0.5761 - acc: 0.7137 - val_loss: 0.6051 - val_acc: 0.6767\n",
      "\n",
      "Epoch 00008: val_acc did not improve from 0.69167\n",
      "Epoch 9/60\n",
      "4800/4800 [==============================] - 1s 258us/step - loss: 0.5670 - acc: 0.7135 - val_loss: 0.6587 - val_acc: 0.5983\n",
      "\n",
      "Epoch 00009: val_acc did not improve from 0.69167\n",
      "Epoch 10/60\n",
      "4800/4800 [==============================] - 1s 265us/step - loss: 0.5621 - acc: 0.7133 - val_loss: 0.5836 - val_acc: 0.6883\n",
      "\n",
      "Epoch 00010: val_acc did not improve from 0.69167\n",
      "Epoch 11/60\n",
      "4800/4800 [==============================] - 1s 265us/step - loss: 0.5542 - acc: 0.7208 - val_loss: 0.5852 - val_acc: 0.7033\n",
      "\n",
      "Epoch 00011: val_acc improved from 0.69167 to 0.70333, saving model to weights.hdf5\n",
      "Epoch 12/60\n",
      "4800/4800 [==============================] - 1s 279us/step - loss: 0.5437 - acc: 0.7335 - val_loss: 0.6067 - val_acc: 0.6800\n",
      "\n",
      "Epoch 00012: val_acc did not improve from 0.70333\n",
      "Epoch 13/60\n",
      "4800/4800 [==============================] - 1s 257us/step - loss: 0.5378 - acc: 0.7342 - val_loss: 0.5980 - val_acc: 0.6850\n",
      "\n",
      "Epoch 00013: val_acc did not improve from 0.70333\n",
      "Epoch 14/60\n",
      "4800/4800 [==============================] - 1s 257us/step - loss: 0.5364 - acc: 0.7294 - val_loss: 0.5734 - val_acc: 0.7067\n",
      "\n",
      "Epoch 00014: val_acc improved from 0.70333 to 0.70667, saving model to weights.hdf5\n",
      "Epoch 15/60\n",
      "4800/4800 [==============================] - 1s 256us/step - loss: 0.5255 - acc: 0.7379 - val_loss: 0.6296 - val_acc: 0.6733\n",
      "\n",
      "Epoch 00015: val_acc did not improve from 0.70667\n",
      "Epoch 16/60\n",
      "4800/4800 [==============================] - 1s 257us/step - loss: 0.5108 - acc: 0.7533 - val_loss: 0.5750 - val_acc: 0.7167\n",
      "\n",
      "Epoch 00016: val_acc improved from 0.70667 to 0.71667, saving model to weights.hdf5\n",
      "Epoch 17/60\n",
      "4800/4800 [==============================] - 1s 256us/step - loss: 0.5105 - acc: 0.7465 - val_loss: 0.5823 - val_acc: 0.6883\n",
      "\n",
      "Epoch 00017: val_acc did not improve from 0.71667\n",
      "Epoch 18/60\n",
      "4800/4800 [==============================] - 1s 256us/step - loss: 0.5013 - acc: 0.7598 - val_loss: 0.6094 - val_acc: 0.6700\n",
      "\n",
      "Epoch 00018: val_acc did not improve from 0.71667\n",
      "Epoch 19/60\n",
      "4800/4800 [==============================] - 1s 254us/step - loss: 0.4971 - acc: 0.7588 - val_loss: 0.5700 - val_acc: 0.7033\n",
      "\n",
      "Epoch 00019: val_acc did not improve from 0.71667\n",
      "Epoch 20/60\n",
      "4800/4800 [==============================] - 1s 255us/step - loss: 0.4897 - acc: 0.7596 - val_loss: 0.5759 - val_acc: 0.6950\n",
      "\n",
      "Epoch 00020: val_acc did not improve from 0.71667\n",
      "Epoch 21/60\n",
      "4800/4800 [==============================] - 1s 262us/step - loss: 0.4903 - acc: 0.7598 - val_loss: 0.5562 - val_acc: 0.7100\n",
      "\n",
      "Epoch 00021: val_acc did not improve from 0.71667\n",
      "Epoch 22/60\n",
      "4800/4800 [==============================] - 1s 266us/step - loss: 0.4751 - acc: 0.7725 - val_loss: 0.5726 - val_acc: 0.7067\n",
      "\n",
      "Epoch 00022: val_acc did not improve from 0.71667\n",
      "Epoch 23/60\n",
      "4800/4800 [==============================] - 1s 267us/step - loss: 0.4735 - acc: 0.7727 - val_loss: 0.5617 - val_acc: 0.7017\n",
      "\n",
      "Epoch 00023: val_acc did not improve from 0.71667\n",
      "Epoch 24/60\n",
      "4800/4800 [==============================] - 1s 255us/step - loss: 0.4691 - acc: 0.7781 - val_loss: 0.5519 - val_acc: 0.7083\n",
      "\n",
      "Epoch 00024: val_acc did not improve from 0.71667\n",
      "Epoch 25/60\n",
      "4800/4800 [==============================] - 1s 256us/step - loss: 0.4572 - acc: 0.7842 - val_loss: 0.5629 - val_acc: 0.7100\n",
      "\n",
      "Epoch 00025: val_acc did not improve from 0.71667\n",
      "Epoch 26/60\n",
      "4800/4800 [==============================] - 1s 260us/step - loss: 0.4601 - acc: 0.7840 - val_loss: 0.5623 - val_acc: 0.7033\n",
      "\n",
      "Epoch 00026: val_acc did not improve from 0.71667\n",
      "Epoch 27/60\n",
      "4800/4800 [==============================] - 1s 258us/step - loss: 0.4499 - acc: 0.7940 - val_loss: 0.5424 - val_acc: 0.7150\n",
      "\n",
      "Epoch 00027: val_acc did not improve from 0.71667\n",
      "Epoch 28/60\n",
      "4800/4800 [==============================] - 1s 256us/step - loss: 0.4438 - acc: 0.7921 - val_loss: 0.6252 - val_acc: 0.6683\n",
      "\n",
      "Epoch 00028: val_acc did not improve from 0.71667\n",
      "Epoch 29/60\n",
      "4800/4800 [==============================] - 1s 263us/step - loss: 0.4344 - acc: 0.8008 - val_loss: 0.5529 - val_acc: 0.7083\n",
      "\n",
      "Epoch 00029: val_acc did not improve from 0.71667\n",
      "Epoch 30/60\n",
      "4800/4800 [==============================] - 1s 256us/step - loss: 0.4343 - acc: 0.8025 - val_loss: 0.5741 - val_acc: 0.6933\n",
      "\n",
      "Epoch 00030: val_acc did not improve from 0.71667\n",
      "Epoch 31/60\n",
      "4800/4800 [==============================] - 1s 257us/step - loss: 0.4243 - acc: 0.8046 - val_loss: 0.5458 - val_acc: 0.7050\n",
      "\n",
      "Epoch 00031: val_acc did not improve from 0.71667\n",
      "Epoch 32/60\n",
      "4800/4800 [==============================] - 1s 256us/step - loss: 0.4212 - acc: 0.8100 - val_loss: 0.5480 - val_acc: 0.7133\n",
      "\n",
      "Epoch 00032: val_acc did not improve from 0.71667\n",
      "Epoch 33/60\n",
      "4800/4800 [==============================] - 1s 260us/step - loss: 0.4085 - acc: 0.8223 - val_loss: 0.6385 - val_acc: 0.6967\n",
      "\n",
      "Epoch 00033: val_acc did not improve from 0.71667\n",
      "Epoch 34/60\n",
      "4800/4800 [==============================] - 1s 264us/step - loss: 0.4117 - acc: 0.8179 - val_loss: 0.5489 - val_acc: 0.7183\n",
      "\n",
      "Epoch 00034: val_acc improved from 0.71667 to 0.71833, saving model to weights.hdf5\n",
      "Epoch 35/60\n",
      "4800/4800 [==============================] - 1s 259us/step - loss: 0.4038 - acc: 0.8204 - val_loss: 0.5399 - val_acc: 0.7283\n",
      "\n",
      "Epoch 00035: val_acc improved from 0.71833 to 0.72833, saving model to weights.hdf5\n",
      "Epoch 36/60\n",
      "4800/4800 [==============================] - 1s 266us/step - loss: 0.3954 - acc: 0.8244 - val_loss: 0.5646 - val_acc: 0.7150\n",
      "\n",
      "Epoch 00036: val_acc did not improve from 0.72833\n",
      "Epoch 37/60\n",
      "4800/4800 [==============================] - 1s 266us/step - loss: 0.3877 - acc: 0.8315 - val_loss: 0.5305 - val_acc: 0.7200\n",
      "\n",
      "Epoch 00037: val_acc did not improve from 0.72833\n",
      "Epoch 38/60\n",
      "4800/4800 [==============================] - 1s 265us/step - loss: 0.3773 - acc: 0.8406 - val_loss: 0.6972 - val_acc: 0.6700\n",
      "\n",
      "Epoch 00038: val_acc did not improve from 0.72833\n",
      "Epoch 39/60\n",
      "4800/4800 [==============================] - 1s 262us/step - loss: 0.3788 - acc: 0.8327 - val_loss: 0.5391 - val_acc: 0.7217\n",
      "\n",
      "Epoch 00039: val_acc did not improve from 0.72833\n",
      "Epoch 40/60\n",
      "4800/4800 [==============================] - 1s 259us/step - loss: 0.3752 - acc: 0.8350 - val_loss: 0.5296 - val_acc: 0.7283\n",
      "\n",
      "Epoch 00040: val_acc improved from 0.72833 to 0.72833, saving model to weights.hdf5\n",
      "Epoch 41/60\n",
      "4800/4800 [==============================] - 1s 268us/step - loss: 0.3645 - acc: 0.8429 - val_loss: 0.5496 - val_acc: 0.7200\n",
      "\n",
      "Epoch 00041: val_acc did not improve from 0.72833\n",
      "Epoch 42/60\n"
     ]
    },
    {
     "name": "stdout",
     "output_type": "stream",
     "text": [
      "4800/4800 [==============================] - 1s 258us/step - loss: 0.3621 - acc: 0.8456 - val_loss: 0.5534 - val_acc: 0.7167\n",
      "\n",
      "Epoch 00042: val_acc did not improve from 0.72833\n",
      "Epoch 43/60\n",
      "4800/4800 [==============================] - 1s 263us/step - loss: 0.3559 - acc: 0.8475 - val_loss: 0.7059 - val_acc: 0.6417\n",
      "\n",
      "Epoch 00043: val_acc did not improve from 0.72833\n",
      "Epoch 44/60\n",
      "4800/4800 [==============================] - 1s 256us/step - loss: 0.3470 - acc: 0.8583 - val_loss: 0.6071 - val_acc: 0.7083\n",
      "\n",
      "Epoch 00044: val_acc did not improve from 0.72833\n",
      "Epoch 45/60\n",
      "4800/4800 [==============================] - 1s 258us/step - loss: 0.3397 - acc: 0.8610 - val_loss: 0.5358 - val_acc: 0.7267\n",
      "\n",
      "Epoch 00045: val_acc did not improve from 0.72833\n",
      "Epoch 46/60\n",
      "4800/4800 [==============================] - 1s 261us/step - loss: 0.3372 - acc: 0.8612 - val_loss: 0.5340 - val_acc: 0.7267\n",
      "\n",
      "Epoch 00046: val_acc did not improve from 0.72833\n",
      "Epoch 47/60\n",
      "4800/4800 [==============================] - 1s 266us/step - loss: 0.3360 - acc: 0.8577 - val_loss: 0.5283 - val_acc: 0.7383\n",
      "\n",
      "Epoch 00047: val_acc improved from 0.72833 to 0.73833, saving model to weights.hdf5\n",
      "Epoch 48/60\n",
      "4800/4800 [==============================] - 1s 276us/step - loss: 0.3327 - acc: 0.8627 - val_loss: 0.5465 - val_acc: 0.7317\n",
      "\n",
      "Epoch 00048: val_acc did not improve from 0.73833\n",
      "Epoch 49/60\n",
      "4800/4800 [==============================] - 1s 269us/step - loss: 0.3179 - acc: 0.8740 - val_loss: 0.5635 - val_acc: 0.7233\n",
      "\n",
      "Epoch 00049: val_acc did not improve from 0.73833\n",
      "Epoch 50/60\n",
      "4800/4800 [==============================] - 1s 276us/step - loss: 0.3129 - acc: 0.8742 - val_loss: 0.5245 - val_acc: 0.7467\n",
      "\n",
      "Epoch 00050: val_acc improved from 0.73833 to 0.74667, saving model to weights.hdf5\n",
      "Epoch 51/60\n",
      "4800/4800 [==============================] - 1s 265us/step - loss: 0.3053 - acc: 0.8750 - val_loss: 0.5430 - val_acc: 0.7267\n",
      "\n",
      "Epoch 00051: val_acc did not improve from 0.74667\n",
      "Epoch 52/60\n",
      "4800/4800 [==============================] - 1s 260us/step - loss: 0.3011 - acc: 0.8765 - val_loss: 0.5272 - val_acc: 0.7383\n",
      "\n",
      "Epoch 00052: val_acc did not improve from 0.74667\n",
      "Epoch 53/60\n",
      "4800/4800 [==============================] - 1s 256us/step - loss: 0.2987 - acc: 0.8794 - val_loss: 0.5380 - val_acc: 0.7350\n",
      "\n",
      "Epoch 00053: val_acc did not improve from 0.74667\n",
      "Epoch 54/60\n",
      "4800/4800 [==============================] - 1s 258us/step - loss: 0.2919 - acc: 0.8838 - val_loss: 0.5409 - val_acc: 0.7333\n",
      "\n",
      "Epoch 00054: val_acc did not improve from 0.74667\n",
      "Epoch 55/60\n",
      "4800/4800 [==============================] - 1s 256us/step - loss: 0.2862 - acc: 0.8850 - val_loss: 0.5294 - val_acc: 0.7433\n",
      "\n",
      "Epoch 00055: val_acc did not improve from 0.74667\n",
      "Epoch 56/60\n",
      "4800/4800 [==============================] - 1s 255us/step - loss: 0.2822 - acc: 0.8921 - val_loss: 0.5613 - val_acc: 0.7200\n",
      "\n",
      "Epoch 00056: val_acc did not improve from 0.74667\n",
      "Epoch 57/60\n",
      "4800/4800 [==============================] - 1s 260us/step - loss: 0.2706 - acc: 0.8992 - val_loss: 0.5304 - val_acc: 0.7500\n",
      "\n",
      "Epoch 00057: val_acc improved from 0.74667 to 0.75000, saving model to weights.hdf5\n",
      "Epoch 58/60\n",
      "4800/4800 [==============================] - 1s 255us/step - loss: 0.2710 - acc: 0.8992 - val_loss: 0.5509 - val_acc: 0.7383\n",
      "\n",
      "Epoch 00058: val_acc did not improve from 0.75000\n",
      "Epoch 59/60\n",
      "4800/4800 [==============================] - 1s 256us/step - loss: 0.2637 - acc: 0.8994 - val_loss: 0.5761 - val_acc: 0.7367\n",
      "\n",
      "Epoch 00059: val_acc did not improve from 0.75000\n",
      "Epoch 60/60\n",
      "4800/4800 [==============================] - 1s 257us/step - loss: 0.2546 - acc: 0.9050 - val_loss: 0.7029 - val_acc: 0.6533\n",
      "\n",
      "Epoch 00060: val_acc did not improve from 0.75000\n"
     ]
    }
   ],
   "source": [
    "\n",
    "history = model.fit(x_train, y_train, batch_size=batch_size, epochs=epochs,validation_data=(x_test, y_test), callbacks=callbacks_list, verbose=1)\n"
   ]
  },
  {
   "cell_type": "code",
   "execution_count": 20,
   "metadata": {},
   "outputs": [
    {
     "name": "stdout",
     "output_type": "stream",
     "text": [
      "600/600 [==============================] - 0s 185us/step\n",
      "Test loss: 0.7070327997207642\n",
      "Test accuracy: 0.6833333333333333\n"
     ]
    }
   ],
   "source": [
    "\n",
    "score = model.evaluate(x_val, y_val, verbose=1)\n",
    "print('Test loss:', score[0])\n",
    "print('Test accuracy:', score[1])\n"
   ]
  },
  {
   "cell_type": "code",
   "execution_count": 21,
   "metadata": {},
   "outputs": [],
   "source": [
    "\n",
    "model_predictions = model.predict(x_val)\n"
   ]
  },
  {
   "cell_type": "markdown",
   "metadata": {},
   "source": [
    "### Exercise 3\n",
    "\n",
    "Output the training/validation loss and accuracy curves. Also print the classification results (e.g., classification accuracy, confusion matrix, precision-recall curves and/or ROC curves) on the test set."
   ]
  },
  {
   "cell_type": "code",
   "execution_count": 22,
   "metadata": {},
   "outputs": [
    {
     "name": "stdout",
     "output_type": "stream",
     "text": [
      "Classification report for the simple CNN:\n",
      "             precision    recall  f1-score   support\n",
      "\n",
      "          0       0.62      0.95      0.75       303\n",
      "          1       0.88      0.41      0.56       297\n",
      "\n",
      "avg / total       0.75      0.68      0.66       600\n",
      "\n"
     ]
    }
   ],
   "source": [
    "from sklearn.metrics import classification_report, confusion_matrix, precision_recall_curve, roc_curve, auc\n",
    "from sklearn.preprocessing import label_binarize\n",
    "\n",
    "# Add your code here\n",
    "print(\"Classification report for the simple CNN:\")\n",
    "print(classification_report(y_val.argmax(axis=1), model_predictions.argmax(axis=1)))\n"
   ]
  },
  {
   "cell_type": "code",
   "execution_count": 23,
   "metadata": {},
   "outputs": [
    {
     "name": "stdout",
     "output_type": "stream",
     "text": [
      "Confusion matrix for the simple CNN:\n",
      "[[287  16]\n",
      " [174 123]]\n"
     ]
    }
   ],
   "source": [
    "\n",
    "print(\"Confusion matrix for the simple CNN:\")\n",
    "print(confusion_matrix(y_val.argmax(axis=1),  model_predictions.argmax(axis=1)))\n"
   ]
  },
  {
   "cell_type": "code",
   "execution_count": 24,
   "metadata": {},
   "outputs": [],
   "source": [
    "from sklearn.metrics import precision_recall_curve\n",
    "from sklearn.utils.fixes import signature\n",
    "from sklearn.metrics import average_precision_score\n",
    "\n",
    "def plot_precision_recall_curve(labels, predictions, classifier_name=None):\n",
    "    \n",
    "    title = \"Precision-Recall curve\"\n",
    "    if classifier_name is not None:\n",
    "        title = \"Precision-Recall curve for {} predictions\".format(classifier_name)\n",
    "        \n",
    "    precision, recall, thresholds = precision_recall_curve(labels, predictions)\n",
    "    \n",
    "    average_precision = average_precision_score(labels, predictions)\n",
    "\n",
    "    # In matplotlib < 1.5, plt.fill_between does not have a 'step' argument\n",
    "    step_kwargs = ({'step': 'post'}\n",
    "                   if 'step' in signature(plt.fill_between).parameters\n",
    "                   else {})\n",
    "    \n",
    "    fig = plt.figure()\n",
    "    fig.set_figwidth(10)\n",
    "    fig.suptitle('Precision-Recall curve for {0}: AP={1:0.2f}'.format(classifier_name, average_precision))\n",
    "    \n",
    "    plot = plt.subplot(1, 2, 2)\n",
    "    \n",
    "    plot.step(recall, precision, color='b', alpha=0.2, where='post')\n",
    "    \n",
    "    plot.fill_between(recall, precision, alpha=0.2, color='b', **step_kwargs)\n",
    "\n",
    "    plot.set_xlabel('Recall')\n",
    "    plot.set_ylabel('Precision')\n",
    "    plot.set_ylim([0.0, 1.05])\n",
    "    plot.set_xlim([0.0, 1.0])\n",
    "       \n",
    "    return plot\n",
    "\n",
    "\n",
    "def plot_train_val_acc_curve(_hist):\n",
    "    \n",
    "    plt.plot(_hist.history['acc'])\n",
    "    plt.plot(_hist.history['val_acc'])\n",
    "    plt.title('model accuracy')\n",
    "    plt.ylabel('accuracy')\n",
    "    plt.xlabel('epoch')\n",
    "    plt.legend(['train', 'test'], loc='upper left')\n",
    "    \n",
    "    return plt.show()\n",
    "\n",
    "\n",
    "def plot_train_val_loss_curve(_hist):\n",
    "    \n",
    "    plt.plot(history.history['loss'])\n",
    "    plt.plot(history.history['val_loss'])\n",
    "    plt.title('model loss')\n",
    "    plt.ylabel('loss')\n",
    "    plt.xlabel('epoch')\n",
    "    plt.legend(['train', 'test'], loc='upper left')\n",
    "    \n",
    "    return plt.show()\n",
    "\n",
    "\n",
    "def plot_roc_curve(_y, _y_hat):\n",
    "    \n",
    "    fpr, tpr, thresholds = roc_curve(_y.argmax(axis=1).ravel(), first_arg(_y_hat))\n",
    "    auc_simple = auc(fpr, tpr)\n",
    "    plt.plot(fpr, tpr, label='Keras (area = {:.3f})'.format(auc_simple))\n",
    "    plt.xlabel('False positive rate')\n",
    "    plt.ylabel('True positive rate')\n",
    "    plt.title('ROC curve')\n",
    "    plt.legend(loc='best')\n",
    "    \n",
    "    return plt.show()\n",
    "    \n",
    "\n",
    "def first_arg(arr):\n",
    "    \n",
    "    _arr = []\n",
    "    \n",
    "    for i in range(len(arr)):\n",
    "        _arr.append(arr[i][1])\n",
    "    \n",
    "    return _arr\n"
   ]
  },
  {
   "cell_type": "code",
   "execution_count": 25,
   "metadata": {},
   "outputs": [
    {
     "data": {
      "image/png": "[encoded data removed]",
      "text/plain": [
       "<matplotlib.figure.Figure at 0x2c01dfceb00>"
      ]
     },
     "metadata": {},
     "output_type": "display_data"
    }
   ],
   "source": [
    "\n",
    "plot_train_val_acc_curve(history)\n"
   ]
  },
  {
   "cell_type": "code",
   "execution_count": 26,
   "metadata": {},
   "outputs": [
    {
     "data": {
      "image/png": "[encoded data removed]",
      "text/plain": [
       "<matplotlib.figure.Figure at 0x2c01e123908>"
      ]
     },
     "metadata": {},
     "output_type": "display_data"
    }
   ],
   "source": [
    "\n",
    "plot_train_val_loss_curve(history)\n"
   ]
  },
  {
   "cell_type": "code",
   "execution_count": 27,
   "metadata": {},
   "outputs": [
    {
     "data": {
      "image/png": "[encoded data removed]",
      "text/plain": [
       "<matplotlib.figure.Figure at 0x2c04b661eb8>"
      ]
     },
     "metadata": {},
     "output_type": "display_data"
    }
   ],
   "source": [
    "\n",
    "plot_roc_curve(y_val,  model_predictions)\n"
   ]
  },
  {
   "cell_type": "code",
   "execution_count": 28,
   "metadata": {},
   "outputs": [
    {
     "name": "stdout",
     "output_type": "stream",
     "text": [
      "Axes(0.547727,0.125;0.352273x0.755)\n"
     ]
    },
    {
     "data": {
      "image/png": "[encoded data removed]",
      "text/plain": [
       "<matplotlib.figure.Figure at 0x2c04b69b278>"
      ]
     },
     "metadata": {},
     "output_type": "display_data"
    }
   ],
   "source": [
    "\n",
    "print(plot_precision_recall_curve(first_arg(y_val), first_arg(model_predictions), \"Keras Simple CNN\"))\n"
   ]
  },
  {
   "cell_type": "markdown",
   "metadata": {},
   "source": [
    "### Exercise 4\n",
    "\n",
    "Explore different network architectures (e.g., stacking 4 Conv2D+MaxPooling2D layers) and various ways in tuning the model parameters to see if you can improve the model performance on the validation set."
   ]
  },
  {
   "cell_type": "code",
   "execution_count": 29,
   "metadata": {},
   "outputs": [],
   "source": [
    "# Add your code here\n",
    "\n",
    "input_shape = x_train[1].shape\n",
    "\n",
    "model_complex = Sequential()\n",
    "#add model layers\n",
    "\n",
    "model_complex.add(Conv2D(128, 2,padding='same', input_shape=input_shape))\n",
    "model_complex.add(BatchNormalization())\n",
    "model_complex.add(Activation('relu'))\n",
    "model_complex.add(MaxPooling2D(pool_size=(2,2)))\n",
    "model_complex.add(Dropout(0.2))\n",
    "\n",
    "model_complex.add(Conv2D(256, 2, padding='same'))\n",
    "model_complex.add(BatchNormalization())\n",
    "model_complex.add(Activation('relu'))\n",
    "model_complex.add(MaxPooling2D(pool_size=(2,2)))\n",
    "model_complex.add(Dropout(0.2))\n",
    "\n",
    "model_complex.add(Conv2D(512, 2, padding='same'))\n",
    "model_complex.add(BatchNormalization())\n",
    "model_complex.add(Activation('relu'))\n",
    "model_complex.add(MaxPooling2D(pool_size=(2,2)))\n",
    "model_complex.add(Dropout(0.2))\n",
    "\n",
    "model_complex.add(Conv2D(1024, 2, padding='same'))\n",
    "model_complex.add(BatchNormalization())\n",
    "model_complex.add(Activation('relu'))\n",
    "model_complex.add(MaxPooling2D(pool_size=(2,2)))\n",
    "model_complex.add(Dropout(0.2))\n",
    "\n",
    "model_complex.add(Flatten())\n",
    "\n",
    "model_complex.add(Dense(1024, activation='relu'))\n",
    "model_complex.add(BatchNormalization())\n",
    "model_complex.add(Dropout(0.2))\n",
    "\n",
    "# model_complex.add(Dense(512, activation='relu'))\n",
    "# model_complex.add(BatchNormalization())\n",
    "# model_complex.add(Dropout(0.2))\n",
    "\n",
    "# model_complex.add(Dense(512, activation='relu'))\n",
    "\n",
    "model_complex.add(Dense(2, activation='softmax'))\n"
   ]
  },
  {
   "cell_type": "code",
   "execution_count": 30,
   "metadata": {},
   "outputs": [
    {
     "name": "stdout",
     "output_type": "stream",
     "text": [
      "_________________________________________________________________\n",
      "Layer (type)                 Output Shape              Param #   \n",
      "=================================================================\n",
      "conv2d_3 (Conv2D)            (None, 50, 50, 128)       1664      \n",
      "_________________________________________________________________\n",
      "batch_normalization_1 (Batch (None, 50, 50, 128)       512       \n",
      "_________________________________________________________________\n",
      "activation_3 (Activation)    (None, 50, 50, 128)       0         \n",
      "_________________________________________________________________\n",
      "max_pooling2d_3 (MaxPooling2 (None, 25, 25, 128)       0         \n",
      "_________________________________________________________________\n",
      "dropout_1 (Dropout)          (None, 25, 25, 128)       0         \n",
      "_________________________________________________________________\n",
      "conv2d_4 (Conv2D)            (None, 25, 25, 256)       131328    \n",
      "_________________________________________________________________\n",
      "batch_normalization_2 (Batch (None, 25, 25, 256)       1024      \n",
      "_________________________________________________________________\n",
      "activation_4 (Activation)    (None, 25, 25, 256)       0         \n",
      "_________________________________________________________________\n",
      "max_pooling2d_4 (MaxPooling2 (None, 12, 12, 256)       0         \n",
      "_________________________________________________________________\n",
      "dropout_2 (Dropout)          (None, 12, 12, 256)       0         \n",
      "_________________________________________________________________\n",
      "conv2d_5 (Conv2D)            (None, 12, 12, 512)       524800    \n",
      "_________________________________________________________________\n",
      "batch_normalization_3 (Batch (None, 12, 12, 512)       2048      \n",
      "_________________________________________________________________\n",
      "activation_5 (Activation)    (None, 12, 12, 512)       0         \n",
      "_________________________________________________________________\n",
      "max_pooling2d_5 (MaxPooling2 (None, 6, 6, 512)         0         \n",
      "_________________________________________________________________\n",
      "dropout_3 (Dropout)          (None, 6, 6, 512)         0         \n",
      "_________________________________________________________________\n",
      "conv2d_6 (Conv2D)            (None, 6, 6, 1024)        2098176   \n",
      "_________________________________________________________________\n",
      "batch_normalization_4 (Batch (None, 6, 6, 1024)        4096      \n",
      "_________________________________________________________________\n",
      "activation_6 (Activation)    (None, 6, 6, 1024)        0         \n",
      "_________________________________________________________________\n",
      "max_pooling2d_6 (MaxPooling2 (None, 3, 3, 1024)        0         \n",
      "_________________________________________________________________\n",
      "dropout_4 (Dropout)          (None, 3, 3, 1024)        0         \n",
      "_________________________________________________________________\n",
      "flatten_2 (Flatten)          (None, 9216)              0         \n",
      "_________________________________________________________________\n",
      "dense_4 (Dense)              (None, 1024)              9438208   \n",
      "_________________________________________________________________\n",
      "batch_normalization_5 (Batch (None, 1024)              4096      \n",
      "_________________________________________________________________\n",
      "dropout_5 (Dropout)          (None, 1024)              0         \n",
      "_________________________________________________________________\n",
      "dense_5 (Dense)              (None, 2)                 2050      \n",
      "=================================================================\n",
      "Total params: 12,208,002\n",
      "Trainable params: 12,202,114\n",
      "Non-trainable params: 5,888\n",
      "_________________________________________________________________\n"
     ]
    }
   ],
   "source": [
    "\n",
    "model_complex.summary()\n"
   ]
  },
  {
   "cell_type": "code",
   "execution_count": 31,
   "metadata": {},
   "outputs": [],
   "source": [
    "\n",
    "optimizer = keras.optimizers.RMSprop(lr=0.00005)\n",
    "model_complex.compile(optimizer=optimizer, loss='categorical_crossentropy', metrics=['accuracy'])\n",
    "\n",
    "\n",
    "aug = ImageDataGenerator(rotation_range=20, zoom_range=0.15, width_shift_range=0.2, height_shift_range=0.2, shear_range=0.15, horizontal_flip=True, fill_mode=\"nearest\")\n",
    "\n",
    "weights_filepath = \"weights_better.hdf5\"\n",
    "checkpoint = ModelCheckpoint(weights_filepath, monitor = 'val_acc', verbose = 1, save_best_only = True, mode='max')\n",
    "callbacks_list = [checkpoint]\n"
   ]
  },
  {
   "cell_type": "code",
   "execution_count": 32,
   "metadata": {},
   "outputs": [
    {
     "name": "stdout",
     "output_type": "stream",
     "text": [
      "Epoch 1/100\n",
      "37/37 [==============================] - 7s 190ms/step - loss: 1.0039 - acc: 0.5650 - val_loss: 0.6531 - val_acc: 0.6233\n",
      "\n",
      "Epoch 00001: val_acc improved from -inf to 0.62333, saving model to weights_better.hdf5\n",
      "Epoch 2/100\n",
      "37/37 [==============================] - 4s 119ms/step - loss: 0.9121 - acc: 0.5849 - val_loss: 0.6639 - val_acc: 0.6267\n",
      "\n",
      "Epoch 00002: val_acc improved from 0.62333 to 0.62667, saving model to weights_better.hdf5\n",
      "Epoch 3/100\n",
      "37/37 [==============================] - 4s 116ms/step - loss: 0.8840 - acc: 0.5970 - val_loss: 0.6750 - val_acc: 0.6250\n",
      "\n",
      "Epoch 00003: val_acc did not improve from 0.62667\n",
      "Epoch 4/100\n",
      "37/37 [==============================] - 4s 116ms/step - loss: 0.8425 - acc: 0.6026 - val_loss: 0.6646 - val_acc: 0.6383\n",
      "\n",
      "Epoch 00004: val_acc improved from 0.62667 to 0.63833, saving model to weights_better.hdf5\n",
      "Epoch 5/100\n",
      "37/37 [==============================] - 4s 117ms/step - loss: 0.8129 - acc: 0.6105 - val_loss: 0.6850 - val_acc: 0.6433\n",
      "\n",
      "Epoch 00005: val_acc improved from 0.63833 to 0.64333, saving model to weights_better.hdf5\n",
      "Epoch 6/100\n",
      "37/37 [==============================] - 4s 118ms/step - loss: 0.7871 - acc: 0.6210 - val_loss: 0.6181 - val_acc: 0.6833\n",
      "\n",
      "Epoch 00006: val_acc improved from 0.64333 to 0.68333, saving model to weights_better.hdf5\n",
      "Epoch 7/100\n",
      "37/37 [==============================] - 4s 117ms/step - loss: 0.7758 - acc: 0.6218 - val_loss: 0.6600 - val_acc: 0.6550\n",
      "\n",
      "Epoch 00007: val_acc did not improve from 0.68333\n",
      "Epoch 8/100\n",
      "37/37 [==============================] - 4s 116ms/step - loss: 0.7830 - acc: 0.6178 - val_loss: 0.5973 - val_acc: 0.7000\n",
      "\n",
      "Epoch 00008: val_acc improved from 0.68333 to 0.70000, saving model to weights_better.hdf5\n",
      "Epoch 9/100\n",
      "37/37 [==============================] - 4s 117ms/step - loss: 0.7446 - acc: 0.6400 - val_loss: 0.5884 - val_acc: 0.6833\n",
      "\n",
      "Epoch 00009: val_acc did not improve from 0.70000\n",
      "Epoch 10/100\n",
      "37/37 [==============================] - 4s 115ms/step - loss: 0.7489 - acc: 0.6296 - val_loss: 0.7058 - val_acc: 0.6350\n",
      "\n",
      "Epoch 00010: val_acc did not improve from 0.70000\n",
      "Epoch 11/100\n",
      "37/37 [==============================] - 4s 117ms/step - loss: 0.7276 - acc: 0.6305 - val_loss: 0.6512 - val_acc: 0.6650\n",
      "\n",
      "Epoch 00011: val_acc did not improve from 0.70000\n",
      "Epoch 12/100\n",
      "37/37 [==============================] - 4s 116ms/step - loss: 0.7458 - acc: 0.6274 - val_loss: 0.6937 - val_acc: 0.6450\n",
      "\n",
      "Epoch 00012: val_acc did not improve from 0.70000\n",
      "Epoch 13/100\n",
      "37/37 [==============================] - 4s 115ms/step - loss: 0.7050 - acc: 0.6487 - val_loss: 0.6772 - val_acc: 0.6483\n",
      "\n",
      "Epoch 00013: val_acc did not improve from 0.70000\n",
      "Epoch 14/100\n",
      "37/37 [==============================] - 4s 119ms/step - loss: 0.7116 - acc: 0.6353 - val_loss: 0.7149 - val_acc: 0.5933\n",
      "\n",
      "Epoch 00014: val_acc did not improve from 0.70000\n",
      "Epoch 15/100\n",
      "37/37 [==============================] - 4s 115ms/step - loss: 0.7005 - acc: 0.6447 - val_loss: 0.5968 - val_acc: 0.7033\n",
      "\n",
      "Epoch 00015: val_acc improved from 0.70000 to 0.70333, saving model to weights_better.hdf5\n",
      "Epoch 16/100\n",
      "37/37 [==============================] - 4s 119ms/step - loss: 0.6971 - acc: 0.6537 - val_loss: 0.5519 - val_acc: 0.7067\n",
      "\n",
      "Epoch 00016: val_acc improved from 0.70333 to 0.70667, saving model to weights_better.hdf5\n",
      "Epoch 17/100\n",
      "37/37 [==============================] - 4s 115ms/step - loss: 0.6817 - acc: 0.6498 - val_loss: 0.6070 - val_acc: 0.6900\n",
      "\n",
      "Epoch 00017: val_acc did not improve from 0.70667\n",
      "Epoch 18/100\n",
      "37/37 [==============================] - 4s 118ms/step - loss: 0.6752 - acc: 0.6448 - val_loss: 0.5536 - val_acc: 0.7083\n",
      "\n",
      "Epoch 00018: val_acc improved from 0.70667 to 0.70833, saving model to weights_better.hdf5\n",
      "Epoch 19/100\n",
      "37/37 [==============================] - 4s 118ms/step - loss: 0.6790 - acc: 0.6524 - val_loss: 0.5953 - val_acc: 0.7050\n",
      "\n",
      "Epoch 00019: val_acc did not improve from 0.70833\n",
      "Epoch 20/100\n",
      "37/37 [==============================] - 4s 120ms/step - loss: 0.6694 - acc: 0.6575 - val_loss: 0.6313 - val_acc: 0.6767\n",
      "\n",
      "Epoch 00020: val_acc did not improve from 0.70833\n",
      "Epoch 21/100\n",
      "37/37 [==============================] - 4s 118ms/step - loss: 0.6640 - acc: 0.6579 - val_loss: 0.6008 - val_acc: 0.6867\n",
      "\n",
      "Epoch 00021: val_acc did not improve from 0.70833\n",
      "Epoch 22/100\n",
      "37/37 [==============================] - 4s 119ms/step - loss: 0.6596 - acc: 0.6615 - val_loss: 0.6764 - val_acc: 0.6483\n",
      "\n",
      "Epoch 00022: val_acc did not improve from 0.70833\n",
      "Epoch 23/100\n",
      "37/37 [==============================] - 4s 121ms/step - loss: 0.6518 - acc: 0.6704 - val_loss: 0.6101 - val_acc: 0.6733\n",
      "\n",
      "Epoch 00023: val_acc did not improve from 0.70833\n",
      "Epoch 24/100\n",
      "37/37 [==============================] - 4s 119ms/step - loss: 0.6475 - acc: 0.6716 - val_loss: 0.5925 - val_acc: 0.7050\n",
      "\n",
      "Epoch 00024: val_acc did not improve from 0.70833\n",
      "Epoch 25/100\n",
      "37/37 [==============================] - 4s 119ms/step - loss: 0.6495 - acc: 0.6683 - val_loss: 0.6391 - val_acc: 0.6700\n",
      "\n",
      "Epoch 00025: val_acc did not improve from 0.70833\n",
      "Epoch 26/100\n",
      "37/37 [==============================] - 4s 119ms/step - loss: 0.6477 - acc: 0.6675 - val_loss: 0.6900 - val_acc: 0.6500\n",
      "\n",
      "Epoch 00026: val_acc did not improve from 0.70833\n",
      "Epoch 27/100\n",
      "37/37 [==============================] - 4s 119ms/step - loss: 0.6275 - acc: 0.6784 - val_loss: 0.5607 - val_acc: 0.7383\n",
      "\n",
      "Epoch 00027: val_acc improved from 0.70833 to 0.73833, saving model to weights_better.hdf5\n",
      "Epoch 28/100\n",
      "37/37 [==============================] - 4s 119ms/step - loss: 0.6108 - acc: 0.6936 - val_loss: 0.6330 - val_acc: 0.6783\n",
      "\n",
      "Epoch 00028: val_acc did not improve from 0.73833\n",
      "Epoch 29/100\n",
      "37/37 [==============================] - 4s 120ms/step - loss: 0.6364 - acc: 0.6767 - val_loss: 0.6112 - val_acc: 0.6833\n",
      "\n",
      "Epoch 00029: val_acc did not improve from 0.73833\n",
      "Epoch 30/100\n",
      "37/37 [==============================] - 4s 119ms/step - loss: 0.6380 - acc: 0.6695 - val_loss: 0.6768 - val_acc: 0.6383\n",
      "\n",
      "Epoch 00030: val_acc did not improve from 0.73833\n",
      "Epoch 31/100\n",
      "37/37 [==============================] - 4s 118ms/step - loss: 0.6198 - acc: 0.6797 - val_loss: 0.5860 - val_acc: 0.7017\n",
      "\n",
      "Epoch 00031: val_acc did not improve from 0.73833\n",
      "Epoch 32/100\n",
      "37/37 [==============================] - 4s 118ms/step - loss: 0.6174 - acc: 0.6921 - val_loss: 0.5864 - val_acc: 0.6933\n",
      "\n",
      "Epoch 00032: val_acc did not improve from 0.73833\n",
      "Epoch 33/100\n",
      "37/37 [==============================] - 4s 118ms/step - loss: 0.6088 - acc: 0.6930 - val_loss: 0.5932 - val_acc: 0.6867\n",
      "\n",
      "Epoch 00033: val_acc did not improve from 0.73833\n",
      "Epoch 34/100\n",
      "37/37 [==============================] - 4s 118ms/step - loss: 0.6010 - acc: 0.6972 - val_loss: 0.5840 - val_acc: 0.7150\n",
      "\n",
      "Epoch 00034: val_acc did not improve from 0.73833\n",
      "Epoch 35/100\n",
      "37/37 [==============================] - 4s 118ms/step - loss: 0.6066 - acc: 0.6942 - val_loss: 0.6241 - val_acc: 0.6750\n",
      "\n",
      "Epoch 00035: val_acc did not improve from 0.73833\n",
      "Epoch 36/100\n",
      "37/37 [==============================] - 4s 117ms/step - loss: 0.6250 - acc: 0.6858 - val_loss: 0.7277 - val_acc: 0.6233\n",
      "\n",
      "Epoch 00036: val_acc did not improve from 0.73833\n",
      "Epoch 37/100\n",
      "37/37 [==============================] - 4s 119ms/step - loss: 0.6087 - acc: 0.6915 - val_loss: 0.7413 - val_acc: 0.6250\n",
      "\n",
      "Epoch 00037: val_acc did not improve from 0.73833\n",
      "Epoch 38/100\n",
      "37/37 [==============================] - 4s 117ms/step - loss: 0.5906 - acc: 0.7038 - val_loss: 0.6547 - val_acc: 0.6567\n",
      "\n",
      "Epoch 00038: val_acc did not improve from 0.73833\n",
      "Epoch 39/100\n",
      "37/37 [==============================] - 4s 118ms/step - loss: 0.6025 - acc: 0.7021 - val_loss: 0.5869 - val_acc: 0.7300\n",
      "\n",
      "Epoch 00039: val_acc did not improve from 0.73833\n",
      "Epoch 40/100\n",
      "37/37 [==============================] - 4s 119ms/step - loss: 0.5982 - acc: 0.7016 - val_loss: 0.5324 - val_acc: 0.7417\n",
      "\n",
      "Epoch 00040: val_acc improved from 0.73833 to 0.74167, saving model to weights_better.hdf5\n",
      "Epoch 41/100\n",
      "37/37 [==============================] - 4s 119ms/step - loss: 0.5913 - acc: 0.7017 - val_loss: 0.5615 - val_acc: 0.7117\n",
      "\n",
      "Epoch 00041: val_acc did not improve from 0.74167\n",
      "Epoch 42/100\n",
      "37/37 [==============================] - 4s 119ms/step - loss: 0.5944 - acc: 0.7017 - val_loss: 0.6116 - val_acc: 0.6883\n",
      "\n",
      "Epoch 00042: val_acc did not improve from 0.74167\n",
      "Epoch 43/100\n"
     ]
    },
    {
     "name": "stdout",
     "output_type": "stream",
     "text": [
      "37/37 [==============================] - 4s 119ms/step - loss: 0.5754 - acc: 0.7095 - val_loss: 0.6058 - val_acc: 0.7050\n",
      "\n",
      "Epoch 00043: val_acc did not improve from 0.74167\n",
      "Epoch 44/100\n",
      "37/37 [==============================] - 4s 118ms/step - loss: 0.5914 - acc: 0.6968 - val_loss: 0.6035 - val_acc: 0.6983\n",
      "\n",
      "Epoch 00044: val_acc did not improve from 0.74167\n",
      "Epoch 45/100\n",
      "37/37 [==============================] - 4s 119ms/step - loss: 0.5962 - acc: 0.7016 - val_loss: 0.6458 - val_acc: 0.6783\n",
      "\n",
      "Epoch 00045: val_acc did not improve from 0.74167\n",
      "Epoch 46/100\n",
      "37/37 [==============================] - 4s 119ms/step - loss: 0.5749 - acc: 0.7107 - val_loss: 0.6634 - val_acc: 0.6667\n",
      "\n",
      "Epoch 00046: val_acc did not improve from 0.74167\n",
      "Epoch 47/100\n",
      "37/37 [==============================] - 5s 123ms/step - loss: 0.5840 - acc: 0.7092 - val_loss: 0.5444 - val_acc: 0.7350\n",
      "\n",
      "Epoch 00047: val_acc did not improve from 0.74167\n",
      "Epoch 48/100\n",
      "37/37 [==============================] - 4s 121ms/step - loss: 0.5712 - acc: 0.7149 - val_loss: 0.5992 - val_acc: 0.6800\n",
      "\n",
      "Epoch 00048: val_acc did not improve from 0.74167\n",
      "Epoch 49/100\n",
      "37/37 [==============================] - 4s 121ms/step - loss: 0.5765 - acc: 0.7139 - val_loss: 0.5583 - val_acc: 0.7217\n",
      "\n",
      "Epoch 00049: val_acc did not improve from 0.74167\n",
      "Epoch 50/100\n",
      "37/37 [==============================] - 4s 120ms/step - loss: 0.5813 - acc: 0.7095 - val_loss: 0.5267 - val_acc: 0.7583\n",
      "\n",
      "Epoch 00050: val_acc improved from 0.74167 to 0.75833, saving model to weights_better.hdf5\n",
      "Epoch 51/100\n",
      "37/37 [==============================] - 4s 118ms/step - loss: 0.5679 - acc: 0.7162 - val_loss: 0.5314 - val_acc: 0.7283\n",
      "\n",
      "Epoch 00051: val_acc did not improve from 0.75833\n",
      "Epoch 52/100\n",
      "37/37 [==============================] - 4s 118ms/step - loss: 0.5740 - acc: 0.7116 - val_loss: 0.5753 - val_acc: 0.7167\n",
      "\n",
      "Epoch 00052: val_acc did not improve from 0.75833\n",
      "Epoch 53/100\n",
      "37/37 [==============================] - 4s 119ms/step - loss: 0.5646 - acc: 0.7186 - val_loss: 0.6121 - val_acc: 0.6933\n",
      "\n",
      "Epoch 00053: val_acc did not improve from 0.75833\n",
      "Epoch 54/100\n",
      "37/37 [==============================] - 4s 119ms/step - loss: 0.5534 - acc: 0.7329 - val_loss: 0.6445 - val_acc: 0.6783\n",
      "\n",
      "Epoch 00054: val_acc did not improve from 0.75833\n",
      "Epoch 55/100\n",
      "37/37 [==============================] - 4s 118ms/step - loss: 0.5572 - acc: 0.7229 - val_loss: 0.5553 - val_acc: 0.7267\n",
      "\n",
      "Epoch 00055: val_acc did not improve from 0.75833\n",
      "Epoch 56/100\n",
      "37/37 [==============================] - 4s 120ms/step - loss: 0.5647 - acc: 0.7120 - val_loss: 0.4977 - val_acc: 0.7483\n",
      "\n",
      "Epoch 00056: val_acc did not improve from 0.75833\n",
      "Epoch 57/100\n",
      "37/37 [==============================] - 4s 117ms/step - loss: 0.5524 - acc: 0.7213 - val_loss: 0.5726 - val_acc: 0.7117\n",
      "\n",
      "Epoch 00057: val_acc did not improve from 0.75833\n",
      "Epoch 58/100\n",
      "37/37 [==============================] - 4s 115ms/step - loss: 0.5587 - acc: 0.7244 - val_loss: 0.5844 - val_acc: 0.7067\n",
      "\n",
      "Epoch 00058: val_acc did not improve from 0.75833\n",
      "Epoch 59/100\n",
      "37/37 [==============================] - 4s 119ms/step - loss: 0.5588 - acc: 0.7213 - val_loss: 0.6296 - val_acc: 0.6900\n",
      "\n",
      "Epoch 00059: val_acc did not improve from 0.75833\n",
      "Epoch 60/100\n",
      "37/37 [==============================] - 4s 118ms/step - loss: 0.5501 - acc: 0.7261 - val_loss: 0.4961 - val_acc: 0.7517\n",
      "\n",
      "Epoch 00060: val_acc did not improve from 0.75833\n",
      "Epoch 61/100\n",
      "37/37 [==============================] - 4s 118ms/step - loss: 0.5283 - acc: 0.7405 - val_loss: 0.5405 - val_acc: 0.7333\n",
      "\n",
      "Epoch 00061: val_acc did not improve from 0.75833\n",
      "Epoch 62/100\n",
      "37/37 [==============================] - 4s 120ms/step - loss: 0.5502 - acc: 0.7289 - val_loss: 0.5455 - val_acc: 0.7367\n",
      "\n",
      "Epoch 00062: val_acc did not improve from 0.75833\n",
      "Epoch 63/100\n",
      "37/37 [==============================] - 4s 119ms/step - loss: 0.5342 - acc: 0.7409 - val_loss: 0.5709 - val_acc: 0.7117\n",
      "\n",
      "Epoch 00063: val_acc did not improve from 0.75833\n",
      "Epoch 64/100\n",
      "37/37 [==============================] - 4s 120ms/step - loss: 0.5434 - acc: 0.7365 - val_loss: 0.6984 - val_acc: 0.6717\n",
      "\n",
      "Epoch 00064: val_acc did not improve from 0.75833\n",
      "Epoch 65/100\n",
      "37/37 [==============================] - 4s 119ms/step - loss: 0.5395 - acc: 0.7460 - val_loss: 0.5254 - val_acc: 0.7467\n",
      "\n",
      "Epoch 00065: val_acc did not improve from 0.75833\n",
      "Epoch 66/100\n",
      "37/37 [==============================] - 4s 118ms/step - loss: 0.5363 - acc: 0.7348 - val_loss: 0.5017 - val_acc: 0.7583\n",
      "\n",
      "Epoch 00066: val_acc improved from 0.75833 to 0.75833, saving model to weights_better.hdf5\n",
      "Epoch 67/100\n",
      "37/37 [==============================] - 4s 118ms/step - loss: 0.5313 - acc: 0.7388 - val_loss: 0.4843 - val_acc: 0.7617\n",
      "\n",
      "Epoch 00067: val_acc improved from 0.75833 to 0.76167, saving model to weights_better.hdf5\n",
      "Epoch 68/100\n",
      "37/37 [==============================] - 4s 120ms/step - loss: 0.5301 - acc: 0.7401 - val_loss: 0.5217 - val_acc: 0.7583\n",
      "\n",
      "Epoch 00068: val_acc did not improve from 0.76167\n",
      "Epoch 69/100\n",
      "37/37 [==============================] - 4s 118ms/step - loss: 0.5280 - acc: 0.7466 - val_loss: 0.5070 - val_acc: 0.7583\n",
      "\n",
      "Epoch 00069: val_acc did not improve from 0.76167\n",
      "Epoch 70/100\n",
      "37/37 [==============================] - 4s 119ms/step - loss: 0.5267 - acc: 0.7456 - val_loss: 0.4731 - val_acc: 0.7667\n",
      "\n",
      "Epoch 00070: val_acc improved from 0.76167 to 0.76667, saving model to weights_better.hdf5\n",
      "Epoch 71/100\n",
      "37/37 [==============================] - 4s 118ms/step - loss: 0.5380 - acc: 0.7363 - val_loss: 0.4748 - val_acc: 0.7817\n",
      "\n",
      "Epoch 00071: val_acc improved from 0.76667 to 0.78167, saving model to weights_better.hdf5\n",
      "Epoch 72/100\n",
      "37/37 [==============================] - 4s 119ms/step - loss: 0.5226 - acc: 0.7489 - val_loss: 0.4984 - val_acc: 0.7650\n",
      "\n",
      "Epoch 00072: val_acc did not improve from 0.78167\n",
      "Epoch 73/100\n",
      "37/37 [==============================] - 4s 119ms/step - loss: 0.5203 - acc: 0.7430 - val_loss: 0.4849 - val_acc: 0.7700\n",
      "\n",
      "Epoch 00073: val_acc did not improve from 0.78167\n",
      "Epoch 74/100\n",
      "37/37 [==============================] - 4s 119ms/step - loss: 0.5259 - acc: 0.7493 - val_loss: 0.5075 - val_acc: 0.7317\n",
      "\n",
      "Epoch 00074: val_acc did not improve from 0.78167\n",
      "Epoch 75/100\n",
      "37/37 [==============================] - 4s 119ms/step - loss: 0.5194 - acc: 0.7506 - val_loss: 0.4779 - val_acc: 0.7633\n",
      "\n",
      "Epoch 00075: val_acc did not improve from 0.78167\n",
      "Epoch 76/100\n",
      "37/37 [==============================] - 4s 118ms/step - loss: 0.5188 - acc: 0.7428 - val_loss: 0.4845 - val_acc: 0.7783\n",
      "\n",
      "Epoch 00076: val_acc did not improve from 0.78167\n",
      "Epoch 77/100\n",
      "37/37 [==============================] - 4s 118ms/step - loss: 0.5166 - acc: 0.7532 - val_loss: 0.4362 - val_acc: 0.8217\n",
      "\n",
      "Epoch 00077: val_acc improved from 0.78167 to 0.82167, saving model to weights_better.hdf5\n",
      "Epoch 78/100\n",
      "37/37 [==============================] - 4s 117ms/step - loss: 0.5177 - acc: 0.7500 - val_loss: 0.5580 - val_acc: 0.7250\n",
      "\n",
      "Epoch 00078: val_acc did not improve from 0.82167\n",
      "Epoch 79/100\n",
      "37/37 [==============================] - 4s 121ms/step - loss: 0.5190 - acc: 0.7517 - val_loss: 0.4608 - val_acc: 0.7900\n",
      "\n",
      "Epoch 00079: val_acc did not improve from 0.82167\n",
      "Epoch 80/100\n",
      "37/37 [==============================] - 4s 118ms/step - loss: 0.5107 - acc: 0.7583 - val_loss: 0.4379 - val_acc: 0.8117\n",
      "\n",
      "Epoch 00080: val_acc did not improve from 0.82167\n",
      "Epoch 81/100\n",
      "37/37 [==============================] - 4s 119ms/step - loss: 0.5208 - acc: 0.7542 - val_loss: 0.4741 - val_acc: 0.7833\n",
      "\n",
      "Epoch 00081: val_acc did not improve from 0.82167\n",
      "Epoch 82/100\n",
      "37/37 [==============================] - 4s 117ms/step - loss: 0.4953 - acc: 0.7633 - val_loss: 0.4754 - val_acc: 0.7867\n",
      "\n",
      "Epoch 00082: val_acc did not improve from 0.82167\n",
      "Epoch 83/100\n",
      "37/37 [==============================] - 4s 119ms/step - loss: 0.4959 - acc: 0.7483 - val_loss: 0.4900 - val_acc: 0.7783\n",
      "\n",
      "Epoch 00083: val_acc did not improve from 0.82167\n",
      "Epoch 84/100\n",
      "37/37 [==============================] - 4s 118ms/step - loss: 0.5070 - acc: 0.7538 - val_loss: 0.4747 - val_acc: 0.7767\n",
      "\n",
      "Epoch 00084: val_acc did not improve from 0.82167\n",
      "Epoch 85/100\n",
      "37/37 [==============================] - 4s 121ms/step - loss: 0.4938 - acc: 0.7559 - val_loss: 0.5019 - val_acc: 0.7767\n",
      "\n",
      "Epoch 00085: val_acc did not improve from 0.82167\n",
      "Epoch 86/100\n"
     ]
    },
    {
     "name": "stdout",
     "output_type": "stream",
     "text": [
      "37/37 [==============================] - 4s 117ms/step - loss: 0.5080 - acc: 0.7527 - val_loss: 0.4547 - val_acc: 0.7967\n",
      "\n",
      "Epoch 00086: val_acc did not improve from 0.82167\n",
      "Epoch 87/100\n",
      "37/37 [==============================] - 4s 120ms/step - loss: 0.5036 - acc: 0.7582 - val_loss: 0.4578 - val_acc: 0.8017\n",
      "\n",
      "Epoch 00087: val_acc did not improve from 0.82167\n",
      "Epoch 88/100\n",
      "37/37 [==============================] - 4s 119ms/step - loss: 0.4943 - acc: 0.7686 - val_loss: 0.4687 - val_acc: 0.7933\n",
      "\n",
      "Epoch 00088: val_acc did not improve from 0.82167\n",
      "Epoch 89/100\n",
      "37/37 [==============================] - 4s 120ms/step - loss: 0.4806 - acc: 0.7686 - val_loss: 0.4386 - val_acc: 0.8033\n",
      "\n",
      "Epoch 00089: val_acc did not improve from 0.82167\n",
      "Epoch 90/100\n",
      "37/37 [==============================] - 4s 118ms/step - loss: 0.4992 - acc: 0.7629 - val_loss: 0.5061 - val_acc: 0.7733\n",
      "\n",
      "Epoch 00090: val_acc did not improve from 0.82167\n",
      "Epoch 91/100\n",
      "37/37 [==============================] - 4s 119ms/step - loss: 0.4860 - acc: 0.7665 - val_loss: 0.4709 - val_acc: 0.8017\n",
      "\n",
      "Epoch 00091: val_acc did not improve from 0.82167\n",
      "Epoch 92/100\n",
      "37/37 [==============================] - 4s 118ms/step - loss: 0.4886 - acc: 0.7635 - val_loss: 0.4596 - val_acc: 0.8017\n",
      "\n",
      "Epoch 00092: val_acc did not improve from 0.82167\n",
      "Epoch 93/100\n",
      "37/37 [==============================] - 4s 119ms/step - loss: 0.4827 - acc: 0.7694 - val_loss: 0.4390 - val_acc: 0.8133\n",
      "\n",
      "Epoch 00093: val_acc did not improve from 0.82167\n",
      "Epoch 94/100\n",
      "37/37 [==============================] - 4s 120ms/step - loss: 0.4776 - acc: 0.7751 - val_loss: 0.4549 - val_acc: 0.7917\n",
      "\n",
      "Epoch 00094: val_acc did not improve from 0.82167\n",
      "Epoch 95/100\n",
      "37/37 [==============================] - 4s 119ms/step - loss: 0.4917 - acc: 0.7648 - val_loss: 0.4532 - val_acc: 0.8167\n",
      "\n",
      "Epoch 00095: val_acc did not improve from 0.82167\n",
      "Epoch 96/100\n",
      "37/37 [==============================] - 4s 121ms/step - loss: 0.5026 - acc: 0.7553 - val_loss: 0.4577 - val_acc: 0.8167\n",
      "\n",
      "Epoch 00096: val_acc did not improve from 0.82167\n",
      "Epoch 97/100\n",
      "37/37 [==============================] - 4s 119ms/step - loss: 0.4846 - acc: 0.7721 - val_loss: 0.4843 - val_acc: 0.7950\n",
      "\n",
      "Epoch 00097: val_acc did not improve from 0.82167\n",
      "Epoch 98/100\n",
      "37/37 [==============================] - 4s 120ms/step - loss: 0.4844 - acc: 0.7711 - val_loss: 0.4529 - val_acc: 0.8017\n",
      "\n",
      "Epoch 00098: val_acc did not improve from 0.82167\n",
      "Epoch 99/100\n",
      "37/37 [==============================] - 4s 116ms/step - loss: 0.4777 - acc: 0.7684 - val_loss: 0.4535 - val_acc: 0.8000\n",
      "\n",
      "Epoch 00099: val_acc did not improve from 0.82167\n",
      "Epoch 100/100\n",
      "37/37 [==============================] - 4s 119ms/step - loss: 0.4970 - acc: 0.7673 - val_loss: 0.4515 - val_acc: 0.7983\n",
      "\n",
      "Epoch 00100: val_acc did not improve from 0.82167\n"
     ]
    }
   ],
   "source": [
    "\n",
    "# history_complex = model_complex.fit(x_train, y_train, batch_size=batch_size, epochs=epochs,validation_data=(x_test, y_test), verbose=1)\n",
    "\n",
    "epoch_complex = 100\n",
    "\n",
    "history_complex = model_complex.fit_generator(aug.flow(x_train, y_train, batch_size=batch_size), validation_data=(x_test, y_test), callbacks=callbacks_list, steps_per_epoch=len(x_train) // batch_size, epochs=epoch_complex)\n"
   ]
  },
  {
   "cell_type": "code",
   "execution_count": 33,
   "metadata": {},
   "outputs": [
    {
     "name": "stdout",
     "output_type": "stream",
     "text": [
      "600/600 [==============================] - 0s 507us/step\n",
      "Test loss: 0.40629631241162617\n",
      "Test accuracy: 0.8183333333333334\n"
     ]
    }
   ],
   "source": [
    "\n",
    "score_complex = model_complex.evaluate(x_val, y_val, verbose=1)\n",
    "print('Test loss:', score_complex[0])\n",
    "print('Test accuracy:', score_complex[1])\n"
   ]
  },
  {
   "cell_type": "code",
   "execution_count": 34,
   "metadata": {},
   "outputs": [],
   "source": [
    "\n",
    "model_complex_predictions = model_complex.predict(x_val)\n"
   ]
  },
  {
   "cell_type": "markdown",
   "metadata": {},
   "source": [
    "### Exercise 5\n",
    "\n",
    "Apply the trained model on the testing set and output the classification results."
   ]
  },
  {
   "cell_type": "code",
   "execution_count": 35,
   "metadata": {},
   "outputs": [
    {
     "name": "stdout",
     "output_type": "stream",
     "text": [
      "Classification report for the complex CNN:\n",
      "             precision    recall  f1-score   support\n",
      "\n",
      "          0       0.83      0.81      0.82       303\n",
      "          1       0.81      0.83      0.82       297\n",
      "\n",
      "avg / total       0.82      0.82      0.82       600\n",
      "\n"
     ]
    }
   ],
   "source": [
    "\n",
    "print(\"Classification report for the complex CNN:\")\n",
    "print(classification_report(y_val.argmax(axis=1), model_complex_predictions.argmax(axis=1)))\n"
   ]
  },
  {
   "cell_type": "code",
   "execution_count": 36,
   "metadata": {},
   "outputs": [
    {
     "name": "stdout",
     "output_type": "stream",
     "text": [
      "Confusion matrix for the complex CNN:\n",
      "[[244  59]\n",
      " [ 50 247]]\n"
     ]
    }
   ],
   "source": [
    "\n",
    "print(\"Confusion matrix for the complex CNN:\")\n",
    "print(confusion_matrix(y_val.argmax(axis=1), model_complex_predictions.argmax(axis=1)))\n"
   ]
  },
  {
   "cell_type": "code",
   "execution_count": 37,
   "metadata": {},
   "outputs": [
    {
     "data": {
      "image/png": "[encoded data removed]",
      "text/plain": [
       "<matplotlib.figure.Figure at 0x2bfafd20438>"
      ]
     },
     "metadata": {},
     "output_type": "display_data"
    }
   ],
   "source": [
    "\n",
    "plot_train_val_acc_curve(history_complex)\n"
   ]
  },
  {
   "cell_type": "code",
   "execution_count": 38,
   "metadata": {},
   "outputs": [
    {
     "data": {
      "image/png": "[encoded data removed]",
      "text/plain": [
       "<matplotlib.figure.Figure at 0x2bfafd20278>"
      ]
     },
     "metadata": {},
     "output_type": "display_data"
    }
   ],
   "source": [
    "\n",
    "plot_train_val_loss_curve(history_complex)\n"
   ]
  },
  {
   "cell_type": "code",
   "execution_count": 39,
   "metadata": {},
   "outputs": [
    {
     "name": "stdout",
     "output_type": "stream",
     "text": [
      "Axes(0.547727,0.125;0.352273x0.755)\n"
     ]
    },
    {
     "data": {
      "image/png": "[encoded data removed]",
      "text/plain": [
       "<matplotlib.figure.Figure at 0x2c2021ddd30>"
      ]
     },
     "metadata": {},
     "output_type": "display_data"
    }
   ],
   "source": [
    "\n",
    "print(plot_precision_recall_curve(first_arg(y_val), first_arg(model_complex_predictions), \"Keras Complex CNN\"))\n"
   ]
  },
  {
   "cell_type": "markdown",
   "metadata": {},
   "source": [
    "### Exercise 6 \n",
    "\n",
    "Plot the saliency map of original image to see which part is important for making classification decisions. You can refer to the following blog article on how to generate visualisation results of the filters in the ConvNets.\n",
    "https://blog.keras.io/how-convolutional-neural-networks-see-the-world.html"
   ]
  },
  {
   "cell_type": "code",
   "execution_count": 40,
   "metadata": {},
   "outputs": [],
   "source": [
    "\n",
    "# Add your code here\n",
    "from keras import applications\n",
    "\n",
    "# get the symbolic outputs of each \"key\" layer (we gave them unique names).\n",
    "layer_dict = dict([(layer.name, layer) for layer in model_complex.layers])\n"
   ]
  },
  {
   "cell_type": "code",
   "execution_count": 41,
   "metadata": {},
   "outputs": [
    {
     "ename": "ValueError",
     "evalue": "Tried to convert 'x' to a tensor and failed. Error: None values not supported.",
     "output_type": "error",
     "traceback": [
      "\u001b[1;31m---------------------------------------------------------------------------\u001b[0m",
      "\u001b[1;31mValueError\u001b[0m                                Traceback (most recent call last)",
      "\u001b[1;32mD:\\Applications\\Python3\\lib\\site-packages\\tensorflow\\python\\framework\\op_def_library.py\u001b[0m in \u001b[0;36m_apply_op_helper\u001b[1;34m(self, op_type_name, name, **keywords)\u001b[0m\n\u001b[0;32m    509\u001b[0m                 \u001b[0mas_ref\u001b[0m\u001b[1;33m=\u001b[0m\u001b[0minput_arg\u001b[0m\u001b[1;33m.\u001b[0m\u001b[0mis_ref\u001b[0m\u001b[1;33m,\u001b[0m\u001b[1;33m\u001b[0m\u001b[0m\n\u001b[1;32m--> 510\u001b[1;33m                 preferred_dtype=default_dtype)\n\u001b[0m\u001b[0;32m    511\u001b[0m           \u001b[1;32mexcept\u001b[0m \u001b[0mTypeError\u001b[0m \u001b[1;32mas\u001b[0m \u001b[0merr\u001b[0m\u001b[1;33m:\u001b[0m\u001b[1;33m\u001b[0m\u001b[0m\n",
      "\u001b[1;32mD:\\Applications\\Python3\\lib\\site-packages\\tensorflow\\python\\framework\\ops.py\u001b[0m in \u001b[0;36minternal_convert_to_tensor\u001b[1;34m(value, dtype, name, as_ref, preferred_dtype, ctx)\u001b[0m\n\u001b[0;32m   1093\u001b[0m     \u001b[1;32mif\u001b[0m \u001b[0mret\u001b[0m \u001b[1;32mis\u001b[0m \u001b[1;32mNone\u001b[0m\u001b[1;33m:\u001b[0m\u001b[1;33m\u001b[0m\u001b[0m\n\u001b[1;32m-> 1094\u001b[1;33m       \u001b[0mret\u001b[0m \u001b[1;33m=\u001b[0m \u001b[0mconversion_func\u001b[0m\u001b[1;33m(\u001b[0m\u001b[0mvalue\u001b[0m\u001b[1;33m,\u001b[0m \u001b[0mdtype\u001b[0m\u001b[1;33m=\u001b[0m\u001b[0mdtype\u001b[0m\u001b[1;33m,\u001b[0m \u001b[0mname\u001b[0m\u001b[1;33m=\u001b[0m\u001b[0mname\u001b[0m\u001b[1;33m,\u001b[0m \u001b[0mas_ref\u001b[0m\u001b[1;33m=\u001b[0m\u001b[0mas_ref\u001b[0m\u001b[1;33m)\u001b[0m\u001b[1;33m\u001b[0m\u001b[0m\n\u001b[0m\u001b[0;32m   1095\u001b[0m \u001b[1;33m\u001b[0m\u001b[0m\n",
      "\u001b[1;32mD:\\Applications\\Python3\\lib\\site-packages\\tensorflow\\python\\framework\\constant_op.py\u001b[0m in \u001b[0;36m_constant_tensor_conversion_function\u001b[1;34m(v, dtype, name, as_ref)\u001b[0m\n\u001b[0;32m    216\u001b[0m   \u001b[0m_\u001b[0m \u001b[1;33m=\u001b[0m \u001b[0mas_ref\u001b[0m\u001b[1;33m\u001b[0m\u001b[0m\n\u001b[1;32m--> 217\u001b[1;33m   \u001b[1;32mreturn\u001b[0m \u001b[0mconstant\u001b[0m\u001b[1;33m(\u001b[0m\u001b[0mv\u001b[0m\u001b[1;33m,\u001b[0m \u001b[0mdtype\u001b[0m\u001b[1;33m=\u001b[0m\u001b[0mdtype\u001b[0m\u001b[1;33m,\u001b[0m \u001b[0mname\u001b[0m\u001b[1;33m=\u001b[0m\u001b[0mname\u001b[0m\u001b[1;33m)\u001b[0m\u001b[1;33m\u001b[0m\u001b[0m\n\u001b[0m\u001b[0;32m    218\u001b[0m \u001b[1;33m\u001b[0m\u001b[0m\n",
      "\u001b[1;32mD:\\Applications\\Python3\\lib\\site-packages\\tensorflow\\python\\framework\\constant_op.py\u001b[0m in \u001b[0;36mconstant\u001b[1;34m(value, dtype, shape, name, verify_shape)\u001b[0m\n\u001b[0;32m    195\u001b[0m       tensor_util.make_tensor_proto(\n\u001b[1;32m--> 196\u001b[1;33m           value, dtype=dtype, shape=shape, verify_shape=verify_shape))\n\u001b[0m\u001b[0;32m    197\u001b[0m   \u001b[0mdtype_value\u001b[0m \u001b[1;33m=\u001b[0m \u001b[0mattr_value_pb2\u001b[0m\u001b[1;33m.\u001b[0m\u001b[0mAttrValue\u001b[0m\u001b[1;33m(\u001b[0m\u001b[0mtype\u001b[0m\u001b[1;33m=\u001b[0m\u001b[0mtensor_value\u001b[0m\u001b[1;33m.\u001b[0m\u001b[0mtensor\u001b[0m\u001b[1;33m.\u001b[0m\u001b[0mdtype\u001b[0m\u001b[1;33m)\u001b[0m\u001b[1;33m\u001b[0m\u001b[0m\n",
      "\u001b[1;32mD:\\Applications\\Python3\\lib\\site-packages\\tensorflow\\python\\framework\\tensor_util.py\u001b[0m in \u001b[0;36mmake_tensor_proto\u001b[1;34m(values, dtype, shape, verify_shape)\u001b[0m\n\u001b[0;32m    423\u001b[0m     \u001b[1;32mif\u001b[0m \u001b[0mvalues\u001b[0m \u001b[1;32mis\u001b[0m \u001b[1;32mNone\u001b[0m\u001b[1;33m:\u001b[0m\u001b[1;33m\u001b[0m\u001b[0m\n\u001b[1;32m--> 424\u001b[1;33m       \u001b[1;32mraise\u001b[0m \u001b[0mValueError\u001b[0m\u001b[1;33m(\u001b[0m\u001b[1;34m\"None values not supported.\"\u001b[0m\u001b[1;33m)\u001b[0m\u001b[1;33m\u001b[0m\u001b[0m\n\u001b[0m\u001b[0;32m    425\u001b[0m     \u001b[1;31m# if dtype is provided, forces numpy array to be the type\u001b[0m\u001b[1;33m\u001b[0m\u001b[1;33m\u001b[0m\u001b[0m\n",
      "\u001b[1;31mValueError\u001b[0m: None values not supported.",
      "\nDuring handling of the above exception, another exception occurred:\n",
      "\u001b[1;31mValueError\u001b[0m                                Traceback (most recent call last)",
      "\u001b[1;32mD:\\Applications\\Python3\\lib\\site-packages\\tensorflow\\python\\framework\\op_def_library.py\u001b[0m in \u001b[0;36m_apply_op_helper\u001b[1;34m(self, op_type_name, name, **keywords)\u001b[0m\n\u001b[0;32m    523\u001b[0m               observed = ops.internal_convert_to_tensor(\n\u001b[1;32m--> 524\u001b[1;33m                   values, as_ref=input_arg.is_ref).dtype.name\n\u001b[0m\u001b[0;32m    525\u001b[0m             \u001b[1;32mexcept\u001b[0m \u001b[0mValueError\u001b[0m \u001b[1;32mas\u001b[0m \u001b[0merr\u001b[0m\u001b[1;33m:\u001b[0m\u001b[1;33m\u001b[0m\u001b[0m\n",
      "\u001b[1;32mD:\\Applications\\Python3\\lib\\site-packages\\tensorflow\\python\\framework\\ops.py\u001b[0m in \u001b[0;36minternal_convert_to_tensor\u001b[1;34m(value, dtype, name, as_ref, preferred_dtype, ctx)\u001b[0m\n\u001b[0;32m   1093\u001b[0m     \u001b[1;32mif\u001b[0m \u001b[0mret\u001b[0m \u001b[1;32mis\u001b[0m \u001b[1;32mNone\u001b[0m\u001b[1;33m:\u001b[0m\u001b[1;33m\u001b[0m\u001b[0m\n\u001b[1;32m-> 1094\u001b[1;33m       \u001b[0mret\u001b[0m \u001b[1;33m=\u001b[0m \u001b[0mconversion_func\u001b[0m\u001b[1;33m(\u001b[0m\u001b[0mvalue\u001b[0m\u001b[1;33m,\u001b[0m \u001b[0mdtype\u001b[0m\u001b[1;33m=\u001b[0m\u001b[0mdtype\u001b[0m\u001b[1;33m,\u001b[0m \u001b[0mname\u001b[0m\u001b[1;33m=\u001b[0m\u001b[0mname\u001b[0m\u001b[1;33m,\u001b[0m \u001b[0mas_ref\u001b[0m\u001b[1;33m=\u001b[0m\u001b[0mas_ref\u001b[0m\u001b[1;33m)\u001b[0m\u001b[1;33m\u001b[0m\u001b[0m\n\u001b[0m\u001b[0;32m   1095\u001b[0m \u001b[1;33m\u001b[0m\u001b[0m\n",
      "\u001b[1;32mD:\\Applications\\Python3\\lib\\site-packages\\tensorflow\\python\\framework\\constant_op.py\u001b[0m in \u001b[0;36m_constant_tensor_conversion_function\u001b[1;34m(v, dtype, name, as_ref)\u001b[0m\n\u001b[0;32m    216\u001b[0m   \u001b[0m_\u001b[0m \u001b[1;33m=\u001b[0m \u001b[0mas_ref\u001b[0m\u001b[1;33m\u001b[0m\u001b[0m\n\u001b[1;32m--> 217\u001b[1;33m   \u001b[1;32mreturn\u001b[0m \u001b[0mconstant\u001b[0m\u001b[1;33m(\u001b[0m\u001b[0mv\u001b[0m\u001b[1;33m,\u001b[0m \u001b[0mdtype\u001b[0m\u001b[1;33m=\u001b[0m\u001b[0mdtype\u001b[0m\u001b[1;33m,\u001b[0m \u001b[0mname\u001b[0m\u001b[1;33m=\u001b[0m\u001b[0mname\u001b[0m\u001b[1;33m)\u001b[0m\u001b[1;33m\u001b[0m\u001b[0m\n\u001b[0m\u001b[0;32m    218\u001b[0m \u001b[1;33m\u001b[0m\u001b[0m\n",
      "\u001b[1;32mD:\\Applications\\Python3\\lib\\site-packages\\tensorflow\\python\\framework\\constant_op.py\u001b[0m in \u001b[0;36mconstant\u001b[1;34m(value, dtype, shape, name, verify_shape)\u001b[0m\n\u001b[0;32m    195\u001b[0m       tensor_util.make_tensor_proto(\n\u001b[1;32m--> 196\u001b[1;33m           value, dtype=dtype, shape=shape, verify_shape=verify_shape))\n\u001b[0m\u001b[0;32m    197\u001b[0m   \u001b[0mdtype_value\u001b[0m \u001b[1;33m=\u001b[0m \u001b[0mattr_value_pb2\u001b[0m\u001b[1;33m.\u001b[0m\u001b[0mAttrValue\u001b[0m\u001b[1;33m(\u001b[0m\u001b[0mtype\u001b[0m\u001b[1;33m=\u001b[0m\u001b[0mtensor_value\u001b[0m\u001b[1;33m.\u001b[0m\u001b[0mtensor\u001b[0m\u001b[1;33m.\u001b[0m\u001b[0mdtype\u001b[0m\u001b[1;33m)\u001b[0m\u001b[1;33m\u001b[0m\u001b[0m\n",
      "\u001b[1;32mD:\\Applications\\Python3\\lib\\site-packages\\tensorflow\\python\\framework\\tensor_util.py\u001b[0m in \u001b[0;36mmake_tensor_proto\u001b[1;34m(values, dtype, shape, verify_shape)\u001b[0m\n\u001b[0;32m    423\u001b[0m     \u001b[1;32mif\u001b[0m \u001b[0mvalues\u001b[0m \u001b[1;32mis\u001b[0m \u001b[1;32mNone\u001b[0m\u001b[1;33m:\u001b[0m\u001b[1;33m\u001b[0m\u001b[0m\n\u001b[1;32m--> 424\u001b[1;33m       \u001b[1;32mraise\u001b[0m \u001b[0mValueError\u001b[0m\u001b[1;33m(\u001b[0m\u001b[1;34m\"None values not supported.\"\u001b[0m\u001b[1;33m)\u001b[0m\u001b[1;33m\u001b[0m\u001b[0m\n\u001b[0m\u001b[0;32m    425\u001b[0m     \u001b[1;31m# if dtype is provided, forces numpy array to be the type\u001b[0m\u001b[1;33m\u001b[0m\u001b[1;33m\u001b[0m\u001b[0m\n",
      "\u001b[1;31mValueError\u001b[0m: None values not supported.",
      "\nDuring handling of the above exception, another exception occurred:\n",
      "\u001b[1;31mValueError\u001b[0m                                Traceback (most recent call last)",
      "\u001b[1;32m<ipython-input-41-d3bcdae1cbf0>\u001b[0m in \u001b[0;36m<module>\u001b[1;34m()\u001b[0m\n\u001b[0;32m     16\u001b[0m \u001b[1;33m\u001b[0m\u001b[0m\n\u001b[0;32m     17\u001b[0m \u001b[1;31m# normalization trick: we normalize the gradient\u001b[0m\u001b[1;33m\u001b[0m\u001b[1;33m\u001b[0m\u001b[0m\n\u001b[1;32m---> 18\u001b[1;33m \u001b[0mgrads\u001b[0m \u001b[1;33m/=\u001b[0m \u001b[1;33m(\u001b[0m\u001b[0mK\u001b[0m\u001b[1;33m.\u001b[0m\u001b[0msqrt\u001b[0m\u001b[1;33m(\u001b[0m\u001b[0mK\u001b[0m\u001b[1;33m.\u001b[0m\u001b[0mmean\u001b[0m\u001b[1;33m(\u001b[0m\u001b[0mK\u001b[0m\u001b[1;33m.\u001b[0m\u001b[0msquare\u001b[0m\u001b[1;33m(\u001b[0m\u001b[0mgrads\u001b[0m\u001b[1;33m)\u001b[0m\u001b[1;33m)\u001b[0m\u001b[1;33m)\u001b[0m \u001b[1;33m+\u001b[0m \u001b[1;36m1e-5\u001b[0m\u001b[1;33m)\u001b[0m\u001b[1;33m\u001b[0m\u001b[0m\n\u001b[0m\u001b[0;32m     19\u001b[0m \u001b[1;33m\u001b[0m\u001b[0m\n\u001b[0;32m     20\u001b[0m \u001b[1;31m# this function returns the loss and grads given the input picture\u001b[0m\u001b[1;33m\u001b[0m\u001b[1;33m\u001b[0m\u001b[0m\n",
      "\u001b[1;32mD:\\Applications\\Python3\\lib\\site-packages\\keras\\backend\\tensorflow_backend.py\u001b[0m in \u001b[0;36msquare\u001b[1;34m(x)\u001b[0m\n\u001b[0;32m   1468\u001b[0m         \u001b[0mA\u001b[0m \u001b[0mtensor\u001b[0m\u001b[1;33m.\u001b[0m\u001b[1;33m\u001b[0m\u001b[0m\n\u001b[0;32m   1469\u001b[0m     \"\"\"\n\u001b[1;32m-> 1470\u001b[1;33m     \u001b[1;32mreturn\u001b[0m \u001b[0mtf\u001b[0m\u001b[1;33m.\u001b[0m\u001b[0msquare\u001b[0m\u001b[1;33m(\u001b[0m\u001b[0mx\u001b[0m\u001b[1;33m)\u001b[0m\u001b[1;33m\u001b[0m\u001b[0m\n\u001b[0m\u001b[0;32m   1471\u001b[0m \u001b[1;33m\u001b[0m\u001b[0m\n\u001b[0;32m   1472\u001b[0m \u001b[1;33m\u001b[0m\u001b[0m\n",
      "\u001b[1;32mD:\\Applications\\Python3\\lib\\site-packages\\tensorflow\\python\\ops\\math_ops.py\u001b[0m in \u001b[0;36msquare\u001b[1;34m(x, name)\u001b[0m\n\u001b[0;32m    340\u001b[0m           indices=x.indices, values=x_square, dense_shape=x.dense_shape)\n\u001b[0;32m    341\u001b[0m     \u001b[1;32melse\u001b[0m\u001b[1;33m:\u001b[0m\u001b[1;33m\u001b[0m\u001b[0m\n\u001b[1;32m--> 342\u001b[1;33m       \u001b[1;32mreturn\u001b[0m \u001b[0mgen_math_ops\u001b[0m\u001b[1;33m.\u001b[0m\u001b[0msquare\u001b[0m\u001b[1;33m(\u001b[0m\u001b[0mx\u001b[0m\u001b[1;33m,\u001b[0m \u001b[0mname\u001b[0m\u001b[1;33m=\u001b[0m\u001b[0mname\u001b[0m\u001b[1;33m)\u001b[0m\u001b[1;33m\u001b[0m\u001b[0m\n\u001b[0m\u001b[0;32m    343\u001b[0m \u001b[1;33m\u001b[0m\u001b[0m\n\u001b[0;32m    344\u001b[0m \u001b[1;33m\u001b[0m\u001b[0m\n",
      "\u001b[1;32mD:\\Applications\\Python3\\lib\\site-packages\\tensorflow\\python\\ops\\gen_math_ops.py\u001b[0m in \u001b[0;36msquare\u001b[1;34m(x, name)\u001b[0m\n\u001b[0;32m   8645\u001b[0m   \u001b[1;32mif\u001b[0m \u001b[0m_ctx\u001b[0m \u001b[1;32mis\u001b[0m \u001b[1;32mNone\u001b[0m \u001b[1;32mor\u001b[0m \u001b[1;32mnot\u001b[0m \u001b[0m_ctx\u001b[0m\u001b[1;33m.\u001b[0m\u001b[0m_eager_context\u001b[0m\u001b[1;33m.\u001b[0m\u001b[0mis_eager\u001b[0m\u001b[1;33m:\u001b[0m\u001b[1;33m\u001b[0m\u001b[0m\n\u001b[0;32m   8646\u001b[0m     _, _, _op = _op_def_lib._apply_op_helper(\n\u001b[1;32m-> 8647\u001b[1;33m         \"Square\", x=x, name=name)\n\u001b[0m\u001b[0;32m   8648\u001b[0m     \u001b[0m_result\u001b[0m \u001b[1;33m=\u001b[0m \u001b[0m_op\u001b[0m\u001b[1;33m.\u001b[0m\u001b[0moutputs\u001b[0m\u001b[1;33m[\u001b[0m\u001b[1;33m:\u001b[0m\u001b[1;33m]\u001b[0m\u001b[1;33m\u001b[0m\u001b[0m\n\u001b[0;32m   8649\u001b[0m     \u001b[0m_inputs_flat\u001b[0m \u001b[1;33m=\u001b[0m \u001b[0m_op\u001b[0m\u001b[1;33m.\u001b[0m\u001b[0minputs\u001b[0m\u001b[1;33m\u001b[0m\u001b[0m\n",
      "\u001b[1;32mD:\\Applications\\Python3\\lib\\site-packages\\tensorflow\\python\\framework\\op_def_library.py\u001b[0m in \u001b[0;36m_apply_op_helper\u001b[1;34m(self, op_type_name, name, **keywords)\u001b[0m\n\u001b[0;32m    526\u001b[0m               raise ValueError(\n\u001b[0;32m    527\u001b[0m                   \u001b[1;34m\"Tried to convert '%s' to a tensor and failed. Error: %s\"\u001b[0m \u001b[1;33m%\u001b[0m\u001b[1;33m\u001b[0m\u001b[0m\n\u001b[1;32m--> 528\u001b[1;33m                   (input_name, err))\n\u001b[0m\u001b[0;32m    529\u001b[0m             prefix = (\"Input '%s' of '%s' Op has type %s that does not match\" %\n\u001b[0;32m    530\u001b[0m                       (input_name, op_type_name, observed))\n",
      "\u001b[1;31mValueError\u001b[0m: Tried to convert 'x' to a tensor and failed. Error: None values not supported."
     ]
    }
   ],
   "source": [
    "\n",
    "from keras import backend as K\n",
    "\n",
    "input_img = x_val[0][0]\n",
    "\n",
    "layer_name = 'conv2d_6'\n",
    "filter_index = 0  # can be any integer from 0 to 511, as there are 512 filters in that layer\n",
    "\n",
    "# build a loss function that maximizes the activation\n",
    "# of the nth filter of the layer considered\n",
    "layer_output = layer_dict[layer_name].output\n",
    "loss = K.mean(layer_output[:, :, :, filter_index])\n",
    "\n",
    "# compute the gradient of the input picture wrt this loss\n",
    "grads = K.gradients(loss, input_img)[0]\n",
    "\n",
    "# normalization trick: we normalize the gradient\n",
    "grads /= (K.sqrt(K.mean(K.square(grads))) + 1e-5)\n",
    "\n",
    "# this function returns the loss and grads given the input picture\n",
    "iterate = K.function([input_img], [loss, grads])\n"
   ]
  },
  {
   "cell_type": "code",
   "execution_count": null,
   "metadata": {},
   "outputs": [],
   "source": [
    "\n",
    "import numpy as np\n",
    "\n",
    "# we start from a gray image with some noise\n",
    "input_img_data = np.random.random((1, 3, img_width, img_height)) * 20 + 128.\n",
    "# run gradient ascent for 20 steps\n",
    "for i in range(20):\n",
    "    loss_value, grads_value = iterate([input_img_data])\n",
    "    input_img_data += grads_value * step\n"
   ]
  },
  {
   "cell_type": "code",
   "execution_count": null,
   "metadata": {},
   "outputs": [],
   "source": []
  }
 ],
 "metadata": {
  "kernelspec": {
   "display_name": "Python 3",
   "language": "python",
   "name": "python3"
  },
  "language_info": {
   "codemirror_mode": {
    "name": "ipython",
    "version": 3
   },
   "file_extension": ".py",
   "mimetype": "text/x-python",
   "name": "python",
   "nbconvert_exporter": "python",
   "pygments_lexer": "ipython3",
   "version": "3.6.1"
  }
 },
 "nbformat": 4,
 "nbformat_minor": 1
}

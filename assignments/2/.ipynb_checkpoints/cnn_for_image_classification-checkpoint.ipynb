{
 "cells": [
  {
   "cell_type": "markdown",
   "metadata": {},
   "source": [
    "# CNN for Image Classification\n",
    "\n",
    "In this lab, you are given a dataset containing 6,000 pictures of cats and dogs (3,000 cats, 3,000 dogs) and asked to train a classifier built upon Convolutional Neural Networks (ConvNets) to classify images as \"dogs\" or \"cats\"."
   ]
  },
  {
   "cell_type": "code",
   "execution_count": 1,
   "metadata": {},
   "outputs": [
    {
     "name": "stderr",
     "output_type": "stream",
     "text": [
      "D:\\Applications\\Python3\\lib\\site-packages\\h5py\\__init__.py:36: FutureWarning: Conversion of the second argument of issubdtype from `float` to `np.floating` is deprecated. In future, it will be treated as `np.float64 == np.dtype(float).type`.\n",
      "  from ._conv import register_converters as _register_converters\n",
      "Using TensorFlow backend.\n"
     ]
    }
   ],
   "source": [
    "%matplotlib inline\n",
    "\n",
    "import os\n",
    "import numpy as np\n",
    "import matplotlib.pyplot as plt\n",
    "import cv2\n",
    "\n",
    "# from __future__ import print_function\n",
    "import keras\n",
    "from keras import metrics\n",
    "from keras.preprocessing.image import ImageDataGenerator\n",
    "from keras.models import Sequential\n",
    "from keras.layers import Dense, Dropout, Activation, Flatten, BatchNormalization\n",
    "from keras.layers import Conv2D, MaxPooling2D"
   ]
  },
  {
   "cell_type": "markdown",
   "metadata": {},
   "source": [
    "### Exercise 1 \n",
    "Split the dataset by selecting 4,800 pictures for training, 600 for validation, and 600 for testing."
   ]
  },
  {
   "cell_type": "code",
   "execution_count": 2,
   "metadata": {
    "scrolled": true
   },
   "outputs": [],
   "source": [
    "img_width = 50\n",
    "img_height = 50\n",
    "num_classes = 2\n",
    "DATA_DIR = './data/'\n",
    "image_filenames = [DATA_DIR+i for i in os.listdir(DATA_DIR)] # use this for full dataset\n",
    "\n",
    "# Setting the random seed\n",
    "np.random.seed(200)\n",
    "\n",
    "\n",
    "# Split the data in three sets, 80% for training, 10% for validation and 10% for testing\n",
    "# make sure that the image filenames have a fixed order before shuffling\n",
    "# Add your code here"
   ]
  },
  {
   "cell_type": "code",
   "execution_count": 3,
   "metadata": {},
   "outputs": [],
   "source": [
    "import pandas as pd\n",
    "from sklearn import datasets, linear_model\n",
    "from sklearn.model_selection import train_test_split"
   ]
  },
  {
   "cell_type": "markdown",
   "metadata": {},
   "source": [
    "The function ```get_class_from_filename``` takes the file path and returns ***0*** for cats and ***1*** for dogs.\n",
    "\n",
    "The function ```generate_class_arr``` takes the array of filenames and returns an array of class numbers using the function ```get_class_from_filename```."
   ]
  },
  {
   "cell_type": "code",
   "execution_count": 4,
   "metadata": {},
   "outputs": [],
   "source": [
    "\n",
    "def load_images(filenames):\n",
    "    \n",
    "    files = []\n",
    "    for i in range(len(filenames)):\n",
    "        files.append(cv2.imread(filenames[i]))\n",
    "        \n",
    "    return np.array(resize_files(files))\n",
    "\n",
    "\n",
    "def resize_files(files):\n",
    "    _files = []\n",
    "    for i in range(len(files)):\n",
    "        _resized = np.array(cv2.resize(files[i], (img_width, img_height),interpolation=cv2.INTER_AREA))\n",
    "        _normalized = np.true_divide(_resized, 255)\n",
    "        _files.append(_normalized)\n",
    "        \n",
    "    return _files\n",
    "\n",
    "\n",
    "def get_class_from_filename(filename):\n",
    "    \n",
    "    parts = filename.split(\".\")\n",
    "    size = len(parts)\n",
    "    \n",
    "    _class = parts[size - 3]\n",
    "    _class = _class[-3:]\n",
    "    \n",
    "    return np.array([0, 1] if _class == \"cat\" else [1,0])\n",
    "\n",
    "\n",
    "# print(get_class_from_filename(\"./test/dog.267.jpg\"))\n",
    "\n",
    "def generate_class_arr(filenames):\n",
    "    \n",
    "    classes = []\n",
    "    \n",
    "    for i in range(len(filenames)):\n",
    "        classes.append(get_class_from_filename(filenames[i]))\n",
    "    \n",
    "    return np.array(classes)\n",
    "\n",
    "# arr = ['./data/cat.2718.jpg', './data/dog.1753.jpg', './data/cat.1211.jpg', './data/dog.775.jpg', './data/cat.1577.jpg', './data/cat.952.jpg']\n",
    "# print(generate_class_arr(arr))\n",
    "        "
   ]
  },
  {
   "cell_type": "code",
   "execution_count": 5,
   "metadata": {},
   "outputs": [],
   "source": [
    "y = generate_class_arr(image_filenames)"
   ]
  },
  {
   "cell_type": "code",
   "execution_count": 6,
   "metadata": {},
   "outputs": [],
   "source": [
    "\n",
    "x_train_filenames, x_test_filenames, y_train, y_test = train_test_split(image_filenames, y, test_size=0.2)\n",
    "x_test_filenames, x_val_filenames, y_test, y_val = train_test_split(x_test_filenames, y_test, test_size=0.5)\n"
   ]
  },
  {
   "cell_type": "code",
   "execution_count": 7,
   "metadata": {},
   "outputs": [],
   "source": [
    "x_train = load_images(x_train_filenames)\n",
    "x_test = load_images(x_test_filenames)\n",
    "x_val = load_images(x_val_filenames)\n"
   ]
  },
  {
   "cell_type": "code",
   "execution_count": 8,
   "metadata": {
    "scrolled": true
   },
   "outputs": [
    {
     "name": "stdout",
     "output_type": "stream",
     "text": [
      "4800   4800\n",
      "600   600\n",
      "600   600\n"
     ]
    }
   ],
   "source": [
    "# print(x_train_filenames[:5])\n",
    "# print(y_train[:5])\n",
    "print(len(x_train_filenames), \" \", len(y_train))\n",
    "\n",
    "# print(x_test_filenames[:5])\n",
    "# print(y_test[:5])\n",
    "print(len(x_test_filenames), \" \", len(y_test))\n",
    "\n",
    "# print(x_val_filenames[:5])\n",
    "# print(y_val[:5])\n",
    "print(len(x_val_filenames), \" \", len(y_val))\n"
   ]
  },
  {
   "cell_type": "code",
   "execution_count": 9,
   "metadata": {
    "scrolled": true
   },
   "outputs": [
    {
     "name": "stdout",
     "output_type": "stream",
     "text": [
      "Label: [1 0]\n",
      "(50, 50, 3)\n"
     ]
    },
    {
     "data": {
      "image/png": "[encoded data removed]",
      "text/plain": [
       "<matplotlib.figure.Figure at 0x19039720128>"
      ]
     },
     "metadata": {},
     "output_type": "display_data"
    }
   ],
   "source": [
    "\n",
    "plt.imshow(x_train[0])\n",
    "print(\"Label: {}\".format(y_train[0]))\n",
    "print(x_train[0].shape)\n"
   ]
  },
  {
   "cell_type": "code",
   "execution_count": 10,
   "metadata": {},
   "outputs": [
    {
     "name": "stdout",
     "output_type": "stream",
     "text": [
      "Label: [1 0]\n"
     ]
    },
    {
     "data": {
      "image/png": "[encoded data removed]",
      "text/plain": [
       "<matplotlib.figure.Figure at 0x19039720e48>"
      ]
     },
     "metadata": {},
     "output_type": "display_data"
    }
   ],
   "source": [
    "\n",
    "plt.imshow(x_test[0])\n",
    "print(\"Label: {}\".format(y_test[0]))\n"
   ]
  },
  {
   "cell_type": "code",
   "execution_count": 11,
   "metadata": {
    "scrolled": true
   },
   "outputs": [
    {
     "name": "stdout",
     "output_type": "stream",
     "text": [
      "Label: [1 0]\n"
     ]
    },
    {
     "data": {
      "image/png": "[encoded data removed]",
      "text/plain": [
       "<matplotlib.figure.Figure at 0x19039775518>"
      ]
     },
     "metadata": {},
     "output_type": "display_data"
    }
   ],
   "source": [
    "\n",
    "plt.imshow(x_val[0])\n",
    "print(\"Label: {}\".format(y_val[0]))\n"
   ]
  },
  {
   "cell_type": "markdown",
   "metadata": {},
   "source": [
    "### Exercise 2\n",
    "Train a Convolutional Neural Network (ConvNet) on the training set. The general structure of the ConvNet will be a stack of alternated Conv2D (with relu activation) and MaxPooling2D layers. A Conv2D layer creates a convolution kernel that is convolved with the layer input to produce a tensor of outputs. A MaxPooling2D layer is used to downscale input in both the vertical and horizontal dimensions."
   ]
  },
  {
   "cell_type": "code",
   "execution_count": 12,
   "metadata": {},
   "outputs": [],
   "source": [
    "from keras.layers import Conv2D, MaxPooling2D, GlobalAveragePooling2D"
   ]
  },
  {
   "cell_type": "code",
   "execution_count": 41,
   "metadata": {},
   "outputs": [],
   "source": [
    "# Add your code here\n",
    "\n",
    "\n",
    "input_shape = x_train[1].shape\n",
    "\n",
    "model = Sequential()\n",
    "#add model layers\n",
    "\n",
    "model.add(Conv2D(64, 2,padding='same', input_shape=input_shape))\n",
    "model.add(Activation('relu'))\n",
    "model.add(MaxPooling2D(pool_size=(2,2)))\n",
    "\n",
    "model.add(Conv2D(128, 2, padding='same'))\n",
    "model.add(Activation('relu'))\n",
    "model.add(MaxPooling2D(pool_size=(2,2)))\n",
    "\n",
    "model.add(Flatten())\n",
    "\n",
    "model.add(Dense(256, activation='relu'))\n",
    "model.add(Dense(128, activation='relu'))\n",
    "\n",
    "model.add(Dense(2, activation='softmax'))\n",
    "          "
   ]
  },
  {
   "cell_type": "code",
   "execution_count": 42,
   "metadata": {},
   "outputs": [
    {
     "name": "stdout",
     "output_type": "stream",
     "text": [
      "_________________________________________________________________\n",
      "Layer (type)                 Output Shape              Param #   \n",
      "=================================================================\n",
      "conv2d_7 (Conv2D)            (None, 50, 50, 64)        832       \n",
      "_________________________________________________________________\n",
      "activation_7 (Activation)    (None, 50, 50, 64)        0         \n",
      "_________________________________________________________________\n",
      "max_pooling2d_7 (MaxPooling2 (None, 25, 25, 64)        0         \n",
      "_________________________________________________________________\n",
      "conv2d_8 (Conv2D)            (None, 25, 25, 128)       32896     \n",
      "_________________________________________________________________\n",
      "activation_8 (Activation)    (None, 25, 25, 128)       0         \n",
      "_________________________________________________________________\n",
      "max_pooling2d_8 (MaxPooling2 (None, 12, 12, 128)       0         \n",
      "_________________________________________________________________\n",
      "flatten_3 (Flatten)          (None, 18432)             0         \n",
      "_________________________________________________________________\n",
      "dense_7 (Dense)              (None, 256)               4718848   \n",
      "_________________________________________________________________\n",
      "dense_8 (Dense)              (None, 128)               32896     \n",
      "_________________________________________________________________\n",
      "dense_9 (Dense)              (None, 2)                 258       \n",
      "=================================================================\n",
      "Total params: 4,785,730\n",
      "Trainable params: 4,785,730\n",
      "Non-trainable params: 0\n",
      "_________________________________________________________________\n"
     ]
    }
   ],
   "source": [
    "model.summary()"
   ]
  },
  {
   "cell_type": "code",
   "execution_count": 43,
   "metadata": {},
   "outputs": [],
   "source": [
    "batch_size = 128"
   ]
  },
  {
   "cell_type": "code",
   "execution_count": 44,
   "metadata": {},
   "outputs": [],
   "source": [
    "epochs = 60"
   ]
  },
  {
   "cell_type": "code",
   "execution_count": 45,
   "metadata": {},
   "outputs": [],
   "source": [
    "optimizer = keras.optimizers.RMSprop(lr=0.00005)\n",
    "model.compile(optimizer=optimizer, loss='categorical_crossentropy', metrics=['accuracy'])\n"
   ]
  },
  {
   "cell_type": "code",
   "execution_count": 49,
   "metadata": {},
   "outputs": [],
   "source": [
    "from keras.callbacks import ModelCheckpoint\n",
    "\n",
    "weights_filepath = \"weights.hdf5\"\n",
    "checkpoint = ModelCheckpoint(weights_filepath, monitor = 'val_acc', verbose = 1, save_best_only = True, mode='max')\n",
    "callbacks_list = [checkpoint]\n"
   ]
  },
  {
   "cell_type": "code",
   "execution_count": 51,
   "metadata": {},
   "outputs": [
    {
     "name": "stdout",
     "output_type": "stream",
     "text": [
      "Train on 4800 samples, validate on 600 samples\n",
      "Epoch 1/60\n",
      "4736/4800 [============================>.] - ETA: 0s - loss: 0.6918 - acc: 0.5378Epoch 00001: val_acc improved from -inf to 0.55167, saving model to weights.hdf5\n",
      "4800/4800 [==============================] - 2s 475us/step - loss: 0.6916 - acc: 0.5383 - val_loss: 0.6814 - val_acc: 0.5517\n",
      "Epoch 2/60\n",
      "4736/4800 [============================>.] - ETA: 0s - loss: 0.6757 - acc: 0.5794Epoch 00002: val_acc improved from 0.55167 to 0.61000, saving model to weights.hdf5\n",
      "4800/4800 [==============================] - 1s 293us/step - loss: 0.6754 - acc: 0.5804 - val_loss: 0.6674 - val_acc: 0.6100\n",
      "Epoch 3/60\n",
      "4736/4800 [============================>.] - ETA: 0s - loss: 0.6624 - acc: 0.6020Epoch 00003: val_acc did not improve\n",
      "4800/4800 [==============================] - 1s 261us/step - loss: 0.6630 - acc: 0.5998 - val_loss: 0.6776 - val_acc: 0.5350\n",
      "Epoch 4/60\n",
      "4736/4800 [============================>.] - ETA: 0s - loss: 0.6489 - acc: 0.6261Epoch 00004: val_acc did not improve\n",
      "4800/4800 [==============================] - 1s 261us/step - loss: 0.6482 - acc: 0.6265 - val_loss: 0.6488 - val_acc: 0.6050\n",
      "Epoch 5/60\n",
      "4736/4800 [============================>.] - ETA: 0s - loss: 0.6297 - acc: 0.6556Epoch 00005: val_acc did not improve\n",
      "4800/4800 [==============================] - 1s 262us/step - loss: 0.6295 - acc: 0.6554 - val_loss: 0.6947 - val_acc: 0.5483\n",
      "Epoch 6/60\n",
      "4736/4800 [============================>.] - ETA: 0s - loss: 0.6200 - acc: 0.6571Epoch 00006: val_acc improved from 0.61000 to 0.69167, saving model to weights.hdf5\n",
      "4800/4800 [==============================] - 1s 306us/step - loss: 0.6197 - acc: 0.6565 - val_loss: 0.6163 - val_acc: 0.6917\n",
      "Epoch 7/60\n",
      "4736/4800 [============================>.] - ETA: 0s - loss: 0.6011 - acc: 0.6824Epoch 00007: val_acc did not improve\n",
      "4800/4800 [==============================] - 1s 264us/step - loss: 0.6011 - acc: 0.6829 - val_loss: 0.6480 - val_acc: 0.6083\n",
      "Epoch 8/60\n",
      "4736/4800 [============================>.] - ETA: 0s - loss: 0.5973 - acc: 0.6926Epoch 00008: val_acc did not improve\n",
      "4800/4800 [==============================] - 1s 262us/step - loss: 0.5983 - acc: 0.6908 - val_loss: 0.6252 - val_acc: 0.6133\n",
      "Epoch 9/60\n",
      "4736/4800 [============================>.] - ETA: 0s - loss: 0.5853 - acc: 0.6924Epoch 00009: val_acc did not improve\n",
      "4800/4800 [==============================] - 1s 261us/step - loss: 0.5852 - acc: 0.6917 - val_loss: 0.5998 - val_acc: 0.6867\n",
      "Epoch 10/60\n",
      "4736/4800 [============================>.] - ETA: 0s - loss: 0.5807 - acc: 0.6972Epoch 00010: val_acc improved from 0.69167 to 0.70000, saving model to weights.hdf5\n",
      "4800/4800 [==============================] - 1s 273us/step - loss: 0.5793 - acc: 0.6994 - val_loss: 0.5942 - val_acc: 0.7000\n",
      "Epoch 11/60\n",
      "4736/4800 [============================>.] - ETA: 0s - loss: 0.5659 - acc: 0.7065Epoch 00011: val_acc did not improve\n",
      "4800/4800 [==============================] - 1s 261us/step - loss: 0.5655 - acc: 0.7077 - val_loss: 0.6076 - val_acc: 0.6617\n",
      "Epoch 12/60\n",
      "4736/4800 [============================>.] - ETA: 0s - loss: 0.5582 - acc: 0.7139Epoch 00012: val_acc did not improve\n",
      "4800/4800 [==============================] - 1s 264us/step - loss: 0.5595 - acc: 0.7125 - val_loss: 0.6207 - val_acc: 0.6517\n",
      "Epoch 13/60\n",
      "4736/4800 [============================>.] - ETA: 0s - loss: 0.5534 - acc: 0.7190Epoch 00013: val_acc did not improve\n",
      "4800/4800 [==============================] - 1s 270us/step - loss: 0.5526 - acc: 0.7190 - val_loss: 0.6011 - val_acc: 0.6800\n",
      "Epoch 14/60\n",
      "4736/4800 [============================>.] - ETA: 0s - loss: 0.5453 - acc: 0.7230Epoch 00014: val_acc did not improve\n",
      "4800/4800 [==============================] - 1s 269us/step - loss: 0.5458 - acc: 0.7217 - val_loss: 0.6806 - val_acc: 0.6167\n",
      "Epoch 15/60\n",
      "4736/4800 [============================>.] - ETA: 0s - loss: 0.5411 - acc: 0.7234Epoch 00015: val_acc did not improve\n",
      "4800/4800 [==============================] - 1s 261us/step - loss: 0.5399 - acc: 0.7248 - val_loss: 0.6456 - val_acc: 0.6250\n",
      "Epoch 16/60\n",
      "4736/4800 [============================>.] - ETA: 0s - loss: 0.5334 - acc: 0.7285Epoch 00016: val_acc did not improve\n",
      "4800/4800 [==============================] - 1s 264us/step - loss: 0.5334 - acc: 0.7285 - val_loss: 0.5721 - val_acc: 0.7000\n",
      "Epoch 17/60\n",
      "4736/4800 [============================>.] - ETA: 0s - loss: 0.5250 - acc: 0.7428Epoch 00017: val_acc did not improve\n",
      "4800/4800 [==============================] - 1s 263us/step - loss: 0.5245 - acc: 0.7431 - val_loss: 0.5986 - val_acc: 0.6783\n",
      "Epoch 18/60\n",
      "4736/4800 [============================>.] - ETA: 0s - loss: 0.5202 - acc: 0.7443Epoch 00018: val_acc did not improve\n",
      "4800/4800 [==============================] - 1s 265us/step - loss: 0.5199 - acc: 0.7446 - val_loss: 0.5663 - val_acc: 0.6983\n",
      "Epoch 19/60\n",
      "4736/4800 [============================>.] - ETA: 0s - loss: 0.5072 - acc: 0.7608Epoch 00019: val_acc did not improve\n",
      "4800/4800 [==============================] - 1s 271us/step - loss: 0.5078 - acc: 0.7600 - val_loss: 0.6099 - val_acc: 0.6600\n",
      "Epoch 20/60\n",
      "4736/4800 [============================>.] - ETA: 0s - loss: 0.5014 - acc: 0.7603Epoch 00020: val_acc did not improve\n",
      "4800/4800 [==============================] - 1s 264us/step - loss: 0.5002 - acc: 0.7617 - val_loss: 0.5965 - val_acc: 0.6883\n",
      "Epoch 21/60\n",
      "4736/4800 [============================>.] - ETA: 0s - loss: 0.5029 - acc: 0.7559Epoch 00021: val_acc did not improve\n",
      "4800/4800 [==============================] - 1s 262us/step - loss: 0.5037 - acc: 0.7552 - val_loss: 0.5682 - val_acc: 0.6850\n",
      "Epoch 22/60\n",
      "4736/4800 [============================>.] - ETA: 0s - loss: 0.4938 - acc: 0.7629Epoch 00022: val_acc improved from 0.70000 to 0.72333, saving model to weights.hdf5\n",
      "4800/4800 [==============================] - 1s 281us/step - loss: 0.4933 - acc: 0.7633 - val_loss: 0.5561 - val_acc: 0.7233\n",
      "Epoch 23/60\n",
      "4736/4800 [============================>.] - ETA: 0s - loss: 0.4853 - acc: 0.7696Epoch 00023: val_acc did not improve\n",
      "4800/4800 [==============================] - 1s 263us/step - loss: 0.4852 - acc: 0.7700 - val_loss: 0.5988 - val_acc: 0.6900\n",
      "Epoch 24/60\n",
      "4736/4800 [============================>.] - ETA: 0s - loss: 0.4817 - acc: 0.7734Epoch 00024: val_acc did not improve\n",
      "4800/4800 [==============================] - 1s 263us/step - loss: 0.4811 - acc: 0.7740 - val_loss: 0.5871 - val_acc: 0.7000\n",
      "Epoch 25/60\n",
      "4736/4800 [============================>.] - ETA: 0s - loss: 0.4763 - acc: 0.7726Epoch 00025: val_acc did not improve\n",
      "4800/4800 [==============================] - 1s 260us/step - loss: 0.4750 - acc: 0.7735 - val_loss: 0.5477 - val_acc: 0.7167\n",
      "Epoch 26/60\n",
      "4736/4800 [============================>.] - ETA: 0s - loss: 0.4717 - acc: 0.7770Epoch 00026: val_acc did not improve\n",
      "4800/4800 [==============================] - 1s 261us/step - loss: 0.4720 - acc: 0.7773 - val_loss: 0.6113 - val_acc: 0.6800\n",
      "Epoch 27/60\n",
      "4736/4800 [============================>.] - ETA: 0s - loss: 0.4631 - acc: 0.7834Epoch 00027: val_acc did not improve\n",
      "4800/4800 [==============================] - 1s 262us/step - loss: 0.4637 - acc: 0.7827 - val_loss: 0.5629 - val_acc: 0.7183\n",
      "Epoch 28/60\n",
      "4736/4800 [============================>.] - ETA: 0s - loss: 0.4545 - acc: 0.7897Epoch 00028: val_acc improved from 0.72333 to 0.73333, saving model to weights.hdf5\n",
      "4800/4800 [==============================] - 1s 278us/step - loss: 0.4535 - acc: 0.7900 - val_loss: 0.5420 - val_acc: 0.7333\n",
      "Epoch 29/60\n",
      "4736/4800 [============================>.] - ETA: 0s - loss: 0.4457 - acc: 0.7965Epoch 00029: val_acc did not improve\n",
      "4800/4800 [==============================] - 1s 263us/step - loss: 0.4450 - acc: 0.7967 - val_loss: 0.5679 - val_acc: 0.7167\n",
      "Epoch 30/60\n",
      "4736/4800 [============================>.] - ETA: 0s - loss: 0.4505 - acc: 0.7865Epoch 00030: val_acc did not improve\n",
      "4800/4800 [==============================] - 1s 265us/step - loss: 0.4501 - acc: 0.7867 - val_loss: 0.5399 - val_acc: 0.7283\n",
      "Epoch 31/60\n",
      "4736/4800 [============================>.] - ETA: 0s - loss: 0.4367 - acc: 0.8003Epoch 00031: val_acc did not improve\n",
      "4800/4800 [==============================] - 1s 261us/step - loss: 0.4364 - acc: 0.8002 - val_loss: 0.5568 - val_acc: 0.6900\n"
     ]
    },
    {
     "name": "stdout",
     "output_type": "stream",
     "text": [
      "Epoch 32/60\n",
      "4736/4800 [============================>.] - ETA: 0s - loss: 0.4245 - acc: 0.8074Epoch 00032: val_acc did not improve\n",
      "4800/4800 [==============================] - 1s 262us/step - loss: 0.4237 - acc: 0.8079 - val_loss: 0.5565 - val_acc: 0.7067\n",
      "Epoch 33/60\n",
      "4736/4800 [============================>.] - ETA: 0s - loss: 0.4273 - acc: 0.8108Epoch 00033: val_acc did not improve\n",
      "4800/4800 [==============================] - 1s 264us/step - loss: 0.4268 - acc: 0.8106 - val_loss: 0.5360 - val_acc: 0.7167\n",
      "Epoch 34/60\n",
      "4736/4800 [============================>.] - ETA: 0s - loss: 0.4229 - acc: 0.8076Epoch 00034: val_acc did not improve\n",
      "4800/4800 [==============================] - 1s 269us/step - loss: 0.4236 - acc: 0.8071 - val_loss: 0.5666 - val_acc: 0.7050\n",
      "Epoch 35/60\n",
      "4736/4800 [============================>.] - ETA: 0s - loss: 0.4076 - acc: 0.8138Epoch 00035: val_acc did not improve\n",
      "4800/4800 [==============================] - 1s 270us/step - loss: 0.4065 - acc: 0.8148 - val_loss: 0.5470 - val_acc: 0.7133\n",
      "Epoch 36/60\n",
      "4736/4800 [============================>.] - ETA: 0s - loss: 0.4000 - acc: 0.8214Epoch 00036: val_acc did not improve\n",
      "4800/4800 [==============================] - 1s 263us/step - loss: 0.4006 - acc: 0.8210 - val_loss: 0.6331 - val_acc: 0.6933\n",
      "Epoch 37/60\n",
      "4736/4800 [============================>.] - ETA: 0s - loss: 0.4059 - acc: 0.8163Epoch 00037: val_acc did not improve\n",
      "4800/4800 [==============================] - 1s 264us/step - loss: 0.4055 - acc: 0.8162 - val_loss: 0.5349 - val_acc: 0.7317\n",
      "Epoch 38/60\n",
      "4736/4800 [============================>.] - ETA: 0s - loss: 0.3896 - acc: 0.8271Epoch 00038: val_acc did not improve\n",
      "4800/4800 [==============================] - 1s 265us/step - loss: 0.3898 - acc: 0.8263 - val_loss: 0.5701 - val_acc: 0.7033\n",
      "Epoch 39/60\n",
      "4736/4800 [============================>.] - ETA: 0s - loss: 0.3860 - acc: 0.8307Epoch 00039: val_acc did not improve\n",
      "4800/4800 [==============================] - 1s 267us/step - loss: 0.3856 - acc: 0.8308 - val_loss: 0.5340 - val_acc: 0.7317\n",
      "Epoch 40/60\n",
      "4736/4800 [============================>.] - ETA: 0s - loss: 0.3778 - acc: 0.8402Epoch 00040: val_acc did not improve\n",
      "4800/4800 [==============================] - 1s 277us/step - loss: 0.3777 - acc: 0.8400 - val_loss: 0.5305 - val_acc: 0.7317\n",
      "Epoch 41/60\n",
      "4736/4800 [============================>.] - ETA: 0s - loss: 0.3780 - acc: 0.8338Epoch 00041: val_acc did not improve\n",
      "4800/4800 [==============================] - 1s 264us/step - loss: 0.3781 - acc: 0.8333 - val_loss: 0.5679 - val_acc: 0.7267\n",
      "Epoch 42/60\n",
      "4736/4800 [============================>.] - ETA: 0s - loss: 0.3665 - acc: 0.8421Epoch 00042: val_acc did not improve\n",
      "4800/4800 [==============================] - 1s 266us/step - loss: 0.3674 - acc: 0.8417 - val_loss: 0.5639 - val_acc: 0.7300\n",
      "Epoch 43/60\n",
      "4736/4800 [============================>.] - ETA: 0s - loss: 0.3620 - acc: 0.8467Epoch 00043: val_acc did not improve\n",
      "4800/4800 [==============================] - 1s 265us/step - loss: 0.3622 - acc: 0.8462 - val_loss: 0.5464 - val_acc: 0.7183\n",
      "Epoch 44/60\n",
      "4736/4800 [============================>.] - ETA: 0s - loss: 0.3579 - acc: 0.8516Epoch 00044: val_acc did not improve\n",
      "4800/4800 [==============================] - 1s 264us/step - loss: 0.3578 - acc: 0.8517 - val_loss: 0.5429 - val_acc: 0.7300\n",
      "Epoch 45/60\n",
      "4736/4800 [============================>.] - ETA: 0s - loss: 0.3513 - acc: 0.8518Epoch 00045: val_acc improved from 0.73333 to 0.73667, saving model to weights.hdf5\n",
      "4800/4800 [==============================] - 1s 277us/step - loss: 0.3514 - acc: 0.8517 - val_loss: 0.5210 - val_acc: 0.7367\n",
      "Epoch 46/60\n",
      "4736/4800 [============================>.] - ETA: 0s - loss: 0.3425 - acc: 0.8571Epoch 00046: val_acc improved from 0.73667 to 0.74000, saving model to weights.hdf5\n",
      "4800/4800 [==============================] - 1s 278us/step - loss: 0.3413 - acc: 0.8579 - val_loss: 0.5258 - val_acc: 0.7400\n",
      "Epoch 47/60\n",
      "4736/4800 [============================>.] - ETA: 0s - loss: 0.3311 - acc: 0.8659Epoch 00047: val_acc improved from 0.74000 to 0.75000, saving model to weights.hdf5\n",
      "4800/4800 [==============================] - 1s 289us/step - loss: 0.3311 - acc: 0.8660 - val_loss: 0.5286 - val_acc: 0.7500\n",
      "Epoch 48/60\n",
      "4736/4800 [============================>.] - ETA: 0s - loss: 0.3272 - acc: 0.8647Epoch 00048: val_acc did not improve\n",
      "4800/4800 [==============================] - 1s 265us/step - loss: 0.3280 - acc: 0.8642 - val_loss: 0.5672 - val_acc: 0.7167\n",
      "Epoch 49/60\n",
      "4736/4800 [============================>.] - ETA: 0s - loss: 0.3237 - acc: 0.8674Epoch 00049: val_acc did not improve\n",
      "4800/4800 [==============================] - 1s 261us/step - loss: 0.3250 - acc: 0.8667 - val_loss: 0.5468 - val_acc: 0.7267\n",
      "Epoch 50/60\n",
      "4736/4800 [============================>.] - ETA: 0s - loss: 0.3122 - acc: 0.8737Epoch 00050: val_acc did not improve\n",
      "4800/4800 [==============================] - 1s 265us/step - loss: 0.3133 - acc: 0.8731 - val_loss: 0.5521 - val_acc: 0.7267\n",
      "Epoch 51/60\n",
      "4736/4800 [============================>.] - ETA: 0s - loss: 0.3087 - acc: 0.8782Epoch 00051: val_acc did not improve\n",
      "4800/4800 [==============================] - 1s 263us/step - loss: 0.3078 - acc: 0.8790 - val_loss: 0.5564 - val_acc: 0.7367\n",
      "Epoch 52/60\n",
      "4736/4800 [============================>.] - ETA: 0s - loss: 0.3114 - acc: 0.8737Epoch 00052: val_acc did not improve\n",
      "4800/4800 [==============================] - 1s 265us/step - loss: 0.3112 - acc: 0.8738 - val_loss: 0.5316 - val_acc: 0.7400\n",
      "Epoch 53/60\n",
      "4736/4800 [============================>.] - ETA: 0s - loss: 0.2986 - acc: 0.8843Epoch 00053: val_acc improved from 0.75000 to 0.75667, saving model to weights.hdf5\n",
      "4800/4800 [==============================] - 1s 276us/step - loss: 0.2979 - acc: 0.8838 - val_loss: 0.5210 - val_acc: 0.7567\n",
      "Epoch 54/60\n",
      "4736/4800 [============================>.] - ETA: 0s - loss: 0.2908 - acc: 0.8828Epoch 00054: val_acc did not improve\n",
      "4800/4800 [==============================] - 1s 262us/step - loss: 0.2903 - acc: 0.8833 - val_loss: 0.5350 - val_acc: 0.7500\n",
      "Epoch 55/60\n",
      "4736/4800 [============================>.] - ETA: 0s - loss: 0.2851 - acc: 0.8872Epoch 00055: val_acc did not improve\n",
      "4800/4800 [==============================] - 1s 277us/step - loss: 0.2853 - acc: 0.8873 - val_loss: 0.5293 - val_acc: 0.7483\n",
      "Epoch 56/60\n",
      "4608/4800 [===========================>..] - ETA: 0s - loss: 0.2752 - acc: 0.8941Epoch 00056: val_acc did not improve\n",
      "4800/4800 [==============================] - 1s 278us/step - loss: 0.2741 - acc: 0.8954 - val_loss: 0.8114 - val_acc: 0.6617\n",
      "Epoch 57/60\n",
      "4736/4800 [============================>.] - ETA: 0s - loss: 0.2800 - acc: 0.8919Epoch 00057: val_acc did not improve\n",
      "4800/4800 [==============================] - 1s 268us/step - loss: 0.2796 - acc: 0.8919 - val_loss: 0.6025 - val_acc: 0.7367\n",
      "Epoch 58/60\n",
      "4736/4800 [============================>.] - ETA: 0s - loss: 0.2674 - acc: 0.8972Epoch 00058: val_acc did not improve\n",
      "4800/4800 [==============================] - 1s 266us/step - loss: 0.2681 - acc: 0.8969 - val_loss: 0.5356 - val_acc: 0.7467\n",
      "Epoch 59/60\n",
      "4736/4800 [============================>.] - ETA: 0s - loss: 0.2706 - acc: 0.8929Epoch 00059: val_acc did not improve\n",
      "4800/4800 [==============================] - 1s 271us/step - loss: 0.2708 - acc: 0.8921 - val_loss: 0.5361 - val_acc: 0.7450\n",
      "Epoch 60/60\n",
      "4736/4800 [============================>.] - ETA: 0s - loss: 0.2498 - acc: 0.9098Epoch 00060: val_acc did not improve\n",
      "4800/4800 [==============================] - 1s 264us/step - loss: 0.2495 - acc: 0.9102 - val_loss: 0.6245 - val_acc: 0.7050\n"
     ]
    }
   ],
   "source": [
    "\n",
    "history = model.fit(x_train, y_train, batch_size=batch_size, epochs=epochs,validation_data=(x_test, y_test), callbacks=callbacks_list, verbose=1)\n"
   ]
  },
  {
   "cell_type": "code",
   "execution_count": 52,
   "metadata": {},
   "outputs": [
    {
     "name": "stdout",
     "output_type": "stream",
     "text": [
      "600/600 [==============================] - 0s 200us/step\n",
      "Test loss: 0.6186820920308431\n",
      "Test accuracy: 0.7416666658719381\n"
     ]
    }
   ],
   "source": [
    "\n",
    "score = model.evaluate(x_val, y_val, verbose=1)\n",
    "print('Test loss:', score[0])\n",
    "print('Test accuracy:', score[1])\n"
   ]
  },
  {
   "cell_type": "code",
   "execution_count": 25,
   "metadata": {},
   "outputs": [],
   "source": [
    "\n",
    "model_predictions = model.predict(x_val)\n"
   ]
  },
  {
   "cell_type": "markdown",
   "metadata": {},
   "source": [
    "### Exercise 3\n",
    "\n",
    "Output the training/validation loss and accuracy curves. Also print the classification results (e.g., classification accuracy, confusion matrix, precision-recall curves and/or ROC curves) on the test set."
   ]
  },
  {
   "cell_type": "code",
   "execution_count": 28,
   "metadata": {},
   "outputs": [
    {
     "name": "stdout",
     "output_type": "stream",
     "text": [
      "Classification report for the simple CNN:\n",
      "             precision    recall  f1-score   support\n",
      "\n",
      "          0       0.85      0.67      0.75       303\n",
      "          1       0.72      0.88      0.79       297\n",
      "\n",
      "avg / total       0.79      0.77      0.77       600\n",
      "\n",
      "Confusion matrix:\n",
      "[[202 101]\n",
      " [ 35 262]]\n"
     ]
    }
   ],
   "source": [
    "from sklearn.metrics import classification_report, confusion_matrix, precision_recall_curve, roc_curve, auc\n",
    "from sklearn.preprocessing import label_binarize\n",
    "\n",
    "mod_preds = model_predictions\n",
    "\n",
    "# Add your code here\n",
    "print(\"Classification report for the simple CNN:\")\n",
    "print(classification_report(y_val.argmax(axis=1), preds.argmax(axis=1)))\n"
   ]
  },
  {
   "cell_type": "code",
   "execution_count": 65,
   "metadata": {},
   "outputs": [
    {
     "name": "stdout",
     "output_type": "stream",
     "text": [
      "Confusion matrix for the simple CNN:\n",
      "[[202 101]\n",
      " [ 35 262]]\n"
     ]
    }
   ],
   "source": [
    "\n",
    "print(\"Confusion matrix for the simple CNN:\")\n",
    "print(confusion_matrix(y_val.argmax(axis=1), preds.argmax(axis=1)))\n"
   ]
  },
  {
   "cell_type": "code",
   "execution_count": 68,
   "metadata": {},
   "outputs": [
    {
     "name": "stdout",
     "output_type": "stream",
     "text": [
      "             precision    recall  f1-score   support\n",
      "\n",
      "          0       0.68      0.92      0.78       303\n",
      "          1       0.88      0.56      0.68       297\n",
      "\n",
      "avg / total       0.78      0.74      0.73       600\n",
      "\n"
     ]
    }
   ],
   "source": [
    "\n",
    "preds = np.squeeze(model.predict(x_val))\n",
    "# preds = model_predictions\n",
    "threshold = 0.5\n",
    "print(classification_report(y_val.argmax(axis=1), preds.argmax(axis=1)))\n"
   ]
  },
  {
   "cell_type": "code",
   "execution_count": 86,
   "metadata": {},
   "outputs": [],
   "source": [
    "from sklearn.metrics import precision_recall_curve\n",
    "from sklearn.utils.fixes import signature\n",
    "from sklearn.metrics import average_precision_score\n",
    "\n",
    "def plot_precision_recall_curve(labels, predictions, classifier_name=None):\n",
    "    \n",
    "    title = \"Precision-Recall curve\"\n",
    "    if classifier_name is not None:\n",
    "        title = \"Precision-Recall curve for {} predictions\".format(classifier_name)\n",
    "        \n",
    "    precision, recall, thresholds = precision_recall_curve(labels, predictions)\n",
    "    \n",
    "    average_precision = average_precision_score(labels, predictions)\n",
    "\n",
    "    # In matplotlib < 1.5, plt.fill_between does not have a 'step' argument\n",
    "    step_kwargs = ({'step': 'post'}\n",
    "                   if 'step' in signature(plt.fill_between).parameters\n",
    "                   else {})\n",
    "    \n",
    "    fig = plt.figure()\n",
    "    fig.set_figwidth(10)\n",
    "    fig.suptitle('Precision-Recall curve for {0}: AP={1:0.2f}'.format(classifier_name, average_precision))\n",
    "    \n",
    "    plot = plt.subplot(1, 2, 2)\n",
    "    \n",
    "    plot.step(recall, precision, color='b', alpha=0.2, where='post')\n",
    "    \n",
    "    plot.fill_between(recall, precision, alpha=0.2, color='b', **step_kwargs)\n",
    "\n",
    "    plot.set_xlabel('Recall')\n",
    "    plot.set_ylabel('Precision')\n",
    "    plot.set_ylim([0.0, 1.05])\n",
    "    plot.set_xlim([0.0, 1.0])\n",
    "       \n",
    "    return plot\n",
    "\n",
    "\n",
    "def plot_train_val_acc_curve(_hist):\n",
    "    \n",
    "    plt.plot(_hist.history['acc'])\n",
    "    plt.plot(_hist.history['val_acc'])\n",
    "    plt.title('model accuracy')\n",
    "    plt.ylabel('accuracy')\n",
    "    plt.xlabel('epoch')\n",
    "    plt.legend(['train', 'test'], loc='upper left')\n",
    "    \n",
    "    return plt.show()\n",
    "\n",
    "\n",
    "def plot_train_val_loss_curve(_hist):\n",
    "    \n",
    "    plt.plot(history.history['loss'])\n",
    "    plt.plot(history.history['val_loss'])\n",
    "    plt.title('model loss')\n",
    "    plt.ylabel('loss')\n",
    "    plt.xlabel('epoch')\n",
    "    plt.legend(['train', 'test'], loc='upper left')\n",
    "    \n",
    "    return plt.show()\n",
    "\n",
    "\n",
    "def plot_roc_curve(_y, _y_hat):\n",
    "    \n",
    "    fpr, tpr, thresholds = roc_curve(y_val.argmax(axis=1).ravel(), first_arg(preds))\n",
    "    auc_simple = auc(fpr, tpr)\n",
    "    plt.plot(fpr, tpr, label='Keras (area = {:.3f})'.format(auc_simple))\n",
    "    plt.xlabel('False positive rate')\n",
    "    plt.ylabel('True positive rate')\n",
    "    plt.title('ROC curve')\n",
    "    plt.legend(loc='best')\n",
    "    \n",
    "    return plt.show()\n",
    "    \n",
    "\n",
    "def first_arg(arr):\n",
    "    \n",
    "    _arr = []\n",
    "    \n",
    "    for i in range(len(arr)):\n",
    "        _arr.append(arr[i][1])\n",
    "    \n",
    "    return _arr\n"
   ]
  },
  {
   "cell_type": "code",
   "execution_count": 87,
   "metadata": {},
   "outputs": [
    {
     "data": {
      "image/png": "[encoded data removed]",
      "text/plain": [
       "<matplotlib.figure.Figure at 0x19296aca5f8>"
      ]
     },
     "metadata": {},
     "output_type": "display_data"
    }
   ],
   "source": [
    "\n",
    "plot_train_val_acc_curve(history)\n"
   ]
  },
  {
   "cell_type": "code",
   "execution_count": 88,
   "metadata": {},
   "outputs": [
    {
     "data": {
      "image/png": "[encoded data removed]",
      "text/plain": [
       "<matplotlib.figure.Figure at 0x19297263b38>"
      ]
     },
     "metadata": {},
     "output_type": "display_data"
    }
   ],
   "source": [
    "\n",
    "plot_train_val_loss_curve(history)\n"
   ]
  },
  {
   "cell_type": "code",
   "execution_count": 89,
   "metadata": {},
   "outputs": [
    {
     "data": {
      "image/png": "[encoded data removed]",
      "text/plain": [
       "<matplotlib.figure.Figure at 0x19296c059b0>"
      ]
     },
     "metadata": {},
     "output_type": "display_data"
    }
   ],
   "source": [
    "\n",
    "plot_roc_curve(y_val, preds)\n"
   ]
  },
  {
   "cell_type": "code",
   "execution_count": 90,
   "metadata": {},
   "outputs": [
    {
     "name": "stdout",
     "output_type": "stream",
     "text": [
      "Axes(0.547727,0.125;0.352273x0.755)\n"
     ]
    },
    {
     "data": {
      "image/png": "[encoded data removed]",
      "text/plain": [
       "<matplotlib.figure.Figure at 0x19296df2080>"
      ]
     },
     "metadata": {},
     "output_type": "display_data"
    }
   ],
   "source": [
    "\n",
    "print(plot_precision_recall_curve(first_arg(y_val), first_arg(preds), \"Keras Simple CNN\"))\n"
   ]
  },
  {
   "cell_type": "markdown",
   "metadata": {},
   "source": [
    "### Exercise 4\n",
    "\n",
    "Explore different network architectures (e.g., stacking 4 Conv2D+MaxPooling2D layers) and various ways in tuning the model parameters to see if you can improve the model performance on the validation set."
   ]
  },
  {
   "cell_type": "code",
   "execution_count": 91,
   "metadata": {},
   "outputs": [],
   "source": [
    "# Add your code here\n",
    "\n",
    "input_shape = x_train[1].shape\n",
    "\n",
    "model_complex = Sequential()\n",
    "#add model layers\n",
    "\n",
    "model_complex.add(Conv2D(128, 2,padding='same', input_shape=input_shape))\n",
    "model_complex.add(BatchNormalization())\n",
    "model_complex.add(Activation('relu'))\n",
    "model_complex.add(MaxPooling2D(pool_size=(2,2)))\n",
    "model_complex.add(Dropout(0.2))\n",
    "\n",
    "model_complex.add(Conv2D(256, 2, padding='same'))\n",
    "model_complex.add(BatchNormalization())\n",
    "model_complex.add(Activation('relu'))\n",
    "model_complex.add(MaxPooling2D(pool_size=(2,2)))\n",
    "model_complex.add(Dropout(0.2))\n",
    "\n",
    "model_complex.add(Conv2D(512, 2, padding='same'))\n",
    "model_complex.add(BatchNormalization())\n",
    "model_complex.add(Activation('relu'))\n",
    "model_complex.add(MaxPooling2D(pool_size=(2,2)))\n",
    "model_complex.add(Dropout(0.2))\n",
    "\n",
    "model_complex.add(Conv2D(1024, 2, padding='same'))\n",
    "model_complex.add(BatchNormalization())\n",
    "model_complex.add(Activation('relu'))\n",
    "model_complex.add(MaxPooling2D(pool_size=(2,2)))\n",
    "model_complex.add(Dropout(0.2))\n",
    "\n",
    "model_complex.add(Flatten())\n",
    "\n",
    "model_complex.add(Dense(1024, activation='relu'))\n",
    "model_complex.add(BatchNormalization())\n",
    "model_complex.add(Dropout(0.2))\n",
    "\n",
    "# model_complex.add(Dense(512, activation='relu'))\n",
    "# model_complex.add(BatchNormalization())\n",
    "# model_complex.add(Dropout(0.2))\n",
    "\n",
    "# model_complex.add(Dense(512, activation='relu'))\n",
    "\n",
    "\n",
    "model_complex.add(Dense(2, activation='softmax'))\n"
   ]
  },
  {
   "cell_type": "code",
   "execution_count": 99,
   "metadata": {},
   "outputs": [],
   "source": [
    "\n",
    "optimizer = keras.optimizers.RMSprop(lr=0.00005)\n",
    "model_complex.compile(optimizer=optimizer, loss='categorical_crossentropy', metrics=['accuracy'])\n",
    "\n",
    "\n",
    "aug = ImageDataGenerator(rotation_range=20, zoom_range=0.15, width_shift_range=0.2, height_shift_range=0.2, shear_range=0.15, horizontal_flip=True, fill_mode=\"nearest\")\n",
    "\n",
    "weights_filepath = \"weights_better.hdf5\"\n",
    "checkpoint = ModelCheckpoint(weights_filepath, monitor = 'val_acc', verbose = 1, save_best_only = True, mode='max')\n",
    "callbacks_list = [checkpoint]\n"
   ]
  },
  {
   "cell_type": "code",
   "execution_count": null,
   "metadata": {},
   "outputs": [
    {
     "name": "stdout",
     "output_type": "stream",
     "text": [
      "Epoch 1/100\n",
      "36/37 [============================>.] - ETA: 0s - loss: 0.9920 - acc: 0.5621Epoch 00001: val_acc improved from -inf to 0.50500, saving model to weights_better.hdf5\n",
      "37/37 [==============================] - 11s 295ms/step - loss: 0.9905 - acc: 0.5625 - val_loss: 0.7063 - val_acc: 0.5050\n",
      "Epoch 2/100\n",
      "36/37 [============================>.] - ETA: 0s - loss: 0.8779 - acc: 0.5931Epoch 00002: val_acc did not improve\n",
      "37/37 [==============================] - 7s 195ms/step - loss: 0.8752 - acc: 0.5948 - val_loss: 0.7229 - val_acc: 0.5050\n",
      "Epoch 3/100\n",
      "36/37 [============================>.] - ETA: 0s - loss: 0.8456 - acc: 0.6033Epoch 00003: val_acc improved from 0.50500 to 0.52167, saving model to weights_better.hdf5\n",
      "37/37 [==============================] - 7s 198ms/step - loss: 0.8503 - acc: 0.6009 - val_loss: 0.6930 - val_acc: 0.5217\n",
      "Epoch 4/100\n",
      "36/37 [============================>.] - ETA: 0s - loss: 0.8198 - acc: 0.6122Epoch 00004: val_acc did not improve\n",
      "37/37 [==============================] - 7s 193ms/step - loss: 0.8170 - acc: 0.6144 - val_loss: 0.7444 - val_acc: 0.5050\n",
      "Epoch 5/100\n",
      "36/37 [============================>.] - ETA: 0s - loss: 0.8035 - acc: 0.6161Epoch 00005: val_acc improved from 0.52167 to 0.52500, saving model to weights_better.hdf5\n",
      "37/37 [==============================] - 7s 198ms/step - loss: 0.8020 - acc: 0.6170 - val_loss: 0.6912 - val_acc: 0.5250\n",
      "Epoch 6/100\n",
      "36/37 [============================>.] - ETA: 0s - loss: 0.7820 - acc: 0.6274Epoch 00006: val_acc did not improve\n",
      "37/37 [==============================] - 7s 194ms/step - loss: 0.7833 - acc: 0.6261 - val_loss: 0.7651 - val_acc: 0.5050\n",
      "Epoch 7/100\n",
      "36/37 [============================>.] - ETA: 0s - loss: 0.7665 - acc: 0.6343Epoch 00007: val_acc did not improve\n",
      "37/37 [==============================] - 7s 193ms/step - loss: 0.7651 - acc: 0.6360 - val_loss: 0.6913 - val_acc: 0.5133\n",
      "Epoch 8/100\n",
      "36/37 [============================>.] - ETA: 0s - loss: 0.7554 - acc: 0.6289Epoch 00008: val_acc did not improve\n",
      "37/37 [==============================] - 7s 196ms/step - loss: 0.7543 - acc: 0.6292 - val_loss: 0.6911 - val_acc: 0.5233\n",
      "Epoch 9/100\n",
      "36/37 [============================>.] - ETA: 0s - loss: 0.7519 - acc: 0.6343Epoch 00009: val_acc did not improve\n",
      "37/37 [==============================] - 7s 193ms/step - loss: 0.7474 - acc: 0.6364 - val_loss: 0.6885 - val_acc: 0.5200\n",
      "Epoch 10/100\n",
      "36/37 [============================>.] - ETA: 0s - loss: 0.7349 - acc: 0.6400Epoch 00010: val_acc improved from 0.52500 to 0.53000, saving model to weights_better.hdf5\n",
      "37/37 [==============================] - 7s 198ms/step - loss: 0.7340 - acc: 0.6393 - val_loss: 0.6846 - val_acc: 0.5300\n",
      "Epoch 11/100\n",
      "36/37 [============================>.] - ETA: 0s - loss: 0.7145 - acc: 0.6354Epoch 00011: val_acc improved from 0.53000 to 0.60833, saving model to weights_better.hdf5\n",
      "37/37 [==============================] - 7s 200ms/step - loss: 0.7141 - acc: 0.6360 - val_loss: 0.6707 - val_acc: 0.6083\n",
      "Epoch 12/100\n",
      "36/37 [============================>.] - ETA: 0s - loss: 0.7125 - acc: 0.6463Epoch 00012: val_acc did not improve\n",
      "37/37 [==============================] - 7s 196ms/step - loss: 0.7141 - acc: 0.6461 - val_loss: 0.6676 - val_acc: 0.6033\n",
      "Epoch 13/100\n",
      "36/37 [============================>.] - ETA: 0s - loss: 0.6792 - acc: 0.6593Epoch 00013: val_acc did not improve\n",
      "37/37 [==============================] - 7s 192ms/step - loss: 0.6802 - acc: 0.6590 - val_loss: 0.6539 - val_acc: 0.6050\n",
      "Epoch 14/100\n",
      "36/37 [============================>.] - ETA: 0s - loss: 0.6852 - acc: 0.6634Epoch 00014: val_acc improved from 0.60833 to 0.63500, saving model to weights_better.hdf5\n",
      "37/37 [==============================] - 7s 199ms/step - loss: 0.6838 - acc: 0.6621 - val_loss: 0.6403 - val_acc: 0.6350\n",
      "Epoch 15/100\n",
      "36/37 [============================>.] - ETA: 0s - loss: 0.6830 - acc: 0.6589Epoch 00015: val_acc did not improve\n",
      "37/37 [==============================] - 7s 196ms/step - loss: 0.6857 - acc: 0.6565 - val_loss: 0.6439 - val_acc: 0.6083\n",
      "Epoch 16/100\n",
      "36/37 [============================>.] - ETA: 0s - loss: 0.6960 - acc: 0.6513Epoch 00016: val_acc improved from 0.63500 to 0.63667, saving model to weights_better.hdf5\n",
      "37/37 [==============================] - 7s 198ms/step - loss: 0.6953 - acc: 0.6497 - val_loss: 0.6206 - val_acc: 0.6367\n",
      "Epoch 17/100\n",
      "36/37 [============================>.] - ETA: 0s - loss: 0.6646 - acc: 0.6708Epoch 00017: val_acc improved from 0.63667 to 0.65167, saving model to weights_better.hdf5\n",
      "37/37 [==============================] - 7s 201ms/step - loss: 0.6651 - acc: 0.6717 - val_loss: 0.6260 - val_acc: 0.6517\n",
      "Epoch 18/100\n",
      "36/37 [============================>.] - ETA: 0s - loss: 0.6665 - acc: 0.6673Epoch 00018: val_acc did not improve\n",
      "37/37 [==============================] - 7s 194ms/step - loss: 0.6661 - acc: 0.6670 - val_loss: 0.6480 - val_acc: 0.6333\n",
      "Epoch 19/100\n",
      "36/37 [============================>.] - ETA: 0s - loss: 0.6692 - acc: 0.6647Epoch 00019: val_acc did not improve\n",
      "37/37 [==============================] - 7s 195ms/step - loss: 0.6712 - acc: 0.6643 - val_loss: 0.6655 - val_acc: 0.6250\n",
      "Epoch 20/100\n",
      "36/37 [============================>.] - ETA: 0s - loss: 0.6509 - acc: 0.6730Epoch 00020: val_acc did not improve\n",
      "37/37 [==============================] - 7s 191ms/step - loss: 0.6484 - acc: 0.6738 - val_loss: 0.6689 - val_acc: 0.6300\n",
      "Epoch 21/100\n",
      "36/37 [============================>.] - ETA: 0s - loss: 0.6544 - acc: 0.6645Epoch 00021: val_acc improved from 0.65167 to 0.66333, saving model to weights_better.hdf5\n",
      "37/37 [==============================] - 7s 199ms/step - loss: 0.6560 - acc: 0.6637 - val_loss: 0.6249 - val_acc: 0.6633\n",
      "Epoch 22/100\n",
      "36/37 [============================>.] - ETA: 0s - loss: 0.6561 - acc: 0.6704Epoch 00022: val_acc improved from 0.66333 to 0.66667, saving model to weights_better.hdf5\n",
      "37/37 [==============================] - 7s 199ms/step - loss: 0.6547 - acc: 0.6704 - val_loss: 0.6282 - val_acc: 0.6667\n",
      "Epoch 23/100\n",
      "36/37 [============================>.] - ETA: 0s - loss: 0.6629 - acc: 0.6515Epoch 00023: val_acc improved from 0.66667 to 0.71167, saving model to weights_better.hdf5\n",
      "37/37 [==============================] - 7s 201ms/step - loss: 0.6609 - acc: 0.6524 - val_loss: 0.5743 - val_acc: 0.7117\n",
      "Epoch 24/100\n",
      "35/37 [===========================>..] - ETA: 0s - loss: 0.6208 - acc: 0.6920"
     ]
    }
   ],
   "source": [
    "\n",
    "# history_complex = model_complex.fit(x_train, y_train, batch_size=batch_size, epochs=epochs,validation_data=(x_test, y_test), verbose=1)\n",
    "\n",
    "epoch_complex = 100\n",
    "\n",
    "history_complex = model_complex.fit_generator(aug.flow(x_train, y_train, batch_size=batch_size), validation_data=(x_test, y_test), callbacks=callbacks_list, steps_per_epoch=len(x_train) // batch_size, epochs=epoch_complex)\n"
   ]
  },
  {
   "cell_type": "code",
   "execution_count": null,
   "metadata": {},
   "outputs": [],
   "source": [
    "\n",
    "score_complex = model_complex.evaluate(x_val, y_val, verbose=1)\n",
    "print('Test loss:', score_complex[0])\n",
    "print('Test accuracy:', score_complex[1])\n"
   ]
  },
  {
   "cell_type": "code",
   "execution_count": null,
   "metadata": {},
   "outputs": [],
   "source": [
    "\n",
    "model_complex_predictions = model_complex.predict(x_val)\n"
   ]
  },
  {
   "cell_type": "markdown",
   "metadata": {},
   "source": [
    "### Exercise 5\n",
    "\n",
    "Apply the trained model on the testing set and output the classification results."
   ]
  },
  {
   "cell_type": "code",
   "execution_count": null,
   "metadata": {},
   "outputs": [],
   "source": [
    "\n",
    "print(\"Classification report for the complex CNN:\")\n",
    "print(classification_report(y_val.argmax(axis=1), model_complex_predictions.argmax(axis=1)))\n"
   ]
  },
  {
   "cell_type": "code",
   "execution_count": null,
   "metadata": {},
   "outputs": [],
   "source": [
    "\n",
    "print(\"Confusion matrix for the complex CNN:\")\n",
    "print(confusion_matrix(y_val.argmax(axis=1), model_complex_predictions.argmax(axis=1)))\n"
   ]
  },
  {
   "cell_type": "code",
   "execution_count": 94,
   "metadata": {},
   "outputs": [
    {
     "data": {
      "image/png": "[encoded data removed]",
      "text/plain": [
       "<matplotlib.figure.Figure at 0x19296e0c860>"
      ]
     },
     "metadata": {},
     "output_type": "display_data"
    }
   ],
   "source": [
    "\n",
    "plot_train_val_acc_curve(history_complex)\n"
   ]
  },
  {
   "cell_type": "code",
   "execution_count": 95,
   "metadata": {},
   "outputs": [
    {
     "data": {
      "image/png": "[encoded data removed]",
      "text/plain": [
       "<matplotlib.figure.Figure at 0x19296d6a7f0>"
      ]
     },
     "metadata": {},
     "output_type": "display_data"
    }
   ],
   "source": [
    "\n",
    "plot_train_val_loss_curve(history_complex)\n"
   ]
  },
  {
   "cell_type": "code",
   "execution_count": 97,
   "metadata": {},
   "outputs": [
    {
     "name": "stdout",
     "output_type": "stream",
     "text": [
      "Axes(0.547727,0.125;0.352273x0.755)\n"
     ]
    },
    {
     "data": {
      "image/png": "[encoded data removed]",
      "text/plain": [
       "<matplotlib.figure.Figure at 0x19297573cc0>"
      ]
     },
     "metadata": {},
     "output_type": "display_data"
    }
   ],
   "source": [
    "\n",
    "print(plot_precision_recall_curve(first_arg(y_val), first_arg(preds), \"Keras Complex CNN\"))\n"
   ]
  },
  {
   "cell_type": "markdown",
   "metadata": {},
   "source": [
    "### Exercise 6 \n",
    "\n",
    "Plot the saliency map of original image to see which part is important for making classification decisions. You can refer to the following blog article on how to generate visualisation results of the filters in the ConvNets.\n",
    "https://blog.keras.io/how-convolutional-neural-networks-see-the-world.html"
   ]
  },
  {
   "cell_type": "code",
   "execution_count": null,
   "metadata": {},
   "outputs": [],
   "source": [
    "# Add your code here"
   ]
  }
 ],
 "metadata": {
  "kernelspec": {
   "display_name": "Python 3",
   "language": "python",
   "name": "python3"
  },
  "language_info": {
   "codemirror_mode": {
    "name": "ipython",
    "version": 3
   },
   "file_extension": ".py",
   "mimetype": "text/x-python",
   "name": "python",
   "nbconvert_exporter": "python",
   "pygments_lexer": "ipython3",
   "version": "3.6.1"
  }
 },
 "nbformat": 4,
 "nbformat_minor": 1
}

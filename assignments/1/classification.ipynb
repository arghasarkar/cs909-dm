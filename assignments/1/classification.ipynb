{
 "cells": [
  {
   "cell_type": "markdown",
   "metadata": {},
   "source": [
    "# Classification\n",
    "\n",
    "In this lab, we will be building and evaluating different classifiers for recognising handwritten digits of MNIST dataset. We will be doing the following:\n",
    "\n",
    "1. Binary Classification of MNIST Dataset\n",
    "\n",
    "In the first set of tasks, you will evaluate a number of popular classifiers for the task of recognizing handwritten digits from MNIST dataset. Specifically, we will focus on distinguishing between 7 and 9 which are known to be a hard pair. \n",
    "\n",
    "2. Exploration of Different Evaluation Metrics. \n",
    "\n",
    "In the second set of tasks, you will learn how (and when) to use evaluation metrics for classifiers.\n",
    "\n",
    "3. Parameter Tuning through Grid Search/Cross Validation and Parallelization.\n",
    "\n",
    "You will learn how to tune your classifier and find optimal parameters using grid search. This is a very computationally intensive task - so you will also explore how to leverage parallelization capabilities of IPython kernel to get results sooner."
   ]
  },
  {
   "cell_type": "code",
   "execution_count": 1,
   "metadata": {},
   "outputs": [
    {
     "name": "stderr",
     "output_type": "stream",
     "text": [
      "D:\\Applications\\Python3\\lib\\site-packages\\sklearn\\ensemble\\weight_boosting.py:29: DeprecationWarning: numpy.core.umath_tests is an internal NumPy module and should not be imported. It will be removed in a future NumPy release.\n",
      "  from numpy.core.umath_tests import inner1d\n"
     ]
    }
   ],
   "source": [
    "%matplotlib inline \n",
    "\n",
    "#Array processing\n",
    "import numpy as np\n",
    "\n",
    "#Data analysis, wrangling and common exploratory operations\n",
    "import pandas as pd\n",
    "from pandas import Series, DataFrame\n",
    "\n",
    "#For visualization. Matplotlib for basic viz and seaborn for more stylish figures + statistical figures not in MPL.\n",
    "import matplotlib.pyplot as plt\n",
    "import seaborn as sns\n",
    "from IPython.core.display import Image\n",
    "\n",
    "from sklearn.datasets import fetch_mldata                                                                       \n",
    "from sklearn.utils import shuffle                                                                                   \n",
    "from sklearn import metrics                                                                                                  \n",
    "from sklearn import tree                                                                                                     \n",
    "from sklearn.tree import DecisionTreeClassifier                                                       \n",
    "from sklearn.naive_bayes import MultinomialNB  \n",
    "from sklearn.linear_model import LogisticRegression                                            \n",
    "from sklearn.ensemble import RandomForestClassifier                                                                                                          \n",
    "from sklearn.model_selection import KFold, train_test_split, cross_val_score, GridSearchCV                                                \n",
    "from sklearn.preprocessing import StandardScaler\n",
    "\n",
    "import pydot, io\n",
    "import time\n",
    "\n",
    "#######################End imports###################################\n"
   ]
  },
  {
   "cell_type": "markdown",
   "metadata": {},
   "source": [
    "## Part 1: Binary Classification of MNIST Dataset\n",
    "\n",
    "In the first set of tasks, you will evaluate a number of popular classifiers for the task of recognizing handwritten digits from MNIST dataset. Specifically, we will focus on distinguishing between 7 and 9 which are known to be a hard pair."
   ]
  },
  {
   "cell_type": "code",
   "execution_count": 2,
   "metadata": {},
   "outputs": [
    {
     "name": "stdout",
     "output_type": "stream",
     "text": [
      "#Images = 70000 and #Pixel per image = 784\n",
      "First image shows 0\n",
      "The corresponding matrix version of image is \n",
      " [  0   0   0   0   0   0   0   0   0   0   0   0   0   0   0   0   0   0\n",
      "   0   0   0   0   0   0   0   0   0   0   0   0   0   0   0   0   0   0\n",
      "   0   0   0   0   0   0   0   0   0   0   0   0   0   0   0   0   0   0\n",
      "   0   0   0   0   0   0   0   0   0   0   0   0   0   0   0   0   0   0\n",
      "   0   0   0   0   0   0   0   0   0   0   0   0   0   0   0   0   0   0\n",
      "   0   0   0   0   0   0   0   0   0   0   0   0   0   0   0   0   0   0\n",
      "   0   0   0   0   0   0   0   0   0   0   0   0   0   0   0   0   0   0\n",
      "   0  51 159 253 159  50   0   0   0   0   0   0   0   0   0   0   0   0\n",
      "   0   0   0   0   0   0   0   0   0   0  48 238 252 252 252 237   0   0\n",
      "   0   0   0   0   0   0   0   0   0   0   0   0   0   0   0   0   0   0\n",
      "   0  54 227 253 252 239 233 252  57   6   0   0   0   0   0   0   0   0\n",
      "   0   0   0   0   0   0   0   0   0  10  60 224 252 253 252 202  84 252\n",
      " 253 122   0   0   0   0   0   0   0   0   0   0   0   0   0   0   0   0\n",
      "   0 163 252 252 252 253 252 252  96 189 253 167   0   0   0   0   0   0\n",
      "   0   0   0   0   0   0   0   0   0   0  51 238 253 253 190 114 253 228\n",
      "  47  79 255 168   0   0   0   0   0   0   0   0   0   0   0   0   0   0\n",
      "   0  48 238 252 252 179  12  75 121  21   0   0 253 243  50   0   0   0\n",
      "   0   0   0   0   0   0   0   0   0   0  38 165 253 233 208  84   0   0\n",
      "   0   0   0   0 253 252 165   0   0   0   0   0   0   0   0   0   0   0\n",
      "   0   7 178 252 240  71  19  28   0   0   0   0   0   0 253 252 195   0\n",
      "   0   0   0   0   0   0   0   0   0   0   0  57 252 252  63   0   0   0\n",
      "   0   0   0   0   0   0 253 252 195   0   0   0   0   0   0   0   0   0\n",
      "   0   0   0 198 253 190   0   0   0   0   0   0   0   0   0   0 255 253\n",
      " 196   0   0   0   0   0   0   0   0   0   0   0  76 246 252 112   0   0\n",
      "   0   0   0   0   0   0   0   0 253 252 148   0   0   0   0   0   0   0\n",
      "   0   0   0   0  85 252 230  25   0   0   0   0   0   0   0   0   7 135\n",
      " 253 186  12   0   0   0   0   0   0   0   0   0   0   0  85 252 223   0\n",
      "   0   0   0   0   0   0   0   7 131 252 225  71   0   0   0   0   0   0\n",
      "   0   0   0   0   0   0  85 252 145   0   0   0   0   0   0   0  48 165\n",
      " 252 173   0   0   0   0   0   0   0   0   0   0   0   0   0   0  86 253\n",
      " 225   0   0   0   0   0   0 114 238 253 162   0   0   0   0   0   0   0\n",
      "   0   0   0   0   0   0   0   0  85 252 249 146  48  29  85 178 225 253\n",
      " 223 167  56   0   0   0   0   0   0   0   0   0   0   0   0   0   0   0\n",
      "  85 252 252 252 229 215 252 252 252 196 130   0   0   0   0   0   0   0\n",
      "   0   0   0   0   0   0   0   0   0   0  28 199 252 252 253 252 252 233\n",
      " 145   0   0   0   0   0   0   0   0   0   0   0   0   0   0   0   0   0\n",
      "   0   0   0  25 128 252 253 252 141  37   0   0   0   0   0   0   0   0\n",
      "   0   0   0   0   0   0   0   0   0   0   0   0   0   0   0   0   0   0\n",
      "   0   0   0   0   0   0   0   0   0   0   0   0   0   0   0   0   0   0\n",
      "   0   0   0   0   0   0   0   0   0   0   0   0   0   0   0   0   0   0\n",
      "   0   0   0   0   0   0   0   0   0   0   0   0   0   0   0   0   0   0\n",
      "   0   0   0   0   0   0   0   0   0   0   0   0   0   0   0   0   0   0\n",
      "   0   0   0   0   0   0   0   0   0   0   0   0   0   0   0   0   0   0\n",
      "   0   0   0   0   0   0   0   0   0   0]\n",
      "The image in grey shape is \n",
      "Shape of data and labels are : (14251, 784) (14251,)\n",
      "[0.         0.         0.         0.         0.         0.\n",
      " 0.         0.         0.         0.         0.         0.\n",
      " 0.         0.         0.         0.         0.         0.\n",
      " 0.         0.         0.         0.         0.         0.\n",
      " 0.         0.         0.         0.         0.         0.\n",
      " 0.         0.         0.         0.         0.         0.\n",
      " 0.         0.         0.         0.         0.         0.\n",
      " 0.         0.         0.         0.         0.         0.\n",
      " 0.         0.         0.         0.         0.         0.\n",
      " 0.         0.         0.         0.         0.         0.\n",
      " 0.         0.         0.         0.         0.         0.\n",
      " 0.         0.         0.         0.         0.         0.\n",
      " 0.         0.         0.         0.         0.         0.\n",
      " 0.         0.         0.         0.         0.         0.\n",
      " 0.         0.         0.         0.         0.         0.\n",
      " 0.         0.         0.         0.         0.         0.\n",
      " 0.         0.         0.         0.         0.         0.\n",
      " 0.         0.         0.         0.         0.         0.\n",
      " 0.         0.         0.         0.         0.         0.\n",
      " 0.         0.         0.         0.         0.         0.\n",
      " 0.         0.         0.         0.         0.         0.\n",
      " 0.         0.         0.         0.         0.         0.\n",
      " 0.         0.         0.         0.         0.         0.\n",
      " 0.         0.         0.         0.         0.         0.\n",
      " 0.         0.         0.         0.         0.         0.\n",
      " 0.         0.         0.         0.         0.         0.\n",
      " 0.         0.         0.         0.         0.         0.\n",
      " 0.         0.         0.         0.         0.         0.\n",
      " 0.         0.         0.         0.         0.         0.\n",
      " 0.         0.         0.         0.         0.         0.\n",
      " 0.         0.04313725 0.34117647 0.54117647 0.54117647 0.54117647\n",
      " 0.74901961 0.50196078 0.0745098  0.         0.         0.\n",
      " 0.         0.         0.         0.         0.         0.\n",
      " 0.         0.         0.         0.         0.         0.\n",
      " 0.         0.         0.         0.05098039 0.34901961 0.79607843\n",
      " 0.89411765 0.80784314 0.68235294 0.36078431 0.36078431 0.62352941\n",
      " 0.9254902  0.17254902 0.         0.         0.         0.\n",
      " 0.         0.         0.         0.         0.         0.\n",
      " 0.         0.         0.         0.         0.         0.\n",
      " 0.17647059 0.6745098  0.98823529 0.74117647 0.1254902  0.\n",
      " 0.         0.         0.         0.09411765 0.98823529 0.67058824\n",
      " 0.05098039 0.         0.         0.         0.         0.\n",
      " 0.         0.         0.         0.         0.         0.\n",
      " 0.         0.         0.         0.24313725 0.9254902  0.89019608\n",
      " 0.25882353 0.01568627 0.         0.         0.         0.\n",
      " 0.         0.09411765 0.98823529 0.98823529 0.17647059 0.\n",
      " 0.         0.         0.         0.         0.         0.\n",
      " 0.         0.         0.         0.         0.         0.\n",
      " 0.41568627 0.95294118 0.90588235 0.18823529 0.         0.\n",
      " 0.         0.         0.         0.         0.         0.29803922\n",
      " 0.98823529 0.98823529 0.17647059 0.         0.         0.\n",
      " 0.         0.         0.         0.         0.         0.\n",
      " 0.         0.         0.         0.40784314 0.99215686 0.86666667\n",
      " 0.16470588 0.         0.         0.         0.         0.\n",
      " 0.         0.24313725 0.74901961 1.         0.99215686 0.80392157\n",
      " 0.08235294 0.         0.         0.         0.         0.\n",
      " 0.         0.         0.         0.         0.         0.\n",
      " 0.25882353 0.9254902  0.98823529 0.         0.         0.\n",
      " 0.         0.         0.         0.03529412 0.18431373 0.84313725\n",
      " 0.98823529 0.97647059 0.80784314 0.21960784 0.         0.\n",
      " 0.         0.         0.         0.         0.         0.\n",
      " 0.         0.         0.         0.05098039 0.79607843 0.98823529\n",
      " 0.53333333 0.         0.         0.         0.         0.\n",
      " 0.1254902  0.30588235 0.98823529 0.98823529 0.98823529 0.45098039\n",
      " 0.         0.         0.         0.         0.         0.\n",
      " 0.         0.         0.         0.         0.         0.\n",
      " 0.         0.18431373 0.98823529 0.69019608 0.01568627 0.\n",
      " 0.         0.         0.         0.33333333 0.89803922 0.85882353\n",
      " 0.51764706 0.98823529 0.82352941 0.         0.         0.\n",
      " 0.         0.         0.         0.         0.         0.\n",
      " 0.         0.         0.         0.         0.         0.10196078\n",
      " 0.86666667 0.62745098 0.         0.         0.29019608 0.57254902\n",
      " 0.90196078 0.98039216 0.29411765 0.07058824 0.68235294 0.98823529\n",
      " 0.33333333 0.         0.         0.         0.         0.\n",
      " 0.         0.         0.         0.         0.         0.\n",
      " 0.         0.         0.         0.         0.65882353 0.97647059\n",
      " 0.99215686 1.         0.97647059 0.78039216 0.45490196 0.04313725\n",
      " 0.         0.22352941 0.99215686 0.75294118 0.04313725 0.\n",
      " 0.         0.         0.         0.         0.         0.\n",
      " 0.         0.         0.         0.         0.         0.\n",
      " 0.         0.         0.         0.4627451  0.80784314 0.36078431\n",
      " 0.29411765 0.         0.         0.         0.01960784 0.69803922\n",
      " 0.94117647 0.14509804 0.         0.         0.         0.\n",
      " 0.         0.         0.         0.         0.         0.\n",
      " 0.         0.         0.         0.         0.         0.\n",
      " 0.         0.         0.         0.         0.         0.\n",
      " 0.         0.         0.42352941 0.98823529 0.59215686 0.\n",
      " 0.         0.         0.         0.         0.         0.\n",
      " 0.         0.         0.         0.         0.         0.\n",
      " 0.         0.         0.         0.         0.         0.\n",
      " 0.         0.         0.         0.         0.         0.\n",
      " 0.91372549 0.92156863 0.17254902 0.         0.         0.\n",
      " 0.         0.         0.         0.         0.         0.\n",
      " 0.         0.         0.         0.         0.         0.\n",
      " 0.         0.         0.         0.         0.         0.\n",
      " 0.         0.         0.         0.61960784 0.99215686 0.6\n",
      " 0.         0.         0.         0.         0.         0.\n",
      " 0.         0.         0.         0.         0.         0.\n",
      " 0.         0.         0.         0.         0.         0.\n",
      " 0.         0.         0.         0.         0.         0.\n",
      " 0.03529412 0.91372549 0.94901961 0.16470588 0.         0.\n",
      " 0.         0.         0.         0.         0.         0.\n",
      " 0.         0.         0.         0.         0.         0.\n",
      " 0.         0.         0.         0.         0.         0.\n",
      " 0.         0.         0.         0.         0.36470588 0.98823529\n",
      " 0.52941176 0.         0.         0.         0.         0.\n",
      " 0.         0.         0.         0.         0.         0.\n",
      " 0.         0.         0.         0.         0.         0.\n",
      " 0.         0.         0.         0.         0.         0.\n",
      " 0.         0.         0.48627451 0.98823529 0.1254902  0.\n",
      " 0.         0.         0.         0.         0.         0.\n",
      " 0.         0.         0.         0.         0.         0.\n",
      " 0.         0.         0.         0.         0.         0.\n",
      " 0.         0.         0.         0.         0.         0.10196078\n",
      " 0.87843137 0.98823529 0.29019608 0.         0.         0.\n",
      " 0.         0.         0.         0.         0.         0.\n",
      " 0.         0.         0.         0.         0.         0.\n",
      " 0.         0.         0.         0.         0.         0.\n",
      " 0.         0.         0.         0.14901961 0.70196078 0.37254902\n",
      " 0.         0.         0.         0.         0.         0.\n",
      " 0.         0.         0.         0.         0.         0.\n",
      " 0.         0.         0.         0.         0.         0.\n",
      " 0.         0.         0.         0.         0.         0.\n",
      " 0.         0.         0.         0.         0.         0.\n",
      " 0.         0.         0.         0.         0.         0.\n",
      " 0.         0.         0.         0.         0.         0.\n",
      " 0.         0.         0.         0.         0.         0.\n",
      " 0.         0.         0.         0.         0.         0.\n",
      " 0.         0.         0.         0.         0.         0.\n",
      " 0.         0.         0.         0.         0.         0.\n",
      " 0.         0.         0.         0.        ]\n"
     ]
    },
    {
     "data": {
      "image/png": "[encoded data removed]",
      "text/plain": [
       "<matplotlib.figure.Figure at 0x2487dbf4c18>"
      ]
     },
     "metadata": {},
     "output_type": "display_data"
    }
   ],
   "source": [
    "####################Do not change anything below\n",
    "#Load MNIST data. fetch_mldata will download the dataset and put it in a folder called mldata. \n",
    "#Some things to be aware of:\n",
    "#   The folder mldata will be created in the folder in which you started the notebook\n",
    "#   So to make your life easy, always start IPython notebook from same folder.\n",
    "#   Else the following code will keep downloading MNIST data\n",
    "mnist = fetch_mldata(\"MNIST original\")                      \n",
    "#The data is organized as follows:\n",
    "#  Each row corresponds to an image\n",
    "#  Each image has 28*28 pixels which is then linearized to a vector of size 784 (ie. 28*28)\n",
    "# mnist.data gives the image information while mnist.target gives the number in the image\n",
    "print(\"#Images = %d and #Pixel per image = %s\" % (mnist.data.shape[0], mnist.data.shape[1]))\n",
    "\n",
    "#Print first row of the dataset \n",
    "img = mnist.data[0]                                                                                                          \n",
    "print(\"First image shows %d\" % (mnist.target[0]))\n",
    "print(\"The corresponding matrix version of image is \\n\" , img)\n",
    "print(\"The image in grey shape is \")\n",
    "plt.imshow(img.reshape(28, 28), cmap=\"Greys\")                                                                                \n",
    "                                                                                                                             \n",
    "#First 60K images are for training and last 10K are for testing\n",
    "all_train_data = mnist.data[:60000]                                                                                          \n",
    "all_test_data = mnist.data[60000:]                                                                                           \n",
    "all_train_labels = mnist.target[:60000]                                                                                      \n",
    "all_test_labels = mnist.target[60000:]                                                                                       \n",
    "                                                              \n",
    "                                                                                                                             \n",
    "#For the first task, we will be doing binary classification and focus  on two pairs of \n",
    "#  numbers: 7 and 9 which are known to be hard to distinguish\n",
    "#Get all the seven images\n",
    "sevens_data = mnist.data[mnist.target==7]      \n",
    "#Get all the nine images\n",
    "nines_data = mnist.data[mnist.target==9]       \n",
    "#Merge them to create a new dataset\n",
    "binary_class_data = np.vstack([sevens_data, nines_data])    \n",
    "binary_class_labels = np.hstack([np.repeat(7, sevens_data.shape[0]), np.repeat(9, nines_data.shape[0])])    \n",
    " \n",
    "#In order to make the experiments repeatable, we will seed the random number generator to a known value\n",
    "# That way the results of the experiments will always be same\n",
    "np.random.seed(1234)                        \n",
    "#randomly shuffle the data\n",
    "binary_class_data, binary_class_labels = shuffle(binary_class_data, binary_class_labels)  \n",
    "print(\"Shape of data and labels are :\" , binary_class_data.shape, binary_class_labels.shape)  \n",
    "\n",
    "#There are approximately 14K images of 7 and 9. \n",
    "#Let us take the first 5000 as training and remaining as test data                                          \n",
    "orig_binary_class_training_data = binary_class_data[:5000]                                                  \n",
    "binary_class_training_labels = binary_class_labels[:5000]                                                   \n",
    "orig_binary_class_testing_data = binary_class_data[5000:]                                                   \n",
    "binary_class_testing_labels = binary_class_labels[5000:] \n",
    "\n",
    "#The images are in grey scale where each number is between 0 to 255\n",
    "# Now let us normalize them so that the values are between 0 and 1. \n",
    "# This will be the only modification we will make to the image\n",
    "binary_class_training_data = orig_binary_class_training_data / 255.0                                        \n",
    "binary_class_testing_data = orig_binary_class_testing_data / 255.0                                          \n",
    "scaled_training_data = all_train_data / 255.0                                                                                \n",
    "scaled_testing_data = all_test_data / 255.0  \n",
    "\n",
    "print(binary_class_training_data[0,:])                                                                 \n",
    "     \n",
    "###########Make sure that you remember the variable names and their meaning\n",
    "#binary_class_training_data, binary_class_training_labels: Normalized images of 7 and 9 and the correct labels for training\n",
    "#binary_class_testing_data, binary_class_testing_labels : Normalized images of 7 and 9 and correct labels for testing\n",
    "#orig_binary_class_training_data, orig_binary_class_testing_data: Unnormalized images of 7 and 9\n",
    "#all_train_data, all_test_data: un normalized images of all digits \n",
    "#all_train_labels, all_test_labels: labels for all digits\n",
    "#scaled_training_data, scaled_testing_data: Normalized version of all_train_data, all_test_data for all digits\n"
   ]
  },
  {
   "cell_type": "markdown",
   "metadata": {},
   "source": [
    "## Binary Classification in scikit-learn\n",
    "\n",
    "All classifiers in scikit-learn follow a common pattern that makes life much easier. \n",
    "Follow these steps for all the tasks below.\n",
    "\n",
    "1. Instantiate the classifier with appropriate parameters\n",
    "2. Train/fit the classifier with training data and correct labels\n",
    "3. Test the classifier with unseen data\n",
    "4. Evaluate the performance of classifier"
   ]
  },
  {
   "cell_type": "markdown",
   "metadata": {},
   "source": [
    "### Exercise 1: Decision Trees (10 marks)\n",
    "\n",
    "In the first task, you will use Decision trees (see url\n",
    "http://scikit-learn.org/stable/modules/generated/sklearn.tree.DecisionTreeClassifier.html#sklearn.tree.DecisionTreeClassifier\n",
    ") for classification. \n",
    "\n",
    "Implement a CART decision tree with splitting criterion as entropy. Also print the learned decision tree using the supplied function \"plot_tree\" below."
   ]
  },
  {
   "cell_type": "code",
   "execution_count": 3,
   "metadata": {},
   "outputs": [],
   "source": [
    "###Do not make any change below\n",
    "def plot_dtree(model,fileName):                                                                                              \n",
    "    #You would have to install a Python package pydot                                                                        \n",
    "    #You would also have to install graphviz for your system - see http://www.graphviz.org/Download..php                     \n",
    "    #If you get any pydot error, see url\n",
    "    # http://stackoverflow.com/questions/15951748/pydot-and-graphviz-error-couldnt-import-dot-parser-loading-of-dot-files-will\n",
    "    dot_tree_data = io.StringIO()                                                                                      \n",
    "    tree.export_graphviz(model, out_file = dot_tree_data)                                                                   \n",
    "    (dtree_graph,) = pydot.graph_from_dot_data(dot_tree_data.getvalue())                                                        \n",
    "    dtree_graph.write_png(fileName)                   "
   ]
  },
  {
   "cell_type": "markdown",
   "metadata": {},
   "source": [
    "A ```DecisionTreeClassifier``` is initialised with the ```random_state=1234``` and it's splitting criterion set to **entropy**. After the decision tree has been initialised, it's trained using the ```.fit``` method. ```binary_class_training_data``` and ```binary_class_training_labels``` are used as parameters into the training method."
   ]
  },
  {
   "cell_type": "code",
   "execution_count": 4,
   "metadata": {},
   "outputs": [],
   "source": [
    "# Exercise 1 (10 marks)\n",
    "# Create a CART decision tree with splitting criterion as entropy\n",
    "# Remember to set the random state to 1234\n",
    "\n",
    "RANDOM_STATE = 1234\n",
    "\n",
    "cart = DecisionTreeClassifier(random_state = RANDOM_STATE, criterion = 'entropy').fit(binary_class_training_data, binary_class_training_labels)\n"
   ]
  },
  {
   "cell_type": "markdown",
   "metadata": {},
   "source": [
    "The trained decision tree modeled is used to generate predictions on the testing data. The predictions are then stored in a variable called ```cart_predictions```. This was used to manually view the classification output and sanity check. \n",
    "\n",
    "To predict the accuracy of the model, the ```score``` method is used. The method takes in the testing data and the labels as parameters and returns a decimal value indicating the accuracy. \n",
    "\n",
    "Probabilities are stored in a variable called ```cart_pred_proba``` which is required for drawing the ROC as well as the **precision** & **recall** graphs.\n",
    "\n",
    "The accuracy produced is almost 97%. This is an extremely high accuracy."
   ]
  },
  {
   "cell_type": "code",
   "execution_count": 5,
   "metadata": {},
   "outputs": [
    {
     "name": "stdout",
     "output_type": "stream",
     "text": [
      "The prediction accuracy is:  96.94087125716139 %\n"
     ]
    }
   ],
   "source": [
    "cart_predictions = cart.predict(binary_class_testing_data)\n",
    "cart_pred_proba = [p[1] for p in cart.predict_proba(binary_class_testing_data)] \n",
    "\n",
    "# Accuracy checker\n",
    "print(\"The prediction accuracy is: \", cart.score(binary_class_testing_data, binary_class_testing_labels)*100,\"%\")"
   ]
  },
  {
   "cell_type": "markdown",
   "metadata": {},
   "source": [
    "# Save the decision tree as .png image\n",
    "\n",
    "**IGNORE DURING MARKING**\n",
    "\n",
    "The image saving is not working on my personal machines so it'll only run on other machines (DCS machines). \n"
   ]
  },
  {
   "cell_type": "code",
   "execution_count": 6,
   "metadata": {},
   "outputs": [
    {
     "name": "stdout",
     "output_type": "stream",
     "text": [
      "ArghaWin10\n"
     ]
    }
   ],
   "source": [
    "# IGNORE DURING THE MARKING PROCESS\n",
    "# THIS CODE EXISTS AS THE TREE GENERATION DOES NOT WORK ON MY MACHINE. \n",
    "# THIS CODE WAS EXECUTED ON DCS MACHINE TO GENERATE THE IMAGE.\n",
    "\n",
    "import getpass\n",
    "username = getpass.getuser()\n",
    "\n",
    "print(username)\n",
    "\n",
    "if username is \"ArghaWin10\":\n",
    "    plot_dtree(cart, \"tree.png\")"
   ]
  },
  {
   "cell_type": "markdown",
   "metadata": {},
   "source": [
    "# Generated decision tree\n",
    "\n",
    "The generated decision tree is shown below:\n",
    "\n",
    "![alt text](tree.png \"Decision Tree\")"
   ]
  },
  {
   "cell_type": "markdown",
   "metadata": {},
   "source": [
    "### Exercise 2: Naive Bayes (10 marks)\n",
    "\n",
    "In this task, you will create a multinomial Naive Bayes classifiers and evaluate it. \n",
    "\n",
    "You might want to use the following url\n",
    "http://scikit-learn.org/stable/modules/naive_bayes.html "
   ]
  },
  {
   "cell_type": "markdown",
   "metadata": {},
   "source": [
    "A ```MultinomobialNB``` which is a multinomial naive bayes classifier is initialised. It's trained using the ```.fit``` method. ```binary_class_training_data``` and ```binary_class_training_labels``` are used as parameters into the training method."
   ]
  },
  {
   "cell_type": "code",
   "execution_count": 7,
   "metadata": {},
   "outputs": [],
   "source": [
    "# Exercise 2 (10 marks)\n",
    "# Create multinomial NB\n",
    "mnb = MultinomialNB()\n",
    "\n",
    "mnb_model = mnb.fit(binary_class_training_data, binary_class_training_labels)"
   ]
  },
  {
   "cell_type": "markdown",
   "metadata": {},
   "source": [
    "The ```mnb_model``` classifier is used to generate predictions on the testing data. The predictions are then stored in a variable called ```mnb_predictions```. This was used to manually view the classification output and sanity check. \n",
    "\n",
    "To predict the accuracy of the model, the ```score``` method is used. The method takes in the testing data and the labels as parameters and returns a decimal value indicating the accuracy. \n",
    "\n",
    "Probabilities are stored in a variable called ```mnb_pred_proba``` which is required for drawing the ROC as well as the **precision** & **recall** graphs.\n",
    "\n",
    "The accuracy is 91.6%. This is the lowest accuracy of all the classifiers. Although this is very high accuracy generally, it's the poorest out of all the rest. This can explained by the fact MNB relies on conditional probability. However, by flattening out the pixel images, we're losing spatial information of the pixel colours. As this is probability and not concrete, the performance is worse whilst compared to decision trees and random forests. "
   ]
  },
  {
   "cell_type": "code",
   "execution_count": 8,
   "metadata": {},
   "outputs": [
    {
     "name": "stdout",
     "output_type": "stream",
     "text": [
      "The prediction accuracy is:  91.59009836774403 %\n"
     ]
    }
   ],
   "source": [
    "mnb_predictions = mnb_model.predict(binary_class_testing_data)\n",
    "mnb_pred_proba = [p[1] for p in mnb_model.predict_proba(binary_class_testing_data)]\n",
    "\n",
    "print(\"The prediction accuracy is: \", mnb_model.score(binary_class_testing_data, binary_class_testing_labels)*100,\"%\")"
   ]
  },
  {
   "cell_type": "markdown",
   "metadata": {},
   "source": [
    "### Exercise 3: Logistic Regression (10 marks)\n",
    "\n",
    "Logistic regression is a simple classifier that converts a regression model into a classification one.\n",
    "You can read the details at http://scikit-learn.org/stable/modules/generated/sklearn.linear_model.LogisticRegression.html \n"
   ]
  },
  {
   "cell_type": "markdown",
   "metadata": {},
   "source": []
  },
  {
   "cell_type": "code",
   "execution_count": 9,
   "metadata": {},
   "outputs": [],
   "source": [
    "# Exercise 3 (10 marks)\n",
    "# Create a model with default parameters. Remember to set random state to 1234\n",
    "lgr = LogisticRegression(random_state = RANDOM_STATE, solver = \"liblinear\")\n",
    "\n",
    "lgr_model = lgr.fit(binary_class_training_data, binary_class_training_labels)\n"
   ]
  },
  {
   "cell_type": "markdown",
   "metadata": {},
   "source": [
    "Probabilities are stored in a variable called ```lgr_pred_proba``` which is required for drawing the ROC as well as the **precision** & **recall** graphs.\n",
    "\n",
    "The accuracy rate of 95.7% is not bad whilst compared to multinomial naive bayes. However, random forests and decision trees surpass this. "
   ]
  },
  {
   "cell_type": "code",
   "execution_count": 10,
   "metadata": {},
   "outputs": [
    {
     "name": "stdout",
     "output_type": "stream",
     "text": [
      "The prediction accuracy is:  95.73019133066695 %\n"
     ]
    }
   ],
   "source": [
    "lgr_predictions = lgr_model.predict(binary_class_testing_data)\n",
    "lgr_pred_proba = [p[1] for p in lgr_model.predict_proba(binary_class_testing_data)]\n",
    "\n",
    "print(\"The prediction accuracy is: \", lgr_model.score(binary_class_testing_data, binary_class_testing_labels)*100,\"%\")"
   ]
  },
  {
   "cell_type": "markdown",
   "metadata": {},
   "source": [
    "### Exercise 4: Random Forests (10 marks)\n",
    "\n",
    "Random Forests is a very popular ensemble method. See url \n",
    "http://scikit-learn.org/stable/modules/generated/sklearn.ensemble.RandomForestClassifier.html\n",
    "for details. Implement a Random Forest (10 marks)"
   ]
  },
  {
   "cell_type": "code",
   "execution_count": 11,
   "metadata": {},
   "outputs": [],
   "source": [
    "# Exercise 4 (10 marks)\n",
    "# Create a random forest classifier with Default parameters\n",
    "\n",
    "clf = RandomForestClassifier()\n",
    "\n",
    "clf_model = clf.fit(binary_class_training_data, binary_class_training_labels)\n"
   ]
  },
  {
   "cell_type": "markdown",
   "metadata": {},
   "source": [
    "Probabilities are stored in a variable called ```clf_pred_proba``` which is required for drawing the ROC as well as the **precision** & **recall** graphs."
   ]
  },
  {
   "cell_type": "code",
   "execution_count": 12,
   "metadata": {},
   "outputs": [
    {
     "name": "stdout",
     "output_type": "stream",
     "text": [
      "The prediction accuracy is:  97.53540157820775 %\n"
     ]
    }
   ],
   "source": [
    "clf_predictions = clf_model.predict(binary_class_testing_data)\n",
    "clf_pred_proba = [p[1] for p in clf_model.predict_proba(binary_class_testing_data)]\n",
    "\n",
    "print(\"The prediction accuracy is: \", clf_model.score(binary_class_testing_data, binary_class_testing_labels)*100,\"%\")"
   ]
  },
  {
   "cell_type": "markdown",
   "metadata": {},
   "source": [
    "## Part 2: Exploration of Different Evaluation Metrics for Binary Classification\n",
    "\n",
    "Let us evaluate different metrics for the binary classification models that we created so far. \n",
    "You may want to check the url http://scikit-learn.org/stable/modules/classes.html#module-sklearn.metrics for additional details."
   ]
  },
  {
   "cell_type": "markdown",
   "metadata": {},
   "source": [
    "### Exercise 5: Print the classification results (total: 20 marks)\n",
    "\n",
    "For each of the models above:\n",
    "\n",
    "- Task 5a: Print the classification report and confusion matrix (5 marks)\n",
    "- Task 5b: Print the ROC curve (5 marks)\n",
    "- Task 5c: Print the AUC curve (5 marks)\n",
    "- Task 5d: Print the precision/recall curve (5 marks)"
   ]
  },
  {
   "cell_type": "code",
   "execution_count": 13,
   "metadata": {
    "scrolled": true
   },
   "outputs": [
    {
     "name": "stdout",
     "output_type": "stream",
     "text": [
      "Classification report for CART:\n",
      "             precision    recall  f1-score   support\n",
      "\n",
      "          7       0.97      0.97      0.97      4746\n",
      "          9       0.96      0.97      0.97      4505\n",
      "\n",
      "avg / total       0.97      0.97      0.97      9251\n",
      "\n",
      "Confusion matrix:\n",
      "[[4584  162]\n",
      " [ 121 4384]]\n",
      "\n",
      "\n",
      "Classification report for Multinomial Naive Bayes:\n",
      "             precision    recall  f1-score   support\n",
      "\n",
      "          7       0.95      0.88      0.91      4746\n",
      "          9       0.88      0.95      0.92      4505\n",
      "\n",
      "avg / total       0.92      0.92      0.92      9251\n",
      "\n",
      "Confusion matrix:\n",
      "[[4174  572]\n",
      " [ 206 4299]]\n",
      "\n",
      "\n",
      "Classification report for Logistic Regression:\n",
      "             precision    recall  f1-score   support\n",
      "\n",
      "          7       0.96      0.96      0.96      4746\n",
      "          9       0.96      0.95      0.96      4505\n",
      "\n",
      "avg / total       0.96      0.96      0.96      9251\n",
      "\n",
      "Confusion matrix:\n",
      "[[4556  190]\n",
      " [ 205 4300]]\n",
      "\n",
      "\n",
      "Classification report for Logistic Regression:\n",
      "             precision    recall  f1-score   support\n",
      "\n",
      "          7       0.97      0.98      0.98      4746\n",
      "          9       0.98      0.97      0.97      4505\n",
      "\n",
      "avg / total       0.98      0.98      0.98      9251\n",
      "\n",
      "Confusion matrix:\n",
      "[[4556  190]\n",
      " [ 205 4300]]\n"
     ]
    }
   ],
   "source": [
    "# task t5a (5 marks)\n",
    "# Print the classification report and confusion matrix for each of the models above\n",
    "# Write code here\n",
    "from sklearn.metrics import classification_report, confusion_matrix\n",
    "\n",
    "\n",
    "'''\n",
    "    Classification report for CART decision tree\n",
    "'''\n",
    "print(\"Classification report for CART:\")\n",
    "print(classification_report(binary_class_testing_labels, cart_predictions))\n",
    "print(\"Confusion matrix:\")\n",
    "print(confusion_matrix(binary_class_testing_labels, cart_predictions))\n",
    "\n",
    "'''\n",
    "    Classification report for Multinomial Naive Bayes\n",
    "'''\n",
    "print(\"\\n\\nClassification report for Multinomial Naive Bayes:\")\n",
    "print(classification_report(binary_class_testing_labels, mnb_predictions))\n",
    "print(\"Confusion matrix:\")\n",
    "print(confusion_matrix(binary_class_testing_labels, mnb_predictions))\n",
    "\n",
    "'''\n",
    "    Classification report for Logistic Regression\n",
    "'''\n",
    "print(\"\\n\\nClassification report for Logistic Regression:\")\n",
    "print(classification_report(binary_class_testing_labels, lgr_predictions))\n",
    "print(\"Confusion matrix:\")\n",
    "print(confusion_matrix(binary_class_testing_labels, lgr_predictions))\n",
    "\n",
    "'''\n",
    "    Classification report for Random Forest with default parameters\n",
    "'''\n",
    "print(\"\\n\\nClassification report for Logistic Regression:\")\n",
    "print(classification_report(binary_class_testing_labels, clf_predictions))\n",
    "print(\"Confusion matrix:\")\n",
    "print(confusion_matrix(binary_class_testing_labels, lgr_predictions))\n"
   ]
  },
  {
   "cell_type": "markdown",
   "metadata": {},
   "source": [
    "# Convert 7 & 9 predictions to binary classifications\n",
    "\n",
    "For calculating the ROC curve, binary information needs to be given. However, the predictions are multi-class predictions for **7** and **9**. This needs to be converted into two separate binary classifications, one for 7 and the other for 9. These two arrays will contain 0's and 1's indicating if the prediction is correct. \n",
    "\n",
    "This has been done using the ```label_binarize``` function."
   ]
  },
  {
   "cell_type": "code",
   "execution_count": 14,
   "metadata": {},
   "outputs": [],
   "source": [
    "# task t5b (5 marks)\n",
    "# Each of the model above has some probabilistic interpretation\n",
    "# So sklearn allows you to get the probability values as part of classification\n",
    "# Using this information, you can print roc_curve\n",
    "# See http://nbviewer.ipython.org/github/datadave/GADS9-NYC-Spring2014-Lectures/blob/master/lessons/lesson09_decision_trees_random_forests/sklearn_decision_trees.ipynb\n",
    "# Write code here\n",
    "\n",
    "from sklearn.preprocessing import label_binarize\n",
    "\n",
    "# The class labels being used\n",
    "CLASS_LABELS = [7, 9]\n",
    "\n",
    "# Binarizing the testing labels\n",
    "binarized_testing_labels = label_binarize(binary_class_testing_labels, classes = CLASS_LABELS)\n",
    "\n",
    "# Binarizing the CART predictions\n",
    "binarized_cart_preds = label_binarize(cart_predictions, classes = CLASS_LABELS)\n",
    "\n",
    "# Binarizing the Multinomial Naive Bayes predictions\n",
    "binarized_mnb_preds = label_binarize(mnb_predictions, classes = CLASS_LABELS)\n",
    "\n",
    "# Binarizing the Logistic Regression predictions\n",
    "binarized_lgr_preds = label_binarize(lgr_predictions, classes = CLASS_LABELS)\n",
    "\n",
    "# Binarizing the Random Forest predictions\n",
    "binarized_clf_preds = label_binarize(clf_predictions, classes = CLASS_LABELS)\n"
   ]
  },
  {
   "cell_type": "markdown",
   "metadata": {},
   "source": [
    "Now that the binarization of the labels have been done, calculate the ROC curve and plot it.\n",
    "\n",
    "The function ```plot_roc``` takes the **binarized labels** and the **binarized predictions** as the main input paramters which are required for getting the ROC statistics. It also takes the name of the classifier as string for adding the title. The plot is returned by the function."
   ]
  },
  {
   "cell_type": "code",
   "execution_count": 15,
   "metadata": {},
   "outputs": [
    {
     "name": "stdout",
     "output_type": "stream",
     "text": [
      "Figure(720x288)\n",
      "Figure(720x288)\n",
      "Figure(720x288)\n",
      "Figure(720x288)\n"
     ]
    },
    {
     "data": {
      "image/png": "[encoded data removed]",
      "text/plain": [
       "<matplotlib.figure.Figure at 0x2480d96a4a8>"
      ]
     },
     "metadata": {},
     "output_type": "display_data"
    },
    {
     "data": {
      "image/png": "[encoded data removed]",
      "text/plain": [
       "<matplotlib.figure.Figure at 0x2481494b860>"
      ]
     },
     "metadata": {},
     "output_type": "display_data"
    },
    {
     "data": {
      "image/png": "[encoded data removed]",
      "text/plain": [
       "<matplotlib.figure.Figure at 0x24814ad95f8>"
      ]
     },
     "metadata": {},
     "output_type": "display_data"
    },
    {
     "data": {
      "image/png": "[encoded data removed]",
      "text/plain": [
       "<matplotlib.figure.Figure at 0x24814b42470>"
      ]
     },
     "metadata": {},
     "output_type": "display_data"
    }
   ],
   "source": [
    "# Compute ROC curve and ROC area for each class\n",
    "from sklearn.metrics import roc_curve, auc\n",
    "\n",
    "\n",
    "def plot_auc(labels, predictions, classifier_name=None):\n",
    "    \n",
    "    title = \"ROC curve\"\n",
    "    if classifier_name is not None:\n",
    "        title = \"ROC curve for {} predictions\".format(classifier_name)\n",
    "    \n",
    "    fpr, tpr, thresholds = roc_curve(labels, predictions)\n",
    "    _auc = auc(fpr, tpr)\n",
    "    \n",
    "    fig = plt.figure()\n",
    "    fig.set_figwidth(10)\n",
    "    fig.suptitle(title)\n",
    "\n",
    "    cart_plot = plt.subplot(1, 2, 2)\n",
    "    cart_plot.set_xlabel('false positive rate')\n",
    "    cart_plot.set_ylabel('true positive rate')\n",
    "    cart_plot.plot(fpr, tpr, label='(area = {:.3f})'.format(_auc))\n",
    "    \n",
    "    return fig\n",
    "    \n",
    "\n",
    "# Plot the AUC curve for CART\n",
    "print(plot_auc(binarized_testing_labels, cart_pred_proba, \"CART\"))\n",
    "\n",
    "# Plot the AUC curve for Multinomial Naive Bayes classifier\n",
    "print(plot_auc(binarized_testing_labels, mnb_pred_proba, \"Multinomial Naive Bayes classifier\"))\n",
    "    \n",
    "# Plot the AUC curve for Logistic Regression classifier\n",
    "print(plot_auc(binarized_testing_labels, lgr_pred_proba, \"Logistic Regression classifier\"))\n",
    "\n",
    "# Plot the AUC curve for Random forests classifier\n",
    "print(plot_auc(binarized_testing_labels, clf_pred_proba, \"Random Forest classifier\"))\n"
   ]
  },
  {
   "cell_type": "code",
   "execution_count": 16,
   "metadata": {},
   "outputs": [
    {
     "name": "stdout",
     "output_type": "stream",
     "text": [
      "The AUC value for the CART classifier is: 0.9695.\n",
      "The AUC value for the Multinomial Naive Bayes classifier is: 0.9169.\n",
      "The AUC value for the Logistic Regression classifier is: 0.9572.\n",
      "The AUC value for the Random Forest classifier is: 0.9752.\n"
     ]
    }
   ],
   "source": [
    "# task t5c (5 marks)\n",
    "# Print the AUC value for each of the models above\n",
    "# Write code here\n",
    "\n",
    "from sklearn.metrics import roc_auc_score\n",
    "\n",
    "# Print the AUC value for CART\n",
    "print(\"The AUC value for the CART classifier is: {0:0.4f}.\".format(roc_auc_score(binarized_testing_labels, binarized_cart_preds)))\n",
    "\n",
    "# Print the AUC value for Multinomial Naive Bayes\n",
    "print(\"The AUC value for the Multinomial Naive Bayes classifier is: {0:0.4f}.\".format(roc_auc_score(binarized_testing_labels, binarized_mnb_preds)))\n",
    "\n",
    "# Print the AUC value for Logistic Regression\n",
    "print(\"The AUC value for the Logistic Regression classifier is: {0:0.4f}.\".format(roc_auc_score(binarized_testing_labels, binarized_lgr_preds)))\n",
    "\n",
    "# Print the AUC value for Random Forests\n",
    "print(\"The AUC value for the Random Forest classifier is: {0:0.4f}.\".format(roc_auc_score(binarized_testing_labels, binarized_clf_preds)))\n"
   ]
  },
  {
   "cell_type": "markdown",
   "metadata": {},
   "source": [
    "The area under the curve (AUC) value is the area under the curve of the ROC graph. A value of **1.0** indicates that there are not false classifications. A value of **0.5** indicates random guessing. As all these values are fairly high, we can tell that the classifiers are working very well. Just as indicated by the accuracy scores, the Random Forest classifier is the best performer here and the Multinomial Naive Bayes is the worst performer."
   ]
  },
  {
   "cell_type": "code",
   "execution_count": 17,
   "metadata": {},
   "outputs": [
    {
     "name": "stdout",
     "output_type": "stream",
     "text": [
      "Axes(0.547727,0.125;0.352273x0.755)\n",
      "Axes(0.547727,0.125;0.352273x0.755)\n",
      "Axes(0.547727,0.125;0.352273x0.755)\n",
      "Axes(0.547727,0.125;0.352273x0.755)\n"
     ]
    },
    {
     "data": {
      "image/png": "[encoded data removed]",
      "text/plain": [
       "<matplotlib.figure.Figure at 0x24814becc88>"
      ]
     },
     "metadata": {},
     "output_type": "display_data"
    },
    {
     "data": {
      "image/png": "[encoded data removed]",
      "text/plain": [
       "<matplotlib.figure.Figure at 0x24814bf1550>"
      ]
     },
     "metadata": {},
     "output_type": "display_data"
    },
    {
     "data": {
      "image/png": "[encoded data removed]",
      "text/plain": [
       "<matplotlib.figure.Figure at 0x24814d651d0>"
      ]
     },
     "metadata": {},
     "output_type": "display_data"
    },
    {
     "data": {
      "image/png": "[encoded data removed]",
      "text/plain": [
       "<matplotlib.figure.Figure at 0x24814dcaa20>"
      ]
     },
     "metadata": {},
     "output_type": "display_data"
    }
   ],
   "source": [
    "# task t5d (5 marks)\n",
    "# Print the precision recall curve for each of the models above\n",
    "# print the curve based on http://scikit-learn.org/stable/auto_examples/plot_precision_recall.html   \n",
    "# Write code here\n",
    "\n",
    "from sklearn.metrics import precision_recall_curve\n",
    "from sklearn.utils.fixes import signature\n",
    "from sklearn.metrics import average_precision_score\n",
    "\n",
    "\n",
    "def plot_precision_recall_curve(labels, predictions, classifier_name=None):\n",
    "    \n",
    "    title = \"Precision-Recall curve\"\n",
    "    if classifier_name is not None:\n",
    "        title = \"Precision-Recall curve for {} predictions\".format(classifier_name)\n",
    "        \n",
    "    precision, recall, thresholds = precision_recall_curve(labels, predictions)\n",
    "    \n",
    "    average_precision = average_precision_score(labels, predictions)\n",
    "\n",
    "    # In matplotlib < 1.5, plt.fill_between does not have a 'step' argument\n",
    "    step_kwargs = ({'step': 'post'}\n",
    "                   if 'step' in signature(plt.fill_between).parameters\n",
    "                   else {})\n",
    "    \n",
    "    fig = plt.figure()\n",
    "    fig.set_figwidth(10)\n",
    "    fig.suptitle('Precision-Recall curve for {0}: AP={1:0.2f}'.format(classifier_name, average_precision))\n",
    "    \n",
    "    plot = plt.subplot(1, 2, 2)\n",
    "    \n",
    "    plot.step(recall, precision, color='b', alpha=0.2, where='post')\n",
    "    \n",
    "    plot.fill_between(recall, precision, alpha=0.2, color='b', **step_kwargs)\n",
    "\n",
    "    plot.set_xlabel('Recall')\n",
    "    plot.set_ylabel('Precision')\n",
    "    plot.set_ylim([0.0, 1.05])\n",
    "    plot.set_xlim([0.0, 1.0])\n",
    "    \n",
    "    \n",
    "    return plot\n",
    "\n",
    "# Plot the precision-recall curve for CART\n",
    "print(plot_precision_recall_curve(binarized_testing_labels, cart_pred_proba, \"CART\"))\n",
    "\n",
    "# Plot the precision-recall curve for Multinomial Naive Bayes\n",
    "print(plot_precision_recall_curve(binarized_testing_labels, mnb_pred_proba, \"Multinomial Naive Bayes\"))\n",
    "\n",
    "# Plot the precision-recall curve for Logistic Regression\n",
    "print(plot_precision_recall_curve(binarized_testing_labels, lgr_pred_proba, \"Logistic Regression\"))\n",
    "\n",
    "# Plot the precision-recall curve for Random Forest\n",
    "print(plot_precision_recall_curve(binarized_testing_labels, clf_pred_proba, \"Random Forest\"))"
   ]
  },
  {
   "cell_type": "markdown",
   "metadata": {},
   "source": [
    "## Part 3: Parameter Tuning through Grid Search/Cross Validation and Parallelization\n",
    "\n",
    "So far in this assignment, you manually tweaked the model till it became better.\n",
    "For complex models, this is often cumbersome. A common trick people use is called Grid Search where you exhaustively test various parameter combinations\n",
    "and pick the best set of parameter values. This is a VERY computationally intensive process and hence it will require some parallelization.\n",
    "\n",
    "In this part, you will learn how to tune Randm Forest for MNIST dataset\n",
    "and then parallelize it so as to get results faster.\n",
    "You might want to take a look at the url\n",
    "http://scikit-learn.org/stable/modules/grid_search.html\n",
    "for additional details.\n",
    "\n",
    "One thing you might want to note is that the GridSearchCV uses cross validation for comparing models.\n",
    "\n",
    "So you have to send the ENTIRE MNIST dataset - i.e. mnist.data and mnist.target. \n",
    "\n",
    "The following cell creates two variables all_scaled_data and all_scaled_target that you can pass to GridSearchCV.\n",
    "\n",
    "In order to get the results in reasonable time, set the **cv** parameter of GridSearchCV to 3.\n",
    "Also remember to set the **verbose** parameter to 2 to get some details about what happens internally."
   ]
  },
  {
   "cell_type": "code",
   "execution_count": 18,
   "metadata": {},
   "outputs": [],
   "source": [
    "###Do not make any change below\n",
    "all_scaled_data = binary_class_data / 255.0\n",
    "all_scaled_target = binary_class_labels"
   ]
  },
  {
   "cell_type": "markdown",
   "metadata": {},
   "source": [
    "### Exercise 6: Tuning parameters for Random Forest using grid search (15 marks)"
   ]
  },
  {
   "cell_type": "code",
   "execution_count": 19,
   "metadata": {},
   "outputs": [
    {
     "name": "stdout",
     "output_type": "stream",
     "text": [
      "Fitting 3 folds for each of 4 candidates, totalling 12 fits\n"
     ]
    },
    {
     "name": "stderr",
     "output_type": "stream",
     "text": [
      "[Parallel(n_jobs=-1)]: Done  12 out of  12 | elapsed:  2.7min remaining:    0.0s\n",
      "[Parallel(n_jobs=-1)]: Done  12 out of  12 | elapsed:  2.7min finished\n"
     ]
    },
    {
     "data": {
      "text/plain": [
       "GridSearchCV(cv=3, error_score='raise',\n",
       "       estimator=RandomForestClassifier(bootstrap=True, class_weight=None, criterion='gini',\n",
       "            max_depth=None, max_features='auto', max_leaf_nodes=None,\n",
       "            min_impurity_split=1e-07, min_samples_leaf=1,\n",
       "            min_samples_split=2, min_weight_fraction_leaf=0.0,\n",
       "            n_estimators=10, n_jobs=1, oob_score=False, random_state=None,\n",
       "            verbose=0, warm_start=False),\n",
       "       fit_params={}, iid=True, n_jobs=-1,\n",
       "       param_grid=[{'max_features': ['sqrt', 'log2'], 'n_estimators': [1000, 1500]}],\n",
       "       pre_dispatch='2*n_jobs', refit=True, return_train_score=True,\n",
       "       scoring=None, verbose=2)"
      ]
     },
     "execution_count": 19,
     "metadata": {},
     "output_type": "execute_result"
    }
   ],
   "source": [
    "# Exercise 6 (15 marks)\n",
    "# Tuning Random Forest for MNIST\n",
    "tuned_parameters = [{'max_features': ['sqrt', 'log2'], 'n_estimators': [1000, 1500]}] \n",
    "\n",
    "# Write code here\n",
    "# Create the parameter grid based on the results of random search \n",
    "\n",
    "# Create a based model\n",
    "rf = RandomForestClassifier()\n",
    "# Instantiate the grid search model\n",
    "grid_search = GridSearchCV(estimator = rf, param_grid = tuned_parameters, \n",
    "                          cv = 3, n_jobs = -1, verbose = 2)\n",
    "            \n",
    "\n",
    "# Fit the grid search to the data\n",
    "grid_search.fit(all_scaled_data, all_scaled_target)\n",
    "      \n",
    "# print the details of the best model and its accuracy\n",
    "# Write code here"
   ]
  },
  {
   "cell_type": "markdown",
   "metadata": {},
   "source": [
    "In the **GridSearchCV** ```n_jobs=-1``` is used to parallelize the processing. After the grid search has been created, "
   ]
  },
  {
   "cell_type": "code",
   "execution_count": 20,
   "metadata": {},
   "outputs": [
    {
     "name": "stdout",
     "output_type": "stream",
     "text": [
      "RandomForestClassifier(bootstrap=True, class_weight=None, criterion='gini',\n",
      "            max_depth=None, max_features='sqrt', max_leaf_nodes=None,\n",
      "            min_impurity_split=1e-07, min_samples_leaf=1,\n",
      "            min_samples_split=2, min_weight_fraction_leaf=0.0,\n",
      "            n_estimators=1000, n_jobs=1, oob_score=False,\n",
      "            random_state=None, verbose=0, warm_start=False)\n",
      "\n",
      "\n",
      "{'max_features': 'sqrt', 'n_estimators': 1000}\n"
     ]
    }
   ],
   "source": [
    "print(grid_search.best_estimator_)\n",
    "print(\"\\n\")\n",
    "print(grid_search.best_params_)"
   ]
  },
  {
   "cell_type": "markdown",
   "metadata": {},
   "source": [
    "The grid (best_params_) that is printed above shows the best parameters that when used produces the best results for the RandomForest for the parameters we used. Best Estimator shows all the parameters that are the best."
   ]
  },
  {
   "cell_type": "code",
   "execution_count": null,
   "metadata": {},
   "outputs": [],
   "source": []
  }
 ],
 "metadata": {
  "kernelspec": {
   "display_name": "Python 3",
   "language": "python",
   "name": "python3"
  },
  "language_info": {
   "codemirror_mode": {
    "name": "ipython",
    "version": 3
   },
   "file_extension": ".py",
   "mimetype": "text/x-python",
   "name": "python",
   "nbconvert_exporter": "python",
   "pygments_lexer": "ipython3",
   "version": "3.6.1"
  }
 },
 "nbformat": 4,
 "nbformat_minor": 1
}

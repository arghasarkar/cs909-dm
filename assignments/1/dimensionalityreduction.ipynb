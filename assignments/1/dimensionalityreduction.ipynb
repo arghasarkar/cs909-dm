{
 "cells": [
  {
   "cell_type": "markdown",
   "metadata": {},
   "source": [
    "# Dimensionality Reduction\n",
    "\n",
    "Dimensionality reduction is a key data pre-processing technique. You will perform PCA, a popular dimensionality reduction technique to MNIST data to see how it performs."
   ]
  },
  {
   "cell_type": "code",
   "execution_count": 1,
   "metadata": {},
   "outputs": [],
   "source": [
    "%matplotlib inline \n",
    "\n",
    "#Array processing\n",
    "import numpy as np\n",
    "\n",
    "#Data analysis, wrangling and common exploratory operations\n",
    "import pandas as pd\n",
    "from pandas import Series, DataFrame\n",
    "\n",
    "#For visualization. Matplotlib for basic viz and seaborn for more stylish figures + statistical figures not in MPL.\n",
    "import matplotlib.pyplot as plt\n",
    "import seaborn as sns\n",
    "from IPython.core.display import Image\n",
    "\n",
    "from sklearn.datasets import fetch_mldata                                                                       \n",
    "from sklearn.utils import shuffle                                                                                                                                                                      \n",
    "from sklearn import metrics\n",
    "from sklearn.svm import SVC, LinearSVC , SVR \n",
    "from sklearn.multiclass import OneVsRestClassifier, OneVsOneClassifier                                                       \n",
    "from sklearn.model_selection import KFold, train_test_split, cross_val_score, GridSearchCV                                                \n",
    "from sklearn.preprocessing import StandardScaler\n",
    "from sklearn.decomposition import PCA\n",
    "\n",
    "import pydot, io\n",
    "import time\n",
    "\n",
    "#######################End imports###################################\n"
   ]
  },
  {
   "cell_type": "code",
   "execution_count": 2,
   "metadata": {},
   "outputs": [
    {
     "data": {
      "text/plain": [
       "<matplotlib.figure.Figure at 0x22a0d133208>"
      ]
     },
     "metadata": {},
     "output_type": "display_data"
    },
    {
     "data": {
      "image/png": "[encoded data removed]",
      "text/plain": [
       "<matplotlib.figure.Figure at 0x22a0d133c88>"
      ]
     },
     "metadata": {},
     "output_type": "display_data"
    }
   ],
   "source": [
    "####################Do not change anything below\n",
    "#Load MNIST data. fetch_mldata will download the dataset and put it in a folder called mldata. \n",
    "#Some things to be aware of:\n",
    "#   The folder mldata will be created in the folder in which you started the notebook\n",
    "#   So to make your life easy, always start IPython notebook from same folder.\n",
    "#   Else the following code will keep downloading MNIST data\n",
    "mnist = fetch_mldata(\"MNIST original\") \n",
    "                                                                                                             \n",
    "#In order to make the experiments repeatable, we will seed the random number generator to a known value\n",
    "# That way the results of the experiments will always be same\n",
    "np.random.seed(1234)                        \n",
    "\n",
    "# Recall that we previously used shuffle and assigned first 5000 data as training and remaining as testing\n",
    "# Here is another way to do this\n",
    "# Here we are using a function in cross validation module to split \n",
    "# By convention, let us use a 70/30 split\n",
    "train_data, test_data, train_labels, test_labels = \\\n",
    "        train_test_split(mnist.data, mnist.target, test_size=0.3)\n",
    "\n",
    "#The images are in grey scale where each number is between 0 to 255\n",
    "# Now let us normalize them so that the values are between 0 and 1. \n",
    "# This will be the only modification we will make to the image\n",
    "train_data = train_data / 255.0                                        \n",
    "test_data = test_data / 255.0\n",
    "\n",
    "# Plot the average value of all digits\n",
    "plt.figure()\n",
    "fig,axes = plt.subplots(2, 5, figsize=(15,4))\n",
    "\n",
    "for i in range(10):\n",
    "    row, col = i // 5, i%5\n",
    "    \n",
    "    #Change below: Subset p3_train_data with images for digit i only \n",
    "    # Possible to do it 1 liner (similar to how it is done in Pandas)\n",
    "    digit_i_subset = train_data[train_labels == i]\n",
    "\n",
    "    #Change below: compute avg value of t3a_digit_i_subset\n",
    "    # remember to use a vectorized version of mean for efficiency\n",
    "    digit_i_subset_mean = np.mean(digit_i_subset, axis=0)\n",
    "\n",
    "    #Do not change below\n",
    "    axes[row][col].imshow( digit_i_subset_mean.reshape(28, 28), cmap=\"Greys\") \n",
    "    axes[row][col].grid(False)\n",
    "    axes[row][col].get_xaxis().set_ticks([])\n",
    "    axes[row][col].get_yaxis().set_ticks([])"
   ]
  },
  {
   "cell_type": "markdown",
   "metadata": {},
   "source": [
    "### Exercise 7: Dimensionality Reduction (25 marks)\n",
    "\n",
    "- Task 7a: Train a multi-class classifier (OneVsRest) with LinearSVC class and make predictions and print the training time and classification accuracy on the test set. (5 marks)\n",
    "\n",
    "- Task 7b: Perform PCA with 100 components on the training data, map both training and test data into 100-dimensional space by PCA, train a multi-class classifier (OneVsRest) with LinearSVC class using the trainformed training data, make predictions and print the training time and the classification accuracy on the test set. (10 marks)\n",
    "\n",
    "- Task 7c: One way to determine how much components needs for PCA is to find the smallest value such that it explained 95% of the variance. Using the PCA results obtained above, print the cumulative variance that is explained by 100 components. (10 marks)"
   ]
  },
  {
   "cell_type": "code",
   "execution_count": 19,
   "metadata": {},
   "outputs": [],
   "source": [
    "# Task t7a (5 marks)\n",
    "# Train a multi-class classifier (OneVsRest) with LinearSVC class and make predictions\n",
    "# Print the training time and classification accuracy on the test set\n",
    "# Write your code here\n",
    "\n",
    "import time\n",
    "\n",
    "# Recording the start time\n",
    "training_start_time = time.clock()\n",
    "\n",
    "one_vs_rest_linear_svc_model = OneVsOneClassifier(LinearSVC(random_state=0)).fit(train_data, train_labels)\n",
    "\n",
    "# Recording the end time\n",
    "training_end_time = time.clock()\n"
   ]
  },
  {
   "cell_type": "code",
   "execution_count": 20,
   "metadata": {},
   "outputs": [
    {
     "name": "stdout",
     "output_type": "stream",
     "text": [
      "Time taken to train 26.92 seconds.\n"
     ]
    }
   ],
   "source": [
    "print(\"Time taken to train {0:0.2f} seconds.\".format(training_end_time - training_start_time))"
   ]
  },
  {
   "cell_type": "code",
   "execution_count": 24,
   "metadata": {},
   "outputs": [
    {
     "name": "stdout",
     "output_type": "stream",
     "text": [
      "Accuracy of the classifier: 92.86 %\n"
     ]
    }
   ],
   "source": [
    "accuracy = one_vs_rest_linear_svc_model.score(test_data, test_labels)\n",
    "print(\"Accuracy of the classifier: {0:0.2f} %\".format(accuracy * 100))"
   ]
  },
  {
   "cell_type": "code",
   "execution_count": 27,
   "metadata": {},
   "outputs": [],
   "source": [
    "# Task t7b (10 marks)\n",
    "# Perform PCA on the training data and map both training and test data into 100-dimensional space by PCA, \n",
    "# Train a multi-class classifier (OneVsRest) with LinearSVC class using the trainformed training data,\n",
    "# Print the training time and classification accuracy on the test set\n",
    "# Remember that MNIST images are 28x28 => 784 features.\n",
    "\n",
    "# You might want to check http://scikit-learn.org/stable/modules/decomposition.html#decompositions for details\n",
    "# Write your code below\n",
    "\n",
    "'''\n",
    "n_components = 16\n",
    "t0 = time()\n",
    "pca = PCA(n_components=n_components, svd_solver='randomized',\n",
    "          whiten=True).fit(X_train)\n",
    "print(\"done in %0.3fs\" % (time() - t0))\n",
    "\n",
    "X_train_pca = pca.transform(X_train)\n",
    "\n",
    "'''\n",
    "\n",
    "N_COMPONENTS = 100\n",
    "\n",
    "pca = PCA(n_components = N_COMPONENTS).fit(train_data)"
   ]
  },
  {
   "cell_type": "code",
   "execution_count": 29,
   "metadata": {},
   "outputs": [],
   "source": [
    "train_data_pca = pca.transform(train_data)\n",
    "test_data_pca = pca.transform(test_data)"
   ]
  },
  {
   "cell_type": "code",
   "execution_count": 33,
   "metadata": {},
   "outputs": [],
   "source": [
    "# Recording the start time\n",
    "training_start_time = time.clock()\n",
    "\n",
    "pca_one_vs_rest_linear_svc_model = OneVsOneClassifier(LinearSVC(random_state=0)).fit(train_data_pca, train_labels)\n",
    "\n",
    "# Recording the end time\n",
    "training_end_time = time.clock()\n"
   ]
  },
  {
   "cell_type": "code",
   "execution_count": 34,
   "metadata": {},
   "outputs": [
    {
     "name": "stdout",
     "output_type": "stream",
     "text": [
      "Time taken to train 15.24 seconds.\n"
     ]
    }
   ],
   "source": [
    "print(\"Time taken to train {0:0.2f} seconds.\".format(training_end_time - training_start_time))"
   ]
  },
  {
   "cell_type": "code",
   "execution_count": 35,
   "metadata": {},
   "outputs": [
    {
     "name": "stdout",
     "output_type": "stream",
     "text": [
      "Accuracy of the classifier: 93.80 %\n"
     ]
    }
   ],
   "source": [
    "accuracy = pca_one_vs_rest_linear_svc_model.score(test_data_pca, test_labels)\n",
    "print(\"Accuracy of the classifier: {0:0.2f} %\".format(accuracy * 100))"
   ]
  },
  {
   "cell_type": "code",
   "execution_count": 37,
   "metadata": {},
   "outputs": [
    {
     "data": {
      "text/plain": [
       "(array([31., 15., 10.,  6.,  4.,  4.,  2.,  3.,  3.,  1.,  1.,  2.,  2.,\n",
       "         0.,  1.,  1.,  2.,  0.,  0.,  0.,  2.,  0.,  0.,  1.,  0.,  0.,\n",
       "         0.,  1.,  1.,  0.,  0.,  0.,  0.,  1.,  0.,  0.,  0.,  0.,  0.,\n",
       "         0.,  0.,  0.,  0.,  1.,  0.,  0.,  0.,  0.,  0.,  0.,  1.,  0.,\n",
       "         0.,  0.,  0.,  1.,  0.,  0.,  0.,  0.,  0.,  0.,  1.,  0.,  0.,\n",
       "         0.,  0.,  0.,  0.,  0.,  0.,  0.,  0.,  1.,  0.,  0.,  0.,  0.,\n",
       "         0.,  0.,  0.,  0.,  0.,  0.,  0.,  0.,  0.,  0.,  0.,  0.,  0.,\n",
       "         0.,  0.,  0.,  0.,  0.,  0.,  0.,  0.,  1.]),\n",
       " array([0.00095092, 0.00191229, 0.00287365, 0.00383502, 0.00479638,\n",
       "        0.00575774, 0.00671911, 0.00768047, 0.00864184, 0.0096032 ,\n",
       "        0.01056456, 0.01152593, 0.01248729, 0.01344866, 0.01441002,\n",
       "        0.01537139, 0.01633275, 0.01729411, 0.01825548, 0.01921684,\n",
       "        0.02017821, 0.02113957, 0.02210093, 0.0230623 , 0.02402366,\n",
       "        0.02498503, 0.02594639, 0.02690775, 0.02786912, 0.02883048,\n",
       "        0.02979185, 0.03075321, 0.03171457, 0.03267594, 0.0336373 ,\n",
       "        0.03459867, 0.03556003, 0.03652139, 0.03748276, 0.03844412,\n",
       "        0.03940549, 0.04036685, 0.04132821, 0.04228958, 0.04325094,\n",
       "        0.04421231, 0.04517367, 0.04613504, 0.0470964 , 0.04805776,\n",
       "        0.04901913, 0.04998049, 0.05094186, 0.05190322, 0.05286458,\n",
       "        0.05382595, 0.05478731, 0.05574868, 0.05671004, 0.0576714 ,\n",
       "        0.05863277, 0.05959413, 0.0605555 , 0.06151686, 0.06247822,\n",
       "        0.06343959, 0.06440095, 0.06536232, 0.06632368, 0.06728504,\n",
       "        0.06824641, 0.06920777, 0.07016914, 0.0711305 , 0.07209186,\n",
       "        0.07305323, 0.07401459, 0.07497596, 0.07593732, 0.07689869,\n",
       "        0.07786005, 0.07882141, 0.07978278, 0.08074414, 0.08170551,\n",
       "        0.08266687, 0.08362823, 0.0845896 , 0.08555096, 0.08651233,\n",
       "        0.08747369, 0.08843505, 0.08939642, 0.09035778, 0.09131915,\n",
       "        0.09228051, 0.09324187, 0.09420324, 0.0951646 , 0.09612597,\n",
       "        0.09708733]),\n",
       " <a list of 100 Patch objects>)"
      ]
     },
     "execution_count": 37,
     "metadata": {},
     "output_type": "execute_result"
    },
    {
     "data": {
      "image/png": "[encoded data removed]",
      "text/plain": [
       "<matplotlib.figure.Figure at 0x22a236c72b0>"
      ]
     },
     "metadata": {},
     "output_type": "display_data"
    }
   ],
   "source": [
    "# Task t7c (10 marks)\n",
    "\n",
    "# One way to determine how much components needs for PCA is to find the smallest value \n",
    "# such that it explained 95% of the variance. \n",
    "# Using the PCA results obtained above, print the cumulative variance that is explained \n",
    "# by 100 components.\n",
    "# Write your code below\n",
    "plt.hist(pca.explained_variance_ratio_, bins=N_COMPONENTS, log=True)"
   ]
  },
  {
   "cell_type": "code",
   "execution_count": 38,
   "metadata": {},
   "outputs": [
    {
     "data": {
      "text/plain": [
       "0.914667513651581"
      ]
     },
     "execution_count": 38,
     "metadata": {},
     "output_type": "execute_result"
    }
   ],
   "source": [
    "pca.explained_variance_ratio_.sum()"
   ]
  },
  {
   "cell_type": "code",
   "execution_count": null,
   "metadata": {},
   "outputs": [],
   "source": []
  }
 ],
 "metadata": {
  "kernelspec": {
   "display_name": "Python 3",
   "language": "python",
   "name": "python3"
  },
  "language_info": {
   "codemirror_mode": {
    "name": "ipython",
    "version": 3
   },
   "file_extension": ".py",
   "mimetype": "text/x-python",
   "name": "python",
   "nbconvert_exporter": "python",
   "pygments_lexer": "ipython3",
   "version": "3.6.1"
  }
 },
 "nbformat": 4,
 "nbformat_minor": 1
}

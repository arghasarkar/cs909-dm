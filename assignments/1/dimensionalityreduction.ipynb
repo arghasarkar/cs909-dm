{
 "cells": [
  {
   "cell_type": "markdown",
   "metadata": {},
   "source": [
    "# Dimensionality Reduction\n",
    "\n",
    "Dimensionality reduction is a key data pre-processing technique. You will perform PCA, a popular dimensionality reduction technique to MNIST data to see how it performs."
   ]
  },
  {
   "cell_type": "code",
   "execution_count": 1,
   "metadata": {},
   "outputs": [
    {
     "name": "stderr",
     "output_type": "stream",
     "text": [
      "/usr/local/lib/python3.7/site-packages/matplotlib/__init__.py:886: MatplotlibDeprecationWarning: \n",
      "examples.directory is deprecated; in the future, examples will be found relative to the 'datapath' directory.\n",
      "  \"found relative to the 'datapath' directory.\".format(key))\n"
     ]
    }
   ],
   "source": [
    "%matplotlib inline \n",
    "\n",
    "#Array processing\n",
    "import numpy as np\n",
    "\n",
    "#Data analysis, wrangling and common exploratory operations\n",
    "import pandas as pd\n",
    "from pandas import Series, DataFrame\n",
    "\n",
    "#For visualization. Matplotlib for basic viz and seaborn for more stylish figures + statistical figures not in MPL.\n",
    "import matplotlib.pyplot as plt\n",
    "import seaborn as sns\n",
    "from IPython.core.display import Image\n",
    "\n",
    "from sklearn.datasets import fetch_mldata                                                                       \n",
    "from sklearn.utils import shuffle                                                                                                                                                                      \n",
    "from sklearn import metrics\n",
    "from sklearn.svm import SVC, LinearSVC , SVR \n",
    "from sklearn.multiclass import OneVsRestClassifier, OneVsOneClassifier                                                       \n",
    "from sklearn.model_selection import KFold, train_test_split, cross_val_score, GridSearchCV                                                \n",
    "from sklearn.preprocessing import StandardScaler\n",
    "from sklearn.decomposition import PCA\n",
    "\n",
    "import pydot, io\n",
    "import time\n",
    "\n",
    "#######################End imports###################################\n"
   ]
  },
  {
   "cell_type": "code",
   "execution_count": 2,
   "metadata": {},
   "outputs": [
    {
     "name": "stderr",
     "output_type": "stream",
     "text": [
      "/usr/local/lib/python3.7/site-packages/sklearn/utils/deprecation.py:77: DeprecationWarning: Function fetch_mldata is deprecated; fetch_mldata was deprecated in version 0.20 and will be removed in version 0.22\n",
      "  warnings.warn(msg, category=DeprecationWarning)\n",
      "/usr/local/lib/python3.7/site-packages/sklearn/utils/deprecation.py:77: DeprecationWarning: Function mldata_filename is deprecated; mldata_filename was deprecated in version 0.20 and will be removed in version 0.22\n",
      "  warnings.warn(msg, category=DeprecationWarning)\n"
     ]
    },
    {
     "data": {
      "text/plain": [
       "<Figure size 432x288 with 0 Axes>"
      ]
     },
     "metadata": {},
     "output_type": "display_data"
    },
    {
     "data": {
      "image/png": "[encoded data removed]",
      "text/plain": [
       "<Figure size 1080x288 with 10 Axes>"
      ]
     },
     "metadata": {},
     "output_type": "display_data"
    }
   ],
   "source": [
    "####################Do not change anything below\n",
    "#Load MNIST data. fetch_mldata will download the dataset and put it in a folder called mldata. \n",
    "#Some things to be aware of:\n",
    "#   The folder mldata will be created in the folder in which you started the notebook\n",
    "#   So to make your life easy, always start IPython notebook from same folder.\n",
    "#   Else the following code will keep downloading MNIST data\n",
    "mnist = fetch_mldata(\"MNIST original\") \n",
    "                                                                                                             \n",
    "#In order to make the experiments repeatable, we will seed the random number generator to a known value\n",
    "# That way the results of the experiments will always be same\n",
    "np.random.seed(1234)                        \n",
    "\n",
    "# Recall that we previously used shuffle and assigned first 5000 data as training and remaining as testing\n",
    "# Here is another way to do this\n",
    "# Here we are using a function in cross validation module to split \n",
    "# By convention, let us use a 70/30 split\n",
    "train_data, test_data, train_labels, test_labels = \\\n",
    "        train_test_split(mnist.data, mnist.target, test_size=0.3)\n",
    "\n",
    "#The images are in grey scale where each number is between 0 to 255\n",
    "# Now let us normalize them so that the values are between 0 and 1. \n",
    "# This will be the only modification we will make to the image\n",
    "train_data = train_data / 255.0                                        \n",
    "test_data = test_data / 255.0\n",
    "\n",
    "# Plot the average value of all digits\n",
    "plt.figure()\n",
    "fig,axes = plt.subplots(2, 5, figsize=(15,4))\n",
    "\n",
    "for i in range(10):\n",
    "    row, col = i // 5, i%5\n",
    "    \n",
    "    #Change below: Subset p3_train_data with images for digit i only \n",
    "    # Possible to do it 1 liner (similar to how it is done in Pandas)\n",
    "    digit_i_subset = train_data[train_labels == i]\n",
    "\n",
    "    #Change below: compute avg value of t3a_digit_i_subset\n",
    "    # remember to use a vectorized version of mean for efficiency\n",
    "    digit_i_subset_mean = np.mean(digit_i_subset, axis=0)\n",
    "\n",
    "    #Do not change below\n",
    "    axes[row][col].imshow( digit_i_subset_mean.reshape(28, 28), cmap=\"Greys\") \n",
    "    axes[row][col].grid(False)\n",
    "    axes[row][col].get_xaxis().set_ticks([])\n",
    "    axes[row][col].get_yaxis().set_ticks([])"
   ]
  },
  {
   "cell_type": "markdown",
   "metadata": {},
   "source": [
    "### Exercise 7: Dimensionality Reduction (25 marks)\n",
    "\n",
    "- Task 7a: Train a multi-class classifier (OneVsRest) with LinearSVC class and make predictions and print the training time and classification accuracy on the test set. (5 marks)\n",
    "\n",
    "- Task 7b: Perform PCA with 100 components on the training data, map both training and test data into 100-dimensional space by PCA, train a multi-class classifier (OneVsRest) with LinearSVC class using the trainformed training data, make predictions and print the training time and the classification accuracy on the test set. (10 marks)\n",
    "\n",
    "- Task 7c: One way to determine how much components needs for PCA is to find the smallest value such that it explained 95% of the variance. Using the PCA results obtained above, print the cumulative variance that is explained by 100 components. (10 marks)"
   ]
  },
  {
   "cell_type": "code",
   "execution_count": 3,
   "metadata": {},
   "outputs": [
    {
     "name": "stderr",
     "output_type": "stream",
     "text": [
      "/usr/local/lib/python3.7/site-packages/ipykernel_launcher.py:9: DeprecationWarning: time.clock has been deprecated in Python 3.3 and will be removed from Python 3.8: use time.perf_counter or time.process_time instead\n",
      "  if __name__ == '__main__':\n",
      "/usr/local/lib/python3.7/site-packages/sklearn/svm/base.py:931: ConvergenceWarning: Liblinear failed to converge, increase the number of iterations.\n",
      "  \"the number of iterations.\", ConvergenceWarning)\n",
      "/usr/local/lib/python3.7/site-packages/sklearn/svm/base.py:931: ConvergenceWarning: Liblinear failed to converge, increase the number of iterations.\n",
      "  \"the number of iterations.\", ConvergenceWarning)\n",
      "/usr/local/lib/python3.7/site-packages/sklearn/svm/base.py:931: ConvergenceWarning: Liblinear failed to converge, increase the number of iterations.\n",
      "  \"the number of iterations.\", ConvergenceWarning)\n",
      "/usr/local/lib/python3.7/site-packages/sklearn/svm/base.py:931: ConvergenceWarning: Liblinear failed to converge, increase the number of iterations.\n",
      "  \"the number of iterations.\", ConvergenceWarning)\n",
      "/usr/local/lib/python3.7/site-packages/sklearn/svm/base.py:931: ConvergenceWarning: Liblinear failed to converge, increase the number of iterations.\n",
      "  \"the number of iterations.\", ConvergenceWarning)\n",
      "/usr/local/lib/python3.7/site-packages/sklearn/svm/base.py:931: ConvergenceWarning: Liblinear failed to converge, increase the number of iterations.\n",
      "  \"the number of iterations.\", ConvergenceWarning)\n",
      "/usr/local/lib/python3.7/site-packages/sklearn/svm/base.py:931: ConvergenceWarning: Liblinear failed to converge, increase the number of iterations.\n",
      "  \"the number of iterations.\", ConvergenceWarning)\n",
      "/usr/local/lib/python3.7/site-packages/sklearn/svm/base.py:931: ConvergenceWarning: Liblinear failed to converge, increase the number of iterations.\n",
      "  \"the number of iterations.\", ConvergenceWarning)\n",
      "/usr/local/lib/python3.7/site-packages/sklearn/svm/base.py:931: ConvergenceWarning: Liblinear failed to converge, increase the number of iterations.\n",
      "  \"the number of iterations.\", ConvergenceWarning)\n",
      "/usr/local/lib/python3.7/site-packages/sklearn/svm/base.py:931: ConvergenceWarning: Liblinear failed to converge, increase the number of iterations.\n",
      "  \"the number of iterations.\", ConvergenceWarning)\n",
      "/usr/local/lib/python3.7/site-packages/sklearn/svm/base.py:931: ConvergenceWarning: Liblinear failed to converge, increase the number of iterations.\n",
      "  \"the number of iterations.\", ConvergenceWarning)\n",
      "/usr/local/lib/python3.7/site-packages/sklearn/svm/base.py:931: ConvergenceWarning: Liblinear failed to converge, increase the number of iterations.\n",
      "  \"the number of iterations.\", ConvergenceWarning)\n",
      "/usr/local/lib/python3.7/site-packages/sklearn/svm/base.py:931: ConvergenceWarning: Liblinear failed to converge, increase the number of iterations.\n",
      "  \"the number of iterations.\", ConvergenceWarning)\n",
      "/usr/local/lib/python3.7/site-packages/sklearn/svm/base.py:931: ConvergenceWarning: Liblinear failed to converge, increase the number of iterations.\n",
      "  \"the number of iterations.\", ConvergenceWarning)\n",
      "/usr/local/lib/python3.7/site-packages/sklearn/svm/base.py:931: ConvergenceWarning: Liblinear failed to converge, increase the number of iterations.\n",
      "  \"the number of iterations.\", ConvergenceWarning)\n",
      "/usr/local/lib/python3.7/site-packages/sklearn/svm/base.py:931: ConvergenceWarning: Liblinear failed to converge, increase the number of iterations.\n",
      "  \"the number of iterations.\", ConvergenceWarning)\n",
      "/usr/local/lib/python3.7/site-packages/sklearn/svm/base.py:931: ConvergenceWarning: Liblinear failed to converge, increase the number of iterations.\n",
      "  \"the number of iterations.\", ConvergenceWarning)\n",
      "/usr/local/lib/python3.7/site-packages/sklearn/svm/base.py:931: ConvergenceWarning: Liblinear failed to converge, increase the number of iterations.\n",
      "  \"the number of iterations.\", ConvergenceWarning)\n",
      "/usr/local/lib/python3.7/site-packages/sklearn/svm/base.py:931: ConvergenceWarning: Liblinear failed to converge, increase the number of iterations.\n",
      "  \"the number of iterations.\", ConvergenceWarning)\n",
      "/usr/local/lib/python3.7/site-packages/sklearn/svm/base.py:931: ConvergenceWarning: Liblinear failed to converge, increase the number of iterations.\n",
      "  \"the number of iterations.\", ConvergenceWarning)\n",
      "/usr/local/lib/python3.7/site-packages/sklearn/svm/base.py:931: ConvergenceWarning: Liblinear failed to converge, increase the number of iterations.\n",
      "  \"the number of iterations.\", ConvergenceWarning)\n",
      "/usr/local/lib/python3.7/site-packages/sklearn/svm/base.py:931: ConvergenceWarning: Liblinear failed to converge, increase the number of iterations.\n",
      "  \"the number of iterations.\", ConvergenceWarning)\n",
      "/usr/local/lib/python3.7/site-packages/sklearn/svm/base.py:931: ConvergenceWarning: Liblinear failed to converge, increase the number of iterations.\n",
      "  \"the number of iterations.\", ConvergenceWarning)\n",
      "/usr/local/lib/python3.7/site-packages/sklearn/svm/base.py:931: ConvergenceWarning: Liblinear failed to converge, increase the number of iterations.\n",
      "  \"the number of iterations.\", ConvergenceWarning)\n",
      "/usr/local/lib/python3.7/site-packages/sklearn/svm/base.py:931: ConvergenceWarning: Liblinear failed to converge, increase the number of iterations.\n",
      "  \"the number of iterations.\", ConvergenceWarning)\n",
      "/usr/local/lib/python3.7/site-packages/sklearn/svm/base.py:931: ConvergenceWarning: Liblinear failed to converge, increase the number of iterations.\n",
      "  \"the number of iterations.\", ConvergenceWarning)\n",
      "/usr/local/lib/python3.7/site-packages/sklearn/svm/base.py:931: ConvergenceWarning: Liblinear failed to converge, increase the number of iterations.\n",
      "  \"the number of iterations.\", ConvergenceWarning)\n",
      "/usr/local/lib/python3.7/site-packages/sklearn/svm/base.py:931: ConvergenceWarning: Liblinear failed to converge, increase the number of iterations.\n",
      "  \"the number of iterations.\", ConvergenceWarning)\n",
      "/usr/local/lib/python3.7/site-packages/sklearn/svm/base.py:931: ConvergenceWarning: Liblinear failed to converge, increase the number of iterations.\n",
      "  \"the number of iterations.\", ConvergenceWarning)\n",
      "/usr/local/lib/python3.7/site-packages/sklearn/svm/base.py:931: ConvergenceWarning: Liblinear failed to converge, increase the number of iterations.\n",
      "  \"the number of iterations.\", ConvergenceWarning)\n",
      "/usr/local/lib/python3.7/site-packages/sklearn/svm/base.py:931: ConvergenceWarning: Liblinear failed to converge, increase the number of iterations.\n",
      "  \"the number of iterations.\", ConvergenceWarning)\n",
      "/usr/local/lib/python3.7/site-packages/sklearn/svm/base.py:931: ConvergenceWarning: Liblinear failed to converge, increase the number of iterations.\n",
      "  \"the number of iterations.\", ConvergenceWarning)\n",
      "/usr/local/lib/python3.7/site-packages/sklearn/svm/base.py:931: ConvergenceWarning: Liblinear failed to converge, increase the number of iterations.\n",
      "  \"the number of iterations.\", ConvergenceWarning)\n",
      "/usr/local/lib/python3.7/site-packages/sklearn/svm/base.py:931: ConvergenceWarning: Liblinear failed to converge, increase the number of iterations.\n",
      "  \"the number of iterations.\", ConvergenceWarning)\n",
      "/usr/local/lib/python3.7/site-packages/ipykernel_launcher.py:14: DeprecationWarning: time.clock has been deprecated in Python 3.3 and will be removed from Python 3.8: use time.perf_counter or time.process_time instead\n",
      "  \n"
     ]
    }
   ],
   "source": [
    "# Task t7a (5 marks)\n",
    "# Train a multi-class classifier (OneVsRest) with LinearSVC class and make predictions\n",
    "# Print the training time and classification accuracy on the test set\n",
    "# Write your code here\n",
    "\n",
    "import time\n",
    "\n",
    "# Recording the start time\n",
    "training_start_time = time.clock()\n",
    "\n",
    "one_vs_rest_linear_svc_model = OneVsOneClassifier(LinearSVC(random_state=0)).fit(train_data, train_labels)\n",
    "\n",
    "# Recording the end time\n",
    "training_end_time = time.clock()\n"
   ]
  },
  {
   "cell_type": "code",
   "execution_count": 4,
   "metadata": {},
   "outputs": [
    {
     "name": "stdout",
     "output_type": "stream",
     "text": [
      "Time taken to train 15.04 seconds.\n"
     ]
    }
   ],
   "source": [
    "print(\"Time taken to train {0:0.2f} seconds.\".format(training_end_time - training_start_time))"
   ]
  },
  {
   "cell_type": "code",
   "execution_count": 5,
   "metadata": {},
   "outputs": [
    {
     "name": "stdout",
     "output_type": "stream",
     "text": [
      "Accuracy of the classifier: 92.85 %\n"
     ]
    }
   ],
   "source": [
    "accuracy = one_vs_rest_linear_svc_model.score(test_data, test_labels)\n",
    "print(\"Accuracy of the classifier: {0:0.2f} %\".format(accuracy * 100))"
   ]
  },
  {
   "cell_type": "code",
   "execution_count": 6,
   "metadata": {},
   "outputs": [],
   "source": [
    "# Task t7b (10 marks)\n",
    "# Perform PCA on the training data and map both training and test data into 100-dimensional space by PCA, \n",
    "# Train a multi-class classifier (OneVsRest) with LinearSVC class using the trainformed training data,\n",
    "# Print the training time and classification accuracy on the test set\n",
    "# Remember that MNIST images are 28x28 => 784 features.\n",
    "\n",
    "# You might want to check http://scikit-learn.org/stable/modules/decomposition.html#decompositions for details\n",
    "# Write your code below\n",
    "\n",
    "N_COMPONENTS = 500\n",
    "\n",
    "pca = PCA(n_components = N_COMPONENTS).fit(train_data)"
   ]
  },
  {
   "cell_type": "code",
   "execution_count": 7,
   "metadata": {},
   "outputs": [],
   "source": [
    "train_data_pca = pca.transform(train_data)\n",
    "test_data_pca = pca.transform(test_data)"
   ]
  },
  {
   "cell_type": "code",
   "execution_count": 8,
   "metadata": {},
   "outputs": [
    {
     "name": "stderr",
     "output_type": "stream",
     "text": [
      "/usr/local/lib/python3.7/site-packages/ipykernel_launcher.py:2: DeprecationWarning: time.clock has been deprecated in Python 3.3 and will be removed from Python 3.8: use time.perf_counter or time.process_time instead\n",
      "  \n",
      "/usr/local/lib/python3.7/site-packages/sklearn/svm/base.py:931: ConvergenceWarning: Liblinear failed to converge, increase the number of iterations.\n",
      "  \"the number of iterations.\", ConvergenceWarning)\n",
      "/usr/local/lib/python3.7/site-packages/sklearn/svm/base.py:931: ConvergenceWarning: Liblinear failed to converge, increase the number of iterations.\n",
      "  \"the number of iterations.\", ConvergenceWarning)\n",
      "/usr/local/lib/python3.7/site-packages/sklearn/svm/base.py:931: ConvergenceWarning: Liblinear failed to converge, increase the number of iterations.\n",
      "  \"the number of iterations.\", ConvergenceWarning)\n",
      "/usr/local/lib/python3.7/site-packages/sklearn/svm/base.py:931: ConvergenceWarning: Liblinear failed to converge, increase the number of iterations.\n",
      "  \"the number of iterations.\", ConvergenceWarning)\n",
      "/usr/local/lib/python3.7/site-packages/sklearn/svm/base.py:931: ConvergenceWarning: Liblinear failed to converge, increase the number of iterations.\n",
      "  \"the number of iterations.\", ConvergenceWarning)\n",
      "/usr/local/lib/python3.7/site-packages/sklearn/svm/base.py:931: ConvergenceWarning: Liblinear failed to converge, increase the number of iterations.\n",
      "  \"the number of iterations.\", ConvergenceWarning)\n",
      "/usr/local/lib/python3.7/site-packages/sklearn/svm/base.py:931: ConvergenceWarning: Liblinear failed to converge, increase the number of iterations.\n",
      "  \"the number of iterations.\", ConvergenceWarning)\n",
      "/usr/local/lib/python3.7/site-packages/sklearn/svm/base.py:931: ConvergenceWarning: Liblinear failed to converge, increase the number of iterations.\n",
      "  \"the number of iterations.\", ConvergenceWarning)\n",
      "/usr/local/lib/python3.7/site-packages/sklearn/svm/base.py:931: ConvergenceWarning: Liblinear failed to converge, increase the number of iterations.\n",
      "  \"the number of iterations.\", ConvergenceWarning)\n",
      "/usr/local/lib/python3.7/site-packages/sklearn/svm/base.py:931: ConvergenceWarning: Liblinear failed to converge, increase the number of iterations.\n",
      "  \"the number of iterations.\", ConvergenceWarning)\n",
      "/usr/local/lib/python3.7/site-packages/sklearn/svm/base.py:931: ConvergenceWarning: Liblinear failed to converge, increase the number of iterations.\n",
      "  \"the number of iterations.\", ConvergenceWarning)\n",
      "/usr/local/lib/python3.7/site-packages/sklearn/svm/base.py:931: ConvergenceWarning: Liblinear failed to converge, increase the number of iterations.\n",
      "  \"the number of iterations.\", ConvergenceWarning)\n",
      "/usr/local/lib/python3.7/site-packages/sklearn/svm/base.py:931: ConvergenceWarning: Liblinear failed to converge, increase the number of iterations.\n",
      "  \"the number of iterations.\", ConvergenceWarning)\n",
      "/usr/local/lib/python3.7/site-packages/sklearn/svm/base.py:931: ConvergenceWarning: Liblinear failed to converge, increase the number of iterations.\n",
      "  \"the number of iterations.\", ConvergenceWarning)\n",
      "/usr/local/lib/python3.7/site-packages/sklearn/svm/base.py:931: ConvergenceWarning: Liblinear failed to converge, increase the number of iterations.\n",
      "  \"the number of iterations.\", ConvergenceWarning)\n",
      "/usr/local/lib/python3.7/site-packages/sklearn/svm/base.py:931: ConvergenceWarning: Liblinear failed to converge, increase the number of iterations.\n",
      "  \"the number of iterations.\", ConvergenceWarning)\n",
      "/usr/local/lib/python3.7/site-packages/sklearn/svm/base.py:931: ConvergenceWarning: Liblinear failed to converge, increase the number of iterations.\n",
      "  \"the number of iterations.\", ConvergenceWarning)\n",
      "/usr/local/lib/python3.7/site-packages/sklearn/svm/base.py:931: ConvergenceWarning: Liblinear failed to converge, increase the number of iterations.\n",
      "  \"the number of iterations.\", ConvergenceWarning)\n",
      "/usr/local/lib/python3.7/site-packages/sklearn/svm/base.py:931: ConvergenceWarning: Liblinear failed to converge, increase the number of iterations.\n",
      "  \"the number of iterations.\", ConvergenceWarning)\n",
      "/usr/local/lib/python3.7/site-packages/sklearn/svm/base.py:931: ConvergenceWarning: Liblinear failed to converge, increase the number of iterations.\n",
      "  \"the number of iterations.\", ConvergenceWarning)\n",
      "/usr/local/lib/python3.7/site-packages/sklearn/svm/base.py:931: ConvergenceWarning: Liblinear failed to converge, increase the number of iterations.\n",
      "  \"the number of iterations.\", ConvergenceWarning)\n",
      "/usr/local/lib/python3.7/site-packages/sklearn/svm/base.py:931: ConvergenceWarning: Liblinear failed to converge, increase the number of iterations.\n",
      "  \"the number of iterations.\", ConvergenceWarning)\n",
      "/usr/local/lib/python3.7/site-packages/sklearn/svm/base.py:931: ConvergenceWarning: Liblinear failed to converge, increase the number of iterations.\n",
      "  \"the number of iterations.\", ConvergenceWarning)\n",
      "/usr/local/lib/python3.7/site-packages/sklearn/svm/base.py:931: ConvergenceWarning: Liblinear failed to converge, increase the number of iterations.\n",
      "  \"the number of iterations.\", ConvergenceWarning)\n",
      "/usr/local/lib/python3.7/site-packages/ipykernel_launcher.py:7: DeprecationWarning: time.clock has been deprecated in Python 3.3 and will be removed from Python 3.8: use time.perf_counter or time.process_time instead\n",
      "  import sys\n"
     ]
    }
   ],
   "source": [
    "# Recording the start time\n",
    "training_start_time = time.clock()\n",
    "\n",
    "pca_one_vs_rest_linear_svc_model = OneVsOneClassifier(LinearSVC(random_state=0)).fit(train_data_pca, train_labels)\n",
    "\n",
    "# Recording the end time\n",
    "training_end_time = time.clock()\n"
   ]
  },
  {
   "cell_type": "code",
   "execution_count": 9,
   "metadata": {},
   "outputs": [
    {
     "name": "stdout",
     "output_type": "stream",
     "text": [
      "Time taken to train 32.62 seconds.\n"
     ]
    }
   ],
   "source": [
    "print(\"Time taken to train {0:0.2f} seconds.\".format(training_end_time - training_start_time))"
   ]
  },
  {
   "cell_type": "code",
   "execution_count": 10,
   "metadata": {},
   "outputs": [
    {
     "name": "stdout",
     "output_type": "stream",
     "text": [
      "Accuracy of the classifier: 92.82 %\n"
     ]
    }
   ],
   "source": [
    "accuracy = pca_one_vs_rest_linear_svc_model.score(test_data_pca, test_labels)\n",
    "print(\"Accuracy of the classifier: {0:0.2f} %\".format(accuracy * 100))"
   ]
  },
  {
   "cell_type": "code",
   "execution_count": 11,
   "metadata": {},
   "outputs": [
    {
     "data": {
      "text/plain": [
       "(array([262.,  76.,  31.,  21.,  10.,  10.,   7.,   6.,   4.,   6.,   3.,\n",
       "          2.,   4.,   3.,   2.,   2.,   2.,   2.,   1.,   2.,   1.,   1.,\n",
       "          1.,   2.,   2.,   1.,   0.,   1.,   0.,   1.,   1.,   1.,   0.,\n",
       "          2.,   0.,   1.,   0.,   0.,   1.,   0.,   1.,   1.,   0.,   1.,\n",
       "          0.,   1.,   1.,   0.,   0.,   1.,   0.,   0.,   1.,   0.,   0.,\n",
       "          1.,   0.,   0.,   0.,   1.,   0.,   1.,   0.,   0.,   0.,   1.,\n",
       "          0.,   0.,   1.,   0.,   0.,   0.,   0.,   0.,   0.,   0.,   1.,\n",
       "          0.,   0.,   0.,   0.,   1.,   0.,   0.,   0.,   0.,   1.,   1.,\n",
       "          0.,   0.,   0.,   0.,   0.,   0.,   0.,   0.,   0.,   0.,   0.,\n",
       "          0.,   0.,   0.,   0.,   0.,   1.,   0.,   0.,   0.,   1.,   0.,\n",
       "          0.,   0.,   0.,   0.,   0.,   0.,   0.,   0.,   0.,   0.,   1.,\n",
       "          0.,   0.,   0.,   0.,   0.,   0.,   0.,   0.,   0.,   0.,   0.,\n",
       "          0.,   0.,   0.,   0.,   0.,   0.,   0.,   0.,   0.,   0.,   1.,\n",
       "          0.,   0.,   0.,   0.,   0.,   1.,   0.,   0.,   0.,   0.,   0.,\n",
       "          0.,   0.,   0.,   0.,   0.,   0.,   0.,   0.,   0.,   0.,   0.,\n",
       "          0.,   0.,   0.,   1.,   0.,   0.,   0.,   0.,   0.,   0.,   0.,\n",
       "          0.,   0.,   0.,   0.,   0.,   0.,   0.,   0.,   0.,   0.,   0.,\n",
       "          0.,   0.,   0.,   0.,   0.,   0.,   0.,   0.,   0.,   0.,   0.,\n",
       "          0.,   0.,   0.,   0.,   0.,   0.,   0.,   0.,   0.,   0.,   0.,\n",
       "          0.,   0.,   0.,   0.,   0.,   0.,   0.,   0.,   0.,   0.,   0.,\n",
       "          0.,   1.,   0.,   0.,   0.,   0.,   0.,   0.,   0.,   0.,   0.,\n",
       "          0.,   0.,   0.,   0.,   0.,   0.,   0.,   0.,   0.,   0.,   0.,\n",
       "          0.,   0.,   0.,   0.,   0.,   0.,   0.,   0.,   0.,   0.,   1.,\n",
       "          0.,   0.,   0.,   0.,   0.,   0.,   0.,   0.,   0.,   0.,   0.,\n",
       "          0.,   0.,   0.,   0.,   0.,   0.,   0.,   0.,   0.,   0.,   0.,\n",
       "          0.,   0.,   0.,   1.,   0.,   0.,   0.,   0.,   0.,   0.,   0.,\n",
       "          0.,   0.,   0.,   0.,   0.,   0.,   0.,   0.,   0.,   0.,   0.,\n",
       "          0.,   0.,   0.,   0.,   0.,   0.,   0.,   0.,   0.,   0.,   0.,\n",
       "          0.,   0.,   0.,   0.,   0.,   0.,   0.,   0.,   1.,   0.,   0.,\n",
       "          0.,   0.,   0.,   0.,   0.,   0.,   0.,   0.,   0.,   0.,   0.,\n",
       "          0.,   0.,   0.,   0.,   0.,   0.,   0.,   0.,   0.,   0.,   0.,\n",
       "          0.,   0.,   0.,   0.,   0.,   0.,   0.,   0.,   0.,   0.,   0.,\n",
       "          0.,   0.,   0.,   0.,   0.,   0.,   0.,   0.,   0.,   0.,   0.,\n",
       "          0.,   0.,   0.,   0.,   1.,   0.,   0.,   0.,   0.,   0.,   0.,\n",
       "          0.,   0.,   0.,   0.,   0.,   0.,   0.,   0.,   0.,   0.,   0.,\n",
       "          0.,   0.,   0.,   0.,   0.,   0.,   0.,   0.,   0.,   0.,   0.,\n",
       "          0.,   0.,   0.,   0.,   0.,   0.,   0.,   0.,   0.,   0.,   0.,\n",
       "          0.,   0.,   0.,   0.,   0.,   0.,   0.,   0.,   0.,   0.,   0.,\n",
       "          0.,   0.,   0.,   0.,   0.,   0.,   0.,   0.,   0.,   0.,   0.,\n",
       "          0.,   0.,   0.,   0.,   0.,   0.,   0.,   0.,   0.,   0.,   0.,\n",
       "          0.,   0.,   0.,   0.,   0.,   0.,   0.,   0.,   0.,   0.,   0.,\n",
       "          0.,   0.,   0.,   0.,   0.,   0.,   0.,   0.,   0.,   0.,   0.,\n",
       "          0.,   0.,   0.,   0.,   0.,   0.,   0.,   0.,   0.,   0.,   0.,\n",
       "          0.,   0.,   0.,   0.,   0.,   0.,   0.,   0.,   0.,   0.,   0.,\n",
       "          0.,   0.,   0.,   0.,   0.,   0.,   0.,   0.,   0.,   0.,   0.,\n",
       "          0.,   0.,   0.,   0.,   1.]),\n",
       " array([1.49662443e-05, 2.09110973e-04, 4.03255701e-04, 5.97400430e-04,\n",
       "        7.91545159e-04, 9.85689887e-04, 1.17983462e-03, 1.37397934e-03,\n",
       "        1.56812407e-03, 1.76226880e-03, 1.95641353e-03, 2.15055826e-03,\n",
       "        2.34470299e-03, 2.53884772e-03, 2.73299244e-03, 2.92713717e-03,\n",
       "        3.12128190e-03, 3.31542663e-03, 3.50957136e-03, 3.70371609e-03,\n",
       "        3.89786082e-03, 4.09200554e-03, 4.28615027e-03, 4.48029500e-03,\n",
       "        4.67443973e-03, 4.86858446e-03, 5.06272919e-03, 5.25687392e-03,\n",
       "        5.45101865e-03, 5.64516337e-03, 5.83930810e-03, 6.03345283e-03,\n",
       "        6.22759756e-03, 6.42174229e-03, 6.61588702e-03, 6.81003175e-03,\n",
       "        7.00417647e-03, 7.19832120e-03, 7.39246593e-03, 7.58661066e-03,\n",
       "        7.78075539e-03, 7.97490012e-03, 8.16904485e-03, 8.36318957e-03,\n",
       "        8.55733430e-03, 8.75147903e-03, 8.94562376e-03, 9.13976849e-03,\n",
       "        9.33391322e-03, 9.52805795e-03, 9.72220267e-03, 9.91634740e-03,\n",
       "        1.01104921e-02, 1.03046369e-02, 1.04987816e-02, 1.06929263e-02,\n",
       "        1.08870710e-02, 1.10812158e-02, 1.12753605e-02, 1.14695052e-02,\n",
       "        1.16636500e-02, 1.18577947e-02, 1.20519394e-02, 1.22460841e-02,\n",
       "        1.24402289e-02, 1.26343736e-02, 1.28285183e-02, 1.30226631e-02,\n",
       "        1.32168078e-02, 1.34109525e-02, 1.36050972e-02, 1.37992420e-02,\n",
       "        1.39933867e-02, 1.41875314e-02, 1.43816762e-02, 1.45758209e-02,\n",
       "        1.47699656e-02, 1.49641103e-02, 1.51582551e-02, 1.53523998e-02,\n",
       "        1.55465445e-02, 1.57406893e-02, 1.59348340e-02, 1.61289787e-02,\n",
       "        1.63231234e-02, 1.65172682e-02, 1.67114129e-02, 1.69055576e-02,\n",
       "        1.70997024e-02, 1.72938471e-02, 1.74879918e-02, 1.76821365e-02,\n",
       "        1.78762813e-02, 1.80704260e-02, 1.82645707e-02, 1.84587155e-02,\n",
       "        1.86528602e-02, 1.88470049e-02, 1.90411496e-02, 1.92352944e-02,\n",
       "        1.94294391e-02, 1.96235838e-02, 1.98177286e-02, 2.00118733e-02,\n",
       "        2.02060180e-02, 2.04001627e-02, 2.05943075e-02, 2.07884522e-02,\n",
       "        2.09825969e-02, 2.11767417e-02, 2.13708864e-02, 2.15650311e-02,\n",
       "        2.17591758e-02, 2.19533206e-02, 2.21474653e-02, 2.23416100e-02,\n",
       "        2.25357548e-02, 2.27298995e-02, 2.29240442e-02, 2.31181889e-02,\n",
       "        2.33123337e-02, 2.35064784e-02, 2.37006231e-02, 2.38947679e-02,\n",
       "        2.40889126e-02, 2.42830573e-02, 2.44772020e-02, 2.46713468e-02,\n",
       "        2.48654915e-02, 2.50596362e-02, 2.52537810e-02, 2.54479257e-02,\n",
       "        2.56420704e-02, 2.58362151e-02, 2.60303599e-02, 2.62245046e-02,\n",
       "        2.64186493e-02, 2.66127941e-02, 2.68069388e-02, 2.70010835e-02,\n",
       "        2.71952282e-02, 2.73893730e-02, 2.75835177e-02, 2.77776624e-02,\n",
       "        2.79718072e-02, 2.81659519e-02, 2.83600966e-02, 2.85542413e-02,\n",
       "        2.87483861e-02, 2.89425308e-02, 2.91366755e-02, 2.93308203e-02,\n",
       "        2.95249650e-02, 2.97191097e-02, 2.99132544e-02, 3.01073992e-02,\n",
       "        3.03015439e-02, 3.04956886e-02, 3.06898334e-02, 3.08839781e-02,\n",
       "        3.10781228e-02, 3.12722675e-02, 3.14664123e-02, 3.16605570e-02,\n",
       "        3.18547017e-02, 3.20488465e-02, 3.22429912e-02, 3.24371359e-02,\n",
       "        3.26312806e-02, 3.28254254e-02, 3.30195701e-02, 3.32137148e-02,\n",
       "        3.34078596e-02, 3.36020043e-02, 3.37961490e-02, 3.39902937e-02,\n",
       "        3.41844385e-02, 3.43785832e-02, 3.45727279e-02, 3.47668727e-02,\n",
       "        3.49610174e-02, 3.51551621e-02, 3.53493068e-02, 3.55434516e-02,\n",
       "        3.57375963e-02, 3.59317410e-02, 3.61258858e-02, 3.63200305e-02,\n",
       "        3.65141752e-02, 3.67083199e-02, 3.69024647e-02, 3.70966094e-02,\n",
       "        3.72907541e-02, 3.74848989e-02, 3.76790436e-02, 3.78731883e-02,\n",
       "        3.80673330e-02, 3.82614778e-02, 3.84556225e-02, 3.86497672e-02,\n",
       "        3.88439120e-02, 3.90380567e-02, 3.92322014e-02, 3.94263461e-02,\n",
       "        3.96204909e-02, 3.98146356e-02, 4.00087803e-02, 4.02029251e-02,\n",
       "        4.03970698e-02, 4.05912145e-02, 4.07853593e-02, 4.09795040e-02,\n",
       "        4.11736487e-02, 4.13677934e-02, 4.15619382e-02, 4.17560829e-02,\n",
       "        4.19502276e-02, 4.21443724e-02, 4.23385171e-02, 4.25326618e-02,\n",
       "        4.27268065e-02, 4.29209513e-02, 4.31150960e-02, 4.33092407e-02,\n",
       "        4.35033855e-02, 4.36975302e-02, 4.38916749e-02, 4.40858196e-02,\n",
       "        4.42799644e-02, 4.44741091e-02, 4.46682538e-02, 4.48623986e-02,\n",
       "        4.50565433e-02, 4.52506880e-02, 4.54448327e-02, 4.56389775e-02,\n",
       "        4.58331222e-02, 4.60272669e-02, 4.62214117e-02, 4.64155564e-02,\n",
       "        4.66097011e-02, 4.68038458e-02, 4.69979906e-02, 4.71921353e-02,\n",
       "        4.73862800e-02, 4.75804248e-02, 4.77745695e-02, 4.79687142e-02,\n",
       "        4.81628589e-02, 4.83570037e-02, 4.85511484e-02, 4.87452931e-02,\n",
       "        4.89394379e-02, 4.91335826e-02, 4.93277273e-02, 4.95218720e-02,\n",
       "        4.97160168e-02, 4.99101615e-02, 5.01043062e-02, 5.02984510e-02,\n",
       "        5.04925957e-02, 5.06867404e-02, 5.08808851e-02, 5.10750299e-02,\n",
       "        5.12691746e-02, 5.14633193e-02, 5.16574641e-02, 5.18516088e-02,\n",
       "        5.20457535e-02, 5.22398982e-02, 5.24340430e-02, 5.26281877e-02,\n",
       "        5.28223324e-02, 5.30164772e-02, 5.32106219e-02, 5.34047666e-02,\n",
       "        5.35989113e-02, 5.37930561e-02, 5.39872008e-02, 5.41813455e-02,\n",
       "        5.43754903e-02, 5.45696350e-02, 5.47637797e-02, 5.49579244e-02,\n",
       "        5.51520692e-02, 5.53462139e-02, 5.55403586e-02, 5.57345034e-02,\n",
       "        5.59286481e-02, 5.61227928e-02, 5.63169375e-02, 5.65110823e-02,\n",
       "        5.67052270e-02, 5.68993717e-02, 5.70935165e-02, 5.72876612e-02,\n",
       "        5.74818059e-02, 5.76759506e-02, 5.78700954e-02, 5.80642401e-02,\n",
       "        5.82583848e-02, 5.84525296e-02, 5.86466743e-02, 5.88408190e-02,\n",
       "        5.90349637e-02, 5.92291085e-02, 5.94232532e-02, 5.96173979e-02,\n",
       "        5.98115427e-02, 6.00056874e-02, 6.01998321e-02, 6.03939768e-02,\n",
       "        6.05881216e-02, 6.07822663e-02, 6.09764110e-02, 6.11705558e-02,\n",
       "        6.13647005e-02, 6.15588452e-02, 6.17529899e-02, 6.19471347e-02,\n",
       "        6.21412794e-02, 6.23354241e-02, 6.25295689e-02, 6.27237136e-02,\n",
       "        6.29178583e-02, 6.31120030e-02, 6.33061478e-02, 6.35002925e-02,\n",
       "        6.36944372e-02, 6.38885820e-02, 6.40827267e-02, 6.42768714e-02,\n",
       "        6.44710161e-02, 6.46651609e-02, 6.48593056e-02, 6.50534503e-02,\n",
       "        6.52475951e-02, 6.54417398e-02, 6.56358845e-02, 6.58300292e-02,\n",
       "        6.60241740e-02, 6.62183187e-02, 6.64124634e-02, 6.66066082e-02,\n",
       "        6.68007529e-02, 6.69948976e-02, 6.71890423e-02, 6.73831871e-02,\n",
       "        6.75773318e-02, 6.77714765e-02, 6.79656213e-02, 6.81597660e-02,\n",
       "        6.83539107e-02, 6.85480554e-02, 6.87422002e-02, 6.89363449e-02,\n",
       "        6.91304896e-02, 6.93246344e-02, 6.95187791e-02, 6.97129238e-02,\n",
       "        6.99070685e-02, 7.01012133e-02, 7.02953580e-02, 7.04895027e-02,\n",
       "        7.06836475e-02, 7.08777922e-02, 7.10719369e-02, 7.12660816e-02,\n",
       "        7.14602264e-02, 7.16543711e-02, 7.18485158e-02, 7.20426606e-02,\n",
       "        7.22368053e-02, 7.24309500e-02, 7.26250947e-02, 7.28192395e-02,\n",
       "        7.30133842e-02, 7.32075289e-02, 7.34016737e-02, 7.35958184e-02,\n",
       "        7.37899631e-02, 7.39841078e-02, 7.41782526e-02, 7.43723973e-02,\n",
       "        7.45665420e-02, 7.47606868e-02, 7.49548315e-02, 7.51489762e-02,\n",
       "        7.53431209e-02, 7.55372657e-02, 7.57314104e-02, 7.59255551e-02,\n",
       "        7.61196999e-02, 7.63138446e-02, 7.65079893e-02, 7.67021340e-02,\n",
       "        7.68962788e-02, 7.70904235e-02, 7.72845682e-02, 7.74787130e-02,\n",
       "        7.76728577e-02, 7.78670024e-02, 7.80611471e-02, 7.82552919e-02,\n",
       "        7.84494366e-02, 7.86435813e-02, 7.88377261e-02, 7.90318708e-02,\n",
       "        7.92260155e-02, 7.94201602e-02, 7.96143050e-02, 7.98084497e-02,\n",
       "        8.00025944e-02, 8.01967392e-02, 8.03908839e-02, 8.05850286e-02,\n",
       "        8.07791733e-02, 8.09733181e-02, 8.11674628e-02, 8.13616075e-02,\n",
       "        8.15557523e-02, 8.17498970e-02, 8.19440417e-02, 8.21381864e-02,\n",
       "        8.23323312e-02, 8.25264759e-02, 8.27206206e-02, 8.29147654e-02,\n",
       "        8.31089101e-02, 8.33030548e-02, 8.34971995e-02, 8.36913443e-02,\n",
       "        8.38854890e-02, 8.40796337e-02, 8.42737785e-02, 8.44679232e-02,\n",
       "        8.46620679e-02, 8.48562126e-02, 8.50503574e-02, 8.52445021e-02,\n",
       "        8.54386468e-02, 8.56327916e-02, 8.58269363e-02, 8.60210810e-02,\n",
       "        8.62152257e-02, 8.64093705e-02, 8.66035152e-02, 8.67976599e-02,\n",
       "        8.69918047e-02, 8.71859494e-02, 8.73800941e-02, 8.75742388e-02,\n",
       "        8.77683836e-02, 8.79625283e-02, 8.81566730e-02, 8.83508178e-02,\n",
       "        8.85449625e-02, 8.87391072e-02, 8.89332519e-02, 8.91273967e-02,\n",
       "        8.93215414e-02, 8.95156861e-02, 8.97098309e-02, 8.99039756e-02,\n",
       "        9.00981203e-02, 9.02922650e-02, 9.04864098e-02, 9.06805545e-02,\n",
       "        9.08746992e-02, 9.10688440e-02, 9.12629887e-02, 9.14571334e-02,\n",
       "        9.16512781e-02, 9.18454229e-02, 9.20395676e-02, 9.22337123e-02,\n",
       "        9.24278571e-02, 9.26220018e-02, 9.28161465e-02, 9.30102912e-02,\n",
       "        9.32044360e-02, 9.33985807e-02, 9.35927254e-02, 9.37868702e-02,\n",
       "        9.39810149e-02, 9.41751596e-02, 9.43693043e-02, 9.45634491e-02,\n",
       "        9.47575938e-02, 9.49517385e-02, 9.51458833e-02, 9.53400280e-02,\n",
       "        9.55341727e-02, 9.57283174e-02, 9.59224622e-02, 9.61166069e-02,\n",
       "        9.63107516e-02, 9.65048964e-02, 9.66990411e-02, 9.68931858e-02,\n",
       "        9.70873305e-02]),\n",
       " <a list of 500 Patch objects>)"
      ]
     },
     "execution_count": 11,
     "metadata": {},
     "output_type": "execute_result"
    },
    {
     "data": {
      "image/png": "[encoded data removed]",
      "text/plain": [
       "<Figure size 432x288 with 1 Axes>"
      ]
     },
     "metadata": {
      "needs_background": "light"
     },
     "output_type": "display_data"
    }
   ],
   "source": [
    "# Task t7c (10 marks)\n",
    "\n",
    "# One way to determine how much components needs for PCA is to find the smallest value \n",
    "# such that it explained 95% of the variance. \n",
    "# Using the PCA results obtained above, print the cumulative variance that is explained \n",
    "# by 100 components.\n",
    "# Write your code below\n",
    "plt.hist(pca.explained_variance_ratio_, bins=N_COMPONENTS, log=True)"
   ]
  },
  {
   "cell_type": "code",
   "execution_count": 12,
   "metadata": {},
   "outputs": [
    {
     "data": {
      "text/plain": [
       "0.9992552609040475"
      ]
     },
     "execution_count": 12,
     "metadata": {},
     "output_type": "execute_result"
    }
   ],
   "source": [
    "pca.explained_variance_ratio_.sum()"
   ]
  },
  {
   "cell_type": "code",
   "execution_count": null,
   "metadata": {},
   "outputs": [],
   "source": []
  }
 ],
 "metadata": {
  "kernelspec": {
   "display_name": "Python 3",
   "language": "python",
   "name": "python3"
  },
  "language_info": {
   "codemirror_mode": {
    "name": "ipython",
    "version": 3
   },
   "file_extension": ".py",
   "mimetype": "text/x-python",
   "name": "python",
   "nbconvert_exporter": "python",
   "pygments_lexer": "ipython3",
   "version": "3.7.1"
  }
 },
 "nbformat": 4,
 "nbformat_minor": 1
}
